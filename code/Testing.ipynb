{
 "cells": [
  {
   "cell_type": "code",
   "execution_count": 1,
   "metadata": {},
   "outputs": [],
   "source": [
    "import pandas as pd\n",
    "import sqlite3"
   ]
  },
  {
   "cell_type": "code",
   "execution_count": 4,
   "metadata": {},
   "outputs": [],
   "source": [
    "# Create a SQL connection to our SQLite database\n",
    "con = sqlite3.connect(\"data/quotes.sqlite\")\n",
    "\n",
    "cur = con.cursor()\n",
    "\n",
    "# The result of a \"cursor.execute\" can be iterated over by row\n",
    "# for row in cur.execute('SELECT * FROM quotes;'):\n",
    "#     print(row)\n",
    "\n",
    "# Be sure to close the connection\n",
    "# con.close()"
   ]
  },
  {
   "cell_type": "code",
   "execution_count": 5,
   "metadata": {},
   "outputs": [
    {
     "data": {
      "text/html": [
       "<div>\n",
       "<style scoped>\n",
       "    .dataframe tbody tr th:only-of-type {\n",
       "        vertical-align: middle;\n",
       "    }\n",
       "\n",
       "    .dataframe tbody tr th {\n",
       "        vertical-align: top;\n",
       "    }\n",
       "\n",
       "    .dataframe thead th {\n",
       "        text-align: right;\n",
       "    }\n",
       "</style>\n",
       "<table border=\"1\" class=\"dataframe\">\n",
       "  <thead>\n",
       "    <tr style=\"text-align: right;\">\n",
       "      <th></th>\n",
       "      <th>QUOTE</th>\n",
       "      <th>AUTHOR</th>\n",
       "      <th>TITLE</th>\n",
       "      <th>LIKES</th>\n",
       "      <th>TAGS</th>\n",
       "    </tr>\n",
       "  </thead>\n",
       "  <tbody>\n",
       "    <tr>\n",
       "      <th>0</th>\n",
       "      <td>“My life amounts to no more than one drop in a...</td>\n",
       "      <td>David Mitchell</td>\n",
       "      <td>Cloud Atlas</td>\n",
       "      <td>4589</td>\n",
       "      <td>None</td>\n",
       "    </tr>\n",
       "    <tr>\n",
       "      <th>1</th>\n",
       "      <td>“A half-read book is a half-finished love affa...</td>\n",
       "      <td>David Mitchell</td>\n",
       "      <td>Cloud Atlas</td>\n",
       "      <td>3181</td>\n",
       "      <td>['love', 'reading']</td>\n",
       "    </tr>\n",
       "    <tr>\n",
       "      <th>2</th>\n",
       "      <td>“Our lives are not our own. We are bound to ot...</td>\n",
       "      <td>David Mitchell</td>\n",
       "      <td>Cloud Atlas</td>\n",
       "      <td>2534</td>\n",
       "      <td>None</td>\n",
       "    </tr>\n",
       "    <tr>\n",
       "      <th>3</th>\n",
       "      <td>“Travel far enough, you meet yourself.”</td>\n",
       "      <td>David Mitchell</td>\n",
       "      <td>Cloud Atlas</td>\n",
       "      <td>1547</td>\n",
       "      <td>['travel']</td>\n",
       "    </tr>\n",
       "    <tr>\n",
       "      <th>4</th>\n",
       "      <td>“Books don't offer real escape, but they can s...</td>\n",
       "      <td>David Mitchell</td>\n",
       "      <td>Cloud Atlas</td>\n",
       "      <td>1490</td>\n",
       "      <td>['escape', 'reading']</td>\n",
       "    </tr>\n",
       "  </tbody>\n",
       "</table>\n",
       "</div>"
      ],
      "text/plain": [
       "                                               QUOTE          AUTHOR  \\\n",
       "0  “My life amounts to no more than one drop in a...  David Mitchell   \n",
       "1  “A half-read book is a half-finished love affa...  David Mitchell   \n",
       "2  “Our lives are not our own. We are bound to ot...  David Mitchell   \n",
       "3            “Travel far enough, you meet yourself.”  David Mitchell   \n",
       "4  “Books don't offer real escape, but they can s...  David Mitchell   \n",
       "\n",
       "         TITLE  LIKES                   TAGS  \n",
       "0  Cloud Atlas   4589                   None  \n",
       "1  Cloud Atlas   3181    ['love', 'reading']  \n",
       "2  Cloud Atlas   2534                   None  \n",
       "3  Cloud Atlas   1547             ['travel']  \n",
       "4  Cloud Atlas   1490  ['escape', 'reading']  "
      ]
     },
     "execution_count": 5,
     "metadata": {},
     "output_type": "execute_result"
    }
   ],
   "source": [
    "df = pd.read_sql_query(\"SELECT * from quotes\", con)\n",
    "df.head()"
   ]
  },
  {
   "cell_type": "code",
   "execution_count": 6,
   "metadata": {},
   "outputs": [
    {
     "data": {
      "text/plain": [
       "QUOTE     0\n",
       "AUTHOR    0\n",
       "TITLE     0\n",
       "LIKES     0\n",
       "TAGS      0\n",
       "dtype: int64"
      ]
     },
     "execution_count": 6,
     "metadata": {},
     "output_type": "execute_result"
    }
   ],
   "source": [
    "df.isnull().sum()"
   ]
  },
  {
   "cell_type": "code",
   "execution_count": 7,
   "metadata": {},
   "outputs": [
    {
     "data": {
      "text/plain": [
       "array(['Cloud Atlas', 'Black Swan Green', 'The Bone Clocks', ...,\n",
       "       'Mirror, Mirror on the Wall: Women Writers Explore Their Favorite Fairy Tales',\n",
       "       'The Beastly Bride: Tales of the Animal People', 'White as Snow'],\n",
       "      dtype=object)"
      ]
     },
     "execution_count": 7,
     "metadata": {},
     "output_type": "execute_result"
    }
   ],
   "source": [
    "df['TITLE'].unique()"
   ]
  },
  {
   "cell_type": "code",
   "execution_count": null,
   "metadata": {},
   "outputs": [],
   "source": []
  }
 ],
 "metadata": {
  "kernelspec": {
   "display_name": "Python 3",
   "language": "python",
   "name": "python3"
  },
  "language_info": {
   "codemirror_mode": {
    "name": "ipython",
    "version": 3
   },
   "file_extension": ".py",
   "mimetype": "text/x-python",
   "name": "python",
   "nbconvert_exporter": "python",
   "pygments_lexer": "ipython3",
   "version": "3.7.6"
  }
 },
 "nbformat": 4,
 "nbformat_minor": 4
}
