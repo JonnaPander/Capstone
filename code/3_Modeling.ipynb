{
 "cells": [
  {
   "cell_type": "code",
   "execution_count": 1,
   "metadata": {},
   "outputs": [],
   "source": [
    "# import libraries\n",
    "\n",
    "import pandas as pd \n",
    "import numpy as np \n",
    "import matplotlib.cm as cm\n",
    "import matplotlib.colors as colors\n",
    "import matplotlib.pyplot as plt\n",
    "import seaborn as sns\n",
    "\n",
    "from sklearn.cluster import KMeans\n",
    "from sklearn.preprocessing import StandardScaler, normalize, scale\n",
    "from sklearn.model_selection import train_test_split, GridSearchCV, cross_val_score, cross_val_predict\n",
    "from sklearn.linear_model import LinearRegression, LassoCV, RidgeCV\n",
    "from sklearn.decomposition import PCA\n",
    "from sklearn import svm\n",
    "from sklearn.metrics import mean_squared_error, r2_score, accuracy_score\n",
    "from sklearn.tree import DecisionTreeClassifier\n",
    "from sklearn.linear_model import LogisticRegression"
   ]
  },
  {
   "cell_type": "code",
   "execution_count": 2,
   "metadata": {},
   "outputs": [
    {
     "data": {
      "text/html": [
       "<div>\n",
       "<style scoped>\n",
       "    .dataframe tbody tr th:only-of-type {\n",
       "        vertical-align: middle;\n",
       "    }\n",
       "\n",
       "    .dataframe tbody tr th {\n",
       "        vertical-align: top;\n",
       "    }\n",
       "\n",
       "    .dataframe thead th {\n",
       "        text-align: right;\n",
       "    }\n",
       "</style>\n",
       "<table border=\"1\" class=\"dataframe\">\n",
       "  <thead>\n",
       "    <tr style=\"text-align: right;\">\n",
       "      <th></th>\n",
       "      <th>neighborhood</th>\n",
       "      <th>Adult Boutique</th>\n",
       "      <th>Advertising Agency</th>\n",
       "      <th>Airport Service</th>\n",
       "      <th>American Restaurant</th>\n",
       "      <th>Antique Shop</th>\n",
       "      <th>Arcade</th>\n",
       "      <th>Art Gallery</th>\n",
       "      <th>Art Museum</th>\n",
       "      <th>Arts &amp; Crafts Store</th>\n",
       "      <th>...</th>\n",
       "      <th>Vietnamese Restaurant</th>\n",
       "      <th>Warehouse Store</th>\n",
       "      <th>Waterfall</th>\n",
       "      <th>Wine Bar</th>\n",
       "      <th>Wine Shop</th>\n",
       "      <th>Winery</th>\n",
       "      <th>Wings Joint</th>\n",
       "      <th>Women's Store</th>\n",
       "      <th>Yoga Studio</th>\n",
       "      <th>price_group</th>\n",
       "    </tr>\n",
       "  </thead>\n",
       "  <tbody>\n",
       "    <tr>\n",
       "      <th>0</th>\n",
       "      <td>Anderson Mill</td>\n",
       "      <td>0</td>\n",
       "      <td>0</td>\n",
       "      <td>0</td>\n",
       "      <td>2</td>\n",
       "      <td>0</td>\n",
       "      <td>1</td>\n",
       "      <td>0</td>\n",
       "      <td>0</td>\n",
       "      <td>1</td>\n",
       "      <td>...</td>\n",
       "      <td>0</td>\n",
       "      <td>1</td>\n",
       "      <td>0</td>\n",
       "      <td>0</td>\n",
       "      <td>1</td>\n",
       "      <td>0</td>\n",
       "      <td>2</td>\n",
       "      <td>0</td>\n",
       "      <td>0</td>\n",
       "      <td>0</td>\n",
       "    </tr>\n",
       "    <tr>\n",
       "      <th>1</th>\n",
       "      <td>Barton Hills</td>\n",
       "      <td>0</td>\n",
       "      <td>0</td>\n",
       "      <td>0</td>\n",
       "      <td>2</td>\n",
       "      <td>0</td>\n",
       "      <td>0</td>\n",
       "      <td>1</td>\n",
       "      <td>0</td>\n",
       "      <td>0</td>\n",
       "      <td>...</td>\n",
       "      <td>1</td>\n",
       "      <td>0</td>\n",
       "      <td>0</td>\n",
       "      <td>0</td>\n",
       "      <td>0</td>\n",
       "      <td>0</td>\n",
       "      <td>0</td>\n",
       "      <td>1</td>\n",
       "      <td>1</td>\n",
       "      <td>1</td>\n",
       "    </tr>\n",
       "    <tr>\n",
       "      <th>2</th>\n",
       "      <td>Bouldin Creek</td>\n",
       "      <td>0</td>\n",
       "      <td>0</td>\n",
       "      <td>0</td>\n",
       "      <td>2</td>\n",
       "      <td>0</td>\n",
       "      <td>0</td>\n",
       "      <td>0</td>\n",
       "      <td>0</td>\n",
       "      <td>0</td>\n",
       "      <td>...</td>\n",
       "      <td>1</td>\n",
       "      <td>0</td>\n",
       "      <td>0</td>\n",
       "      <td>0</td>\n",
       "      <td>0</td>\n",
       "      <td>0</td>\n",
       "      <td>0</td>\n",
       "      <td>0</td>\n",
       "      <td>1</td>\n",
       "      <td>1</td>\n",
       "    </tr>\n",
       "    <tr>\n",
       "      <th>3</th>\n",
       "      <td>Brentwood</td>\n",
       "      <td>0</td>\n",
       "      <td>0</td>\n",
       "      <td>0</td>\n",
       "      <td>1</td>\n",
       "      <td>0</td>\n",
       "      <td>0</td>\n",
       "      <td>0</td>\n",
       "      <td>0</td>\n",
       "      <td>0</td>\n",
       "      <td>...</td>\n",
       "      <td>1</td>\n",
       "      <td>0</td>\n",
       "      <td>0</td>\n",
       "      <td>1</td>\n",
       "      <td>0</td>\n",
       "      <td>0</td>\n",
       "      <td>0</td>\n",
       "      <td>0</td>\n",
       "      <td>1</td>\n",
       "      <td>0</td>\n",
       "    </tr>\n",
       "    <tr>\n",
       "      <th>4</th>\n",
       "      <td>Bryker Woods</td>\n",
       "      <td>0</td>\n",
       "      <td>0</td>\n",
       "      <td>0</td>\n",
       "      <td>3</td>\n",
       "      <td>0</td>\n",
       "      <td>0</td>\n",
       "      <td>2</td>\n",
       "      <td>0</td>\n",
       "      <td>0</td>\n",
       "      <td>...</td>\n",
       "      <td>0</td>\n",
       "      <td>0</td>\n",
       "      <td>0</td>\n",
       "      <td>1</td>\n",
       "      <td>0</td>\n",
       "      <td>0</td>\n",
       "      <td>0</td>\n",
       "      <td>0</td>\n",
       "      <td>2</td>\n",
       "      <td>1</td>\n",
       "    </tr>\n",
       "  </tbody>\n",
       "</table>\n",
       "<p>5 rows × 249 columns</p>\n",
       "</div>"
      ],
      "text/plain": [
       "    neighborhood  Adult Boutique  Advertising Agency  Airport Service  \\\n",
       "0  Anderson Mill               0                   0                0   \n",
       "1   Barton Hills               0                   0                0   \n",
       "2  Bouldin Creek               0                   0                0   \n",
       "3      Brentwood               0                   0                0   \n",
       "4   Bryker Woods               0                   0                0   \n",
       "\n",
       "   American Restaurant  Antique Shop  Arcade  Art Gallery  Art Museum  \\\n",
       "0                    2             0       1            0           0   \n",
       "1                    2             0       0            1           0   \n",
       "2                    2             0       0            0           0   \n",
       "3                    1             0       0            0           0   \n",
       "4                    3             0       0            2           0   \n",
       "\n",
       "   Arts & Crafts Store  ...  Vietnamese Restaurant  Warehouse Store  \\\n",
       "0                    1  ...                      0                1   \n",
       "1                    0  ...                      1                0   \n",
       "2                    0  ...                      1                0   \n",
       "3                    0  ...                      1                0   \n",
       "4                    0  ...                      0                0   \n",
       "\n",
       "   Waterfall  Wine Bar  Wine Shop  Winery  Wings Joint  Women's Store  \\\n",
       "0          0         0          1       0            2              0   \n",
       "1          0         0          0       0            0              1   \n",
       "2          0         0          0       0            0              0   \n",
       "3          0         1          0       0            0              0   \n",
       "4          0         1          0       0            0              0   \n",
       "\n",
       "   Yoga Studio  price_group  \n",
       "0            0            0  \n",
       "1            1            1  \n",
       "2            1            1  \n",
       "3            1            0  \n",
       "4            2            1  \n",
       "\n",
       "[5 rows x 249 columns]"
      ]
     },
     "execution_count": 2,
     "metadata": {},
     "output_type": "execute_result"
    }
   ],
   "source": [
    "# Read in dataframe\n",
    "\n",
    "df_comb = pd.read_csv('../data/df_comb.csv')\n",
    "df_comb.head()"
   ]
  },
  {
   "cell_type": "markdown",
   "metadata": {},
   "source": [
    "# Modeling"
   ]
  },
  {
   "cell_type": "markdown",
   "metadata": {},
   "source": [
    "#### Prepocessing"
   ]
  },
  {
   "cell_type": "code",
   "execution_count": 3,
   "metadata": {},
   "outputs": [],
   "source": [
    "# Define X and y\n",
    "\n",
    "X = df_comb.drop(columns=['neighborhood', 'price_group'])\n",
    "y = df_comb['price_group']"
   ]
  },
  {
   "cell_type": "code",
   "execution_count": 4,
   "metadata": {},
   "outputs": [],
   "source": [
    "# Train/test split \n",
    "\n",
    "X_train, X_test, y_train, y_test = train_test_split(X, y, test_size=0.2, random_state=0)"
   ]
  },
  {
   "cell_type": "code",
   "execution_count": 5,
   "metadata": {},
   "outputs": [],
   "source": [
    "# # Scale data\n",
    "\n",
    "sc = StandardScaler()\n",
    "X_train = sc.fit_transform(X_train)\n",
    "X_test = sc.transform(X_test)"
   ]
  },
  {
   "cell_type": "markdown",
   "metadata": {},
   "source": [
    "#### PCA Modeling"
   ]
  },
  {
   "cell_type": "code",
   "execution_count": 6,
   "metadata": {},
   "outputs": [],
   "source": [
    "# Instantiate and fit model\n",
    "pca = PCA(svd_solver='auto', random_state=0)\n",
    "# X_pca = pca.fit(X_train) \n",
    "X_pca = pca.fit_transform(scale(X))"
   ]
  },
  {
   "cell_type": "code",
   "execution_count": 7,
   "metadata": {},
   "outputs": [],
   "source": [
    "# Code adapted from Medium article on PCA \n",
    "\n",
    "n_component_list = range(1, 51)\n",
    "R2_list = []\n",
    "MSE_list = []\n",
    "\n",
    "# Linear Regression\n",
    "for i in n_component_list:\n",
    "    lr = LinearRegression()\n",
    "    X_train, X_test, y_train, y_test = train_test_split(X_pca[:,:i], y, test_size=0.2, random_state=0)\n",
    "    model = lr.fit(X_train, y_train)\n",
    "    # check the result\n",
    "    y_pred = lr.predict(X_test)\n",
    "    r2 = r2_score(y_test, y_pred) # r2 score\n",
    "    mse = mean_squared_error(y_test, y_pred) # mse\n",
    "    R2_list.append(r2)\n",
    "    MSE_list.append(mse)\n",
    "    \n",
    "scores_df = pd.DataFrame.from_dict(dict([('NComponents', n_component_list),\n",
    "                                        ('R2', R2_list),\n",
    "                                        ('MSE', MSE_list)]))\n",
    "scores_df.set_index('NComponents', inplace=True)"
   ]
  },
  {
   "cell_type": "code",
   "execution_count": 8,
   "metadata": {},
   "outputs": [
    {
     "name": "stdout",
     "output_type": "stream",
     "text": [
      "Best n: 2 , R2 score: 0.2863647222437681\n",
      "Best n: 2 , MSE: 0.16725826822411685\n"
     ]
    }
   ],
   "source": [
    "# View best scores\n",
    "\n",
    "r2_max = scores_df['R2'].idxmax()\n",
    "print(\"Best n:\", r2_max, \", R2 score:\", scores_df['R2'][r2_max])\n",
    "\n",
    "mse_min = scores_df['MSE'].idxmin()\n",
    "print(\"Best n:\", mse_min, \", MSE:\", scores_df['MSE'][mse_min])"
   ]
  },
  {
   "cell_type": "code",
   "execution_count": 9,
   "metadata": {},
   "outputs": [],
   "source": [
    "# Use the best n_components parameter\n",
    "\n",
    "# Instantiate and fit\n",
    "lr = LinearRegression()\n",
    "X_train, X_test, y_train, y_test = train_test_split(X_pca[:,:r2_max], y, test_size=0.2, random_state=0)\n",
    "model = lr.fit(X_train, y_train)"
   ]
  },
  {
   "cell_type": "code",
   "execution_count": 10,
   "metadata": {},
   "outputs": [
    {
     "name": "stdout",
     "output_type": "stream",
     "text": [
      "R2 score: 0.2863647222437681\n",
      "MSE: 0.16725826822411685\n"
     ]
    }
   ],
   "source": [
    "# View scores\n",
    "\n",
    "y_pred = lr.predict(X_test)\n",
    "r2 = r2_score(y_test, y_pred) # r2 score\n",
    "mse = mean_squared_error(y_test, y_pred) # mse\n",
    "print(\"R2 score:\", r2)\n",
    "print(\"MSE:\", mse)"
   ]
  },
  {
   "cell_type": "code",
   "execution_count": 11,
   "metadata": {},
   "outputs": [],
   "source": [
    "# Project the coefs back to the original number of features\n",
    "\n",
    "eigenvectors = pca.components_\n",
    "pcr_coefs = eigenvectors[:r2_max, :].T @ lr.coef_"
   ]
  },
  {
   "cell_type": "code",
   "execution_count": 12,
   "metadata": {},
   "outputs": [
    {
     "name": "stdout",
     "output_type": "stream",
     "text": [
      "\n",
      "Max positive coefs: [0.01187096 0.01169926 0.01164207 0.01144777 0.01081676]\n",
      "\n",
      "Venue types with most positive effect: ['Hotel Bar' 'Coffee Shop' 'Vegetarian / Vegan Restaurant' 'Food Truck'\n",
      " 'Beer Garden']\n",
      "\n",
      "Max negative coefs: [-0.00999557 -0.00889021 -0.00884156 -0.00815186 -0.00810829]\n",
      "\n",
      "Venue types with most negative effect: ['Discount Store' 'Fast Food Restaurant' 'Wings Joint'\n",
      " 'Arts & Crafts Store' 'Electronics Store']\n",
      "\n",
      "Min coefs: [ 4.58881024e-05 -8.35279056e-05 -1.12073425e-04  1.45059903e-04\n",
      "  1.45972935e-04]\n",
      "\n",
      "Venue types with least effect: ['Student Center' 'Botanical Garden' 'American Restaurant' 'Wine Bar'\n",
      " 'Gastropub']\n"
     ]
    }
   ],
   "source": [
    "# View with venue types have most and least effect\n",
    "\n",
    "print('\\nMax positive coefs:', pcr_coefs[np.argsort(-pcr_coefs)[:5]])\n",
    "print('\\nVenue types with most positive effect:', X.columns[np.argsort(-pcr_coefs)[:5]].values)\n",
    "print('\\nMax negative coefs:', pcr_coefs[np.argsort(pcr_coefs)[:5]])\n",
    "print('\\nVenue types with most negative effect:', X.columns[np.argsort(pcr_coefs)[:5]].values)\n",
    "coef_abs = abs(pcr_coefs)\n",
    "print('\\nMin coefs:', pcr_coefs[np.argsort(coef_abs)[:5]])\n",
    "print('\\nVenue types with least effect:', X.columns[np.argsort(coef_abs)[:5]].values)"
   ]
  },
  {
   "cell_type": "markdown",
   "metadata": {},
   "source": [
    "#### SVM Model"
   ]
  },
  {
   "cell_type": "code",
   "execution_count": 13,
   "metadata": {},
   "outputs": [
    {
     "data": {
      "text/plain": [
       "SVC(C=1.0, break_ties=False, cache_size=200, class_weight=None, coef0=0.0,\n",
       "    decision_function_shape='ovr', degree=3, gamma='scale', kernel='rbf',\n",
       "    max_iter=-1, probability=False, random_state=None, shrinking=True,\n",
       "    tol=0.001, verbose=False)"
      ]
     },
     "execution_count": 13,
     "metadata": {},
     "output_type": "execute_result"
    }
   ],
   "source": [
    "# Instantiate and fit model\n",
    "\n",
    "svm_model = svm.SVC()\n",
    "svm_model.fit(X_train, y_train) "
   ]
  },
  {
   "cell_type": "code",
   "execution_count": 14,
   "metadata": {},
   "outputs": [
    {
     "data": {
      "text/plain": [
       "array([0, 0, 0, 1, 1, 1, 1, 0])"
      ]
     },
     "execution_count": 14,
     "metadata": {},
     "output_type": "execute_result"
    }
   ],
   "source": [
    "# Generate predictions\n",
    "\n",
    "y_pred = svm_model.predict(X_test)\n",
    "y_pred"
   ]
  },
  {
   "cell_type": "code",
   "execution_count": 15,
   "metadata": {},
   "outputs": [
    {
     "name": "stdout",
     "output_type": "stream",
     "text": [
      "SVM Training Accuracy Score: 0.931\n",
      "SVM Testing Accuracy Score: 0.875\n"
     ]
    }
   ],
   "source": [
    "# Get accuracy scores\n",
    "\n",
    "print(\"SVM Training Accuracy Score: %.3f\" % svm_model.score(X_train, y_train))\n",
    "print(\"SVM Testing Accuracy Score: %.3f\" % svm_model.score(X_test, y_test)) "
   ]
  },
  {
   "cell_type": "markdown",
   "metadata": {},
   "source": [
    "#### Decision Tree"
   ]
  },
  {
   "cell_type": "code",
   "execution_count": 16,
   "metadata": {},
   "outputs": [
    {
     "data": {
      "text/plain": [
       "DecisionTreeClassifier(ccp_alpha=0.0, class_weight=None, criterion='entropy',\n",
       "                       max_depth=4, max_features=None, max_leaf_nodes=None,\n",
       "                       min_impurity_decrease=0.0, min_impurity_split=None,\n",
       "                       min_samples_leaf=1, min_samples_split=2,\n",
       "                       min_weight_fraction_leaf=0.0, presort='deprecated',\n",
       "                       random_state=None, splitter='best')"
      ]
     },
     "execution_count": 16,
     "metadata": {},
     "output_type": "execute_result"
    }
   ],
   "source": [
    "# Instantiate and fit model\n",
    "\n",
    "dt_model = DecisionTreeClassifier(criterion=\"entropy\", max_depth = 4)\n",
    "dt_model.fit(X_train,y_train)\n",
    "# dt_model"
   ]
  },
  {
   "cell_type": "code",
   "execution_count": 17,
   "metadata": {},
   "outputs": [
    {
     "data": {
      "text/plain": [
       "array([0, 0, 0, 1, 1, 1, 1, 0])"
      ]
     },
     "execution_count": 17,
     "metadata": {},
     "output_type": "execute_result"
    }
   ],
   "source": [
    "# Generate predictions\n",
    "\n",
    "y_pred = dt_model.predict(X_test)\n",
    "y_pred"
   ]
  },
  {
   "cell_type": "code",
   "execution_count": 18,
   "metadata": {},
   "outputs": [
    {
     "name": "stdout",
     "output_type": "stream",
     "text": [
      "Decision Tree Training Accuracy Score: 0.966\n",
      "Decision Tree Testing Accuracy Score: 0.875\n"
     ]
    }
   ],
   "source": [
    "print(\"Decision Tree Training Accuracy Score: %.3f\" % dt_model.score(X_train, y_train))\n",
    "print(\"Decision Tree Testing Accuracy Score: %.3f\" % dt_model.score(X_test, y_test))"
   ]
  },
  {
   "cell_type": "markdown",
   "metadata": {},
   "source": [
    "#### Logistic Regression"
   ]
  },
  {
   "cell_type": "code",
   "execution_count": 19,
   "metadata": {},
   "outputs": [
    {
     "data": {
      "text/plain": [
       "LogisticRegression(C=0.01, class_weight=None, dual=False, fit_intercept=True,\n",
       "                   intercept_scaling=1, l1_ratio=None, max_iter=100,\n",
       "                   multi_class='auto', n_jobs=None, penalty='l2',\n",
       "                   random_state=None, solver='lbfgs', tol=0.0001, verbose=0,\n",
       "                   warm_start=False)"
      ]
     },
     "execution_count": 19,
     "metadata": {},
     "output_type": "execute_result"
    }
   ],
   "source": [
    "# Instantiate and fit model\n",
    "\n",
    "logreg_model = LogisticRegression(C=0.01).fit(X_train,y_train)\n",
    "logreg_model"
   ]
  },
  {
   "cell_type": "code",
   "execution_count": 20,
   "metadata": {},
   "outputs": [
    {
     "data": {
      "text/plain": [
       "array([0, 0, 0, 1, 1, 1, 1, 0])"
      ]
     },
     "execution_count": 20,
     "metadata": {},
     "output_type": "execute_result"
    }
   ],
   "source": [
    "# Generate predictions\n",
    "\n",
    "y_pred = logreg_model.predict(X_test)\n",
    "y_pred"
   ]
  },
  {
   "cell_type": "code",
   "execution_count": 21,
   "metadata": {},
   "outputs": [
    {
     "name": "stdout",
     "output_type": "stream",
     "text": [
      "Logreg Training Accuracy Score: 0.897\n",
      "Logreg Tree Testing Accuracy Score: 0.875\n"
     ]
    }
   ],
   "source": [
    "print(\"Logreg Training Accuracy Score: %.3f\" % logreg_model.score(X_train, y_train))\n",
    "print(\"Logreg Tree Testing Accuracy Score: %.3f\" % logreg_model.score(X_test, y_test))"
   ]
  },
  {
   "cell_type": "code",
   "execution_count": null,
   "metadata": {},
   "outputs": [],
   "source": []
  }
 ],
 "metadata": {
  "kernelspec": {
   "display_name": "Python 3",
   "language": "python",
   "name": "python3"
  },
  "language_info": {
   "codemirror_mode": {
    "name": "ipython",
    "version": 3
   },
   "file_extension": ".py",
   "mimetype": "text/x-python",
   "name": "python",
   "nbconvert_exporter": "python",
   "pygments_lexer": "ipython3",
   "version": "3.7.6"
  }
 },
 "nbformat": 4,
 "nbformat_minor": 4
}
