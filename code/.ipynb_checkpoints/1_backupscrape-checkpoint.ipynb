{
 "cells": [
  {
   "cell_type": "code",
   "execution_count": 1,
   "metadata": {},
   "outputs": [],
   "source": [
    "# import libraries\n",
    "\n",
    "import pandas as pd \n",
    "# pd.set_option('display.max_columns', None)\n",
    "# pd.set_option('display.max_rows', None)\n",
    "import numpy as np \n",
    "import matplotlib.cm as cm\n",
    "import matplotlib.colors as colors\n",
    "import matplotlib.pyplot as plt\n",
    "import seaborn as sns\n",
    "\n",
    "from sklearn.cluster import KMeans\n",
    "from sklearn.preprocessing import StandardScaler, normalize, scale\n",
    "from sklearn.model_selection import train_test_split\n",
    "from sklearn.linear_model import LinearRegression\n",
    "from sklearn.decomposition import PCA\n",
    "from sklearn.metrics import mean_squared_error, r2_score\n",
    "\n",
    "import requests \n",
    "import time\n",
    "from bs4 import BeautifulSoup\n",
    "from urllib.request import urlopen\n",
    "import json # If reading in data from Json file\n",
    "from pandas.io.json import json_normalize # tranform JSON file into a pandas dataframe\n",
    "import folium # maps\n",
    "from geopy.geocoders import Nominatim # uses address to get lat/long\n",
    "\n",
    "# Installations\n",
    "#!conda install -c conda-forge geopy \n",
    "#!conda install -c conda-forge folium=0.5.0 "
   ]
  },
  {
   "cell_type": "markdown",
   "metadata": {},
   "source": [
    "#  Obtain Data"
   ]
  },
  {
   "cell_type": "markdown",
   "metadata": {},
   "source": [
    "#### Scrape Wikipedia for Location of Cities in the California Bay Area"
   ]
  },
  {
   "cell_type": "code",
   "execution_count": 2,
   "metadata": {},
   "outputs": [
    {
     "data": {
      "text/html": [
       "<div>\n",
       "<style scoped>\n",
       "    .dataframe tbody tr th:only-of-type {\n",
       "        vertical-align: middle;\n",
       "    }\n",
       "\n",
       "    .dataframe tbody tr th {\n",
       "        vertical-align: top;\n",
       "    }\n",
       "\n",
       "    .dataframe thead th {\n",
       "        text-align: right;\n",
       "    }\n",
       "</style>\n",
       "<table border=\"1\" class=\"dataframe\">\n",
       "  <thead>\n",
       "    <tr style=\"text-align: right;\">\n",
       "      <th></th>\n",
       "      <th>Name</th>\n",
       "      <th>Type</th>\n",
       "      <th>County</th>\n",
       "      <th>Population (2010)[8][9]</th>\n",
       "      <th>sq mi</th>\n",
       "      <th>km2</th>\n",
       "      <th>Incorporated[7]</th>\n",
       "    </tr>\n",
       "  </thead>\n",
       "  <tbody>\n",
       "    <tr>\n",
       "      <th>0</th>\n",
       "      <td>Alameda</td>\n",
       "      <td>City</td>\n",
       "      <td>Alameda</td>\n",
       "      <td>73812</td>\n",
       "      <td>10.61</td>\n",
       "      <td>27.5</td>\n",
       "      <td>April 19, 1854</td>\n",
       "    </tr>\n",
       "    <tr>\n",
       "      <th>1</th>\n",
       "      <td>Albany</td>\n",
       "      <td>City</td>\n",
       "      <td>Alameda</td>\n",
       "      <td>18539</td>\n",
       "      <td>1.79</td>\n",
       "      <td>4.6</td>\n",
       "      <td>September 22, 1908</td>\n",
       "    </tr>\n",
       "    <tr>\n",
       "      <th>2</th>\n",
       "      <td>American Canyon</td>\n",
       "      <td>City</td>\n",
       "      <td>Napa</td>\n",
       "      <td>19454</td>\n",
       "      <td>4.84</td>\n",
       "      <td>12.5</td>\n",
       "      <td>January 1, 1992</td>\n",
       "    </tr>\n",
       "    <tr>\n",
       "      <th>3</th>\n",
       "      <td>Antioch</td>\n",
       "      <td>City</td>\n",
       "      <td>Contra Costa</td>\n",
       "      <td>102372</td>\n",
       "      <td>28.35</td>\n",
       "      <td>73.4</td>\n",
       "      <td>February 6, 1872</td>\n",
       "    </tr>\n",
       "    <tr>\n",
       "      <th>4</th>\n",
       "      <td>Atherton</td>\n",
       "      <td>Town</td>\n",
       "      <td>San Mateo</td>\n",
       "      <td>6914</td>\n",
       "      <td>5.02</td>\n",
       "      <td>13.0</td>\n",
       "      <td>September 12, 1923</td>\n",
       "    </tr>\n",
       "  </tbody>\n",
       "</table>\n",
       "</div>"
      ],
      "text/plain": [
       "              Name  Type        County  Population (2010)[8][9]  sq mi   km2  \\\n",
       "0          Alameda  City       Alameda                    73812  10.61  27.5   \n",
       "1           Albany  City       Alameda                    18539   1.79   4.6   \n",
       "2  American Canyon  City          Napa                    19454   4.84  12.5   \n",
       "3          Antioch  City  Contra Costa                   102372  28.35  73.4   \n",
       "4         Atherton  Town     San Mateo                     6914   5.02  13.0   \n",
       "\n",
       "      Incorporated[7]  \n",
       "0      April 19, 1854  \n",
       "1  September 22, 1908  \n",
       "2     January 1, 1992  \n",
       "3    February 6, 1872  \n",
       "4  September 12, 1923  "
      ]
     },
     "execution_count": 2,
     "metadata": {},
     "output_type": "execute_result"
    }
   ],
   "source": [
    "# Obtain location data from Wikipedia\n",
    "# https://stackoverflow.com/questions/54890708/scraping-data-from-wikipedia-table\n",
    "\n",
    "url = 'https://en.wikipedia.org/wiki/List_of_cities_and_towns_in_the_San_Francisco_Bay_Area'  \n",
    "df = pd.read_html(url, header=1)[0]\n",
    "\n",
    "df.head()"
   ]
  },
  {
   "cell_type": "markdown",
   "metadata": {},
   "source": [
    "#### Explore Data"
   ]
  },
  {
   "cell_type": "code",
   "execution_count": 3,
   "metadata": {},
   "outputs": [
    {
     "data": {
      "text/plain": [
       "Name                        object\n",
       "Type                        object\n",
       "County                      object\n",
       "Population (2010)[8][9]      int64\n",
       "sq mi                      float64\n",
       "km2                        float64\n",
       "Incorporated[7]             object\n",
       "dtype: object"
      ]
     },
     "execution_count": 3,
     "metadata": {},
     "output_type": "execute_result"
    }
   ],
   "source": [
    "# View datatypes\n",
    "df.dtypes"
   ]
  },
  {
   "cell_type": "code",
   "execution_count": 4,
   "metadata": {},
   "outputs": [
    {
     "data": {
      "text/plain": [
       "Name                       0\n",
       "Type                       0\n",
       "County                     0\n",
       "Population (2010)[8][9]    0\n",
       "sq mi                      0\n",
       "km2                        0\n",
       "Incorporated[7]            0\n",
       "dtype: int64"
      ]
     },
     "execution_count": 4,
     "metadata": {},
     "output_type": "execute_result"
    }
   ],
   "source": [
    "# Check for nulls\n",
    "df.isnull().sum()"
   ]
  },
  {
   "cell_type": "code",
   "execution_count": 5,
   "metadata": {},
   "outputs": [
    {
     "data": {
      "text/plain": [
       "(101, 7)"
      ]
     },
     "execution_count": 5,
     "metadata": {},
     "output_type": "execute_result"
    }
   ],
   "source": [
    "# View shape\n",
    "df.shape"
   ]
  },
  {
   "cell_type": "code",
   "execution_count": 6,
   "metadata": {},
   "outputs": [],
   "source": [
    "# Rename columns\n",
    "\n",
    "df.rename(columns={\n",
    "    'Population (2010)[8][9]': 'population',\n",
    "    'Incorporated[7]': 'incorporated',\n",
    "    'Name': 'city/town'\n",
    "}, inplace=True)"
   ]
  },
  {
   "cell_type": "code",
   "execution_count": 7,
   "metadata": {},
   "outputs": [
    {
     "data": {
      "text/html": [
       "<div>\n",
       "<style scoped>\n",
       "    .dataframe tbody tr th:only-of-type {\n",
       "        vertical-align: middle;\n",
       "    }\n",
       "\n",
       "    .dataframe tbody tr th {\n",
       "        vertical-align: top;\n",
       "    }\n",
       "\n",
       "    .dataframe thead th {\n",
       "        text-align: right;\n",
       "    }\n",
       "</style>\n",
       "<table border=\"1\" class=\"dataframe\">\n",
       "  <thead>\n",
       "    <tr style=\"text-align: right;\">\n",
       "      <th></th>\n",
       "      <th>city/town</th>\n",
       "      <th>Type</th>\n",
       "      <th>County</th>\n",
       "      <th>population</th>\n",
       "      <th>sq mi</th>\n",
       "      <th>km2</th>\n",
       "      <th>incorporated</th>\n",
       "    </tr>\n",
       "  </thead>\n",
       "  <tbody>\n",
       "    <tr>\n",
       "      <th>0</th>\n",
       "      <td>Alameda</td>\n",
       "      <td>City</td>\n",
       "      <td>Alameda</td>\n",
       "      <td>73812</td>\n",
       "      <td>10.61</td>\n",
       "      <td>27.5</td>\n",
       "      <td>April 19, 1854</td>\n",
       "    </tr>\n",
       "  </tbody>\n",
       "</table>\n",
       "</div>"
      ],
      "text/plain": [
       "  city/town  Type   County  population  sq mi   km2    incorporated\n",
       "0   Alameda  City  Alameda       73812  10.61  27.5  April 19, 1854"
      ]
     },
     "execution_count": 7,
     "metadata": {},
     "output_type": "execute_result"
    }
   ],
   "source": [
    "# Confirm name changes\n",
    "df.head(1)"
   ]
  },
  {
   "cell_type": "code",
   "execution_count": 8,
   "metadata": {},
   "outputs": [
    {
     "data": {
      "text/html": [
       "<div>\n",
       "<style scoped>\n",
       "    .dataframe tbody tr th:only-of-type {\n",
       "        vertical-align: middle;\n",
       "    }\n",
       "\n",
       "    .dataframe tbody tr th {\n",
       "        vertical-align: top;\n",
       "    }\n",
       "\n",
       "    .dataframe thead th {\n",
       "        text-align: right;\n",
       "    }\n",
       "</style>\n",
       "<table border=\"1\" class=\"dataframe\">\n",
       "  <thead>\n",
       "    <tr style=\"text-align: right;\">\n",
       "      <th></th>\n",
       "      <th>city/town</th>\n",
       "      <th>type</th>\n",
       "      <th>county</th>\n",
       "      <th>population</th>\n",
       "      <th>sq_mi</th>\n",
       "      <th>km2</th>\n",
       "      <th>incorporated</th>\n",
       "    </tr>\n",
       "  </thead>\n",
       "  <tbody>\n",
       "    <tr>\n",
       "      <th>0</th>\n",
       "      <td>Alameda</td>\n",
       "      <td>City</td>\n",
       "      <td>Alameda</td>\n",
       "      <td>73812</td>\n",
       "      <td>10.61</td>\n",
       "      <td>27.5</td>\n",
       "      <td>April 19, 1854</td>\n",
       "    </tr>\n",
       "    <tr>\n",
       "      <th>1</th>\n",
       "      <td>Albany</td>\n",
       "      <td>City</td>\n",
       "      <td>Alameda</td>\n",
       "      <td>18539</td>\n",
       "      <td>1.79</td>\n",
       "      <td>4.6</td>\n",
       "      <td>September 22, 1908</td>\n",
       "    </tr>\n",
       "    <tr>\n",
       "      <th>2</th>\n",
       "      <td>American Canyon</td>\n",
       "      <td>City</td>\n",
       "      <td>Napa</td>\n",
       "      <td>19454</td>\n",
       "      <td>4.84</td>\n",
       "      <td>12.5</td>\n",
       "      <td>January 1, 1992</td>\n",
       "    </tr>\n",
       "    <tr>\n",
       "      <th>3</th>\n",
       "      <td>Antioch</td>\n",
       "      <td>City</td>\n",
       "      <td>Contra Costa</td>\n",
       "      <td>102372</td>\n",
       "      <td>28.35</td>\n",
       "      <td>73.4</td>\n",
       "      <td>February 6, 1872</td>\n",
       "    </tr>\n",
       "    <tr>\n",
       "      <th>4</th>\n",
       "      <td>Atherton</td>\n",
       "      <td>Town</td>\n",
       "      <td>San Mateo</td>\n",
       "      <td>6914</td>\n",
       "      <td>5.02</td>\n",
       "      <td>13.0</td>\n",
       "      <td>September 12, 1923</td>\n",
       "    </tr>\n",
       "  </tbody>\n",
       "</table>\n",
       "</div>"
      ],
      "text/plain": [
       "         city/town  type        county  population  sq_mi   km2  \\\n",
       "0          Alameda  City       Alameda       73812  10.61  27.5   \n",
       "1           Albany  City       Alameda       18539   1.79   4.6   \n",
       "2  American Canyon  City          Napa       19454   4.84  12.5   \n",
       "3          Antioch  City  Contra Costa      102372  28.35  73.4   \n",
       "4         Atherton  Town     San Mateo        6914   5.02  13.0   \n",
       "\n",
       "         incorporated  \n",
       "0      April 19, 1854  \n",
       "1  September 22, 1908  \n",
       "2     January 1, 1992  \n",
       "3    February 6, 1872  \n",
       "4  September 12, 1923  "
      ]
     },
     "execution_count": 8,
     "metadata": {},
     "output_type": "execute_result"
    }
   ],
   "source": [
    "# Format column names\n",
    "df.columns = [c.replace(' ', '_').lower() for c in df.columns]\n",
    "df.head()"
   ]
  },
  {
   "cell_type": "code",
   "execution_count": 9,
   "metadata": {},
   "outputs": [
    {
     "data": {
      "text/html": [
       "<div>\n",
       "<style scoped>\n",
       "    .dataframe tbody tr th:only-of-type {\n",
       "        vertical-align: middle;\n",
       "    }\n",
       "\n",
       "    .dataframe tbody tr th {\n",
       "        vertical-align: top;\n",
       "    }\n",
       "\n",
       "    .dataframe thead th {\n",
       "        text-align: right;\n",
       "    }\n",
       "</style>\n",
       "<table border=\"1\" class=\"dataframe\">\n",
       "  <thead>\n",
       "    <tr style=\"text-align: right;\">\n",
       "      <th></th>\n",
       "      <th>city/town</th>\n",
       "      <th>type</th>\n",
       "      <th>county</th>\n",
       "      <th>population</th>\n",
       "      <th>sq_mi</th>\n",
       "      <th>km2</th>\n",
       "      <th>incorporated</th>\n",
       "    </tr>\n",
       "  </thead>\n",
       "  <tbody>\n",
       "    <tr>\n",
       "      <th>0</th>\n",
       "      <td>Alameda</td>\n",
       "      <td>City</td>\n",
       "      <td>Alameda</td>\n",
       "      <td>73812</td>\n",
       "      <td>10.61</td>\n",
       "      <td>27.5</td>\n",
       "      <td>April 19, 1854</td>\n",
       "    </tr>\n",
       "    <tr>\n",
       "      <th>1</th>\n",
       "      <td>Albany</td>\n",
       "      <td>City</td>\n",
       "      <td>Alameda</td>\n",
       "      <td>18539</td>\n",
       "      <td>1.79</td>\n",
       "      <td>4.6</td>\n",
       "      <td>September 22, 1908</td>\n",
       "    </tr>\n",
       "    <tr>\n",
       "      <th>2</th>\n",
       "      <td>American Canyon</td>\n",
       "      <td>City</td>\n",
       "      <td>Napa</td>\n",
       "      <td>19454</td>\n",
       "      <td>4.84</td>\n",
       "      <td>12.5</td>\n",
       "      <td>January 1, 1992</td>\n",
       "    </tr>\n",
       "    <tr>\n",
       "      <th>3</th>\n",
       "      <td>Antioch</td>\n",
       "      <td>City</td>\n",
       "      <td>Contra Costa</td>\n",
       "      <td>102372</td>\n",
       "      <td>28.35</td>\n",
       "      <td>73.4</td>\n",
       "      <td>February 6, 1872</td>\n",
       "    </tr>\n",
       "    <tr>\n",
       "      <th>4</th>\n",
       "      <td>Atherton</td>\n",
       "      <td>Town</td>\n",
       "      <td>San Mateo</td>\n",
       "      <td>6914</td>\n",
       "      <td>5.02</td>\n",
       "      <td>13.0</td>\n",
       "      <td>September 12, 1923</td>\n",
       "    </tr>\n",
       "  </tbody>\n",
       "</table>\n",
       "</div>"
      ],
      "text/plain": [
       "         city/town  type        county  population  sq_mi   km2  \\\n",
       "0          Alameda  City       Alameda       73812  10.61  27.5   \n",
       "1           Albany  City       Alameda       18539   1.79   4.6   \n",
       "2  American Canyon  City          Napa       19454   4.84  12.5   \n",
       "3          Antioch  City  Contra Costa      102372  28.35  73.4   \n",
       "4         Atherton  Town     San Mateo        6914   5.02  13.0   \n",
       "\n",
       "         incorporated  \n",
       "0      April 19, 1854  \n",
       "1  September 22, 1908  \n",
       "2     January 1, 1992  \n",
       "3    February 6, 1872  \n",
       "4  September 12, 1923  "
      ]
     },
     "execution_count": 9,
     "metadata": {},
     "output_type": "execute_result"
    }
   ],
   "source": [
    "df.head()"
   ]
  },
  {
   "cell_type": "code",
   "execution_count": 10,
   "metadata": {},
   "outputs": [],
   "source": [
    "# Add Stanford and Alviso to match the sales data\n",
    "new_row_1 = {'city/town': 'Stanford', 'county': 'Santa Clara'}\n",
    "new_row_2 = {'city/town': 'Alviso', 'county': 'Santa Clara'}\n",
    "\n",
    "#append row to the dataframe\n",
    "df = df.append(new_row_1, ignore_index=True)\n",
    "df = df.append(new_row_2, ignore_index=True)"
   ]
  },
  {
   "cell_type": "markdown",
   "metadata": {},
   "source": [
    "# Obtain Lat/Long Data"
   ]
  },
  {
   "cell_type": "code",
   "execution_count": 11,
   "metadata": {},
   "outputs": [],
   "source": [
    "# address = 'Santa Clara, California'\n",
    "\n",
    "# geolocator = Nominatim(user_agent = \"foursquare_agent\")\n",
    "# location = geolocator.geocode(address)\n",
    "# latitude = location.latitude\n",
    "# longitude = location.longitude\n",
    "# print('The geograpical coordinate of {} are {}, {}.'.format(address, latitude, longitude))"
   ]
  },
  {
   "cell_type": "code",
   "execution_count": 12,
   "metadata": {},
   "outputs": [],
   "source": [
    "# for name in df['name']:\n",
    "#     address = name + ', California'\n",
    "#     print(address)"
   ]
  },
  {
   "cell_type": "code",
   "execution_count": 13,
   "metadata": {},
   "outputs": [
    {
     "ename": "KeyError",
     "evalue": "'Name'",
     "output_type": "error",
     "traceback": [
      "\u001b[0;31m---------------------------------------------------------------------------\u001b[0m",
      "\u001b[0;31mKeyError\u001b[0m                                  Traceback (most recent call last)",
      "\u001b[0;32m/opt/anaconda3/envs/dsi/lib/python3.7/site-packages/pandas/core/indexes/base.py\u001b[0m in \u001b[0;36mget_loc\u001b[0;34m(self, key, method, tolerance)\u001b[0m\n\u001b[1;32m   2645\u001b[0m             \u001b[0;32mtry\u001b[0m\u001b[0;34m:\u001b[0m\u001b[0;34m\u001b[0m\u001b[0;34m\u001b[0m\u001b[0m\n\u001b[0;32m-> 2646\u001b[0;31m                 \u001b[0;32mreturn\u001b[0m \u001b[0mself\u001b[0m\u001b[0;34m.\u001b[0m\u001b[0m_engine\u001b[0m\u001b[0;34m.\u001b[0m\u001b[0mget_loc\u001b[0m\u001b[0;34m(\u001b[0m\u001b[0mkey\u001b[0m\u001b[0;34m)\u001b[0m\u001b[0;34m\u001b[0m\u001b[0;34m\u001b[0m\u001b[0m\n\u001b[0m\u001b[1;32m   2647\u001b[0m             \u001b[0;32mexcept\u001b[0m \u001b[0mKeyError\u001b[0m\u001b[0;34m:\u001b[0m\u001b[0;34m\u001b[0m\u001b[0;34m\u001b[0m\u001b[0m\n",
      "\u001b[0;32mpandas/_libs/index.pyx\u001b[0m in \u001b[0;36mpandas._libs.index.IndexEngine.get_loc\u001b[0;34m()\u001b[0m\n",
      "\u001b[0;32mpandas/_libs/index.pyx\u001b[0m in \u001b[0;36mpandas._libs.index.IndexEngine.get_loc\u001b[0;34m()\u001b[0m\n",
      "\u001b[0;32mpandas/_libs/hashtable_class_helper.pxi\u001b[0m in \u001b[0;36mpandas._libs.hashtable.PyObjectHashTable.get_item\u001b[0;34m()\u001b[0m\n",
      "\u001b[0;32mpandas/_libs/hashtable_class_helper.pxi\u001b[0m in \u001b[0;36mpandas._libs.hashtable.PyObjectHashTable.get_item\u001b[0;34m()\u001b[0m\n",
      "\u001b[0;31mKeyError\u001b[0m: 'Name'",
      "\nDuring handling of the above exception, another exception occurred:\n",
      "\u001b[0;31mKeyError\u001b[0m                                  Traceback (most recent call last)",
      "\u001b[0;32m<ipython-input-13-9ca947a36239>\u001b[0m in \u001b[0;36m<module>\u001b[0;34m\u001b[0m\n\u001b[0;32m----> 1\u001b[0;31m \u001b[0mdf\u001b[0m\u001b[0;34m[\u001b[0m\u001b[0;34m'Name'\u001b[0m\u001b[0;34m]\u001b[0m\u001b[0;34m\u001b[0m\u001b[0;34m\u001b[0m\u001b[0m\n\u001b[0m",
      "\u001b[0;32m/opt/anaconda3/envs/dsi/lib/python3.7/site-packages/pandas/core/frame.py\u001b[0m in \u001b[0;36m__getitem__\u001b[0;34m(self, key)\u001b[0m\n\u001b[1;32m   2798\u001b[0m             \u001b[0;32mif\u001b[0m \u001b[0mself\u001b[0m\u001b[0;34m.\u001b[0m\u001b[0mcolumns\u001b[0m\u001b[0;34m.\u001b[0m\u001b[0mnlevels\u001b[0m \u001b[0;34m>\u001b[0m \u001b[0;36m1\u001b[0m\u001b[0;34m:\u001b[0m\u001b[0;34m\u001b[0m\u001b[0;34m\u001b[0m\u001b[0m\n\u001b[1;32m   2799\u001b[0m                 \u001b[0;32mreturn\u001b[0m \u001b[0mself\u001b[0m\u001b[0;34m.\u001b[0m\u001b[0m_getitem_multilevel\u001b[0m\u001b[0;34m(\u001b[0m\u001b[0mkey\u001b[0m\u001b[0;34m)\u001b[0m\u001b[0;34m\u001b[0m\u001b[0;34m\u001b[0m\u001b[0m\n\u001b[0;32m-> 2800\u001b[0;31m             \u001b[0mindexer\u001b[0m \u001b[0;34m=\u001b[0m \u001b[0mself\u001b[0m\u001b[0;34m.\u001b[0m\u001b[0mcolumns\u001b[0m\u001b[0;34m.\u001b[0m\u001b[0mget_loc\u001b[0m\u001b[0;34m(\u001b[0m\u001b[0mkey\u001b[0m\u001b[0;34m)\u001b[0m\u001b[0;34m\u001b[0m\u001b[0;34m\u001b[0m\u001b[0m\n\u001b[0m\u001b[1;32m   2801\u001b[0m             \u001b[0;32mif\u001b[0m \u001b[0mis_integer\u001b[0m\u001b[0;34m(\u001b[0m\u001b[0mindexer\u001b[0m\u001b[0;34m)\u001b[0m\u001b[0;34m:\u001b[0m\u001b[0;34m\u001b[0m\u001b[0;34m\u001b[0m\u001b[0m\n\u001b[1;32m   2802\u001b[0m                 \u001b[0mindexer\u001b[0m \u001b[0;34m=\u001b[0m \u001b[0;34m[\u001b[0m\u001b[0mindexer\u001b[0m\u001b[0;34m]\u001b[0m\u001b[0;34m\u001b[0m\u001b[0;34m\u001b[0m\u001b[0m\n",
      "\u001b[0;32m/opt/anaconda3/envs/dsi/lib/python3.7/site-packages/pandas/core/indexes/base.py\u001b[0m in \u001b[0;36mget_loc\u001b[0;34m(self, key, method, tolerance)\u001b[0m\n\u001b[1;32m   2646\u001b[0m                 \u001b[0;32mreturn\u001b[0m \u001b[0mself\u001b[0m\u001b[0;34m.\u001b[0m\u001b[0m_engine\u001b[0m\u001b[0;34m.\u001b[0m\u001b[0mget_loc\u001b[0m\u001b[0;34m(\u001b[0m\u001b[0mkey\u001b[0m\u001b[0;34m)\u001b[0m\u001b[0;34m\u001b[0m\u001b[0;34m\u001b[0m\u001b[0m\n\u001b[1;32m   2647\u001b[0m             \u001b[0;32mexcept\u001b[0m \u001b[0mKeyError\u001b[0m\u001b[0;34m:\u001b[0m\u001b[0;34m\u001b[0m\u001b[0;34m\u001b[0m\u001b[0m\n\u001b[0;32m-> 2648\u001b[0;31m                 \u001b[0;32mreturn\u001b[0m \u001b[0mself\u001b[0m\u001b[0;34m.\u001b[0m\u001b[0m_engine\u001b[0m\u001b[0;34m.\u001b[0m\u001b[0mget_loc\u001b[0m\u001b[0;34m(\u001b[0m\u001b[0mself\u001b[0m\u001b[0;34m.\u001b[0m\u001b[0m_maybe_cast_indexer\u001b[0m\u001b[0;34m(\u001b[0m\u001b[0mkey\u001b[0m\u001b[0;34m)\u001b[0m\u001b[0;34m)\u001b[0m\u001b[0;34m\u001b[0m\u001b[0;34m\u001b[0m\u001b[0m\n\u001b[0m\u001b[1;32m   2649\u001b[0m         \u001b[0mindexer\u001b[0m \u001b[0;34m=\u001b[0m \u001b[0mself\u001b[0m\u001b[0;34m.\u001b[0m\u001b[0mget_indexer\u001b[0m\u001b[0;34m(\u001b[0m\u001b[0;34m[\u001b[0m\u001b[0mkey\u001b[0m\u001b[0;34m]\u001b[0m\u001b[0;34m,\u001b[0m \u001b[0mmethod\u001b[0m\u001b[0;34m=\u001b[0m\u001b[0mmethod\u001b[0m\u001b[0;34m,\u001b[0m \u001b[0mtolerance\u001b[0m\u001b[0;34m=\u001b[0m\u001b[0mtolerance\u001b[0m\u001b[0;34m)\u001b[0m\u001b[0;34m\u001b[0m\u001b[0;34m\u001b[0m\u001b[0m\n\u001b[1;32m   2650\u001b[0m         \u001b[0;32mif\u001b[0m \u001b[0mindexer\u001b[0m\u001b[0;34m.\u001b[0m\u001b[0mndim\u001b[0m \u001b[0;34m>\u001b[0m \u001b[0;36m1\u001b[0m \u001b[0;32mor\u001b[0m \u001b[0mindexer\u001b[0m\u001b[0;34m.\u001b[0m\u001b[0msize\u001b[0m \u001b[0;34m>\u001b[0m \u001b[0;36m1\u001b[0m\u001b[0;34m:\u001b[0m\u001b[0;34m\u001b[0m\u001b[0;34m\u001b[0m\u001b[0m\n",
      "\u001b[0;32mpandas/_libs/index.pyx\u001b[0m in \u001b[0;36mpandas._libs.index.IndexEngine.get_loc\u001b[0;34m()\u001b[0m\n",
      "\u001b[0;32mpandas/_libs/index.pyx\u001b[0m in \u001b[0;36mpandas._libs.index.IndexEngine.get_loc\u001b[0;34m()\u001b[0m\n",
      "\u001b[0;32mpandas/_libs/hashtable_class_helper.pxi\u001b[0m in \u001b[0;36mpandas._libs.hashtable.PyObjectHashTable.get_item\u001b[0;34m()\u001b[0m\n",
      "\u001b[0;32mpandas/_libs/hashtable_class_helper.pxi\u001b[0m in \u001b[0;36mpandas._libs.hashtable.PyObjectHashTable.get_item\u001b[0;34m()\u001b[0m\n",
      "\u001b[0;31mKeyError\u001b[0m: 'Name'"
     ]
    }
   ],
   "source": [
    "df['Name']"
   ]
  },
  {
   "cell_type": "code",
   "execution_count": null,
   "metadata": {},
   "outputs": [],
   "source": [
    "df['Name'].tolist()"
   ]
  },
  {
   "cell_type": "code",
   "execution_count": null,
   "metadata": {},
   "outputs": [],
   "source": [
    "# Look up lat/long with geopy library\n",
    "\n",
    "lats = []\n",
    "longs = []\n",
    "    \n",
    "for name in df['Name']:\n",
    "    address = name + ', California'\n",
    "    geolocator = Nominatim(user_agent = \"foursquare_agent\")\n",
    "    location = geolocator.geocode(address)\n",
    "    latitude = location.latitude\n",
    "    longitude = location.longitude\n",
    "    lats.append(latitude)\n",
    "    longs.append(longitude)"
   ]
  },
  {
   "cell_type": "code",
   "execution_count": null,
   "metadata": {},
   "outputs": [],
   "source": [
    "# Populate df with lat/long\n",
    "\n",
    "df['latitude'] = lats\n",
    "df['longitude'] = longs\n",
    "df.tail()"
   ]
  },
  {
   "cell_type": "code",
   "execution_count": null,
   "metadata": {},
   "outputs": [],
   "source": [
    "# Locate county with enough cities to compare (Looking for ~10-15)\n",
    "\n",
    "df['county'].value_counts()"
   ]
  },
  {
   "cell_type": "code",
   "execution_count": null,
   "metadata": {},
   "outputs": [],
   "source": [
    "# View cities in Santa Clara County\n",
    "\n",
    "df[df['county']=='Santa Clara']"
   ]
  },
  {
   "cell_type": "code",
   "execution_count": null,
   "metadata": {},
   "outputs": [],
   "source": [
    "# Create new df for Santa Clara County and reset index\n",
    "\n",
    "sclara = df[df['county'] == 'Santa Clara'].reset_index(drop=True)\n",
    "sclara.head(13)"
   ]
  },
  {
   "cell_type": "code",
   "execution_count": null,
   "metadata": {},
   "outputs": [],
   "source": [
    "# Fix lat/long for Santa Clara\n",
    "\n",
    "sclara.loc[12,'latitude'] = 37.352483\n",
    "sclara.loc[12,'longitude'] = -121.956564\n",
    "\n",
    "# Confirm change\n",
    "sclara.loc[sclara['city/town'] == 'Santa Clara']"
   ]
  },
  {
   "cell_type": "markdown",
   "metadata": {},
   "source": [
    "#### Sales Data"
   ]
  },
  {
   "cell_type": "code",
   "execution_count": null,
   "metadata": {},
   "outputs": [],
   "source": [
    "# Read in home sales data\n",
    "sales = pd.read_csv('../data/santa_clara_co_sales_2019.csv')\n",
    "sales.head()"
   ]
  },
  {
   "cell_type": "code",
   "execution_count": null,
   "metadata": {},
   "outputs": [],
   "source": [
    "# Drop nulls\n",
    "sales.dropna(subset=[\"city/town\"], axis=0, inplace=True)\n",
    "sales"
   ]
  },
  {
   "cell_type": "code",
   "execution_count": null,
   "metadata": {},
   "outputs": [],
   "source": [
    "# View dtypes\n",
    "\n",
    "sales.dtypes"
   ]
  },
  {
   "cell_type": "code",
   "execution_count": null,
   "metadata": {},
   "outputs": [],
   "source": [
    "# Format data\n",
    "\n",
    "sales['average_price'] = [item.replace('$','').replace(',','') for item in sales['average_price']]\n",
    "sales.head()"
   ]
  },
  {
   "cell_type": "code",
   "execution_count": null,
   "metadata": {},
   "outputs": [],
   "source": [
    "# Format data\n",
    "sales['median_price'] = [item.replace('$','').replace(',','') for item in sales['median_price']]\n",
    "sales.head()"
   ]
  },
  {
   "cell_type": "code",
   "execution_count": null,
   "metadata": {},
   "outputs": [],
   "source": [
    "# Convert dtype to float\n",
    "\n",
    "sales['average_price'] = sales['average_price'].astype(float)"
   ]
  },
  {
   "cell_type": "code",
   "execution_count": null,
   "metadata": {},
   "outputs": [],
   "source": [
    "# Convert dtype to float\n",
    "\n",
    "sales['median_price'] = sales['median_price'].astype(float)"
   ]
  },
  {
   "cell_type": "code",
   "execution_count": null,
   "metadata": {},
   "outputs": [],
   "source": [
    "# Confirm dtype conversion\n",
    "\n",
    "sales.dtypes"
   ]
  },
  {
   "cell_type": "code",
   "execution_count": null,
   "metadata": {},
   "outputs": [],
   "source": [
    "# Reset index\n",
    "\n",
    "sales = sales.reset_index()\n",
    "sales.head()"
   ]
  },
  {
   "cell_type": "code",
   "execution_count": null,
   "metadata": {},
   "outputs": [],
   "source": [
    "# Drop old index\n",
    "\n",
    "sales = sales.drop(['index'], axis=1)\n",
    "sales.head()"
   ]
  },
  {
   "cell_type": "code",
   "execution_count": null,
   "metadata": {},
   "outputs": [],
   "source": [
    "# Strip spaces from names in sales df\n",
    "\n",
    "sales['city/town']=sales['city/town'].str.strip()\n",
    "sales['city/town'].tolist()"
   ]
  },
  {
   "cell_type": "code",
   "execution_count": null,
   "metadata": {},
   "outputs": [],
   "source": [
    "# Merge location and sales dataframes\n",
    "\n",
    "df = pd.concat([sclara.set_index('city/town'), sales.set_index('city/town')], axis=1, join='inner')\n",
    "df.reset_index(inplace=True)\n",
    "df.head()"
   ]
  },
  {
   "cell_type": "code",
   "execution_count": null,
   "metadata": {},
   "outputs": [],
   "source": [
    "df.columns.tolist()"
   ]
  },
  {
   "cell_type": "markdown",
   "metadata": {},
   "source": [
    "# Visualize"
   ]
  },
  {
   "cell_type": "code",
   "execution_count": null,
   "metadata": {},
   "outputs": [],
   "source": [
    "# Get index for City of Santa Clara for map\n",
    "\n",
    "df[df['city/town']=='Santa Clara']"
   ]
  },
  {
   "cell_type": "code",
   "execution_count": null,
   "metadata": {},
   "outputs": [],
   "source": [
    "# create map of the cities in Santa Clara County with the city of Santa Clara as the focal point\n",
    "map_df = folium.Map(location=[df.iloc[0,2], df.iloc[0,3]], zoom_start=10)\n",
    "\n",
    "# add markers to map\n",
    "for lat, lng, name in zip(df['latitude'], df['longitude'], df['Name']):\n",
    "    label = '{}'.format(name)\n",
    "    label = folium.Popup(label, parse_html=True)\n",
    "    folium.CircleMarker(\n",
    "        [lat, lng],\n",
    "        radius=5,\n",
    "        popup=label,\n",
    "        color='purple',\n",
    "        fill=True,\n",
    "        fill_color='#3186cc',\n",
    "        fill_opacity=0.6,\n",
    "        parse_html=False).add_to(map_df)  \n",
    "    \n",
    "map_df"
   ]
  },
  {
   "cell_type": "code",
   "execution_count": null,
   "metadata": {},
   "outputs": [],
   "source": [
    "# create map of the cities in Santa Clara County with the city of Santa Clara as the focal point\n",
    "map_df = folium.Map(location=[df.iloc[12,7], df.iloc[12,8]], zoom_start=10)\n",
    "\n",
    "# add markers to map\n",
    "for lat, lng, name, county in zip(df['latitude'], df['longitude'], df['city/town'], df['county']):\n",
    "    label = '{}, {} County'.format(name, county)\n",
    "    label = folium.Popup(label, parse_html=True)\n",
    "    folium.CircleMarker(\n",
    "        [lat, lng],\n",
    "        radius=5,\n",
    "        popup=label,\n",
    "        color='purple',\n",
    "        fill=True,\n",
    "        fill_color='#3186cc',\n",
    "        fill_opacity=0.6,\n",
    "        parse_html=False).add_to(map_df)  \n",
    "    \n",
    "map_df"
   ]
  },
  {
   "cell_type": "markdown",
   "metadata": {},
   "source": [
    "## Foursquare Data"
   ]
  },
  {
   "cell_type": "code",
   "execution_count": null,
   "metadata": {},
   "outputs": [],
   "source": [
    "# Establish Foursquare credentials for reference\n",
    "\n",
    "CLIENT_ID = 'S5JB2KFD1NTX3EQLZEUCB5OLMPQTFOITAQG1ZMHVNB12UFH0' \n",
    "CLIENT_SECRET = '2SV2BAJSKBTEXPH41FHT2X3P1M1VQKYLZ54213I0VAZU2JPT' \n",
    "VERSION = '20200609' # Foursquare API version\n"
   ]
  },
  {
   "cell_type": "code",
   "execution_count": null,
   "metadata": {},
   "outputs": [],
   "source": [
    "# df.loc[0, 'city/town']"
   ]
  },
  {
   "cell_type": "code",
   "execution_count": null,
   "metadata": {},
   "outputs": [],
   "source": [
    "# city_latitude = df.loc[0, 'latitude']\n",
    "# city_longitude = df.loc[0, 'longitude'] \n",
    "\n",
    "# city_name = df.loc[0, 'city/town'] \n",
    "\n",
    "# print('Latitude and longitude values of {} are {}, {}.'.format(city_name, \n",
    "#                                                                city_latitude, \n",
    "#                                                                city_longitude))"
   ]
  },
  {
   "cell_type": "code",
   "execution_count": null,
   "metadata": {},
   "outputs": [],
   "source": [
    "# #Foursquare rate limits: https://developer.foursquare.com/docs/places-api/rate-limits/\n",
    "    \n",
    "# LIMIT = 100 # limit of number of venues returned by Foursquare API\n",
    "\n",
    "# radius = 500 # define radius\n",
    "\n",
    "# # create URL\n",
    "# url = 'https://api.foursquare.com/v2/venues/explore?&client_id={}&client_secret={}&v={}&ll={},{}&radius={}&limit={}'.format(\n",
    "#     CLIENT_ID, \n",
    "#     CLIENT_SECRET, \n",
    "#     VERSION, \n",
    "#     city_latitude, \n",
    "#     city_longitude, \n",
    "#     radius, \n",
    "#     LIMIT)"
   ]
  },
  {
   "cell_type": "code",
   "execution_count": null,
   "metadata": {},
   "outputs": [],
   "source": [
    "# results = requests.get(url).json()"
   ]
  },
  {
   "cell_type": "code",
   "execution_count": null,
   "metadata": {},
   "outputs": [],
   "source": [
    "# # function that extracts the category of the venue\n",
    "# def get_category_type(row):\n",
    "#     try:\n",
    "#         categories_list = row['categories']\n",
    "#     except:\n",
    "#         categories_list = row['venue.categories']\n",
    "        \n",
    "#     if len(categories_list) == 0:\n",
    "#         return None\n",
    "#     else:\n",
    "#         return categories_list[0]['name']"
   ]
  },
  {
   "cell_type": "code",
   "execution_count": null,
   "metadata": {},
   "outputs": [],
   "source": [
    "# venues = results['response']['groups'][0]['items']\n",
    "    \n",
    "# nearby_venues = json_normalize(venues) # flatten JSON\n",
    "\n",
    "# # filter columns\n",
    "# filtered_columns = ['venue.name', 'venue.categories', 'venue.location.lat', 'venue.location.lng']\n",
    "# nearby_venues =nearby_venues.loc[:, filtered_columns]\n",
    "\n",
    "# # filter the category for each row\n",
    "# nearby_venues['venue.categories'] = nearby_venues.apply(get_category_type, axis=1)\n",
    "\n",
    "# # clean columns\n",
    "# nearby_venues.columns = [col.split(\".\")[-1] for col in nearby_venues.columns]\n",
    "\n",
    "# nearby_venues.head()"
   ]
  },
  {
   "cell_type": "code",
   "execution_count": null,
   "metadata": {},
   "outputs": [],
   "source": [
    "# # Campbell only\n",
    "# print('{} venues returned from Foursquare'.format(nearby_venues.shape[0]))"
   ]
  },
  {
   "cell_type": "code",
   "execution_count": null,
   "metadata": {},
   "outputs": [],
   "source": [
    "# df['city/town'].unique()"
   ]
  },
  {
   "cell_type": "code",
   "execution_count": null,
   "metadata": {},
   "outputs": [],
   "source": []
  },
  {
   "cell_type": "code",
   "execution_count": null,
   "metadata": {},
   "outputs": [],
   "source": []
  },
  {
   "cell_type": "code",
   "execution_count": null,
   "metadata": {},
   "outputs": [],
   "source": []
  },
  {
   "cell_type": "code",
   "execution_count": null,
   "metadata": {},
   "outputs": [],
   "source": []
  },
  {
   "cell_type": "code",
   "execution_count": null,
   "metadata": {},
   "outputs": [],
   "source": []
  },
  {
   "cell_type": "code",
   "execution_count": null,
   "metadata": {},
   "outputs": [],
   "source": [
    "# Collect venue results from Foursquare\n",
    "# Code adapted from IBM data science cert lab\n",
    "\n",
    "radius = 1000 # \n",
    "limit = 200\n",
    "\n",
    "venues = []\n",
    "\n",
    "for lat, long, city in zip(df['latitude'], df['longitude'], df['city/town']):\n",
    "    url = \"https://api.foursquare.com/v2/venues/explore?client_id={}&client_secret={}&v={}&ll={},{}&radius={}&limit={}\".format(\n",
    "        CLIENT_ID,\n",
    "        CLIENT_SECRET,\n",
    "        VERSION,\n",
    "        lat,\n",
    "        long,\n",
    "        radius, \n",
    "        limit)\n",
    "    \n",
    "    results = requests.get(url).json()[\"response\"]['groups'][0]['items']\n",
    "    \n",
    "    for venue in results:\n",
    "        venues.append((\n",
    "            city,\n",
    "            lat, \n",
    "            long, \n",
    "            venue['venue']['name'], \n",
    "            venue['venue']['location']['lat'], \n",
    "            venue['venue']['location']['lng'],  \n",
    "            venue['venue']['categories'][0]['name']))"
   ]
  },
  {
   "cell_type": "code",
   "execution_count": null,
   "metadata": {},
   "outputs": [],
   "source": [
    "#  venues into a dataframe\n",
    "venues_df = pd.DataFrame(venues)\n",
    "venues_df.columns = ['city/town', 'latitude', 'longitude', 'venue_name', 'venue_latitude', 'venue_longitude', 'venue_type']\n",
    "\n",
    "# check the dataframe\n",
    "print('Shape: {}'.format(venues_df.shape))\n",
    "print('Unique venue types: {}'.format(len(venues_df['venue_type'].unique())))\n",
    "venues_df.head()"
   ]
  },
  {
   "cell_type": "code",
   "execution_count": null,
   "metadata": {},
   "outputs": [],
   "source": []
  },
  {
   "cell_type": "code",
   "execution_count": null,
   "metadata": {},
   "outputs": [],
   "source": []
  },
  {
   "cell_type": "code",
   "execution_count": null,
   "metadata": {},
   "outputs": [],
   "source": []
  },
  {
   "cell_type": "code",
   "execution_count": null,
   "metadata": {},
   "outputs": [],
   "source": []
  },
  {
   "cell_type": "code",
   "execution_count": null,
   "metadata": {},
   "outputs": [],
   "source": [
    "# # Collect venue results from Foursquare\n",
    "# # Code adapted from IBM data science cert lab\n",
    "\n",
    "# radius = 1000 \n",
    "# limit = 200\n",
    "\n",
    "# for lat, long, city in zip(df['latitude'], df['longitude'], df['city/town']):\n",
    "#     url = \"https://api.foursquare.com/v2/venues/explore?client_id={}&client_secret={}&v={}&ll={},{}&radius={}&limit={}\".format(\n",
    "#         CLIENT_ID,\n",
    "#         CLIENT_SECRET,\n",
    "#         VERSION,\n",
    "#         lat,\n",
    "#         long,\n",
    "#         radius, \n",
    "#         limit)\n",
    "    \n",
    "#     results = requests.get(url).json()['response']['groups'][0]['items']\n",
    "    \n",
    "#     venues = []\n",
    "\n",
    "#     for venue in results:\n",
    "#         venues.append((\n",
    "#             city,\n",
    "#             lat, \n",
    "#             long, \n",
    "#             venue['venue']['name'], \n",
    "#             venue['venue']['location']['lat'], \n",
    "#             venue['venue']['location']['lng'],  \n",
    "#             venue['venue']['categories'][0]['name']))"
   ]
  },
  {
   "cell_type": "code",
   "execution_count": null,
   "metadata": {},
   "outputs": [],
   "source": [
    "venues_df.to_csv('../data/venues_df.csv', index=False)"
   ]
  },
  {
   "cell_type": "code",
   "execution_count": null,
   "metadata": {},
   "outputs": [],
   "source": [
    "venues_df = pd.read_csv('../data/venues_df.csv')\n",
    "venues_df.head()"
   ]
  },
  {
   "cell_type": "code",
   "execution_count": null,
   "metadata": {},
   "outputs": [],
   "source": [
    "venues_df['city/town'].unique()"
   ]
  },
  {
   "cell_type": "code",
   "execution_count": null,
   "metadata": {},
   "outputs": [],
   "source": [
    "# Create function to generate venues for all cities in Santa Clara County\n",
    "\n",
    "# def getNearbyVenues(names, latitudes, longitudes, radius=500):\n",
    "    \n",
    "#     venues_list=[]\n",
    "#     for name, lat, lng in zip(names, latitudes, longitudes):\n",
    "#         print(name)\n",
    "            \n",
    "#         # create the API request URL\n",
    "#         url = 'https://api.foursquare.com/v2/venues/explore?&client_id={}&client_secret={}&v={}&ll={},{}&radius={}&limit={}'.format(\n",
    "#             CLIENT_ID, \n",
    "#             CLIENT_SECRET, \n",
    "#             VERSION, \n",
    "#             lat, \n",
    "#             lng, \n",
    "#             radius, \n",
    "#             LIMIT)\n",
    "            \n",
    "#         # make the GET request\n",
    "#         results = requests.get(url).json()[\"response\"]['groups'][0]['items']\n",
    "        \n",
    "#         # return only relevant information for each nearby venue\n",
    "#         venues_list.append([(\n",
    "#             name, \n",
    "#             lat, \n",
    "#             lng, \n",
    "#             v['venue']['name'], \n",
    "#             v['venue']['location']['lat'], \n",
    "#             v['venue']['location']['lng'],  \n",
    "#             v['venue']['categories'][0]['name']) for v in results])\n",
    "\n",
    "#     nearby_venues = pd.DataFrame([item for venue_list in venues_list for item in venue_list])\n",
    "#     nearby_venues.columns = ['city/town', \n",
    "#                   'City Latitude', \n",
    "#                   'City Longitude', \n",
    "#                   'Venue', \n",
    "#                   'Venue Latitude', \n",
    "#                   'Venue Longitude', \n",
    "#                   'Venue Category']\n",
    "    \n",
    "#     return(nearby_venues)"
   ]
  },
  {
   "cell_type": "code",
   "execution_count": null,
   "metadata": {},
   "outputs": [],
   "source": [
    "# scc is for santa clara county\n",
    "# scc_venues = getNearbyVenues(names=df['city/town'],\n",
    "#                                    latitudes=df['latitude'],\n",
    "#                                    longitudes=df['longitude']\n",
    "#                                   )\n"
   ]
  },
  {
   "cell_type": "code",
   "execution_count": null,
   "metadata": {},
   "outputs": [],
   "source": [
    "# Count of venues per city\n",
    "venues_df.groupby('city/town').count()"
   ]
  },
  {
   "cell_type": "code",
   "execution_count": null,
   "metadata": {},
   "outputs": [],
   "source": []
  },
  {
   "cell_type": "code",
   "execution_count": null,
   "metadata": {},
   "outputs": [],
   "source": [
    "# one hot encoding\n",
    "df_onehot = pd.get_dummies(venues_df[['venue_type']], prefix=\"\", prefix_sep=\"\")\n",
    "\n",
    "# Add city/town to venue df\n",
    "df_onehot['city/town'] = venues_df['city/town'] \n",
    "\n",
    "# move city/town column to the first column\n",
    "fixed_columns = [df_onehot.columns[-1]] + list(df_onehot.columns[:-1])\n",
    "df_onehot = df_onehot[fixed_columns]\n",
    "\n",
    "df_onehot.head()"
   ]
  },
  {
   "cell_type": "code",
   "execution_count": null,
   "metadata": {},
   "outputs": [],
   "source": [
    "# new shape\n",
    "df_onehot.shape"
   ]
  },
  {
   "cell_type": "code",
   "execution_count": null,
   "metadata": {},
   "outputs": [],
   "source": [
    "# Group venue type count by city\n",
    "\n",
    "df_grouped = df_onehot.groupby('city/town').sum().reset_index() \n",
    "df_grouped"
   ]
  },
  {
   "cell_type": "code",
   "execution_count": null,
   "metadata": {},
   "outputs": [],
   "source": [
    "# View size\n",
    "df_grouped.shape"
   ]
  },
  {
   "cell_type": "code",
   "execution_count": null,
   "metadata": {},
   "outputs": [],
   "source": [
    "# # Boxplots\n",
    "\n",
    "# plt.figure(figsize=(20, 10))\n",
    "# plt.xticks(rotation='vertical')\n",
    "# sns.boxplot\n",
    "\n",
    "# ax = sns.boxplot(data = df_grouped)\n",
    "# ax.set_ylabel('Venue Count', fontsize=25)\n",
    "# ax.set_xlabel('Venue Type', fontsize=25)\n",
    "# ax.tick_params(labelsize=20)\n",
    "# plt.xticks(rotation=45, ha='right')\n",
    "\n",
    "# plt.show()"
   ]
  },
  {
   "cell_type": "code",
   "execution_count": null,
   "metadata": {},
   "outputs": [],
   "source": [
    "# num_top_venues = 5\n",
    "\n",
    "# for city in scc_grouped['city/town']:\n",
    "#     print(\"----\"+city+\"----\")\n",
    "#     temp = scc_grouped[scc_grouped['city/town'] == city].T.reset_index()\n",
    "#     temp.columns = ['venue','freq']\n",
    "#     temp = temp.iloc[1:]\n",
    "#     temp['freq'] = temp['freq'].astype(float)\n",
    "#     temp = temp.round({'freq': 2})\n",
    "#     print(temp.sort_values('freq', ascending=False).reset_index(drop=True).head(num_top_venues))\n",
    "#     print('\\n')"
   ]
  },
  {
   "cell_type": "code",
   "execution_count": null,
   "metadata": {},
   "outputs": [],
   "source": [
    "# def return_most_common_venues(row, num_top_venues):\n",
    "#     row_categories = row.iloc[1:]\n",
    "#     row_categories_sorted = row_categories.sort_values(ascending=False)\n",
    "    \n",
    "#     return row_categories_sorted.index.values[0:num_top_venues]"
   ]
  },
  {
   "cell_type": "code",
   "execution_count": null,
   "metadata": {},
   "outputs": [],
   "source": [
    "# num_top_venues = 10\n",
    "\n",
    "# indicators = ['st', 'nd', 'rd']\n",
    "\n",
    "# # create columns according to number of top venues\n",
    "# columns = ['city/town']\n",
    "# for ind in np.arange(num_top_venues):\n",
    "#     try:\n",
    "#         columns.append('{}{} Most Common Venue'.format(ind+1, indicators[ind]))\n",
    "#     except:\n",
    "#         columns.append('{}th Most Common Venue'.format(ind+1))\n",
    "\n",
    "# # create a new dataframe\n",
    "# city_venues_sorted = pd.DataFrame(columns=columns)\n",
    "# city_venues_sorted['city/town'] = scc_grouped['city/town']\n",
    "\n",
    "# for ind in np.arange(scc_grouped.shape[0]):\n",
    "#     city_venues_sorted.iloc[ind, 1:] = return_most_common_venues(scc_grouped.iloc[ind, :], num_top_venues)\n",
    "\n",
    "# city_venues_sorted.head()"
   ]
  },
  {
   "cell_type": "markdown",
   "metadata": {},
   "source": [
    "# Modeling"
   ]
  },
  {
   "cell_type": "code",
   "execution_count": null,
   "metadata": {},
   "outputs": [],
   "source": [
    "# Scale the price\n",
    "\n",
    "sc = StandardScaler()\n",
    "price_scaled = sc.fit_transform(df[['average_price']])"
   ]
  },
  {
   "cell_type": "code",
   "execution_count": null,
   "metadata": {},
   "outputs": [],
   "source": [
    "#  Add scaled price to the dataframe\n",
    "price_df = pd.DataFrame(df_grouped)\n",
    "price_df['Scaled_Price'] = price_scaled\n",
    "\n",
    "print(price_df.shape)\n",
    "price_df.head()"
   ]
  },
  {
   "cell_type": "markdown",
   "metadata": {},
   "source": [
    "## Linear Regression"
   ]
  },
  {
   "cell_type": "code",
   "execution_count": null,
   "metadata": {},
   "outputs": [],
   "source": [
    "# Define X and y\n",
    "X = price_df.drop(columns=['city/town', 'Scaled_Price'])\n",
    "y = price_df['Scaled_Price']"
   ]
  },
  {
   "cell_type": "code",
   "execution_count": null,
   "metadata": {},
   "outputs": [],
   "source": [
    "# Train/test split \n",
    "X_train, X_test, y_train, y_test = train_test_split(X, y, test_size=0.2, random_state=0)"
   ]
  },
  {
   "cell_type": "code",
   "execution_count": null,
   "metadata": {},
   "outputs": [],
   "source": [
    "# Instantiate and fit model\n",
    "\n",
    "lr = LinearRegression(normalize=True)\n",
    "\n",
    "model = lr.fit(X_train, y_train)"
   ]
  },
  {
   "cell_type": "code",
   "execution_count": null,
   "metadata": {},
   "outputs": [],
   "source": [
    "# Score on training set. (We'll use R^2 for the score today.)\n",
    "print(f'Training R2 Score: {round(model.score(X_train, y_train),2)}')\n",
    "\n",
    "# Score on testing set.\n",
    "print(f'Testing R2 Score: {round(model.score(X_test, y_test),2)}')\n",
    "\n"
   ]
  },
  {
   "cell_type": "code",
   "execution_count": null,
   "metadata": {},
   "outputs": [],
   "source": [
    "# Mean Squared Error\n",
    "\n",
    "y_pred = lr.predict(X_test)\n",
    "print(f'MSE: {round(mean_squared_error(y_test, y_pred),2)}')"
   ]
  },
  {
   "cell_type": "code",
   "execution_count": null,
   "metadata": {},
   "outputs": [],
   "source": [
    "# let's see how well Linear Regression fit the problem\n",
    "y_pred = lr.predict(X_test)\n",
    "\n",
    "print('R2-Score:', r2_score(y_test, y_pred)) # r2 score\n",
    "print('Mean Squared Error:', mean_squared_error(y_test, y_pred)) # mse\n",
    "\n",
    "print('Max positive coefs:', lr.coef_[np.argsort(-lr.coef_)[:10]])\n",
    "\n",
    "print('Venue types with most postive effect:', X.columns[np.argsort(-lr.coef_)[:10]].values)\n",
    "\n",
    "print('Max negative coefs:', lr.coef_[np.argsort(lr.coef_)[:10]])\n",
    "\n",
    "print('Venue types with most negative effect:', X.columns[np.argsort(lr.coef_)[:10]].values)\n",
    "\n",
    "coef_abs = abs(lr.coef_)\n",
    "print('Min coefs:', lr.coef_[np.argsort(coef_abs)[:10]])\n",
    "print('Venue types with least effect:', X.columns[np.argsort(coef_abs)[:10]].values)"
   ]
  },
  {
   "cell_type": "markdown",
   "metadata": {},
   "source": [
    "# PCA Modeling"
   ]
  },
  {
   "cell_type": "code",
   "execution_count": null,
   "metadata": {},
   "outputs": [],
   "source": [
    "# Define X and y\n",
    "X = price_df.drop(columns=['city/town', 'Scaled_Price'])\n",
    "y = price_df['Scaled_Price']"
   ]
  },
  {
   "cell_type": "code",
   "execution_count": null,
   "metadata": {},
   "outputs": [],
   "source": [
    "# Train/test split \n",
    "X_train, X_test, y_train, y_test = train_test_split(X, y, test_size=0.2, random_state=0)"
   ]
  },
  {
   "cell_type": "code",
   "execution_count": null,
   "metadata": {},
   "outputs": [],
   "source": [
    "# Instantiate StandardScaler.\n",
    "sc = StandardScaler()\n",
    "\n",
    "# Standardize X_train.\n",
    "X_train = sc.fit_transform(X_train)\n",
    "\n",
    "# Standardize X_test.\n",
    "X_test = sc.transform(X_test)"
   ]
  },
  {
   "cell_type": "code",
   "execution_count": null,
   "metadata": {},
   "outputs": [],
   "source": [
    "# Instantiate and fit PCA\n",
    "pca = PCA(svd_solver='auto', random_state = 0)\n",
    "\n",
    "# Fit PCA on the training data.\n",
    "pca.fit(X_train) "
   ]
  },
  {
   "cell_type": "code",
   "execution_count": null,
   "metadata": {},
   "outputs": [],
   "source": [
    "# Transform PCA\n",
    "Z_train = pca.transform(X_train)\n",
    "\n",
    "Z_test = pca.transform(X_test)"
   ]
  },
  {
   "cell_type": "code",
   "execution_count": null,
   "metadata": {},
   "outputs": [],
   "source": [
    "# Let's check out the resulting data.\n",
    "pd.DataFrame(Z_train).describe()"
   ]
  },
  {
   "cell_type": "code",
   "execution_count": null,
   "metadata": {},
   "outputs": [],
   "source": [
    "\n",
    "# Pull the explained variance attribute.\n",
    "var_exp = pca.explained_variance_ratio_\n",
    "print(f'Explained variance (first 20 components): {np.round(var_exp[:20],3)}')\n",
    "\n",
    "print('')\n",
    "\n",
    "# Generate the cumulative explained variance.\n",
    "cum_var_exp = np.cumsum(var_exp)\n",
    "print(f'Cumulative explained variance (first 20 components): {np.round(cum_var_exp[:20],3)}')"
   ]
  },
  {
   "cell_type": "code",
   "execution_count": null,
   "metadata": {},
   "outputs": [],
   "source": [
    "# Plot the variance explained (and cumulative variance explained).\n",
    "\n",
    "# Set figure size.\n",
    "plt.figure(figsize=(12,8))\n",
    "\n",
    "# Plot the explained variance.\n",
    "plt.plot(range(len(var_exp)), var_exp, lw=3, label = 'Variance Explained')\n",
    "\n",
    "# Plot the cumulative explained variance.\n",
    "plt.plot(range(len(var_exp)), cum_var_exp, lw=3, color = 'orange', label = 'Cumulative Variance Explained')\n",
    "\n",
    "\n",
    "# Add horizontal lines at y=0 and y=1.\n",
    "plt.axhline(y=0, linewidth=1, color='grey', ls='dashed')\n",
    "plt.axhline(y=1, linewidth=1, color='grey', ls='dashed')\n",
    "\n",
    "# Set the limits of the axes.\n",
    "plt.xlim([-1,21])\n",
    "plt.ylim([-0.01,1.01])\n",
    "\n",
    "# Label the axes.\n",
    "plt.ylabel('Variance Explained', fontsize=20)\n",
    "plt.xlabel('Principal Component', fontsize=20)\n",
    "\n",
    "# Make the tick labels bigger\n",
    "plt.xticks(range(0, 21, 5), range(1, 22, 5), fontsize=12)\n",
    "plt.yticks(fontsize=12)\n",
    "    \n",
    "# Add title and legend.\n",
    "plt.title('Component vs. Variance Explained', fontsize=24)\n",
    "plt.legend(fontsize=11);"
   ]
  },
  {
   "cell_type": "code",
   "execution_count": null,
   "metadata": {},
   "outputs": [],
   "source": [
    "# Instantiate PCA with 10 components.\n",
    "pca = PCA(n_components = 10, random_state = 42)\n",
    "\n",
    "# Fit PCA to training data.\n",
    "pca.fit(X_train)"
   ]
  },
  {
   "cell_type": "code",
   "execution_count": null,
   "metadata": {},
   "outputs": [],
   "source": [
    "# Instantiate linear regression model.\n",
    "lm = LinearRegression()\n",
    "\n",
    "# Transform Z_train and Z_test.\n",
    "Z_train = pca.transform(X_train)\n",
    "Z_test = pca.transform(X_test)\n",
    "\n",
    "# Fit on Z_train.\n",
    "lm.fit(Z_train, y_train)\n",
    "\n",
    "# Score on training and testing sets.\n",
    "print(f'Training Score: {round(lm.score(Z_train, y_train),4)}')\n",
    "print(f'Testing Score: {round(lm.score(Z_test, y_test),4)}')"
   ]
  },
  {
   "cell_type": "code",
   "execution_count": null,
   "metadata": {},
   "outputs": [],
   "source": []
  },
  {
   "cell_type": "code",
   "execution_count": null,
   "metadata": {},
   "outputs": [],
   "source": []
  },
  {
   "cell_type": "code",
   "execution_count": null,
   "metadata": {},
   "outputs": [],
   "source": []
  },
  {
   "cell_type": "code",
   "execution_count": null,
   "metadata": {},
   "outputs": [],
   "source": [
    "X = price_df.drop(columns=['city/town', 'Scaled_Price'])\n",
    "y = price_df['Scaled_Price']\n",
    "\n",
    "# First, apply PCA\n",
    "pca = PCA(svd_solver='auto', random_state=0)\n",
    "X_pca = pca.fit_transform(scale(X))"
   ]
  },
  {
   "cell_type": "code",
   "execution_count": null,
   "metadata": {},
   "outputs": [],
   "source": [
    "n_component_list = range(1, 51)\n",
    "r2_list = []\n",
    "mse_list = []\n",
    "\n",
    "# Second, Linear Regression\n",
    "for i in n_component_list:\n",
    "    lreg = LinearRegression()\n",
    "    X_train, X_test, y_train, y_test = train_test_split(X_pca[:,:i], y, test_size=0.2, random_state=0)\n",
    "    model = lreg.fit(X_train, y_train)\n",
    "    # check the result\n",
    "    y_pred = lreg.predict(X_test)\n",
    "    r2 = r2_score(y_test, y_pred) # r2 score\n",
    "    mse = mean_squared_error(y_test, y_pred) # mse\n",
    "    r2_list.append(r2)\n",
    "    mse_list.append(mse)\n",
    "    \n",
    "scores_df = pd.DataFrame.from_dict(dict([('NComponents', n_component_list),\n",
    "                                        ('R2', r2_list),\n",
    "                                        ('MSE', mse_list)]))\n",
    "scores_df.set_index('NComponents', inplace=True)"
   ]
  },
  {
   "cell_type": "code",
   "execution_count": null,
   "metadata": {},
   "outputs": [],
   "source": [
    "# plot the scores to see the best n_components\n",
    "plt.subplot(1, 3, 1)\n",
    "scores_df['R2'].plot(kind='line')\n",
    "plt.title('R2 score / n components')\n",
    "plt.ylabel('R2 score')\n",
    "plt.xlabel('n components')\n",
    "\n",
    "plt.subplot(1, 3, 3)\n",
    "scores_df['MSE'].plot(kind='line')\n",
    "plt.title('MSE score / n components')\n",
    "plt.ylabel('MSE score')\n",
    "plt.xlabel('n components')\n",
    "\n",
    "plt.show()"
   ]
  },
  {
   "cell_type": "code",
   "execution_count": null,
   "metadata": {},
   "outputs": [],
   "source": [
    "\n",
    "r2_max = scores_df['R2'].idxmax()\n",
    "print(\"Best n:\", r2_max, \"R2 score:\", scores_df['R2'][r2_max])\n",
    "\n",
    "mse_min = scores_df['MSE'].idxmin()\n",
    "print(\"Best n:\", mse_min, \"MSE:\", scores_df['MSE'][mse_min])"
   ]
  },
  {
   "cell_type": "code",
   "execution_count": null,
   "metadata": {},
   "outputs": [],
   "source": [
    "# Use the best n_components parameter\n",
    "lreg = LinearRegression()\n",
    "X_train, X_test, y_train, y_test = train_test_split(X_pca[:,:r2_max], y, test_size=0.2, random_state=0)\n",
    "model = lreg.fit(X_train, y_train)\n",
    "\n",
    "# check the result\n",
    "y_pred = lreg.predict(X_test)\n",
    "r2 = r2_score(y_test, y_pred) # r2 score\n",
    "mse = mean_squared_error(y_test, y_pred) # mse\n",
    "print(\"R2 score:\", r2)\n",
    "print(\"MSE:\", mse)"
   ]
  },
  {
   "cell_type": "code",
   "execution_count": null,
   "metadata": {},
   "outputs": [],
   "source": [
    "# Let's try to project the coefs back to the original number of features\n",
    "eigenvectors = pca.components_\n",
    "pcr_coefs = eigenvectors[:r2_max, :].T @ lreg.coef_\n",
    "\n",
    "pcr_coefs.shape"
   ]
  },
  {
   "cell_type": "code",
   "execution_count": null,
   "metadata": {},
   "outputs": [],
   "source": [
    "# Let's check which venue types effect the most and least\n",
    "print('\\nMax positive coefs:', pcr_coefs[np.argsort(-pcr_coefs)[:10]])\n",
    "print('\\nVenue types with most positive effect:', X.columns[np.argsort(-pcr_coefs)[:10]].values)\n",
    "print('\\nMax negative coefs:', pcr_coefs[np.argsort(pcr_coefs)[:10]])\n",
    "print('\\nVenue types with most negative effect:', X.columns[np.argsort(pcr_coefs)[:10]].values)\n",
    "coef_abs = abs(pcr_coefs)\n",
    "print('\\nMin coefs:', pcr_coefs[np.argsort(coef_abs)[:10]])\n",
    "print('\\nVenue types with least effect:', X.columns[np.argsort(coef_abs)[:10]].values)"
   ]
  },
  {
   "cell_type": "code",
   "execution_count": null,
   "metadata": {},
   "outputs": [],
   "source": []
  },
  {
   "cell_type": "markdown",
   "metadata": {},
   "source": [
    "## Clustering"
   ]
  },
  {
   "cell_type": "code",
   "execution_count": null,
   "metadata": {},
   "outputs": [],
   "source": [
    "# set number of clusters\n",
    "kclusters = 5\n",
    "\n",
    "scc_grouped_clustering = df_grouped.drop('city/town', 1)\n",
    "\n",
    "# run k-means clustering\n",
    "kmeans = KMeans(n_clusters=kclusters, random_state=0).fit(scc_grouped_clustering)\n",
    "\n",
    "# check cluster labels generated for each row in the dataframe\n",
    "kmeans.labels_[0:10] "
   ]
  },
  {
   "cell_type": "code",
   "execution_count": null,
   "metadata": {},
   "outputs": [],
   "source": [
    "city_venues_sorted.insert(0, 'Cluster Labels', kmeans.labels_)\n",
    "\n",
    "scc_merged = df\n",
    "\n",
    "scc_merged = scc_merged.join(city_venues_sorted.set_index('city/town'), on='city/town')\n",
    "\n",
    "scc_merged.head() "
   ]
  },
  {
   "cell_type": "code",
   "execution_count": null,
   "metadata": {},
   "outputs": [],
   "source": [
    "# Obtain coordinates for Santa Clara\n",
    "\n",
    "address = 'Santa Clara, California'\n",
    "\n",
    "geolocator = Nominatim(user_agent=\"http://nominatim.openstreetmap.org/reverse?email=jpander@gmail.com&format=xml&lat=-23.56320001&lon=-46.66140002&zoom=27&addressdetails=1\")\n",
    "location = geolocator.geocode(address)\n",
    "latitude = location.latitude\n",
    "longitude = location.longitude\n",
    "print('The geograpical coordinate of Central Toronto are {}, {}.'.format(latitude, longitude))"
   ]
  },
  {
   "cell_type": "code",
   "execution_count": null,
   "metadata": {},
   "outputs": [],
   "source": [
    "# create map\n",
    "map_clusters = folium.Map(location=[latitude, longitude], zoom_start=10)\n",
    "\n",
    "# set color scheme for the clusters\n",
    "x = np.arange(kclusters)\n",
    "ys = [i + x + (i*x)**2 for i in range(kclusters)]\n",
    "colors_array = cm.rainbow(np.linspace(0, 1, len(ys)))\n",
    "rainbow = [colors.rgb2hex(i) for i in colors_array]\n",
    "\n",
    "# add markers to the map\n",
    "markers_colors = []\n",
    "for lat, lon, poi, cluster in zip(scc_merged['latitude'], scc_merged['longitude'], scc_merged['city/town'], scc_merged['Cluster Labels']):\n",
    "    label = folium.Popup(str(poi) + ' Cluster ' + str(cluster), parse_html=True)\n",
    "    folium.CircleMarker(\n",
    "        [lat, lon],\n",
    "        radius=5,\n",
    "        popup=label,\n",
    "        color=rainbow, #rainbow[cluster-1],\n",
    "        fill=True,\n",
    "        fill_color=rainbow, #rainbow[cluster-1],\n",
    "        fill_opacity=0.7).add_to(map_clusters)\n",
    "       \n",
    "map_clusters"
   ]
  },
  {
   "cell_type": "markdown",
   "metadata": {},
   "source": [
    "#### Cluster 1"
   ]
  },
  {
   "cell_type": "code",
   "execution_count": null,
   "metadata": {},
   "outputs": [],
   "source": [
    "scc_merged.loc[scc_merged['Cluster Labels'] == 0, scc_merged.columns[[1] + list(range(5, scc_merged.shape[1]))]]"
   ]
  },
  {
   "cell_type": "markdown",
   "metadata": {},
   "source": [
    "#### Cluster 2"
   ]
  },
  {
   "cell_type": "code",
   "execution_count": null,
   "metadata": {},
   "outputs": [],
   "source": [
    "scc_merged.loc[scc_merged['Cluster Labels'] == 1, scc_merged.columns[[1] + list(range(5, scc_merged.shape[1]))]]"
   ]
  },
  {
   "cell_type": "markdown",
   "metadata": {},
   "source": [
    "#### Cluster 3"
   ]
  },
  {
   "cell_type": "code",
   "execution_count": null,
   "metadata": {},
   "outputs": [],
   "source": [
    "scc_merged.loc[scc_merged['Cluster Labels'] == 2, scc_merged.columns[[1] + list(range(5, scc_merged.shape[1]))]]"
   ]
  },
  {
   "cell_type": "markdown",
   "metadata": {},
   "source": [
    "#### Cluster 4"
   ]
  },
  {
   "cell_type": "code",
   "execution_count": null,
   "metadata": {},
   "outputs": [],
   "source": [
    "scc_merged.loc[scc_merged['Cluster Labels'] == 3, scc_merged.columns[[1] + list(range(5, scc_merged.shape[1]))]]"
   ]
  },
  {
   "cell_type": "markdown",
   "metadata": {},
   "source": [
    "#### Cluster 5"
   ]
  },
  {
   "cell_type": "code",
   "execution_count": null,
   "metadata": {},
   "outputs": [],
   "source": [
    "scc_merged.loc[scc_merged['Cluster Labels'] == 4, scc_merged.columns[[1] + list(range(5, scc_merged.shape[1]))]]"
   ]
  },
  {
   "cell_type": "code",
   "execution_count": null,
   "metadata": {},
   "outputs": [],
   "source": []
  },
  {
   "cell_type": "code",
   "execution_count": null,
   "metadata": {},
   "outputs": [],
   "source": []
  },
  {
   "cell_type": "code",
   "execution_count": null,
   "metadata": {},
   "outputs": [],
   "source": []
  }
 ],
 "metadata": {
  "kernelspec": {
   "display_name": "Python 3",
   "language": "python",
   "name": "python3"
  },
  "language_info": {
   "codemirror_mode": {
    "name": "ipython",
    "version": 3
   },
   "file_extension": ".py",
   "mimetype": "text/x-python",
   "name": "python",
   "nbconvert_exporter": "python",
   "pygments_lexer": "ipython3",
   "version": "3.7.6"
  }
 },
 "nbformat": 4,
 "nbformat_minor": 4
}
