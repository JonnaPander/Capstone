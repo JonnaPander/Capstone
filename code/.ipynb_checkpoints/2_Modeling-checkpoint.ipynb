{
 "cells": [
  {
   "cell_type": "code",
   "execution_count": 1,
   "metadata": {},
   "outputs": [],
   "source": [
    "# import libraries\n",
    "\n",
    "import pandas as pd \n",
    "import numpy as np \n",
    "import matplotlib.cm as cm\n",
    "import matplotlib.colors as colors\n",
    "import matplotlib.pyplot as plt\n",
    "import seaborn as sns\n",
    "\n",
    "from sklearn.cluster import KMeans\n",
    "from sklearn.preprocessing import StandardScaler, normalize, scale\n",
    "from sklearn.model_selection import train_test_split, cross_val_score, cross_val_predict\n",
    "from sklearn.linear_model import LinearRegression, LassoCV, RidgeCV\n",
    "from sklearn.decomposition import PCA\n",
    "from sklearn.metrics import mean_squared_error, r2_score\n",
    "\n",
    "import requests \n",
    "import time\n",
    "from bs4 import BeautifulSoup\n",
    "from urllib.request import urlopen\n",
    "import json # If reading in data from Json file\n",
    "from pandas.io.json import json_normalize # tranform JSON file into a pandas dataframe\n",
    "import folium # maps\n",
    "from geopy.geocoders import Nominatim # uses address to get lat/long\n",
    "\n",
    "from sklearn.metrics import jaccard_similarity_score\n",
    "from sklearn.metrics import f1_score\n",
    "from sklearn.metrics import log_loss\n",
    "\n",
    "# Installations\n",
    "#!conda install -c conda-forge geopy \n",
    "#!conda install -c conda-forge folium=0.5.0 "
   ]
  },
  {
   "cell_type": "code",
   "execution_count": 2,
   "metadata": {},
   "outputs": [
    {
     "data": {
      "text/html": [
       "<div>\n",
       "<style scoped>\n",
       "    .dataframe tbody tr th:only-of-type {\n",
       "        vertical-align: middle;\n",
       "    }\n",
       "\n",
       "    .dataframe tbody tr th {\n",
       "        vertical-align: top;\n",
       "    }\n",
       "\n",
       "    .dataframe thead th {\n",
       "        text-align: right;\n",
       "    }\n",
       "</style>\n",
       "<table border=\"1\" class=\"dataframe\">\n",
       "  <thead>\n",
       "    <tr style=\"text-align: right;\">\n",
       "      <th></th>\n",
       "      <th>neighborhood</th>\n",
       "      <th>latitude</th>\n",
       "      <th>longitude</th>\n",
       "      <th>venue_name</th>\n",
       "      <th>venue_latitude</th>\n",
       "      <th>venue_longitude</th>\n",
       "      <th>venue_type</th>\n",
       "    </tr>\n",
       "  </thead>\n",
       "  <tbody>\n",
       "    <tr>\n",
       "      <th>0</th>\n",
       "      <td>Anderson Mill</td>\n",
       "      <td>30.455834</td>\n",
       "      <td>-97.807096</td>\n",
       "      <td>Millrun Park</td>\n",
       "      <td>30.451548</td>\n",
       "      <td>-97.802975</td>\n",
       "      <td>Park</td>\n",
       "    </tr>\n",
       "    <tr>\n",
       "      <th>1</th>\n",
       "      <td>Anderson Mill</td>\n",
       "      <td>30.455834</td>\n",
       "      <td>-97.807096</td>\n",
       "      <td>Harper Park (in Anderson Mill)</td>\n",
       "      <td>30.457869</td>\n",
       "      <td>-97.811024</td>\n",
       "      <td>Park</td>\n",
       "    </tr>\n",
       "    <tr>\n",
       "      <th>2</th>\n",
       "      <td>Anderson Mill</td>\n",
       "      <td>30.455834</td>\n",
       "      <td>-97.807096</td>\n",
       "      <td>Freda's Seafood Grille</td>\n",
       "      <td>30.464196</td>\n",
       "      <td>-97.803776</td>\n",
       "      <td>Seafood Restaurant</td>\n",
       "    </tr>\n",
       "    <tr>\n",
       "      <th>3</th>\n",
       "      <td>Anderson Mill</td>\n",
       "      <td>30.455834</td>\n",
       "      <td>-97.807096</td>\n",
       "      <td>Interstellar Bbq</td>\n",
       "      <td>30.461178</td>\n",
       "      <td>-97.814930</td>\n",
       "      <td>BBQ Joint</td>\n",
       "    </tr>\n",
       "    <tr>\n",
       "      <th>4</th>\n",
       "      <td>Anderson Mill</td>\n",
       "      <td>30.455834</td>\n",
       "      <td>-97.807096</td>\n",
       "      <td>Punch Austin Kettlebell Gym</td>\n",
       "      <td>30.447413</td>\n",
       "      <td>-97.810296</td>\n",
       "      <td>Gym / Fitness Center</td>\n",
       "    </tr>\n",
       "  </tbody>\n",
       "</table>\n",
       "</div>"
      ],
      "text/plain": [
       "    neighborhood   latitude  longitude                      venue_name  \\\n",
       "0  Anderson Mill  30.455834 -97.807096                    Millrun Park   \n",
       "1  Anderson Mill  30.455834 -97.807096  Harper Park (in Anderson Mill)   \n",
       "2  Anderson Mill  30.455834 -97.807096          Freda's Seafood Grille   \n",
       "3  Anderson Mill  30.455834 -97.807096                Interstellar Bbq   \n",
       "4  Anderson Mill  30.455834 -97.807096     Punch Austin Kettlebell Gym   \n",
       "\n",
       "   venue_latitude  venue_longitude            venue_type  \n",
       "0       30.451548       -97.802975                  Park  \n",
       "1       30.457869       -97.811024                  Park  \n",
       "2       30.464196       -97.803776    Seafood Restaurant  \n",
       "3       30.461178       -97.814930             BBQ Joint  \n",
       "4       30.447413       -97.810296  Gym / Fitness Center  "
      ]
     },
     "execution_count": 2,
     "metadata": {},
     "output_type": "execute_result"
    }
   ],
   "source": [
    "# Read in dataframe\n",
    "\n",
    "venues_df = pd.read_csv('../data/venues_df.csv')\n",
    "venues_df.head()"
   ]
  },
  {
   "cell_type": "code",
   "execution_count": 3,
   "metadata": {},
   "outputs": [
    {
     "data": {
      "text/html": [
       "<div>\n",
       "<style scoped>\n",
       "    .dataframe tbody tr th:only-of-type {\n",
       "        vertical-align: middle;\n",
       "    }\n",
       "\n",
       "    .dataframe tbody tr th {\n",
       "        vertical-align: top;\n",
       "    }\n",
       "\n",
       "    .dataframe thead th {\n",
       "        text-align: right;\n",
       "    }\n",
       "</style>\n",
       "<table border=\"1\" class=\"dataframe\">\n",
       "  <thead>\n",
       "    <tr style=\"text-align: right;\">\n",
       "      <th></th>\n",
       "      <th>neighborhood</th>\n",
       "      <th>location</th>\n",
       "      <th>latitude</th>\n",
       "      <th>longitude</th>\n",
       "      <th>url_format</th>\n",
       "      <th>url</th>\n",
       "      <th>median_prices</th>\n",
       "      <th>avg_price_per_sqft</th>\n",
       "    </tr>\n",
       "  </thead>\n",
       "  <tbody>\n",
       "    <tr>\n",
       "      <th>0</th>\n",
       "      <td>Anderson Mill</td>\n",
       "      <td>Anderson Mill, Austin, Texas</td>\n",
       "      <td>30.455834</td>\n",
       "      <td>-97.807096</td>\n",
       "      <td>anderson-mill</td>\n",
       "      <td>https://www.neighborhoods.com/anderson-mill-au...</td>\n",
       "      <td>321495.0</td>\n",
       "      <td>194.0</td>\n",
       "    </tr>\n",
       "    <tr>\n",
       "      <th>1</th>\n",
       "      <td>Barton Hills</td>\n",
       "      <td>Barton Hills, Austin, Texas</td>\n",
       "      <td>30.251571</td>\n",
       "      <td>-97.784106</td>\n",
       "      <td>barton-hills</td>\n",
       "      <td>https://www.neighborhoods.com/barton-hills-aus...</td>\n",
       "      <td>667750.0</td>\n",
       "      <td>487.0</td>\n",
       "    </tr>\n",
       "    <tr>\n",
       "      <th>2</th>\n",
       "      <td>Bouldin Creek</td>\n",
       "      <td>Bouldin Creek, Austin, Texas</td>\n",
       "      <td>30.255667</td>\n",
       "      <td>-97.755481</td>\n",
       "      <td>bouldin-creek</td>\n",
       "      <td>https://www.neighborhoods.com/bouldin-creek-au...</td>\n",
       "      <td>725750.0</td>\n",
       "      <td>546.0</td>\n",
       "    </tr>\n",
       "    <tr>\n",
       "      <th>3</th>\n",
       "      <td>Brentwood</td>\n",
       "      <td>Brentwood, Austin, Texas</td>\n",
       "      <td>30.331264</td>\n",
       "      <td>-97.736465</td>\n",
       "      <td>brentwood</td>\n",
       "      <td>https://www.neighborhoods.com/brentwood-austin-tx</td>\n",
       "      <td>495250.0</td>\n",
       "      <td>370.0</td>\n",
       "    </tr>\n",
       "    <tr>\n",
       "      <th>4</th>\n",
       "      <td>Bryker Woods</td>\n",
       "      <td>Bryker Woods, Austin, Texas</td>\n",
       "      <td>30.305246</td>\n",
       "      <td>-97.754585</td>\n",
       "      <td>bryker-woods</td>\n",
       "      <td>https://www.neighborhoods.com/bryker-woods-aus...</td>\n",
       "      <td>795000.0</td>\n",
       "      <td>558.0</td>\n",
       "    </tr>\n",
       "  </tbody>\n",
       "</table>\n",
       "</div>"
      ],
      "text/plain": [
       "    neighborhood                      location   latitude  longitude  \\\n",
       "0  Anderson Mill  Anderson Mill, Austin, Texas  30.455834 -97.807096   \n",
       "1   Barton Hills   Barton Hills, Austin, Texas  30.251571 -97.784106   \n",
       "2  Bouldin Creek  Bouldin Creek, Austin, Texas  30.255667 -97.755481   \n",
       "3      Brentwood      Brentwood, Austin, Texas  30.331264 -97.736465   \n",
       "4   Bryker Woods   Bryker Woods, Austin, Texas  30.305246 -97.754585   \n",
       "\n",
       "      url_format                                                url  \\\n",
       "0  anderson-mill  https://www.neighborhoods.com/anderson-mill-au...   \n",
       "1   barton-hills  https://www.neighborhoods.com/barton-hills-aus...   \n",
       "2  bouldin-creek  https://www.neighborhoods.com/bouldin-creek-au...   \n",
       "3      brentwood  https://www.neighborhoods.com/brentwood-austin-tx   \n",
       "4   bryker-woods  https://www.neighborhoods.com/bryker-woods-aus...   \n",
       "\n",
       "   median_prices  avg_price_per_sqft  \n",
       "0       321495.0               194.0  \n",
       "1       667750.0               487.0  \n",
       "2       725750.0               546.0  \n",
       "3       495250.0               370.0  \n",
       "4       795000.0               558.0  "
      ]
     },
     "execution_count": 3,
     "metadata": {},
     "output_type": "execute_result"
    }
   ],
   "source": [
    "# Read in dataframe \n",
    "\n",
    "data_df = pd.read_csv('../data/data_df.csv')\n",
    "data_df.head()"
   ]
  },
  {
   "cell_type": "code",
   "execution_count": 4,
   "metadata": {},
   "outputs": [
    {
     "data": {
      "text/html": [
       "<div>\n",
       "<style scoped>\n",
       "    .dataframe tbody tr th:only-of-type {\n",
       "        vertical-align: middle;\n",
       "    }\n",
       "\n",
       "    .dataframe tbody tr th {\n",
       "        vertical-align: top;\n",
       "    }\n",
       "\n",
       "    .dataframe thead th {\n",
       "        text-align: right;\n",
       "    }\n",
       "</style>\n",
       "<table border=\"1\" class=\"dataframe\">\n",
       "  <thead>\n",
       "    <tr style=\"text-align: right;\">\n",
       "      <th></th>\n",
       "      <th>latitude</th>\n",
       "      <th>longitude</th>\n",
       "      <th>median_prices</th>\n",
       "      <th>avg_price_per_sqft</th>\n",
       "    </tr>\n",
       "  </thead>\n",
       "  <tbody>\n",
       "    <tr>\n",
       "      <th>count</th>\n",
       "      <td>37.000000</td>\n",
       "      <td>37.000000</td>\n",
       "      <td>3.700000e+01</td>\n",
       "      <td>37.000000</td>\n",
       "    </tr>\n",
       "    <tr>\n",
       "      <th>mean</th>\n",
       "      <td>30.280944</td>\n",
       "      <td>-97.761416</td>\n",
       "      <td>5.201839e+05</td>\n",
       "      <td>381.972973</td>\n",
       "    </tr>\n",
       "    <tr>\n",
       "      <th>std</th>\n",
       "      <td>0.071470</td>\n",
       "      <td>0.054907</td>\n",
       "      <td>2.028412e+05</td>\n",
       "      <td>149.404835</td>\n",
       "    </tr>\n",
       "    <tr>\n",
       "      <th>min</th>\n",
       "      <td>30.140056</td>\n",
       "      <td>-97.899507</td>\n",
       "      <td>1.700000e+05</td>\n",
       "      <td>164.000000</td>\n",
       "    </tr>\n",
       "    <tr>\n",
       "      <th>25%</th>\n",
       "      <td>30.236389</td>\n",
       "      <td>-97.781803</td>\n",
       "      <td>3.822500e+05</td>\n",
       "      <td>232.000000</td>\n",
       "    </tr>\n",
       "    <tr>\n",
       "      <th>50%</th>\n",
       "      <td>30.268054</td>\n",
       "      <td>-97.750460</td>\n",
       "      <td>4.964000e+05</td>\n",
       "      <td>386.000000</td>\n",
       "    </tr>\n",
       "    <tr>\n",
       "      <th>75%</th>\n",
       "      <td>30.313390</td>\n",
       "      <td>-97.731707</td>\n",
       "      <td>6.750000e+05</td>\n",
       "      <td>499.000000</td>\n",
       "    </tr>\n",
       "    <tr>\n",
       "      <th>max</th>\n",
       "      <td>30.455834</td>\n",
       "      <td>-97.659055</td>\n",
       "      <td>1.002500e+06</td>\n",
       "      <td>745.000000</td>\n",
       "    </tr>\n",
       "  </tbody>\n",
       "</table>\n",
       "</div>"
      ],
      "text/plain": [
       "        latitude  longitude  median_prices  avg_price_per_sqft\n",
       "count  37.000000  37.000000   3.700000e+01           37.000000\n",
       "mean   30.280944 -97.761416   5.201839e+05          381.972973\n",
       "std     0.071470   0.054907   2.028412e+05          149.404835\n",
       "min    30.140056 -97.899507   1.700000e+05          164.000000\n",
       "25%    30.236389 -97.781803   3.822500e+05          232.000000\n",
       "50%    30.268054 -97.750460   4.964000e+05          386.000000\n",
       "75%    30.313390 -97.731707   6.750000e+05          499.000000\n",
       "max    30.455834 -97.659055   1.002500e+06          745.000000"
      ]
     },
     "execution_count": 4,
     "metadata": {},
     "output_type": "execute_result"
    }
   ],
   "source": [
    "data_df.describe()"
   ]
  },
  {
   "cell_type": "code",
   "execution_count": 5,
   "metadata": {},
   "outputs": [
    {
     "data": {
      "text/plain": [
       "37"
      ]
     },
     "execution_count": 5,
     "metadata": {},
     "output_type": "execute_result"
    }
   ],
   "source": [
    "data_df.shape[0]"
   ]
  },
  {
   "cell_type": "code",
   "execution_count": 6,
   "metadata": {},
   "outputs": [],
   "source": [
    "price_groups = []\n",
    "\n",
    "for price in data_df['avg_price_per_sqft']:\n",
    "    if price >= 0 and price < 400:\n",
    "        group = 0\n",
    "        price_groups.append(group)\n",
    "    else:\n",
    "        group = 1\n",
    "        price_groups.append(group)"
   ]
  },
  {
   "cell_type": "code",
   "execution_count": 9,
   "metadata": {},
   "outputs": [],
   "source": [
    "# Add price groups to dataframe\n",
    "data_df['price_group'] = price_groups"
   ]
  },
  {
   "cell_type": "code",
   "execution_count": 10,
   "metadata": {},
   "outputs": [
    {
     "data": {
      "text/html": [
       "<div>\n",
       "<style scoped>\n",
       "    .dataframe tbody tr th:only-of-type {\n",
       "        vertical-align: middle;\n",
       "    }\n",
       "\n",
       "    .dataframe tbody tr th {\n",
       "        vertical-align: top;\n",
       "    }\n",
       "\n",
       "    .dataframe thead th {\n",
       "        text-align: right;\n",
       "    }\n",
       "</style>\n",
       "<table border=\"1\" class=\"dataframe\">\n",
       "  <thead>\n",
       "    <tr style=\"text-align: right;\">\n",
       "      <th></th>\n",
       "      <th>neighborhood</th>\n",
       "      <th>location</th>\n",
       "      <th>latitude</th>\n",
       "      <th>longitude</th>\n",
       "      <th>url_format</th>\n",
       "      <th>url</th>\n",
       "      <th>median_prices</th>\n",
       "      <th>avg_price_per_sqft</th>\n",
       "      <th>price_group</th>\n",
       "    </tr>\n",
       "  </thead>\n",
       "  <tbody>\n",
       "    <tr>\n",
       "      <th>0</th>\n",
       "      <td>Anderson Mill</td>\n",
       "      <td>Anderson Mill, Austin, Texas</td>\n",
       "      <td>30.455834</td>\n",
       "      <td>-97.807096</td>\n",
       "      <td>anderson-mill</td>\n",
       "      <td>https://www.neighborhoods.com/anderson-mill-au...</td>\n",
       "      <td>321495.0</td>\n",
       "      <td>194.0</td>\n",
       "      <td>0</td>\n",
       "    </tr>\n",
       "    <tr>\n",
       "      <th>1</th>\n",
       "      <td>Barton Hills</td>\n",
       "      <td>Barton Hills, Austin, Texas</td>\n",
       "      <td>30.251571</td>\n",
       "      <td>-97.784106</td>\n",
       "      <td>barton-hills</td>\n",
       "      <td>https://www.neighborhoods.com/barton-hills-aus...</td>\n",
       "      <td>667750.0</td>\n",
       "      <td>487.0</td>\n",
       "      <td>1</td>\n",
       "    </tr>\n",
       "    <tr>\n",
       "      <th>2</th>\n",
       "      <td>Bouldin Creek</td>\n",
       "      <td>Bouldin Creek, Austin, Texas</td>\n",
       "      <td>30.255667</td>\n",
       "      <td>-97.755481</td>\n",
       "      <td>bouldin-creek</td>\n",
       "      <td>https://www.neighborhoods.com/bouldin-creek-au...</td>\n",
       "      <td>725750.0</td>\n",
       "      <td>546.0</td>\n",
       "      <td>1</td>\n",
       "    </tr>\n",
       "    <tr>\n",
       "      <th>3</th>\n",
       "      <td>Brentwood</td>\n",
       "      <td>Brentwood, Austin, Texas</td>\n",
       "      <td>30.331264</td>\n",
       "      <td>-97.736465</td>\n",
       "      <td>brentwood</td>\n",
       "      <td>https://www.neighborhoods.com/brentwood-austin-tx</td>\n",
       "      <td>495250.0</td>\n",
       "      <td>370.0</td>\n",
       "      <td>0</td>\n",
       "    </tr>\n",
       "    <tr>\n",
       "      <th>4</th>\n",
       "      <td>Bryker Woods</td>\n",
       "      <td>Bryker Woods, Austin, Texas</td>\n",
       "      <td>30.305246</td>\n",
       "      <td>-97.754585</td>\n",
       "      <td>bryker-woods</td>\n",
       "      <td>https://www.neighborhoods.com/bryker-woods-aus...</td>\n",
       "      <td>795000.0</td>\n",
       "      <td>558.0</td>\n",
       "      <td>1</td>\n",
       "    </tr>\n",
       "  </tbody>\n",
       "</table>\n",
       "</div>"
      ],
      "text/plain": [
       "    neighborhood                      location   latitude  longitude  \\\n",
       "0  Anderson Mill  Anderson Mill, Austin, Texas  30.455834 -97.807096   \n",
       "1   Barton Hills   Barton Hills, Austin, Texas  30.251571 -97.784106   \n",
       "2  Bouldin Creek  Bouldin Creek, Austin, Texas  30.255667 -97.755481   \n",
       "3      Brentwood      Brentwood, Austin, Texas  30.331264 -97.736465   \n",
       "4   Bryker Woods   Bryker Woods, Austin, Texas  30.305246 -97.754585   \n",
       "\n",
       "      url_format                                                url  \\\n",
       "0  anderson-mill  https://www.neighborhoods.com/anderson-mill-au...   \n",
       "1   barton-hills  https://www.neighborhoods.com/barton-hills-aus...   \n",
       "2  bouldin-creek  https://www.neighborhoods.com/bouldin-creek-au...   \n",
       "3      brentwood  https://www.neighborhoods.com/brentwood-austin-tx   \n",
       "4   bryker-woods  https://www.neighborhoods.com/bryker-woods-aus...   \n",
       "\n",
       "   median_prices  avg_price_per_sqft  price_group  \n",
       "0       321495.0               194.0            0  \n",
       "1       667750.0               487.0            1  \n",
       "2       725750.0               546.0            1  \n",
       "3       495250.0               370.0            0  \n",
       "4       795000.0               558.0            1  "
      ]
     },
     "execution_count": 10,
     "metadata": {},
     "output_type": "execute_result"
    }
   ],
   "source": [
    "data_df.head()"
   ]
  },
  {
   "cell_type": "code",
   "execution_count": 11,
   "metadata": {},
   "outputs": [
    {
     "data": {
      "text/plain": [
       "0    19\n",
       "1    18\n",
       "Name: price_group, dtype: int64"
      ]
     },
     "execution_count": 11,
     "metadata": {},
     "output_type": "execute_result"
    }
   ],
   "source": [
    "# View value counts distribution\n",
    "\n",
    "data_df['price_group'].value_counts()"
   ]
  },
  {
   "cell_type": "code",
   "execution_count": 13,
   "metadata": {},
   "outputs": [
    {
     "data": {
      "text/plain": [
       "37"
      ]
     },
     "execution_count": 13,
     "metadata": {},
     "output_type": "execute_result"
    }
   ],
   "source": [
    "# Confirm number of remaining neighborhoods\n",
    "\n",
    "len(venues_df['neighborhood'].unique())"
   ]
  },
  {
   "cell_type": "code",
   "execution_count": 14,
   "metadata": {},
   "outputs": [
    {
     "data": {
      "text/html": [
       "<div>\n",
       "<style scoped>\n",
       "    .dataframe tbody tr th:only-of-type {\n",
       "        vertical-align: middle;\n",
       "    }\n",
       "\n",
       "    .dataframe tbody tr th {\n",
       "        vertical-align: top;\n",
       "    }\n",
       "\n",
       "    .dataframe thead th {\n",
       "        text-align: right;\n",
       "    }\n",
       "</style>\n",
       "<table border=\"1\" class=\"dataframe\">\n",
       "  <thead>\n",
       "    <tr style=\"text-align: right;\">\n",
       "      <th></th>\n",
       "      <th>neighborhood</th>\n",
       "      <th>latitude</th>\n",
       "      <th>longitude</th>\n",
       "      <th>venue_name</th>\n",
       "      <th>venue_latitude</th>\n",
       "      <th>venue_longitude</th>\n",
       "      <th>venue_type</th>\n",
       "    </tr>\n",
       "  </thead>\n",
       "  <tbody>\n",
       "    <tr>\n",
       "      <th>0</th>\n",
       "      <td>Anderson Mill</td>\n",
       "      <td>30.455834</td>\n",
       "      <td>-97.807096</td>\n",
       "      <td>Millrun Park</td>\n",
       "      <td>30.451548</td>\n",
       "      <td>-97.802975</td>\n",
       "      <td>Park</td>\n",
       "    </tr>\n",
       "    <tr>\n",
       "      <th>1</th>\n",
       "      <td>Anderson Mill</td>\n",
       "      <td>30.455834</td>\n",
       "      <td>-97.807096</td>\n",
       "      <td>Harper Park (in Anderson Mill)</td>\n",
       "      <td>30.457869</td>\n",
       "      <td>-97.811024</td>\n",
       "      <td>Park</td>\n",
       "    </tr>\n",
       "    <tr>\n",
       "      <th>2</th>\n",
       "      <td>Anderson Mill</td>\n",
       "      <td>30.455834</td>\n",
       "      <td>-97.807096</td>\n",
       "      <td>Freda's Seafood Grille</td>\n",
       "      <td>30.464196</td>\n",
       "      <td>-97.803776</td>\n",
       "      <td>Seafood Restaurant</td>\n",
       "    </tr>\n",
       "    <tr>\n",
       "      <th>3</th>\n",
       "      <td>Anderson Mill</td>\n",
       "      <td>30.455834</td>\n",
       "      <td>-97.807096</td>\n",
       "      <td>Interstellar Bbq</td>\n",
       "      <td>30.461178</td>\n",
       "      <td>-97.814930</td>\n",
       "      <td>BBQ Joint</td>\n",
       "    </tr>\n",
       "    <tr>\n",
       "      <th>4</th>\n",
       "      <td>Anderson Mill</td>\n",
       "      <td>30.455834</td>\n",
       "      <td>-97.807096</td>\n",
       "      <td>Punch Austin Kettlebell Gym</td>\n",
       "      <td>30.447413</td>\n",
       "      <td>-97.810296</td>\n",
       "      <td>Gym / Fitness Center</td>\n",
       "    </tr>\n",
       "  </tbody>\n",
       "</table>\n",
       "</div>"
      ],
      "text/plain": [
       "    neighborhood   latitude  longitude                      venue_name  \\\n",
       "0  Anderson Mill  30.455834 -97.807096                    Millrun Park   \n",
       "1  Anderson Mill  30.455834 -97.807096  Harper Park (in Anderson Mill)   \n",
       "2  Anderson Mill  30.455834 -97.807096          Freda's Seafood Grille   \n",
       "3  Anderson Mill  30.455834 -97.807096                Interstellar Bbq   \n",
       "4  Anderson Mill  30.455834 -97.807096     Punch Austin Kettlebell Gym   \n",
       "\n",
       "   venue_latitude  venue_longitude            venue_type  \n",
       "0       30.451548       -97.802975                  Park  \n",
       "1       30.457869       -97.811024                  Park  \n",
       "2       30.464196       -97.803776    Seafood Restaurant  \n",
       "3       30.461178       -97.814930             BBQ Joint  \n",
       "4       30.447413       -97.810296  Gym / Fitness Center  "
      ]
     },
     "execution_count": 14,
     "metadata": {},
     "output_type": "execute_result"
    }
   ],
   "source": [
    "# Preview\n",
    "venues_df.head()"
   ]
  },
  {
   "cell_type": "code",
   "execution_count": 15,
   "metadata": {},
   "outputs": [
    {
     "data": {
      "text/html": [
       "<div>\n",
       "<style scoped>\n",
       "    .dataframe tbody tr th:only-of-type {\n",
       "        vertical-align: middle;\n",
       "    }\n",
       "\n",
       "    .dataframe tbody tr th {\n",
       "        vertical-align: top;\n",
       "    }\n",
       "\n",
       "    .dataframe thead th {\n",
       "        text-align: right;\n",
       "    }\n",
       "</style>\n",
       "<table border=\"1\" class=\"dataframe\">\n",
       "  <thead>\n",
       "    <tr style=\"text-align: right;\">\n",
       "      <th></th>\n",
       "      <th>neighborhood</th>\n",
       "      <th>venue_type</th>\n",
       "    </tr>\n",
       "  </thead>\n",
       "  <tbody>\n",
       "    <tr>\n",
       "      <th>0</th>\n",
       "      <td>Anderson Mill</td>\n",
       "      <td>Park</td>\n",
       "    </tr>\n",
       "    <tr>\n",
       "      <th>1</th>\n",
       "      <td>Anderson Mill</td>\n",
       "      <td>Park</td>\n",
       "    </tr>\n",
       "    <tr>\n",
       "      <th>2</th>\n",
       "      <td>Anderson Mill</td>\n",
       "      <td>Seafood Restaurant</td>\n",
       "    </tr>\n",
       "    <tr>\n",
       "      <th>3</th>\n",
       "      <td>Anderson Mill</td>\n",
       "      <td>BBQ Joint</td>\n",
       "    </tr>\n",
       "    <tr>\n",
       "      <th>4</th>\n",
       "      <td>Anderson Mill</td>\n",
       "      <td>Gym / Fitness Center</td>\n",
       "    </tr>\n",
       "  </tbody>\n",
       "</table>\n",
       "</div>"
      ],
      "text/plain": [
       "    neighborhood            venue_type\n",
       "0  Anderson Mill                  Park\n",
       "1  Anderson Mill                  Park\n",
       "2  Anderson Mill    Seafood Restaurant\n",
       "3  Anderson Mill             BBQ Joint\n",
       "4  Anderson Mill  Gym / Fitness Center"
      ]
     },
     "execution_count": 15,
     "metadata": {},
     "output_type": "execute_result"
    }
   ],
   "source": [
    "# drop unncessary columns\n",
    "\n",
    "venues_df.drop(columns=['latitude', 'longitude', 'venue_name', 'venue_latitude', 'venue_longitude'], inplace=True)\n",
    "venues_df.head()"
   ]
  },
  {
   "cell_type": "code",
   "execution_count": 16,
   "metadata": {},
   "outputs": [
    {
     "data": {
      "text/html": [
       "<div>\n",
       "<style scoped>\n",
       "    .dataframe tbody tr th:only-of-type {\n",
       "        vertical-align: middle;\n",
       "    }\n",
       "\n",
       "    .dataframe tbody tr th {\n",
       "        vertical-align: top;\n",
       "    }\n",
       "\n",
       "    .dataframe thead th {\n",
       "        text-align: right;\n",
       "    }\n",
       "</style>\n",
       "<table border=\"1\" class=\"dataframe\">\n",
       "  <thead>\n",
       "    <tr style=\"text-align: right;\">\n",
       "      <th></th>\n",
       "      <th>venue_type</th>\n",
       "    </tr>\n",
       "    <tr>\n",
       "      <th>neighborhood</th>\n",
       "      <th></th>\n",
       "    </tr>\n",
       "  </thead>\n",
       "  <tbody>\n",
       "    <tr>\n",
       "      <th>Anderson Mill</th>\n",
       "      <td>19</td>\n",
       "    </tr>\n",
       "    <tr>\n",
       "      <th>Barton Hills</th>\n",
       "      <td>30</td>\n",
       "    </tr>\n",
       "    <tr>\n",
       "      <th>Bouldin Creek</th>\n",
       "      <td>100</td>\n",
       "    </tr>\n",
       "    <tr>\n",
       "      <th>Brentwood</th>\n",
       "      <td>57</td>\n",
       "    </tr>\n",
       "    <tr>\n",
       "      <th>Bryker Woods</th>\n",
       "      <td>45</td>\n",
       "    </tr>\n",
       "  </tbody>\n",
       "</table>\n",
       "</div>"
      ],
      "text/plain": [
       "               venue_type\n",
       "neighborhood             \n",
       "Anderson Mill          19\n",
       "Barton Hills           30\n",
       "Bouldin Creek         100\n",
       "Brentwood              57\n",
       "Bryker Woods           45"
      ]
     },
     "execution_count": 16,
     "metadata": {},
     "output_type": "execute_result"
    }
   ],
   "source": [
    "# Count of venues per neighborhood\n",
    "\n",
    "venues_df.groupby('neighborhood').count().head()"
   ]
  },
  {
   "cell_type": "code",
   "execution_count": 17,
   "metadata": {},
   "outputs": [],
   "source": [
    "# Dummify venue types\n",
    "\n",
    "df_onehot = pd.get_dummies(venues_df[['venue_type']], prefix='', prefix_sep='')\n",
    "\n",
    "# Add neighborhoods to df\n",
    "df_onehot['neighborhood'] = venues_df['neighborhood'] \n",
    "\n",
    "# move neighborhood column to the first column\n",
    "fixed_columns = [df_onehot.columns[-1]] + list(df_onehot.columns[:-1])\n",
    "df_onehot = df_onehot[fixed_columns]"
   ]
  },
  {
   "cell_type": "code",
   "execution_count": 18,
   "metadata": {},
   "outputs": [
    {
     "data": {
      "text/html": [
       "<div>\n",
       "<style scoped>\n",
       "    .dataframe tbody tr th:only-of-type {\n",
       "        vertical-align: middle;\n",
       "    }\n",
       "\n",
       "    .dataframe tbody tr th {\n",
       "        vertical-align: top;\n",
       "    }\n",
       "\n",
       "    .dataframe thead th {\n",
       "        text-align: right;\n",
       "    }\n",
       "</style>\n",
       "<table border=\"1\" class=\"dataframe\">\n",
       "  <thead>\n",
       "    <tr style=\"text-align: right;\">\n",
       "      <th></th>\n",
       "      <th>neighborhood</th>\n",
       "      <th>ATM</th>\n",
       "      <th>Accessories Store</th>\n",
       "      <th>Adult Boutique</th>\n",
       "      <th>African Restaurant</th>\n",
       "      <th>American Restaurant</th>\n",
       "      <th>Antique Shop</th>\n",
       "      <th>Argentinian Restaurant</th>\n",
       "      <th>Art Gallery</th>\n",
       "      <th>Art Museum</th>\n",
       "      <th>...</th>\n",
       "      <th>Veterinarian</th>\n",
       "      <th>Video Game Store</th>\n",
       "      <th>Video Store</th>\n",
       "      <th>Vietnamese Restaurant</th>\n",
       "      <th>Whisky Bar</th>\n",
       "      <th>Wine Bar</th>\n",
       "      <th>Winery</th>\n",
       "      <th>Wings Joint</th>\n",
       "      <th>Women's Store</th>\n",
       "      <th>Yoga Studio</th>\n",
       "    </tr>\n",
       "  </thead>\n",
       "  <tbody>\n",
       "    <tr>\n",
       "      <th>0</th>\n",
       "      <td>Anderson Mill</td>\n",
       "      <td>0</td>\n",
       "      <td>0</td>\n",
       "      <td>0</td>\n",
       "      <td>0</td>\n",
       "      <td>0</td>\n",
       "      <td>0</td>\n",
       "      <td>0</td>\n",
       "      <td>0</td>\n",
       "      <td>0</td>\n",
       "      <td>...</td>\n",
       "      <td>0</td>\n",
       "      <td>0</td>\n",
       "      <td>0</td>\n",
       "      <td>0</td>\n",
       "      <td>0</td>\n",
       "      <td>0</td>\n",
       "      <td>0</td>\n",
       "      <td>0</td>\n",
       "      <td>0</td>\n",
       "      <td>0</td>\n",
       "    </tr>\n",
       "    <tr>\n",
       "      <th>1</th>\n",
       "      <td>Anderson Mill</td>\n",
       "      <td>0</td>\n",
       "      <td>0</td>\n",
       "      <td>0</td>\n",
       "      <td>0</td>\n",
       "      <td>0</td>\n",
       "      <td>0</td>\n",
       "      <td>0</td>\n",
       "      <td>0</td>\n",
       "      <td>0</td>\n",
       "      <td>...</td>\n",
       "      <td>0</td>\n",
       "      <td>0</td>\n",
       "      <td>0</td>\n",
       "      <td>0</td>\n",
       "      <td>0</td>\n",
       "      <td>0</td>\n",
       "      <td>0</td>\n",
       "      <td>0</td>\n",
       "      <td>0</td>\n",
       "      <td>0</td>\n",
       "    </tr>\n",
       "    <tr>\n",
       "      <th>2</th>\n",
       "      <td>Anderson Mill</td>\n",
       "      <td>0</td>\n",
       "      <td>0</td>\n",
       "      <td>0</td>\n",
       "      <td>0</td>\n",
       "      <td>0</td>\n",
       "      <td>0</td>\n",
       "      <td>0</td>\n",
       "      <td>0</td>\n",
       "      <td>0</td>\n",
       "      <td>...</td>\n",
       "      <td>0</td>\n",
       "      <td>0</td>\n",
       "      <td>0</td>\n",
       "      <td>0</td>\n",
       "      <td>0</td>\n",
       "      <td>0</td>\n",
       "      <td>0</td>\n",
       "      <td>0</td>\n",
       "      <td>0</td>\n",
       "      <td>0</td>\n",
       "    </tr>\n",
       "    <tr>\n",
       "      <th>3</th>\n",
       "      <td>Anderson Mill</td>\n",
       "      <td>0</td>\n",
       "      <td>0</td>\n",
       "      <td>0</td>\n",
       "      <td>0</td>\n",
       "      <td>0</td>\n",
       "      <td>0</td>\n",
       "      <td>0</td>\n",
       "      <td>0</td>\n",
       "      <td>0</td>\n",
       "      <td>...</td>\n",
       "      <td>0</td>\n",
       "      <td>0</td>\n",
       "      <td>0</td>\n",
       "      <td>0</td>\n",
       "      <td>0</td>\n",
       "      <td>0</td>\n",
       "      <td>0</td>\n",
       "      <td>0</td>\n",
       "      <td>0</td>\n",
       "      <td>0</td>\n",
       "    </tr>\n",
       "    <tr>\n",
       "      <th>4</th>\n",
       "      <td>Anderson Mill</td>\n",
       "      <td>0</td>\n",
       "      <td>0</td>\n",
       "      <td>0</td>\n",
       "      <td>0</td>\n",
       "      <td>0</td>\n",
       "      <td>0</td>\n",
       "      <td>0</td>\n",
       "      <td>0</td>\n",
       "      <td>0</td>\n",
       "      <td>...</td>\n",
       "      <td>0</td>\n",
       "      <td>0</td>\n",
       "      <td>0</td>\n",
       "      <td>0</td>\n",
       "      <td>0</td>\n",
       "      <td>0</td>\n",
       "      <td>0</td>\n",
       "      <td>0</td>\n",
       "      <td>0</td>\n",
       "      <td>0</td>\n",
       "    </tr>\n",
       "  </tbody>\n",
       "</table>\n",
       "<p>5 rows × 264 columns</p>\n",
       "</div>"
      ],
      "text/plain": [
       "    neighborhood  ATM  Accessories Store  Adult Boutique  African Restaurant  \\\n",
       "0  Anderson Mill    0                  0               0                   0   \n",
       "1  Anderson Mill    0                  0               0                   0   \n",
       "2  Anderson Mill    0                  0               0                   0   \n",
       "3  Anderson Mill    0                  0               0                   0   \n",
       "4  Anderson Mill    0                  0               0                   0   \n",
       "\n",
       "   American Restaurant  Antique Shop  Argentinian Restaurant  Art Gallery  \\\n",
       "0                    0             0                       0            0   \n",
       "1                    0             0                       0            0   \n",
       "2                    0             0                       0            0   \n",
       "3                    0             0                       0            0   \n",
       "4                    0             0                       0            0   \n",
       "\n",
       "   Art Museum  ...  Veterinarian  Video Game Store  Video Store  \\\n",
       "0           0  ...             0                 0            0   \n",
       "1           0  ...             0                 0            0   \n",
       "2           0  ...             0                 0            0   \n",
       "3           0  ...             0                 0            0   \n",
       "4           0  ...             0                 0            0   \n",
       "\n",
       "   Vietnamese Restaurant  Whisky Bar  Wine Bar  Winery  Wings Joint  \\\n",
       "0                      0           0         0       0            0   \n",
       "1                      0           0         0       0            0   \n",
       "2                      0           0         0       0            0   \n",
       "3                      0           0         0       0            0   \n",
       "4                      0           0         0       0            0   \n",
       "\n",
       "   Women's Store  Yoga Studio  \n",
       "0              0            0  \n",
       "1              0            0  \n",
       "2              0            0  \n",
       "3              0            0  \n",
       "4              0            0  \n",
       "\n",
       "[5 rows x 264 columns]"
      ]
     },
     "execution_count": 18,
     "metadata": {},
     "output_type": "execute_result"
    }
   ],
   "source": [
    "# Preview\n",
    "\n",
    "df_onehot.head()"
   ]
  },
  {
   "cell_type": "code",
   "execution_count": 19,
   "metadata": {},
   "outputs": [
    {
     "data": {
      "text/plain": [
       "(1869, 264)"
      ]
     },
     "execution_count": 19,
     "metadata": {},
     "output_type": "execute_result"
    }
   ],
   "source": [
    "# Check new shape\n",
    "\n",
    "df_onehot.shape"
   ]
  },
  {
   "cell_type": "code",
   "execution_count": 20,
   "metadata": {},
   "outputs": [],
   "source": [
    "# Group venue type count by neighborhood\n",
    "\n",
    "df_grouped = df_onehot.groupby('neighborhood').sum().reset_index() "
   ]
  },
  {
   "cell_type": "code",
   "execution_count": 21,
   "metadata": {},
   "outputs": [
    {
     "data": {
      "text/html": [
       "<div>\n",
       "<style scoped>\n",
       "    .dataframe tbody tr th:only-of-type {\n",
       "        vertical-align: middle;\n",
       "    }\n",
       "\n",
       "    .dataframe tbody tr th {\n",
       "        vertical-align: top;\n",
       "    }\n",
       "\n",
       "    .dataframe thead th {\n",
       "        text-align: right;\n",
       "    }\n",
       "</style>\n",
       "<table border=\"1\" class=\"dataframe\">\n",
       "  <thead>\n",
       "    <tr style=\"text-align: right;\">\n",
       "      <th></th>\n",
       "      <th>neighborhood</th>\n",
       "      <th>ATM</th>\n",
       "      <th>Accessories Store</th>\n",
       "      <th>Adult Boutique</th>\n",
       "      <th>African Restaurant</th>\n",
       "      <th>American Restaurant</th>\n",
       "      <th>Antique Shop</th>\n",
       "      <th>Argentinian Restaurant</th>\n",
       "      <th>Art Gallery</th>\n",
       "      <th>Art Museum</th>\n",
       "      <th>...</th>\n",
       "      <th>Veterinarian</th>\n",
       "      <th>Video Game Store</th>\n",
       "      <th>Video Store</th>\n",
       "      <th>Vietnamese Restaurant</th>\n",
       "      <th>Whisky Bar</th>\n",
       "      <th>Wine Bar</th>\n",
       "      <th>Winery</th>\n",
       "      <th>Wings Joint</th>\n",
       "      <th>Women's Store</th>\n",
       "      <th>Yoga Studio</th>\n",
       "    </tr>\n",
       "  </thead>\n",
       "  <tbody>\n",
       "    <tr>\n",
       "      <th>0</th>\n",
       "      <td>Anderson Mill</td>\n",
       "      <td>0</td>\n",
       "      <td>0</td>\n",
       "      <td>0</td>\n",
       "      <td>0</td>\n",
       "      <td>0</td>\n",
       "      <td>0</td>\n",
       "      <td>0</td>\n",
       "      <td>0</td>\n",
       "      <td>0</td>\n",
       "      <td>...</td>\n",
       "      <td>0</td>\n",
       "      <td>0</td>\n",
       "      <td>0</td>\n",
       "      <td>0</td>\n",
       "      <td>0</td>\n",
       "      <td>0</td>\n",
       "      <td>0</td>\n",
       "      <td>0</td>\n",
       "      <td>0</td>\n",
       "      <td>0</td>\n",
       "    </tr>\n",
       "    <tr>\n",
       "      <th>1</th>\n",
       "      <td>Barton Hills</td>\n",
       "      <td>0</td>\n",
       "      <td>0</td>\n",
       "      <td>0</td>\n",
       "      <td>0</td>\n",
       "      <td>0</td>\n",
       "      <td>0</td>\n",
       "      <td>0</td>\n",
       "      <td>0</td>\n",
       "      <td>0</td>\n",
       "      <td>...</td>\n",
       "      <td>0</td>\n",
       "      <td>0</td>\n",
       "      <td>1</td>\n",
       "      <td>0</td>\n",
       "      <td>0</td>\n",
       "      <td>0</td>\n",
       "      <td>0</td>\n",
       "      <td>0</td>\n",
       "      <td>0</td>\n",
       "      <td>1</td>\n",
       "    </tr>\n",
       "    <tr>\n",
       "      <th>2</th>\n",
       "      <td>Bouldin Creek</td>\n",
       "      <td>0</td>\n",
       "      <td>0</td>\n",
       "      <td>0</td>\n",
       "      <td>0</td>\n",
       "      <td>0</td>\n",
       "      <td>0</td>\n",
       "      <td>0</td>\n",
       "      <td>0</td>\n",
       "      <td>0</td>\n",
       "      <td>...</td>\n",
       "      <td>0</td>\n",
       "      <td>0</td>\n",
       "      <td>0</td>\n",
       "      <td>1</td>\n",
       "      <td>0</td>\n",
       "      <td>1</td>\n",
       "      <td>0</td>\n",
       "      <td>0</td>\n",
       "      <td>0</td>\n",
       "      <td>1</td>\n",
       "    </tr>\n",
       "    <tr>\n",
       "      <th>3</th>\n",
       "      <td>Brentwood</td>\n",
       "      <td>0</td>\n",
       "      <td>0</td>\n",
       "      <td>0</td>\n",
       "      <td>0</td>\n",
       "      <td>1</td>\n",
       "      <td>1</td>\n",
       "      <td>0</td>\n",
       "      <td>0</td>\n",
       "      <td>0</td>\n",
       "      <td>...</td>\n",
       "      <td>0</td>\n",
       "      <td>0</td>\n",
       "      <td>1</td>\n",
       "      <td>0</td>\n",
       "      <td>0</td>\n",
       "      <td>0</td>\n",
       "      <td>0</td>\n",
       "      <td>0</td>\n",
       "      <td>0</td>\n",
       "      <td>1</td>\n",
       "    </tr>\n",
       "    <tr>\n",
       "      <th>4</th>\n",
       "      <td>Bryker Woods</td>\n",
       "      <td>0</td>\n",
       "      <td>0</td>\n",
       "      <td>0</td>\n",
       "      <td>0</td>\n",
       "      <td>4</td>\n",
       "      <td>0</td>\n",
       "      <td>0</td>\n",
       "      <td>0</td>\n",
       "      <td>0</td>\n",
       "      <td>...</td>\n",
       "      <td>1</td>\n",
       "      <td>0</td>\n",
       "      <td>0</td>\n",
       "      <td>0</td>\n",
       "      <td>0</td>\n",
       "      <td>0</td>\n",
       "      <td>0</td>\n",
       "      <td>0</td>\n",
       "      <td>0</td>\n",
       "      <td>0</td>\n",
       "    </tr>\n",
       "  </tbody>\n",
       "</table>\n",
       "<p>5 rows × 264 columns</p>\n",
       "</div>"
      ],
      "text/plain": [
       "    neighborhood  ATM  Accessories Store  Adult Boutique  African Restaurant  \\\n",
       "0  Anderson Mill    0                  0               0                   0   \n",
       "1   Barton Hills    0                  0               0                   0   \n",
       "2  Bouldin Creek    0                  0               0                   0   \n",
       "3      Brentwood    0                  0               0                   0   \n",
       "4   Bryker Woods    0                  0               0                   0   \n",
       "\n",
       "   American Restaurant  Antique Shop  Argentinian Restaurant  Art Gallery  \\\n",
       "0                    0             0                       0            0   \n",
       "1                    0             0                       0            0   \n",
       "2                    0             0                       0            0   \n",
       "3                    1             1                       0            0   \n",
       "4                    4             0                       0            0   \n",
       "\n",
       "   Art Museum  ...  Veterinarian  Video Game Store  Video Store  \\\n",
       "0           0  ...             0                 0            0   \n",
       "1           0  ...             0                 0            1   \n",
       "2           0  ...             0                 0            0   \n",
       "3           0  ...             0                 0            1   \n",
       "4           0  ...             1                 0            0   \n",
       "\n",
       "   Vietnamese Restaurant  Whisky Bar  Wine Bar  Winery  Wings Joint  \\\n",
       "0                      0           0         0       0            0   \n",
       "1                      0           0         0       0            0   \n",
       "2                      1           0         1       0            0   \n",
       "3                      0           0         0       0            0   \n",
       "4                      0           0         0       0            0   \n",
       "\n",
       "   Women's Store  Yoga Studio  \n",
       "0              0            0  \n",
       "1              0            1  \n",
       "2              0            1  \n",
       "3              0            1  \n",
       "4              0            0  \n",
       "\n",
       "[5 rows x 264 columns]"
      ]
     },
     "execution_count": 21,
     "metadata": {},
     "output_type": "execute_result"
    }
   ],
   "source": [
    "# Preview\n",
    "df_grouped.head()"
   ]
  },
  {
   "cell_type": "code",
   "execution_count": 22,
   "metadata": {},
   "outputs": [
    {
     "data": {
      "text/plain": [
       "(37, 264)"
      ]
     },
     "execution_count": 22,
     "metadata": {},
     "output_type": "execute_result"
    }
   ],
   "source": [
    "# View size\n",
    "\n",
    "df_grouped.shape"
   ]
  },
  {
   "cell_type": "code",
   "execution_count": 23,
   "metadata": {},
   "outputs": [
    {
     "data": {
      "text/html": [
       "<div>\n",
       "<style scoped>\n",
       "    .dataframe tbody tr th:only-of-type {\n",
       "        vertical-align: middle;\n",
       "    }\n",
       "\n",
       "    .dataframe tbody tr th {\n",
       "        vertical-align: top;\n",
       "    }\n",
       "\n",
       "    .dataframe thead th {\n",
       "        text-align: right;\n",
       "    }\n",
       "</style>\n",
       "<table border=\"1\" class=\"dataframe\">\n",
       "  <thead>\n",
       "    <tr style=\"text-align: right;\">\n",
       "      <th></th>\n",
       "      <th>neighborhood</th>\n",
       "      <th>ATM</th>\n",
       "      <th>Accessories Store</th>\n",
       "      <th>Adult Boutique</th>\n",
       "      <th>African Restaurant</th>\n",
       "      <th>American Restaurant</th>\n",
       "      <th>Antique Shop</th>\n",
       "      <th>Argentinian Restaurant</th>\n",
       "      <th>Art Gallery</th>\n",
       "      <th>Art Museum</th>\n",
       "      <th>...</th>\n",
       "      <th>Women's Store</th>\n",
       "      <th>Yoga Studio</th>\n",
       "      <th>location</th>\n",
       "      <th>latitude</th>\n",
       "      <th>longitude</th>\n",
       "      <th>url_format</th>\n",
       "      <th>url</th>\n",
       "      <th>median_prices</th>\n",
       "      <th>avg_price_per_sqft</th>\n",
       "      <th>price_group</th>\n",
       "    </tr>\n",
       "  </thead>\n",
       "  <tbody>\n",
       "    <tr>\n",
       "      <th>0</th>\n",
       "      <td>Anderson Mill</td>\n",
       "      <td>0</td>\n",
       "      <td>0</td>\n",
       "      <td>0</td>\n",
       "      <td>0</td>\n",
       "      <td>0</td>\n",
       "      <td>0</td>\n",
       "      <td>0</td>\n",
       "      <td>0</td>\n",
       "      <td>0</td>\n",
       "      <td>...</td>\n",
       "      <td>0</td>\n",
       "      <td>0</td>\n",
       "      <td>Anderson Mill, Austin, Texas</td>\n",
       "      <td>30.455834</td>\n",
       "      <td>-97.807096</td>\n",
       "      <td>anderson-mill</td>\n",
       "      <td>https://www.neighborhoods.com/anderson-mill-au...</td>\n",
       "      <td>321495.0</td>\n",
       "      <td>194.0</td>\n",
       "      <td>0</td>\n",
       "    </tr>\n",
       "    <tr>\n",
       "      <th>1</th>\n",
       "      <td>Barton Hills</td>\n",
       "      <td>0</td>\n",
       "      <td>0</td>\n",
       "      <td>0</td>\n",
       "      <td>0</td>\n",
       "      <td>0</td>\n",
       "      <td>0</td>\n",
       "      <td>0</td>\n",
       "      <td>0</td>\n",
       "      <td>0</td>\n",
       "      <td>...</td>\n",
       "      <td>0</td>\n",
       "      <td>1</td>\n",
       "      <td>Barton Hills, Austin, Texas</td>\n",
       "      <td>30.251571</td>\n",
       "      <td>-97.784106</td>\n",
       "      <td>barton-hills</td>\n",
       "      <td>https://www.neighborhoods.com/barton-hills-aus...</td>\n",
       "      <td>667750.0</td>\n",
       "      <td>487.0</td>\n",
       "      <td>1</td>\n",
       "    </tr>\n",
       "    <tr>\n",
       "      <th>2</th>\n",
       "      <td>Bouldin Creek</td>\n",
       "      <td>0</td>\n",
       "      <td>0</td>\n",
       "      <td>0</td>\n",
       "      <td>0</td>\n",
       "      <td>0</td>\n",
       "      <td>0</td>\n",
       "      <td>0</td>\n",
       "      <td>0</td>\n",
       "      <td>0</td>\n",
       "      <td>...</td>\n",
       "      <td>0</td>\n",
       "      <td>1</td>\n",
       "      <td>Bouldin Creek, Austin, Texas</td>\n",
       "      <td>30.255667</td>\n",
       "      <td>-97.755481</td>\n",
       "      <td>bouldin-creek</td>\n",
       "      <td>https://www.neighborhoods.com/bouldin-creek-au...</td>\n",
       "      <td>725750.0</td>\n",
       "      <td>546.0</td>\n",
       "      <td>1</td>\n",
       "    </tr>\n",
       "    <tr>\n",
       "      <th>3</th>\n",
       "      <td>Brentwood</td>\n",
       "      <td>0</td>\n",
       "      <td>0</td>\n",
       "      <td>0</td>\n",
       "      <td>0</td>\n",
       "      <td>1</td>\n",
       "      <td>1</td>\n",
       "      <td>0</td>\n",
       "      <td>0</td>\n",
       "      <td>0</td>\n",
       "      <td>...</td>\n",
       "      <td>0</td>\n",
       "      <td>1</td>\n",
       "      <td>Brentwood, Austin, Texas</td>\n",
       "      <td>30.331264</td>\n",
       "      <td>-97.736465</td>\n",
       "      <td>brentwood</td>\n",
       "      <td>https://www.neighborhoods.com/brentwood-austin-tx</td>\n",
       "      <td>495250.0</td>\n",
       "      <td>370.0</td>\n",
       "      <td>0</td>\n",
       "    </tr>\n",
       "    <tr>\n",
       "      <th>4</th>\n",
       "      <td>Bryker Woods</td>\n",
       "      <td>0</td>\n",
       "      <td>0</td>\n",
       "      <td>0</td>\n",
       "      <td>0</td>\n",
       "      <td>4</td>\n",
       "      <td>0</td>\n",
       "      <td>0</td>\n",
       "      <td>0</td>\n",
       "      <td>0</td>\n",
       "      <td>...</td>\n",
       "      <td>0</td>\n",
       "      <td>0</td>\n",
       "      <td>Bryker Woods, Austin, Texas</td>\n",
       "      <td>30.305246</td>\n",
       "      <td>-97.754585</td>\n",
       "      <td>bryker-woods</td>\n",
       "      <td>https://www.neighborhoods.com/bryker-woods-aus...</td>\n",
       "      <td>795000.0</td>\n",
       "      <td>558.0</td>\n",
       "      <td>1</td>\n",
       "    </tr>\n",
       "  </tbody>\n",
       "</table>\n",
       "<p>5 rows × 272 columns</p>\n",
       "</div>"
      ],
      "text/plain": [
       "    neighborhood  ATM  Accessories Store  Adult Boutique  African Restaurant  \\\n",
       "0  Anderson Mill    0                  0               0                   0   \n",
       "1   Barton Hills    0                  0               0                   0   \n",
       "2  Bouldin Creek    0                  0               0                   0   \n",
       "3      Brentwood    0                  0               0                   0   \n",
       "4   Bryker Woods    0                  0               0                   0   \n",
       "\n",
       "   American Restaurant  Antique Shop  Argentinian Restaurant  Art Gallery  \\\n",
       "0                    0             0                       0            0   \n",
       "1                    0             0                       0            0   \n",
       "2                    0             0                       0            0   \n",
       "3                    1             1                       0            0   \n",
       "4                    4             0                       0            0   \n",
       "\n",
       "   Art Museum  ...  Women's Store  Yoga Studio                      location  \\\n",
       "0           0  ...              0            0  Anderson Mill, Austin, Texas   \n",
       "1           0  ...              0            1   Barton Hills, Austin, Texas   \n",
       "2           0  ...              0            1  Bouldin Creek, Austin, Texas   \n",
       "3           0  ...              0            1      Brentwood, Austin, Texas   \n",
       "4           0  ...              0            0   Bryker Woods, Austin, Texas   \n",
       "\n",
       "    latitude  longitude     url_format  \\\n",
       "0  30.455834 -97.807096  anderson-mill   \n",
       "1  30.251571 -97.784106   barton-hills   \n",
       "2  30.255667 -97.755481  bouldin-creek   \n",
       "3  30.331264 -97.736465      brentwood   \n",
       "4  30.305246 -97.754585   bryker-woods   \n",
       "\n",
       "                                                 url  median_prices  \\\n",
       "0  https://www.neighborhoods.com/anderson-mill-au...       321495.0   \n",
       "1  https://www.neighborhoods.com/barton-hills-aus...       667750.0   \n",
       "2  https://www.neighborhoods.com/bouldin-creek-au...       725750.0   \n",
       "3  https://www.neighborhoods.com/brentwood-austin-tx       495250.0   \n",
       "4  https://www.neighborhoods.com/bryker-woods-aus...       795000.0   \n",
       "\n",
       "   avg_price_per_sqft  price_group  \n",
       "0               194.0            0  \n",
       "1               487.0            1  \n",
       "2               546.0            1  \n",
       "3               370.0            0  \n",
       "4               558.0            1  \n",
       "\n",
       "[5 rows x 272 columns]"
      ]
     },
     "execution_count": 23,
     "metadata": {},
     "output_type": "execute_result"
    }
   ],
   "source": [
    "# Combine dataframes\n",
    "\n",
    "df_comb = pd.merge(df_grouped, data_df, on='neighborhood')\n",
    "df_comb.head()"
   ]
  },
  {
   "cell_type": "code",
   "execution_count": 24,
   "metadata": {},
   "outputs": [
    {
     "data": {
      "text/html": [
       "<div>\n",
       "<style scoped>\n",
       "    .dataframe tbody tr th:only-of-type {\n",
       "        vertical-align: middle;\n",
       "    }\n",
       "\n",
       "    .dataframe tbody tr th {\n",
       "        vertical-align: top;\n",
       "    }\n",
       "\n",
       "    .dataframe thead th {\n",
       "        text-align: right;\n",
       "    }\n",
       "</style>\n",
       "<table border=\"1\" class=\"dataframe\">\n",
       "  <thead>\n",
       "    <tr style=\"text-align: right;\">\n",
       "      <th></th>\n",
       "      <th>neighborhood</th>\n",
       "      <th>ATM</th>\n",
       "      <th>Accessories Store</th>\n",
       "      <th>Adult Boutique</th>\n",
       "      <th>African Restaurant</th>\n",
       "      <th>American Restaurant</th>\n",
       "      <th>Antique Shop</th>\n",
       "      <th>Argentinian Restaurant</th>\n",
       "      <th>Art Gallery</th>\n",
       "      <th>Art Museum</th>\n",
       "      <th>...</th>\n",
       "      <th>Video Game Store</th>\n",
       "      <th>Video Store</th>\n",
       "      <th>Vietnamese Restaurant</th>\n",
       "      <th>Whisky Bar</th>\n",
       "      <th>Wine Bar</th>\n",
       "      <th>Winery</th>\n",
       "      <th>Wings Joint</th>\n",
       "      <th>Women's Store</th>\n",
       "      <th>Yoga Studio</th>\n",
       "      <th>price_group</th>\n",
       "    </tr>\n",
       "  </thead>\n",
       "  <tbody>\n",
       "    <tr>\n",
       "      <th>0</th>\n",
       "      <td>Anderson Mill</td>\n",
       "      <td>0</td>\n",
       "      <td>0</td>\n",
       "      <td>0</td>\n",
       "      <td>0</td>\n",
       "      <td>0</td>\n",
       "      <td>0</td>\n",
       "      <td>0</td>\n",
       "      <td>0</td>\n",
       "      <td>0</td>\n",
       "      <td>...</td>\n",
       "      <td>0</td>\n",
       "      <td>0</td>\n",
       "      <td>0</td>\n",
       "      <td>0</td>\n",
       "      <td>0</td>\n",
       "      <td>0</td>\n",
       "      <td>0</td>\n",
       "      <td>0</td>\n",
       "      <td>0</td>\n",
       "      <td>0</td>\n",
       "    </tr>\n",
       "    <tr>\n",
       "      <th>1</th>\n",
       "      <td>Barton Hills</td>\n",
       "      <td>0</td>\n",
       "      <td>0</td>\n",
       "      <td>0</td>\n",
       "      <td>0</td>\n",
       "      <td>0</td>\n",
       "      <td>0</td>\n",
       "      <td>0</td>\n",
       "      <td>0</td>\n",
       "      <td>0</td>\n",
       "      <td>...</td>\n",
       "      <td>0</td>\n",
       "      <td>1</td>\n",
       "      <td>0</td>\n",
       "      <td>0</td>\n",
       "      <td>0</td>\n",
       "      <td>0</td>\n",
       "      <td>0</td>\n",
       "      <td>0</td>\n",
       "      <td>1</td>\n",
       "      <td>1</td>\n",
       "    </tr>\n",
       "    <tr>\n",
       "      <th>2</th>\n",
       "      <td>Bouldin Creek</td>\n",
       "      <td>0</td>\n",
       "      <td>0</td>\n",
       "      <td>0</td>\n",
       "      <td>0</td>\n",
       "      <td>0</td>\n",
       "      <td>0</td>\n",
       "      <td>0</td>\n",
       "      <td>0</td>\n",
       "      <td>0</td>\n",
       "      <td>...</td>\n",
       "      <td>0</td>\n",
       "      <td>0</td>\n",
       "      <td>1</td>\n",
       "      <td>0</td>\n",
       "      <td>1</td>\n",
       "      <td>0</td>\n",
       "      <td>0</td>\n",
       "      <td>0</td>\n",
       "      <td>1</td>\n",
       "      <td>1</td>\n",
       "    </tr>\n",
       "    <tr>\n",
       "      <th>3</th>\n",
       "      <td>Brentwood</td>\n",
       "      <td>0</td>\n",
       "      <td>0</td>\n",
       "      <td>0</td>\n",
       "      <td>0</td>\n",
       "      <td>1</td>\n",
       "      <td>1</td>\n",
       "      <td>0</td>\n",
       "      <td>0</td>\n",
       "      <td>0</td>\n",
       "      <td>...</td>\n",
       "      <td>0</td>\n",
       "      <td>1</td>\n",
       "      <td>0</td>\n",
       "      <td>0</td>\n",
       "      <td>0</td>\n",
       "      <td>0</td>\n",
       "      <td>0</td>\n",
       "      <td>0</td>\n",
       "      <td>1</td>\n",
       "      <td>0</td>\n",
       "    </tr>\n",
       "    <tr>\n",
       "      <th>4</th>\n",
       "      <td>Bryker Woods</td>\n",
       "      <td>0</td>\n",
       "      <td>0</td>\n",
       "      <td>0</td>\n",
       "      <td>0</td>\n",
       "      <td>4</td>\n",
       "      <td>0</td>\n",
       "      <td>0</td>\n",
       "      <td>0</td>\n",
       "      <td>0</td>\n",
       "      <td>...</td>\n",
       "      <td>0</td>\n",
       "      <td>0</td>\n",
       "      <td>0</td>\n",
       "      <td>0</td>\n",
       "      <td>0</td>\n",
       "      <td>0</td>\n",
       "      <td>0</td>\n",
       "      <td>0</td>\n",
       "      <td>0</td>\n",
       "      <td>1</td>\n",
       "    </tr>\n",
       "  </tbody>\n",
       "</table>\n",
       "<p>5 rows × 265 columns</p>\n",
       "</div>"
      ],
      "text/plain": [
       "    neighborhood  ATM  Accessories Store  Adult Boutique  African Restaurant  \\\n",
       "0  Anderson Mill    0                  0               0                   0   \n",
       "1   Barton Hills    0                  0               0                   0   \n",
       "2  Bouldin Creek    0                  0               0                   0   \n",
       "3      Brentwood    0                  0               0                   0   \n",
       "4   Bryker Woods    0                  0               0                   0   \n",
       "\n",
       "   American Restaurant  Antique Shop  Argentinian Restaurant  Art Gallery  \\\n",
       "0                    0             0                       0            0   \n",
       "1                    0             0                       0            0   \n",
       "2                    0             0                       0            0   \n",
       "3                    1             1                       0            0   \n",
       "4                    4             0                       0            0   \n",
       "\n",
       "   Art Museum  ...  Video Game Store  Video Store  Vietnamese Restaurant  \\\n",
       "0           0  ...                 0            0                      0   \n",
       "1           0  ...                 0            1                      0   \n",
       "2           0  ...                 0            0                      1   \n",
       "3           0  ...                 0            1                      0   \n",
       "4           0  ...                 0            0                      0   \n",
       "\n",
       "   Whisky Bar  Wine Bar  Winery  Wings Joint  Women's Store  Yoga Studio  \\\n",
       "0           0         0       0            0              0            0   \n",
       "1           0         0       0            0              0            1   \n",
       "2           0         1       0            0              0            1   \n",
       "3           0         0       0            0              0            1   \n",
       "4           0         0       0            0              0            0   \n",
       "\n",
       "   price_group  \n",
       "0            0  \n",
       "1            1  \n",
       "2            1  \n",
       "3            0  \n",
       "4            1  \n",
       "\n",
       "[5 rows x 265 columns]"
      ]
     },
     "execution_count": 24,
     "metadata": {},
     "output_type": "execute_result"
    }
   ],
   "source": [
    "# Drop unnecessary columns\n",
    "\n",
    "df_comb.drop(columns=['location', 'latitude', 'longitude', 'url_format', 'url', 'median_prices', 'avg_price_per_sqft'], inplace=True)\n",
    "df_comb.head()"
   ]
  },
  {
   "cell_type": "code",
   "execution_count": 25,
   "metadata": {},
   "outputs": [],
   "source": [
    "# Save dataframe for modeling \n",
    "\n",
    "df_comb.to_csv('../data/df_comb.csv', index=False)"
   ]
  },
  {
   "cell_type": "markdown",
   "metadata": {},
   "source": [
    "# Modeling"
   ]
  },
  {
   "cell_type": "markdown",
   "metadata": {},
   "source": [
    "#### Linear Regression"
   ]
  },
  {
   "cell_type": "code",
   "execution_count": 26,
   "metadata": {},
   "outputs": [],
   "source": [
    "# Define X and y\n",
    "\n",
    "X = df_comb.drop(columns=['neighborhood', 'price_group'])\n",
    "y = df_comb['price_group']"
   ]
  },
  {
   "cell_type": "code",
   "execution_count": 27,
   "metadata": {},
   "outputs": [],
   "source": [
    "# Train/test split \n",
    "\n",
    "X_train, X_test, y_train, y_test = train_test_split(X, y, test_size=0.2, random_state=0)"
   ]
  },
  {
   "cell_type": "code",
   "execution_count": 28,
   "metadata": {},
   "outputs": [],
   "source": [
    "# Scale data\n",
    "\n",
    "# sc = StandardScaler()\n",
    "# X_train = sc.fit_transform(X_train)\n",
    "# X_test = sc.transform(X_test)"
   ]
  },
  {
   "cell_type": "code",
   "execution_count": 29,
   "metadata": {},
   "outputs": [],
   "source": [
    "# Instantiate and fit model\n",
    "\n",
    "lr = LinearRegression(normalize=True)\n",
    "\n",
    "model = lr.fit(X_train, y_train)"
   ]
  },
  {
   "cell_type": "code",
   "execution_count": 30,
   "metadata": {},
   "outputs": [
    {
     "name": "stdout",
     "output_type": "stream",
     "text": [
      "Training R2 Score: 1.0\n",
      "Testing R2 Score: -0.06\n"
     ]
    }
   ],
   "source": [
    "# Score on training set\n",
    "print(f'Training R2 Score: {round(model.score(X_train, y_train),2)}')\n",
    "\n",
    "# Score on testing set.\n",
    "print(f'Testing R2 Score: {round(model.score(X_test, y_test),2)}')"
   ]
  },
  {
   "cell_type": "code",
   "execution_count": 31,
   "metadata": {},
   "outputs": [
    {
     "name": "stdout",
     "output_type": "stream",
     "text": [
      "MSE: 0.25\n"
     ]
    }
   ],
   "source": [
    "# Mean Squared Error\n",
    "\n",
    "y_pred = lr.predict(X_test)\n",
    "print(f'MSE: {round(mean_squared_error(y_test, y_pred),2)}')"
   ]
  },
  {
   "cell_type": "code",
   "execution_count": 32,
   "metadata": {},
   "outputs": [
    {
     "data": {
      "text/plain": [
       "-0.11588007237385423"
      ]
     },
     "execution_count": 32,
     "metadata": {},
     "output_type": "execute_result"
    }
   ],
   "source": [
    "lr_scores = cross_val_score(lr, X_train, y_train, cv=3)\n",
    "lr_scores.mean()"
   ]
  },
  {
   "cell_type": "code",
   "execution_count": 33,
   "metadata": {},
   "outputs": [],
   "source": [
    "lasso = LassoCV(n_alphas=200)"
   ]
  },
  {
   "cell_type": "code",
   "execution_count": 34,
   "metadata": {},
   "outputs": [
    {
     "data": {
      "text/plain": [
       "-0.07987335128916606"
      ]
     },
     "execution_count": 34,
     "metadata": {},
     "output_type": "execute_result"
    }
   ],
   "source": [
    "lasso_scores = cross_val_score(lasso, X_train, y_train, cv=3)\n",
    "lasso_scores.mean()"
   ]
  },
  {
   "cell_type": "code",
   "execution_count": 35,
   "metadata": {},
   "outputs": [],
   "source": [
    "ridge = RidgeCV(alphas=np.linspace(.1, 10, 100))"
   ]
  },
  {
   "cell_type": "code",
   "execution_count": 36,
   "metadata": {},
   "outputs": [
    {
     "data": {
      "text/plain": [
       "-0.01900748634841043"
      ]
     },
     "execution_count": 36,
     "metadata": {},
     "output_type": "execute_result"
    }
   ],
   "source": [
    "ridge_scores = cross_val_score(ridge, X_train, y_train, cv=3)\n",
    "ridge_scores.mean()"
   ]
  },
  {
   "cell_type": "code",
   "execution_count": 37,
   "metadata": {},
   "outputs": [
    {
     "data": {
      "image/png": "[encoded data removed]",
      "text/plain": [
       "<Figure size 864x648 with 1 Axes>"
      ]
     },
     "metadata": {
      "needs_background": "light"
     },
     "output_type": "display_data"
    }
   ],
   "source": [
    "# Visualize predictions\n",
    "\n",
    "# Plot the model\n",
    "plt.figure(figsize=(12,9))\n",
    "\n",
    "# Generate a scatterplot of predicted values versus actual values.\n",
    "plt.scatter(y_pred, y_test, s=5, color='blue', alpha = 0.5)\n",
    "\n",
    "# Plot a line.\n",
    "plt.plot([0, np.max(y)],\n",
    "         [0, np.max(y)],\n",
    "         color = 'black')\n",
    "\n",
    "# Tweak title and axis labels.\n",
    "plt.xlabel(\"Predicted Values: $\\hat{y}$\", fontsize = 20)\n",
    "plt.ylabel(\"Actual Values: $y$\", fontsize = 20)\n",
    "plt.title('Predicted Values vs. Actual Values', fontsize = 24);"
   ]
  },
  {
   "cell_type": "code",
   "execution_count": 38,
   "metadata": {},
   "outputs": [
    {
     "name": "stdout",
     "output_type": "stream",
     "text": [
      "R2-Score: -0.06305138909638108\n",
      "Mean Squared Error: 0.24915266931946434\n",
      "Max positive coefs: [0.21949236 0.18973292 0.16843217 0.16843217 0.13746111 0.13746111\n",
      " 0.13603414 0.12849071 0.12528203 0.12313791]\n",
      "Venue types with most postive effect: ['Other Great Outdoors' 'Garden Center' 'Pilates Studio' 'Dry Cleaner'\n",
      " 'Community Center' 'Gun Shop' 'Nature Preserve' 'Tex-Mex Restaurant'\n",
      " 'Recording Studio' 'Tanning Salon']\n",
      "Max negative coefs: [-0.12235793 -0.10273786 -0.07142341 -0.05955959 -0.05955959 -0.05955959\n",
      " -0.05955959 -0.05955959 -0.05780062 -0.05780062]\n",
      "Venue types with most negative effect: ['Housing Development' 'Tennis Court' 'Food & Drink Shop'\n",
      " 'Taiwanese Restaurant' 'Smoothie Shop' 'Cupcake Shop' 'College Quad'\n",
      " 'Flea Market' 'Used Bookstore' 'Falafel Restaurant']\n",
      "Min coefs: [0. 0. 0. 0. 0. 0. 0. 0. 0. 0.]\n",
      "Venue types with least effect: ['Kitchen Supply Store' 'Golf Driving Range' 'Platform' 'Gun Range'\n",
      " 'Cafeteria' \"Doctor's Office\" 'Creperie' 'Fire Station' 'Mountain'\n",
      " 'Department Store']\n"
     ]
    }
   ],
   "source": [
    "# let's see how well Linear Regression fit the problem\n",
    "y_pred = lr.predict(X_test)\n",
    "\n",
    "print('R2-Score:', r2_score(y_test, y_pred)) # r2 score\n",
    "print('Mean Squared Error:', mean_squared_error(y_test, y_pred)) # mse\n",
    "\n",
    "print('Max positive coefs:', lr.coef_[np.argsort(-lr.coef_)[:10]])\n",
    "\n",
    "print('Venue types with most postive effect:', X.columns[np.argsort(-lr.coef_)[:10]].values)\n",
    "\n",
    "print('Max negative coefs:', lr.coef_[np.argsort(lr.coef_)[:10]])\n",
    "\n",
    "print('Venue types with most negative effect:', X.columns[np.argsort(lr.coef_)[:10]].values)\n",
    "\n",
    "coef_abs = abs(lr.coef_)\n",
    "print('Min coefs:', lr.coef_[np.argsort(coef_abs)[:10]])\n",
    "print('Venue types with least effect:', X.columns[np.argsort(coef_abs)[:10]].values)"
   ]
  },
  {
   "cell_type": "markdown",
   "metadata": {},
   "source": [
    "#### PCA Modeling"
   ]
  },
  {
   "cell_type": "code",
   "execution_count": 39,
   "metadata": {},
   "outputs": [],
   "source": [
    "# Define X and y\n",
    "X = df_comb.drop(columns=['neighborhood', 'price_group'])\n",
    "y = df_comb['price_group']"
   ]
  },
  {
   "cell_type": "code",
   "execution_count": 40,
   "metadata": {},
   "outputs": [],
   "source": [
    "# Train/test split \n",
    "X_train, X_test, y_train, y_test = train_test_split(X, y, test_size=0.2, random_state=0)"
   ]
  },
  {
   "cell_type": "code",
   "execution_count": 41,
   "metadata": {},
   "outputs": [],
   "source": [
    "# # Scale data\n",
    "# sc = StandardScaler()\n",
    "# X_train = sc.fit_transform(X_train)\n",
    "# X_test = sc.transform(X_test)"
   ]
  },
  {
   "cell_type": "code",
   "execution_count": 42,
   "metadata": {},
   "outputs": [
    {
     "data": {
      "text/plain": [
       "PCA(copy=True, iterated_power='auto', n_components=None, random_state=0,\n",
       "    svd_solver='auto', tol=0.0, whiten=False)"
      ]
     },
     "execution_count": 42,
     "metadata": {},
     "output_type": "execute_result"
    }
   ],
   "source": [
    "# Instantiate and fit PCA\n",
    "pca = PCA(svd_solver='auto', random_state = 0)\n",
    "\n",
    "# Fit PCA on the training data.\n",
    "pca.fit(X_train) "
   ]
  },
  {
   "cell_type": "code",
   "execution_count": 43,
   "metadata": {},
   "outputs": [],
   "source": [
    "# Transform PCA\n",
    "Z_train = pca.transform(X_train)\n",
    "\n",
    "Z_test = pca.transform(X_test)"
   ]
  },
  {
   "cell_type": "code",
   "execution_count": 44,
   "metadata": {},
   "outputs": [
    {
     "data": {
      "text/html": [
       "<div>\n",
       "<style scoped>\n",
       "    .dataframe tbody tr th:only-of-type {\n",
       "        vertical-align: middle;\n",
       "    }\n",
       "\n",
       "    .dataframe tbody tr th {\n",
       "        vertical-align: top;\n",
       "    }\n",
       "\n",
       "    .dataframe thead th {\n",
       "        text-align: right;\n",
       "    }\n",
       "</style>\n",
       "<table border=\"1\" class=\"dataframe\">\n",
       "  <thead>\n",
       "    <tr style=\"text-align: right;\">\n",
       "      <th></th>\n",
       "      <th>0</th>\n",
       "      <th>1</th>\n",
       "      <th>2</th>\n",
       "      <th>3</th>\n",
       "      <th>4</th>\n",
       "      <th>5</th>\n",
       "      <th>6</th>\n",
       "      <th>7</th>\n",
       "      <th>8</th>\n",
       "      <th>9</th>\n",
       "      <th>...</th>\n",
       "      <th>19</th>\n",
       "      <th>20</th>\n",
       "      <th>21</th>\n",
       "      <th>22</th>\n",
       "      <th>23</th>\n",
       "      <th>24</th>\n",
       "      <th>25</th>\n",
       "      <th>26</th>\n",
       "      <th>27</th>\n",
       "      <th>28</th>\n",
       "    </tr>\n",
       "  </thead>\n",
       "  <tbody>\n",
       "    <tr>\n",
       "      <th>count</th>\n",
       "      <td>2.900000e+01</td>\n",
       "      <td>2.900000e+01</td>\n",
       "      <td>2.900000e+01</td>\n",
       "      <td>2.900000e+01</td>\n",
       "      <td>2.900000e+01</td>\n",
       "      <td>2.900000e+01</td>\n",
       "      <td>2.900000e+01</td>\n",
       "      <td>2.900000e+01</td>\n",
       "      <td>2.900000e+01</td>\n",
       "      <td>2.900000e+01</td>\n",
       "      <td>...</td>\n",
       "      <td>2.900000e+01</td>\n",
       "      <td>2.900000e+01</td>\n",
       "      <td>2.900000e+01</td>\n",
       "      <td>2.900000e+01</td>\n",
       "      <td>2.900000e+01</td>\n",
       "      <td>2.900000e+01</td>\n",
       "      <td>2.900000e+01</td>\n",
       "      <td>2.900000e+01</td>\n",
       "      <td>2.900000e+01</td>\n",
       "      <td>2.900000e+01</td>\n",
       "    </tr>\n",
       "    <tr>\n",
       "      <th>mean</th>\n",
       "      <td>-9.188053e-17</td>\n",
       "      <td>-4.594026e-17</td>\n",
       "      <td>2.832983e-16</td>\n",
       "      <td>-1.493059e-16</td>\n",
       "      <td>-4.594026e-17</td>\n",
       "      <td>1.416491e-16</td>\n",
       "      <td>-2.297013e-16</td>\n",
       "      <td>1.703618e-16</td>\n",
       "      <td>6.087085e-16</td>\n",
       "      <td>1.914178e-16</td>\n",
       "      <td>...</td>\n",
       "      <td>-6.699622e-17</td>\n",
       "      <td>-2.297013e-16</td>\n",
       "      <td>2.182162e-16</td>\n",
       "      <td>1.301641e-16</td>\n",
       "      <td>-7.656711e-17</td>\n",
       "      <td>7.273875e-17</td>\n",
       "      <td>8.613799e-18</td>\n",
       "      <td>1.071939e-16</td>\n",
       "      <td>-5.024716e-18</td>\n",
       "      <td>4.727121e-17</td>\n",
       "    </tr>\n",
       "    <tr>\n",
       "      <th>std</th>\n",
       "      <td>4.678806e+00</td>\n",
       "      <td>3.033085e+00</td>\n",
       "      <td>2.652070e+00</td>\n",
       "      <td>2.494390e+00</td>\n",
       "      <td>1.996889e+00</td>\n",
       "      <td>1.934391e+00</td>\n",
       "      <td>1.782439e+00</td>\n",
       "      <td>1.773833e+00</td>\n",
       "      <td>1.600598e+00</td>\n",
       "      <td>1.575651e+00</td>\n",
       "      <td>...</td>\n",
       "      <td>8.007555e-01</td>\n",
       "      <td>7.634261e-01</td>\n",
       "      <td>7.071792e-01</td>\n",
       "      <td>6.902478e-01</td>\n",
       "      <td>6.059425e-01</td>\n",
       "      <td>5.876773e-01</td>\n",
       "      <td>5.220364e-01</td>\n",
       "      <td>3.967952e-01</td>\n",
       "      <td>3.112555e-01</td>\n",
       "      <td>6.364864e-16</td>\n",
       "    </tr>\n",
       "    <tr>\n",
       "      <th>min</th>\n",
       "      <td>-5.026146e+00</td>\n",
       "      <td>-5.434924e+00</td>\n",
       "      <td>-7.487265e+00</td>\n",
       "      <td>-6.206721e+00</td>\n",
       "      <td>-3.083939e+00</td>\n",
       "      <td>-3.107503e+00</td>\n",
       "      <td>-4.603659e+00</td>\n",
       "      <td>-3.668693e+00</td>\n",
       "      <td>-3.070957e+00</td>\n",
       "      <td>-2.135215e+00</td>\n",
       "      <td>...</td>\n",
       "      <td>-1.634379e+00</td>\n",
       "      <td>-1.657133e+00</td>\n",
       "      <td>-1.689466e+00</td>\n",
       "      <td>-1.358051e+00</td>\n",
       "      <td>-1.074805e+00</td>\n",
       "      <td>-1.687644e+00</td>\n",
       "      <td>-1.672931e+00</td>\n",
       "      <td>-1.007102e+00</td>\n",
       "      <td>-3.764389e-01</td>\n",
       "      <td>-2.109424e-15</td>\n",
       "    </tr>\n",
       "    <tr>\n",
       "      <th>25%</th>\n",
       "      <td>-3.953707e+00</td>\n",
       "      <td>-2.133795e+00</td>\n",
       "      <td>-1.039057e+00</td>\n",
       "      <td>-8.919243e-01</td>\n",
       "      <td>-1.926983e+00</td>\n",
       "      <td>-1.054670e+00</td>\n",
       "      <td>-5.886138e-01</td>\n",
       "      <td>-1.005180e+00</td>\n",
       "      <td>-7.735722e-01</td>\n",
       "      <td>-8.216709e-01</td>\n",
       "      <td>...</td>\n",
       "      <td>-3.924810e-01</td>\n",
       "      <td>-2.891196e-01</td>\n",
       "      <td>-1.900408e-01</td>\n",
       "      <td>-2.986066e-01</td>\n",
       "      <td>-2.792827e-01</td>\n",
       "      <td>-1.843493e-01</td>\n",
       "      <td>-6.220750e-02</td>\n",
       "      <td>-1.029067e-01</td>\n",
       "      <td>-4.391530e-02</td>\n",
       "      <td>-2.220446e-16</td>\n",
       "    </tr>\n",
       "    <tr>\n",
       "      <th>50%</th>\n",
       "      <td>-1.488914e+00</td>\n",
       "      <td>2.516181e-01</td>\n",
       "      <td>-1.535785e-01</td>\n",
       "      <td>-1.856109e-01</td>\n",
       "      <td>1.376231e-01</td>\n",
       "      <td>4.559684e-02</td>\n",
       "      <td>2.514104e-01</td>\n",
       "      <td>-3.023705e-01</td>\n",
       "      <td>-8.788267e-02</td>\n",
       "      <td>-1.875919e-01</td>\n",
       "      <td>...</td>\n",
       "      <td>-1.579699e-02</td>\n",
       "      <td>-8.226267e-02</td>\n",
       "      <td>-6.546910e-02</td>\n",
       "      <td>-4.671818e-02</td>\n",
       "      <td>5.983207e-04</td>\n",
       "      <td>5.880510e-03</td>\n",
       "      <td>-4.391953e-03</td>\n",
       "      <td>-2.698303e-03</td>\n",
       "      <td>-5.782383e-03</td>\n",
       "      <td>2.498002e-16</td>\n",
       "    </tr>\n",
       "    <tr>\n",
       "      <th>75%</th>\n",
       "      <td>3.298343e+00</td>\n",
       "      <td>1.822146e+00</td>\n",
       "      <td>6.645599e-01</td>\n",
       "      <td>4.073139e-01</td>\n",
       "      <td>1.089580e+00</td>\n",
       "      <td>6.304395e-01</td>\n",
       "      <td>6.978623e-01</td>\n",
       "      <td>8.715930e-01</td>\n",
       "      <td>8.416520e-01</td>\n",
       "      <td>6.240220e-01</td>\n",
       "      <td>...</td>\n",
       "      <td>2.386971e-01</td>\n",
       "      <td>4.109097e-01</td>\n",
       "      <td>2.166997e-01</td>\n",
       "      <td>1.078714e-01</td>\n",
       "      <td>1.489822e-01</td>\n",
       "      <td>2.293024e-01</td>\n",
       "      <td>8.139999e-02</td>\n",
       "      <td>9.817747e-02</td>\n",
       "      <td>1.788689e-02</td>\n",
       "      <td>4.440892e-16</td>\n",
       "    </tr>\n",
       "    <tr>\n",
       "      <th>max</th>\n",
       "      <td>1.262027e+01</td>\n",
       "      <td>1.073928e+01</td>\n",
       "      <td>8.313500e+00</td>\n",
       "      <td>9.146425e+00</td>\n",
       "      <td>4.383491e+00</td>\n",
       "      <td>6.206232e+00</td>\n",
       "      <td>5.630700e+00</td>\n",
       "      <td>3.960690e+00</td>\n",
       "      <td>3.456278e+00</td>\n",
       "      <td>4.799934e+00</td>\n",
       "      <td>...</td>\n",
       "      <td>3.123066e+00</td>\n",
       "      <td>1.906087e+00</td>\n",
       "      <td>2.084724e+00</td>\n",
       "      <td>2.204835e+00</td>\n",
       "      <td>1.946542e+00</td>\n",
       "      <td>1.842462e+00</td>\n",
       "      <td>1.800530e+00</td>\n",
       "      <td>1.653615e+00</td>\n",
       "      <td>1.498014e+00</td>\n",
       "      <td>9.436896e-16</td>\n",
       "    </tr>\n",
       "  </tbody>\n",
       "</table>\n",
       "<p>8 rows × 29 columns</p>\n",
       "</div>"
      ],
      "text/plain": [
       "                 0             1             2             3             4   \\\n",
       "count  2.900000e+01  2.900000e+01  2.900000e+01  2.900000e+01  2.900000e+01   \n",
       "mean  -9.188053e-17 -4.594026e-17  2.832983e-16 -1.493059e-16 -4.594026e-17   \n",
       "std    4.678806e+00  3.033085e+00  2.652070e+00  2.494390e+00  1.996889e+00   \n",
       "min   -5.026146e+00 -5.434924e+00 -7.487265e+00 -6.206721e+00 -3.083939e+00   \n",
       "25%   -3.953707e+00 -2.133795e+00 -1.039057e+00 -8.919243e-01 -1.926983e+00   \n",
       "50%   -1.488914e+00  2.516181e-01 -1.535785e-01 -1.856109e-01  1.376231e-01   \n",
       "75%    3.298343e+00  1.822146e+00  6.645599e-01  4.073139e-01  1.089580e+00   \n",
       "max    1.262027e+01  1.073928e+01  8.313500e+00  9.146425e+00  4.383491e+00   \n",
       "\n",
       "                 5             6             7             8             9   \\\n",
       "count  2.900000e+01  2.900000e+01  2.900000e+01  2.900000e+01  2.900000e+01   \n",
       "mean   1.416491e-16 -2.297013e-16  1.703618e-16  6.087085e-16  1.914178e-16   \n",
       "std    1.934391e+00  1.782439e+00  1.773833e+00  1.600598e+00  1.575651e+00   \n",
       "min   -3.107503e+00 -4.603659e+00 -3.668693e+00 -3.070957e+00 -2.135215e+00   \n",
       "25%   -1.054670e+00 -5.886138e-01 -1.005180e+00 -7.735722e-01 -8.216709e-01   \n",
       "50%    4.559684e-02  2.514104e-01 -3.023705e-01 -8.788267e-02 -1.875919e-01   \n",
       "75%    6.304395e-01  6.978623e-01  8.715930e-01  8.416520e-01  6.240220e-01   \n",
       "max    6.206232e+00  5.630700e+00  3.960690e+00  3.456278e+00  4.799934e+00   \n",
       "\n",
       "       ...            19            20            21            22  \\\n",
       "count  ...  2.900000e+01  2.900000e+01  2.900000e+01  2.900000e+01   \n",
       "mean   ... -6.699622e-17 -2.297013e-16  2.182162e-16  1.301641e-16   \n",
       "std    ...  8.007555e-01  7.634261e-01  7.071792e-01  6.902478e-01   \n",
       "min    ... -1.634379e+00 -1.657133e+00 -1.689466e+00 -1.358051e+00   \n",
       "25%    ... -3.924810e-01 -2.891196e-01 -1.900408e-01 -2.986066e-01   \n",
       "50%    ... -1.579699e-02 -8.226267e-02 -6.546910e-02 -4.671818e-02   \n",
       "75%    ...  2.386971e-01  4.109097e-01  2.166997e-01  1.078714e-01   \n",
       "max    ...  3.123066e+00  1.906087e+00  2.084724e+00  2.204835e+00   \n",
       "\n",
       "                 23            24            25            26            27  \\\n",
       "count  2.900000e+01  2.900000e+01  2.900000e+01  2.900000e+01  2.900000e+01   \n",
       "mean  -7.656711e-17  7.273875e-17  8.613799e-18  1.071939e-16 -5.024716e-18   \n",
       "std    6.059425e-01  5.876773e-01  5.220364e-01  3.967952e-01  3.112555e-01   \n",
       "min   -1.074805e+00 -1.687644e+00 -1.672931e+00 -1.007102e+00 -3.764389e-01   \n",
       "25%   -2.792827e-01 -1.843493e-01 -6.220750e-02 -1.029067e-01 -4.391530e-02   \n",
       "50%    5.983207e-04  5.880510e-03 -4.391953e-03 -2.698303e-03 -5.782383e-03   \n",
       "75%    1.489822e-01  2.293024e-01  8.139999e-02  9.817747e-02  1.788689e-02   \n",
       "max    1.946542e+00  1.842462e+00  1.800530e+00  1.653615e+00  1.498014e+00   \n",
       "\n",
       "                 28  \n",
       "count  2.900000e+01  \n",
       "mean   4.727121e-17  \n",
       "std    6.364864e-16  \n",
       "min   -2.109424e-15  \n",
       "25%   -2.220446e-16  \n",
       "50%    2.498002e-16  \n",
       "75%    4.440892e-16  \n",
       "max    9.436896e-16  \n",
       "\n",
       "[8 rows x 29 columns]"
      ]
     },
     "execution_count": 44,
     "metadata": {},
     "output_type": "execute_result"
    }
   ],
   "source": [
    "# Let's check out the resulting data.\n",
    "pd.DataFrame(Z_train).describe()"
   ]
  },
  {
   "cell_type": "code",
   "execution_count": 45,
   "metadata": {},
   "outputs": [
    {
     "name": "stdout",
     "output_type": "stream",
     "text": [
      "Explained variance (first 20 components): [0.275 0.116 0.088 0.078 0.05  0.047 0.04  0.04  0.032 0.031 0.028 0.024\n",
      " 0.021 0.019 0.018 0.016 0.013 0.011 0.009 0.008]\n",
      "\n",
      "Cumulative explained variance (first 20 components): [0.275 0.391 0.479 0.558 0.608 0.655 0.695 0.734 0.767 0.798 0.826 0.85\n",
      " 0.871 0.89  0.908 0.924 0.936 0.948 0.957 0.965]\n"
     ]
    }
   ],
   "source": [
    "# Pull the explained variance attribute.\n",
    "var_exp = pca.explained_variance_ratio_\n",
    "print(f'Explained variance (first 20 components): {np.round(var_exp[:20],3)}')\n",
    "\n",
    "print('')\n",
    "\n",
    "# Generate the cumulative explained variance.\n",
    "cum_var_exp = np.cumsum(var_exp)\n",
    "print(f'Cumulative explained variance (first 20 components): {np.round(cum_var_exp[:20],3)}')"
   ]
  },
  {
   "cell_type": "code",
   "execution_count": 46,
   "metadata": {},
   "outputs": [
    {
     "data": {
      "image/png": "[encoded data removed]",
      "text/plain": [
       "<Figure size 864x576 with 1 Axes>"
      ]
     },
     "metadata": {
      "needs_background": "light"
     },
     "output_type": "display_data"
    }
   ],
   "source": [
    "# Plot the variance explained (and cumulative variance explained).\n",
    "\n",
    "# Set figure size.\n",
    "plt.figure(figsize=(12,8))\n",
    "\n",
    "# Plot the explained variance.\n",
    "plt.plot(range(len(var_exp)), var_exp, lw=3, label = 'Variance Explained')\n",
    "\n",
    "# Plot the cumulative explained variance.\n",
    "plt.plot(range(len(var_exp)), cum_var_exp, lw=3, color = 'orange', label = 'Cumulative Variance Explained')\n",
    "\n",
    "\n",
    "# Add horizontal lines at y=0 and y=1.\n",
    "plt.axhline(y=0, linewidth=1, color='grey', ls='dashed')\n",
    "plt.axhline(y=1, linewidth=1, color='grey', ls='dashed')\n",
    "\n",
    "# Set the limits of the axes.\n",
    "plt.xlim([-1,21])\n",
    "plt.ylim([-0.01,1.01])\n",
    "\n",
    "# Label the axes.\n",
    "plt.ylabel('Variance Explained', fontsize=20)\n",
    "plt.xlabel('Principal Component', fontsize=20)\n",
    "\n",
    "# Make the tick labels bigger\n",
    "plt.xticks(range(0, 21, 5), range(1, 22, 5), fontsize=12)\n",
    "plt.yticks(fontsize=12)\n",
    "    \n",
    "# Add title and legend.\n",
    "plt.title('Component vs. Variance Explained', fontsize=24)\n",
    "plt.legend(fontsize=11);"
   ]
  },
  {
   "cell_type": "code",
   "execution_count": 47,
   "metadata": {},
   "outputs": [
    {
     "data": {
      "text/plain": [
       "PCA(copy=True, iterated_power='auto', n_components=10, random_state=42,\n",
       "    svd_solver='auto', tol=0.0, whiten=False)"
      ]
     },
     "execution_count": 47,
     "metadata": {},
     "output_type": "execute_result"
    }
   ],
   "source": [
    "# Instantiate PCA with 10 components.\n",
    "pca = PCA(n_components = 10, random_state = 42)\n",
    "\n",
    "# Fit PCA to training data.\n",
    "pca.fit(X_train)"
   ]
  },
  {
   "cell_type": "code",
   "execution_count": 48,
   "metadata": {},
   "outputs": [
    {
     "name": "stdout",
     "output_type": "stream",
     "text": [
      "Training Score: 0.5761\n",
      "Testing Score: -0.5426\n"
     ]
    }
   ],
   "source": [
    "# Instantiate and fit model\n",
    "lr = LinearRegression()\n",
    "\n",
    "# Transform Z_train and Z_test.\n",
    "Z_train = pca.transform(X_train)\n",
    "Z_test = pca.transform(X_test)\n",
    "\n",
    "# Fit on Z_train.\n",
    "lr.fit(Z_train, y_train)\n",
    "\n",
    "# Score on training and testing sets.\n",
    "print(f'Training Score: {round(lr.score(Z_train, y_train),4)}')\n",
    "print(f'Testing Score: {round(lr.score(Z_test, y_test),4)}')"
   ]
  },
  {
   "cell_type": "code",
   "execution_count": null,
   "metadata": {},
   "outputs": [],
   "source": []
  },
  {
   "cell_type": "code",
   "execution_count": null,
   "metadata": {},
   "outputs": [],
   "source": []
  },
  {
   "cell_type": "code",
   "execution_count": null,
   "metadata": {},
   "outputs": [],
   "source": []
  },
  {
   "cell_type": "code",
   "execution_count": 49,
   "metadata": {},
   "outputs": [],
   "source": [
    "# Define X and y\n",
    "X = df_comb.drop(columns=['neighborhood', 'price_group'])\n",
    "y = df_comb['price_group']"
   ]
  },
  {
   "cell_type": "code",
   "execution_count": 50,
   "metadata": {},
   "outputs": [],
   "source": [
    "# Instantiate and fit model\n",
    "pca = PCA(svd_solver='auto', random_state=0)\n",
    "X_pca = pca.fit_transform(scale(X))"
   ]
  },
  {
   "cell_type": "code",
   "execution_count": 51,
   "metadata": {},
   "outputs": [],
   "source": [
    "n_component_list = range(1, 51)\n",
    "r2_list = []\n",
    "mse_list = []\n",
    "\n",
    "# Second, Linear Regression\n",
    "for i in n_component_list:\n",
    "    lr = LinearRegression()\n",
    "    X_train, X_test, y_train, y_test = train_test_split(X_pca[:,:i], y, test_size=0.2, random_state=0)\n",
    "    model = lr.fit(X_train, y_train)\n",
    "    # check the result\n",
    "    y_pred = lr.predict(X_test)\n",
    "    r2 = r2_score(y_test, y_pred) # r2 score\n",
    "    mse = mean_squared_error(y_test, y_pred) # mse\n",
    "    r2_list.append(r2)\n",
    "    mse_list.append(mse)\n",
    "    \n",
    "scores_df = pd.DataFrame.from_dict(dict([('NComponents', n_component_list),\n",
    "                                        ('R2', r2_list),\n",
    "                                        ('MSE', mse_list)]))\n",
    "scores_df.set_index('NComponents', inplace=True)"
   ]
  },
  {
   "cell_type": "code",
   "execution_count": 52,
   "metadata": {},
   "outputs": [
    {
     "data": {
      "image/png": "[encoded data removed]",
      "text/plain": [
       "<Figure size 432x288 with 2 Axes>"
      ]
     },
     "metadata": {
      "needs_background": "light"
     },
     "output_type": "display_data"
    }
   ],
   "source": [
    "# plot the scores to see the best n_components\n",
    "plt.subplot(1, 3, 1)\n",
    "scores_df['R2'].plot(kind='line')\n",
    "plt.title('R2 score / n components')\n",
    "plt.ylabel('R2 score')\n",
    "plt.xlabel('n components')\n",
    "\n",
    "plt.subplot(1, 3, 3)\n",
    "scores_df['MSE'].plot(kind='line')\n",
    "plt.title('MSE score / n components')\n",
    "plt.ylabel('MSE score')\n",
    "plt.xlabel('n components')\n",
    "\n",
    "plt.show()"
   ]
  },
  {
   "cell_type": "code",
   "execution_count": 53,
   "metadata": {},
   "outputs": [
    {
     "name": "stdout",
     "output_type": "stream",
     "text": [
      "Best n: 7 R2 score: 0.23021842891698496\n",
      "Best n: 7 MSE: 0.18041755572258164\n"
     ]
    }
   ],
   "source": [
    "\n",
    "r2_max = scores_df['R2'].idxmax()\n",
    "print(\"Best n:\", r2_max, \"R2 score:\", scores_df['R2'][r2_max])\n",
    "\n",
    "mse_min = scores_df['MSE'].idxmin()\n",
    "print(\"Best n:\", mse_min, \"MSE:\", scores_df['MSE'][mse_min])"
   ]
  },
  {
   "cell_type": "code",
   "execution_count": 54,
   "metadata": {},
   "outputs": [
    {
     "name": "stdout",
     "output_type": "stream",
     "text": [
      "R2 score: 0.23021842891698496\n",
      "MSE: 0.18041755572258164\n"
     ]
    }
   ],
   "source": [
    "# Use the best n_components parameter\n",
    "lr = LinearRegression()\n",
    "X_train, X_test, y_train, y_test = train_test_split(X_pca[:,:r2_max], y, test_size=0.2, random_state=0)\n",
    "model = lr.fit(X_train, y_train)\n",
    "\n",
    "# check the result\n",
    "y_pred = lr.predict(X_test)\n",
    "r2 = r2_score(y_test, y_pred) # r2 score\n",
    "mse = mean_squared_error(y_test, y_pred) # mse\n",
    "print(\"R2 score:\", r2)\n",
    "print(\"MSE:\", mse)"
   ]
  },
  {
   "cell_type": "code",
   "execution_count": 55,
   "metadata": {},
   "outputs": [
    {
     "data": {
      "text/plain": [
       "(263,)"
      ]
     },
     "execution_count": 55,
     "metadata": {},
     "output_type": "execute_result"
    }
   ],
   "source": [
    "# Let's try to project the coefs back to the original number of features\n",
    "eigenvectors = pca.components_\n",
    "pcr_coefs = eigenvectors[:r2_max, :].T @ lr.coef_\n",
    "\n",
    "pcr_coefs.shape"
   ]
  },
  {
   "cell_type": "code",
   "execution_count": 56,
   "metadata": {},
   "outputs": [
    {
     "name": "stdout",
     "output_type": "stream",
     "text": [
      "\n",
      "Max positive coefs: [0.01259863 0.01207248 0.01133876 0.0107604  0.01068665 0.01063326\n",
      " 0.01048673 0.01031995 0.01011112 0.01009836]\n",
      "\n",
      "Venue types with most positive effect: ['Italian Restaurant' 'Art Gallery' 'Seafood Restaurant' 'Ice Cream Shop'\n",
      " 'Spa' 'Gift Shop' 'Arts & Crafts Store' 'Pet Store' 'Boutique'\n",
      " 'African Restaurant']\n",
      "\n",
      "Max negative coefs: [-0.01051495 -0.01051495 -0.01051495 -0.01044824 -0.00926685 -0.00870123\n",
      " -0.00844356 -0.00842294 -0.0083876  -0.00837617]\n",
      "\n",
      "Venue types with most negative effect: ['Pool Hall' 'Camera Store' 'Auto Dealership' 'Bagel Shop'\n",
      " 'Indian Restaurant' 'Home Service' 'Storage Facility' 'Burrito Place'\n",
      " 'Winery' 'Toy / Game Store']\n",
      "\n",
      "Min coefs: [-7.67178138e-05 -9.50939824e-05 -1.33901987e-04 -1.55390064e-04\n",
      " -1.55390064e-04 -1.55390064e-04  1.66787217e-04 -1.71188410e-04\n",
      " -1.71188410e-04 -1.71188410e-04]\n",
      "\n",
      "Venue types with least effect: ['Playground' 'Platform' 'Tennis Court' 'Kitchen Supply Store'\n",
      " 'Golf Driving Range' 'Department Store' 'Pool' 'Medical Center'\n",
      " 'Science Museum' 'Irish Pub']\n"
     ]
    }
   ],
   "source": [
    "# Let's check which venue types effect the most and least\n",
    "print('\\nMax positive coefs:', pcr_coefs[np.argsort(-pcr_coefs)[:10]])\n",
    "print('\\nVenue types with most positive effect:', X.columns[np.argsort(-pcr_coefs)[:10]].values)\n",
    "print('\\nMax negative coefs:', pcr_coefs[np.argsort(pcr_coefs)[:10]])\n",
    "print('\\nVenue types with most negative effect:', X.columns[np.argsort(pcr_coefs)[:10]].values)\n",
    "coef_abs = abs(pcr_coefs)\n",
    "print('\\nMin coefs:', pcr_coefs[np.argsort(coef_abs)[:10]])\n",
    "print('\\nVenue types with least effect:', X.columns[np.argsort(coef_abs)[:10]].values)"
   ]
  },
  {
   "cell_type": "code",
   "execution_count": null,
   "metadata": {},
   "outputs": [],
   "source": []
  },
  {
   "cell_type": "code",
   "execution_count": 57,
   "metadata": {},
   "outputs": [],
   "source": [
    "X = df_comb.drop(columns=['neighborhood', 'price_group'])\n",
    "y = df_comb['price_group']"
   ]
  },
  {
   "cell_type": "code",
   "execution_count": 58,
   "metadata": {},
   "outputs": [],
   "source": [
    "# Train/test split \n",
    "X_train, X_test, y_train, y_test = train_test_split(X, y, test_size=0.2, random_state=0)"
   ]
  },
  {
   "cell_type": "code",
   "execution_count": 59,
   "metadata": {},
   "outputs": [],
   "source": [
    "# # Scale data\n",
    "# sc = StandardScaler()\n",
    "# X_train = sc.fit_transform(X_train)\n",
    "# X_test = sc.transform(X_test)"
   ]
  },
  {
   "cell_type": "markdown",
   "metadata": {},
   "source": [
    "#### SVD Model"
   ]
  },
  {
   "cell_type": "code",
   "execution_count": 60,
   "metadata": {},
   "outputs": [
    {
     "data": {
      "text/plain": [
       "SVC(C=1.0, break_ties=False, cache_size=200, class_weight=None, coef0=0.0,\n",
       "    decision_function_shape='ovr', degree=3, gamma='scale', kernel='rbf',\n",
       "    max_iter=-1, probability=False, random_state=None, shrinking=True,\n",
       "    tol=0.001, verbose=False)"
      ]
     },
     "execution_count": 60,
     "metadata": {},
     "output_type": "execute_result"
    }
   ],
   "source": [
    "from sklearn import svm\n",
    "SVM_model = svm.SVC()\n",
    "SVM_model.fit(X_train, y_train) "
   ]
  },
  {
   "cell_type": "code",
   "execution_count": 61,
   "metadata": {},
   "outputs": [
    {
     "data": {
      "text/plain": [
       "array([0, 1, 0, 0, 1, 1, 0, 0])"
      ]
     },
     "execution_count": 61,
     "metadata": {},
     "output_type": "execute_result"
    }
   ],
   "source": [
    "yhat = SVM_model.predict(X_test)\n",
    "yhat"
   ]
  },
  {
   "cell_type": "code",
   "execution_count": 62,
   "metadata": {},
   "outputs": [
    {
     "name": "stdout",
     "output_type": "stream",
     "text": [
      "SVM Jaccard index: 0.50\n",
      "SVM F1-score: 0.50\n"
     ]
    },
    {
     "name": "stderr",
     "output_type": "stream",
     "text": [
      "/opt/anaconda3/envs/dsi/lib/python3.7/site-packages/sklearn/metrics/_classification.py:664: FutureWarning: jaccard_similarity_score has been deprecated and replaced with jaccard_score. It will be removed in version 0.23. This implementation has surprising behavior for binary and multiclass classification tasks.\n",
      "  FutureWarning)\n"
     ]
    }
   ],
   "source": [
    "SVM_yhat = SVM_model.predict(X_test)\n",
    "print(\"SVM Jaccard index: %.2f\" % jaccard_similarity_score(y_test, SVM_yhat))\n",
    "print(\"SVM F1-score: %.2f\" % f1_score(y_test, SVM_yhat, average='weighted') )"
   ]
  },
  {
   "cell_type": "markdown",
   "metadata": {},
   "source": [
    "#### knn"
   ]
  },
  {
   "cell_type": "code",
   "execution_count": 63,
   "metadata": {},
   "outputs": [
    {
     "name": "stdout",
     "output_type": "stream",
     "text": [
      "Train set: (29, 263) (29,)\n",
      "Test set: (8, 263) (8,)\n"
     ]
    }
   ],
   "source": [
    "X_train, X_test, y_train, y_test = train_test_split(X, y, test_size=0.2, random_state=0)\n",
    "print ('Train set:', X_train.shape,  y_train.shape)\n",
    "print ('Test set:', X_test.shape,  y_test.shape)"
   ]
  },
  {
   "cell_type": "code",
   "execution_count": 64,
   "metadata": {},
   "outputs": [
    {
     "data": {
      "text/plain": [
       "KNeighborsClassifier(algorithm='auto', leaf_size=30, metric='minkowski',\n",
       "                     metric_params=None, n_jobs=None, n_neighbors=3, p=2,\n",
       "                     weights='uniform')"
      ]
     },
     "execution_count": 64,
     "metadata": {},
     "output_type": "execute_result"
    }
   ],
   "source": [
    "# Modeling\n",
    "from sklearn.neighbors import KNeighborsClassifier\n",
    "k = 3\n",
    "#Train Model and Predict  \n",
    "kNN_model = KNeighborsClassifier(n_neighbors=k).fit(X_train,y_train)\n",
    "kNN_model"
   ]
  },
  {
   "cell_type": "code",
   "execution_count": 65,
   "metadata": {},
   "outputs": [
    {
     "data": {
      "text/plain": [
       "array([0, 1, 0, 0, 1])"
      ]
     },
     "execution_count": 65,
     "metadata": {},
     "output_type": "execute_result"
    }
   ],
   "source": [
    "yhat = kNN_model.predict(X_test)\n",
    "yhat[0:5]"
   ]
  },
  {
   "cell_type": "code",
   "execution_count": 66,
   "metadata": {},
   "outputs": [
    {
     "data": {
      "text/plain": [
       "array([0.625, 0.375, 0.375, 0.375, 0.375, 0.375, 0.375, 0.375, 0.375,\n",
       "       0.375, 0.375, 0.375, 0.375, 0.25 ])"
      ]
     },
     "execution_count": 66,
     "metadata": {},
     "output_type": "execute_result"
    }
   ],
   "source": [
    "# Best k\n",
    "Ks=15\n",
    "mean_acc=np.zeros((Ks-1))\n",
    "std_acc=np.zeros((Ks-1))\n",
    "ConfustionMx=[];\n",
    "for n in range(1,Ks):\n",
    "    \n",
    "    #Train Model and Predict  \n",
    "    kNN_model = KNeighborsClassifier(n_neighbors=n).fit(X_train,y_train)\n",
    "    yhat = kNN_model.predict(X_test)\n",
    "    \n",
    "    \n",
    "    mean_acc[n-1]=np.mean(yhat==y_test);\n",
    "    \n",
    "    std_acc[n-1]=np.std(yhat==y_test)/np.sqrt(yhat.shape[0])\n",
    "mean_acc"
   ]
  },
  {
   "cell_type": "code",
   "execution_count": 67,
   "metadata": {},
   "outputs": [
    {
     "data": {
      "text/plain": [
       "KNeighborsClassifier(algorithm='auto', leaf_size=30, metric='minkowski',\n",
       "                     metric_params=None, n_jobs=None, n_neighbors=7, p=2,\n",
       "                     weights='uniform')"
      ]
     },
     "execution_count": 67,
     "metadata": {},
     "output_type": "execute_result"
    }
   ],
   "source": [
    "# Building the model again, using k=7\n",
    "from sklearn.neighbors import KNeighborsClassifier\n",
    "k = 7\n",
    "#Train Model and Predict  \n",
    "kNN_model = KNeighborsClassifier(n_neighbors=k).fit(X_train,y_train)\n",
    "kNN_model"
   ]
  },
  {
   "cell_type": "code",
   "execution_count": 68,
   "metadata": {},
   "outputs": [
    {
     "name": "stdout",
     "output_type": "stream",
     "text": [
      "KNN Jaccard index: 0.38\n",
      "KNN F1-score: 0.35\n"
     ]
    },
    {
     "name": "stderr",
     "output_type": "stream",
     "text": [
      "/opt/anaconda3/envs/dsi/lib/python3.7/site-packages/sklearn/metrics/_classification.py:664: FutureWarning: jaccard_similarity_score has been deprecated and replaced with jaccard_score. It will be removed in version 0.23. This implementation has surprising behavior for binary and multiclass classification tasks.\n",
      "  FutureWarning)\n"
     ]
    }
   ],
   "source": [
    "knn_yhat = kNN_model.predict(X_test)\n",
    "print(\"KNN Jaccard index: %.2f\" % jaccard_similarity_score(y_test, knn_yhat))\n",
    "print(\"KNN F1-score: %.2f\" % f1_score(y_test, knn_yhat, average='weighted'))"
   ]
  },
  {
   "cell_type": "markdown",
   "metadata": {},
   "source": [
    "#### Decision Tree"
   ]
  },
  {
   "cell_type": "code",
   "execution_count": 69,
   "metadata": {},
   "outputs": [
    {
     "data": {
      "text/plain": [
       "DecisionTreeClassifier(ccp_alpha=0.0, class_weight=None, criterion='entropy',\n",
       "                       max_depth=4, max_features=None, max_leaf_nodes=None,\n",
       "                       min_impurity_decrease=0.0, min_impurity_split=None,\n",
       "                       min_samples_leaf=1, min_samples_split=2,\n",
       "                       min_weight_fraction_leaf=0.0, presort='deprecated',\n",
       "                       random_state=None, splitter='best')"
      ]
     },
     "execution_count": 69,
     "metadata": {},
     "output_type": "execute_result"
    }
   ],
   "source": [
    "from sklearn.tree import DecisionTreeClassifier\n",
    "DT_model = DecisionTreeClassifier(criterion=\"entropy\", max_depth = 4)\n",
    "DT_model.fit(X_train,y_train)\n",
    "DT_model"
   ]
  },
  {
   "cell_type": "code",
   "execution_count": 70,
   "metadata": {},
   "outputs": [
    {
     "data": {
      "text/plain": [
       "array([1, 1, 0, 1, 0, 0, 1, 0])"
      ]
     },
     "execution_count": 70,
     "metadata": {},
     "output_type": "execute_result"
    }
   ],
   "source": [
    "yhat = DT_model.predict(X_test)\n",
    "yhat"
   ]
  },
  {
   "cell_type": "code",
   "execution_count": 71,
   "metadata": {},
   "outputs": [
    {
     "name": "stdout",
     "output_type": "stream",
     "text": [
      "DT Jaccard index: 0.62\n",
      "DT F1-score: 0.63\n"
     ]
    },
    {
     "name": "stderr",
     "output_type": "stream",
     "text": [
      "/opt/anaconda3/envs/dsi/lib/python3.7/site-packages/sklearn/metrics/_classification.py:664: FutureWarning: jaccard_similarity_score has been deprecated and replaced with jaccard_score. It will be removed in version 0.23. This implementation has surprising behavior for binary and multiclass classification tasks.\n",
      "  FutureWarning)\n"
     ]
    }
   ],
   "source": [
    "DT_yhat = DT_model.predict(X_test)\n",
    "print(\"DT Jaccard index: %.2f\" % jaccard_similarity_score(y_test, DT_yhat))\n",
    "print(\"DT F1-score: %.2f\" % f1_score(y_test, DT_yhat, average='weighted'))"
   ]
  },
  {
   "cell_type": "markdown",
   "metadata": {},
   "source": [
    "#### Logistic Regression"
   ]
  },
  {
   "cell_type": "code",
   "execution_count": 72,
   "metadata": {},
   "outputs": [
    {
     "data": {
      "text/plain": [
       "LogisticRegression(C=0.01, class_weight=None, dual=False, fit_intercept=True,\n",
       "                   intercept_scaling=1, l1_ratio=None, max_iter=100,\n",
       "                   multi_class='auto', n_jobs=None, penalty='l2',\n",
       "                   random_state=None, solver='lbfgs', tol=0.0001, verbose=0,\n",
       "                   warm_start=False)"
      ]
     },
     "execution_count": 72,
     "metadata": {},
     "output_type": "execute_result"
    }
   ],
   "source": [
    "from sklearn.linear_model import LogisticRegression\n",
    "LR_model = LogisticRegression(C=0.01).fit(X_train,y_train)\n",
    "LR_model"
   ]
  },
  {
   "cell_type": "code",
   "execution_count": 73,
   "metadata": {},
   "outputs": [
    {
     "data": {
      "text/plain": [
       "array([0, 1, 0, 0, 1, 0, 0, 0])"
      ]
     },
     "execution_count": 73,
     "metadata": {},
     "output_type": "execute_result"
    }
   ],
   "source": [
    "yhat = LR_model.predict(X_test)\n",
    "yhat"
   ]
  },
  {
   "cell_type": "code",
   "execution_count": 74,
   "metadata": {},
   "outputs": [
    {
     "name": "stdout",
     "output_type": "stream",
     "text": [
      "LR Jaccard index: 0.38\n",
      "LR F1-score: 0.35\n",
      "LR LogLoss: 0.70\n"
     ]
    },
    {
     "name": "stderr",
     "output_type": "stream",
     "text": [
      "/opt/anaconda3/envs/dsi/lib/python3.7/site-packages/sklearn/metrics/_classification.py:664: FutureWarning: jaccard_similarity_score has been deprecated and replaced with jaccard_score. It will be removed in version 0.23. This implementation has surprising behavior for binary and multiclass classification tasks.\n",
      "  FutureWarning)\n"
     ]
    }
   ],
   "source": [
    "LR_yhat = LR_model.predict(X_test)\n",
    "LR_yhat_prob = LR_model.predict_proba(X_test)\n",
    "print(\"LR Jaccard index: %.2f\" % jaccard_similarity_score(y_test, LR_yhat))\n",
    "print(\"LR F1-score: %.2f\" % f1_score(y_test, LR_yhat, average='weighted'))\n",
    "print(\"LR LogLoss: %.2f\" % log_loss(y_test, LR_yhat_prob))"
   ]
  },
  {
   "cell_type": "code",
   "execution_count": null,
   "metadata": {},
   "outputs": [],
   "source": []
  },
  {
   "cell_type": "code",
   "execution_count": null,
   "metadata": {},
   "outputs": [],
   "source": []
  },
  {
   "cell_type": "code",
   "execution_count": null,
   "metadata": {},
   "outputs": [],
   "source": []
  }
 ],
 "metadata": {
  "kernelspec": {
   "display_name": "Python 3",
   "language": "python",
   "name": "python3"
  },
  "language_info": {
   "codemirror_mode": {
    "name": "ipython",
    "version": 3
   },
   "file_extension": ".py",
   "mimetype": "text/x-python",
   "name": "python",
   "nbconvert_exporter": "python",
   "pygments_lexer": "ipython3",
   "version": "3.7.6"
  }
 },
 "nbformat": 4,
 "nbformat_minor": 4
}
