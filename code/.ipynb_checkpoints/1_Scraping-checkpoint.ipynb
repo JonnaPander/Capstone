{
 "cells": [
  {
   "cell_type": "code",
   "execution_count": 1,
   "metadata": {},
   "outputs": [],
   "source": [
    "# import libraries\n",
    "\n",
    "import pandas as pd \n",
    "import numpy as np \n",
    "import matplotlib.cm as cm\n",
    "import matplotlib.colors as colors\n",
    "import matplotlib.pyplot as plt\n",
    "import seaborn as sns\n",
    "\n",
    "import requests \n",
    "import time\n",
    "from bs4 import BeautifulSoup\n",
    "from urllib.request import urlopen\n",
    "import json # If reading in data from Json file\n",
    "from pandas.io.json import json_normalize # tranform JSON file into a pandas dataframe\n",
    "import folium # maps\n",
    "from geopy.geocoders import Nominatim # uses address to get lat/long\n",
    "\n",
    "# Installations\n",
    "#!conda install -c conda-forge geopy \n",
    "#!conda install -c conda-forge folium=0.5.0 "
   ]
  },
  {
   "cell_type": "markdown",
   "metadata": {},
   "source": [
    "#  Data Acquisition"
   ]
  },
  {
   "cell_type": "markdown",
   "metadata": {},
   "source": [
    "#### Scrape Wikipedia for Names of Neighborhoods in Austin"
   ]
  },
  {
   "cell_type": "code",
   "execution_count": 2,
   "metadata": {},
   "outputs": [
    {
     "data": {
      "text/html": [
       "<div>\n",
       "<style scoped>\n",
       "    .dataframe tbody tr th:only-of-type {\n",
       "        vertical-align: middle;\n",
       "    }\n",
       "\n",
       "    .dataframe tbody tr th {\n",
       "        vertical-align: top;\n",
       "    }\n",
       "\n",
       "    .dataframe thead th {\n",
       "        text-align: right;\n",
       "    }\n",
       "</style>\n",
       "<table border=\"1\" class=\"dataframe\">\n",
       "  <thead>\n",
       "    <tr style=\"text-align: right;\">\n",
       "      <th></th>\n",
       "      <th>neighborhood</th>\n",
       "    </tr>\n",
       "  </thead>\n",
       "  <tbody>\n",
       "    <tr>\n",
       "      <th>0</th>\n",
       "      <td>Allandale</td>\n",
       "    </tr>\n",
       "    <tr>\n",
       "      <th>1</th>\n",
       "      <td>Anderson Mill</td>\n",
       "    </tr>\n",
       "    <tr>\n",
       "      <th>2</th>\n",
       "      <td>Barton Hills</td>\n",
       "    </tr>\n",
       "    <tr>\n",
       "      <th>3</th>\n",
       "      <td>Blackland</td>\n",
       "    </tr>\n",
       "    <tr>\n",
       "      <th>4</th>\n",
       "      <td>Bouldin Creek</td>\n",
       "    </tr>\n",
       "  </tbody>\n",
       "</table>\n",
       "</div>"
      ],
      "text/plain": [
       "    neighborhood\n",
       "0      Allandale\n",
       "1  Anderson Mill\n",
       "2   Barton Hills\n",
       "3      Blackland\n",
       "4  Bouldin Creek"
      ]
     },
     "execution_count": 2,
     "metadata": {},
     "output_type": "execute_result"
    }
   ],
   "source": [
    "# scrape list of Austin neighborhoods\n",
    "\n",
    "neighborhoods = []\n",
    "\n",
    "url = 'https://en.wikipedia.org/wiki/List_of_Austin_neighborhoods'\n",
    "res = requests.get(url)\n",
    "if res.status_code == 200:\n",
    "    soup = BeautifulSoup(res.content, 'lxml')\n",
    "    div = soup.find_all('div', {'style': 'padding:0em 0.25em'})[13]\n",
    "    for li in div.find_all('li'):\n",
    "        name = li.text\n",
    "        neighborhoods.append(name)\n",
    "\n",
    "df = pd.DataFrame({'neighborhood': neighborhoods})  \n",
    "df.head()"
   ]
  },
  {
   "cell_type": "markdown",
   "metadata": {},
   "source": [
    "Here I am editing the name of some of the neighborhoods to match what is in the neighborhoods.com sales data to test if geopy can locate coordinates based on the name change. I previously ran geopy with the original neighborhood name from the Wikipedia scrape which did not return results."
   ]
  },
  {
   "cell_type": "code",
   "execution_count": 3,
   "metadata": {},
   "outputs": [],
   "source": [
    "# Rename neighborhoods for searchability\n",
    "df.loc[26,'neighborhood'] = 'Hyde Park'\n",
    "df.loc[30,'neighborhood'] = 'Mueller'\n",
    "df.loc[31,'neighborhood'] = 'North Burnet'"
   ]
  },
  {
   "cell_type": "code",
   "execution_count": 4,
   "metadata": {},
   "outputs": [
    {
     "data": {
      "text/html": [
       "<div>\n",
       "<style scoped>\n",
       "    .dataframe tbody tr th:only-of-type {\n",
       "        vertical-align: middle;\n",
       "    }\n",
       "\n",
       "    .dataframe tbody tr th {\n",
       "        vertical-align: top;\n",
       "    }\n",
       "\n",
       "    .dataframe thead th {\n",
       "        text-align: right;\n",
       "    }\n",
       "</style>\n",
       "<table border=\"1\" class=\"dataframe\">\n",
       "  <thead>\n",
       "    <tr style=\"text-align: right;\">\n",
       "      <th></th>\n",
       "      <th>neighborhood</th>\n",
       "      <th>location</th>\n",
       "    </tr>\n",
       "  </thead>\n",
       "  <tbody>\n",
       "    <tr>\n",
       "      <th>0</th>\n",
       "      <td>Allandale</td>\n",
       "      <td>Allandale, Austin, Texas</td>\n",
       "    </tr>\n",
       "    <tr>\n",
       "      <th>1</th>\n",
       "      <td>Anderson Mill</td>\n",
       "      <td>Anderson Mill, Austin, Texas</td>\n",
       "    </tr>\n",
       "    <tr>\n",
       "      <th>2</th>\n",
       "      <td>Barton Hills</td>\n",
       "      <td>Barton Hills, Austin, Texas</td>\n",
       "    </tr>\n",
       "    <tr>\n",
       "      <th>3</th>\n",
       "      <td>Blackland</td>\n",
       "      <td>Blackland, Austin, Texas</td>\n",
       "    </tr>\n",
       "    <tr>\n",
       "      <th>4</th>\n",
       "      <td>Bouldin Creek</td>\n",
       "      <td>Bouldin Creek, Austin, Texas</td>\n",
       "    </tr>\n",
       "  </tbody>\n",
       "</table>\n",
       "</div>"
      ],
      "text/plain": [
       "    neighborhood                      location\n",
       "0      Allandale      Allandale, Austin, Texas\n",
       "1  Anderson Mill  Anderson Mill, Austin, Texas\n",
       "2   Barton Hills   Barton Hills, Austin, Texas\n",
       "3      Blackland      Blackland, Austin, Texas\n",
       "4  Bouldin Creek  Bouldin Creek, Austin, Texas"
      ]
     },
     "execution_count": 4,
     "metadata": {},
     "output_type": "execute_result"
    }
   ],
   "source": [
    "# Create columns with 'neighborhood' + 'Austin, Texas' as location to search for lat/long\n",
    "\n",
    "locations = []\n",
    "\n",
    "for name in df['neighborhood']:\n",
    "    location = name + ', Austin, Texas'\n",
    "    locations.append(location)\n",
    "\n",
    "df['location'] = locations\n",
    "df.head()"
   ]
  },
  {
   "cell_type": "code",
   "execution_count": 5,
   "metadata": {},
   "outputs": [
    {
     "data": {
      "text/plain": [
       "neighborhood    0\n",
       "location        0\n",
       "dtype: int64"
      ]
     },
     "execution_count": 5,
     "metadata": {},
     "output_type": "execute_result"
    }
   ],
   "source": [
    "# Check for nulls\n",
    "df.isnull().sum()"
   ]
  },
  {
   "cell_type": "code",
   "execution_count": 6,
   "metadata": {},
   "outputs": [
    {
     "data": {
      "text/plain": [
       "(59, 2)"
      ]
     },
     "execution_count": 6,
     "metadata": {},
     "output_type": "execute_result"
    }
   ],
   "source": [
    "# View shape\n",
    "df.shape"
   ]
  },
  {
   "cell_type": "markdown",
   "metadata": {},
   "source": [
    "#### Obtain Lat/Long Data"
   ]
  },
  {
   "cell_type": "markdown",
   "metadata": {},
   "source": [
    "This code uses try/except to account for latitudes and longitudes that cannot be found with the geopy library. This is a limitation of using this package. Geopy documentation can be found here: https://geopy.readthedocs.io/en/stable/"
   ]
  },
  {
   "cell_type": "code",
   "execution_count": 7,
   "metadata": {},
   "outputs": [
    {
     "name": "stdout",
     "output_type": "stream",
     "text": [
      "Problem with Bremond Block Historic District data or cannot Geocode\n",
      "Problem with Moore's Crossing Historic District data or cannot Geocode\n",
      "Problem with Shadow Lawn Historic District data or cannot Geocode\n",
      "Problem with Spyglass-Barton's Bluff data or cannot Geocode\n",
      "Problem with Willow-Spence Streets data or cannot Geocode\n"
     ]
    }
   ],
   "source": [
    "# Look up lat/long with geopy library\n",
    "\n",
    "lats = []\n",
    "longs = []\n",
    "    \n",
    "for name in df['neighborhood']:\n",
    "    neighborhood = name + ', Austin, Texas'\n",
    "    geolocator = Nominatim(user_agent = 'foursquare_agent')\n",
    "    try:\n",
    "        location = geolocator.geocode(neighborhood)\n",
    "        lat = location.latitude\n",
    "        long = location.longitude \n",
    "        lats.append(lat)\n",
    "        longs.append(long)\n",
    "    except AttributeError: \n",
    "        print(f'Problem with {name} data or cannot Geocode')"
   ]
  },
  {
   "cell_type": "code",
   "execution_count": 8,
   "metadata": {},
   "outputs": [],
   "source": [
    "# Drop locations cannot obtain lat/long for and do not have sales data for\n",
    "\n",
    "drop_list = ['Bremond Block Historic District', \"Moore's Crossing Historic District\", 'Shadow Lawn Historic District', \"Spyglass-Barton's Bluff\", 'Willow-Spence Streets']\n",
    "\n",
    "for item in drop_list:\n",
    "    df.drop(df[df['neighborhood'] == item].index, inplace = True) "
   ]
  },
  {
   "cell_type": "markdown",
   "metadata": {},
   "source": [
    "Because I will be merging dataframes without a common column name I am resetting the index wherever necessary to be able to merge on the index."
   ]
  },
  {
   "cell_type": "code",
   "execution_count": 9,
   "metadata": {},
   "outputs": [],
   "source": [
    "# Reset index\n",
    "df.reset_index(drop='True', inplace=True)"
   ]
  },
  {
   "cell_type": "code",
   "execution_count": 10,
   "metadata": {},
   "outputs": [
    {
     "data": {
      "text/html": [
       "<div>\n",
       "<style scoped>\n",
       "    .dataframe tbody tr th:only-of-type {\n",
       "        vertical-align: middle;\n",
       "    }\n",
       "\n",
       "    .dataframe tbody tr th {\n",
       "        vertical-align: top;\n",
       "    }\n",
       "\n",
       "    .dataframe thead th {\n",
       "        text-align: right;\n",
       "    }\n",
       "</style>\n",
       "<table border=\"1\" class=\"dataframe\">\n",
       "  <thead>\n",
       "    <tr style=\"text-align: right;\">\n",
       "      <th></th>\n",
       "      <th>neighborhood</th>\n",
       "      <th>location</th>\n",
       "      <th>latitude</th>\n",
       "      <th>longitude</th>\n",
       "    </tr>\n",
       "  </thead>\n",
       "  <tbody>\n",
       "    <tr>\n",
       "      <th>49</th>\n",
       "      <td>West Line</td>\n",
       "      <td>West Line, Austin, Texas</td>\n",
       "      <td>30.424179</td>\n",
       "      <td>-97.739170</td>\n",
       "    </tr>\n",
       "    <tr>\n",
       "      <th>50</th>\n",
       "      <td>Windsor Hills</td>\n",
       "      <td>Windsor Hills, Austin, Texas</td>\n",
       "      <td>30.362072</td>\n",
       "      <td>-97.679214</td>\n",
       "    </tr>\n",
       "    <tr>\n",
       "      <th>51</th>\n",
       "      <td>Windsor Park</td>\n",
       "      <td>Windsor Park, Austin, Texas</td>\n",
       "      <td>30.313549</td>\n",
       "      <td>-97.691095</td>\n",
       "    </tr>\n",
       "    <tr>\n",
       "      <th>52</th>\n",
       "      <td>Wooten</td>\n",
       "      <td>Wooten, Austin, Texas</td>\n",
       "      <td>30.360467</td>\n",
       "      <td>-97.723320</td>\n",
       "    </tr>\n",
       "    <tr>\n",
       "      <th>53</th>\n",
       "      <td>Zilker</td>\n",
       "      <td>Zilker, Austin, Texas</td>\n",
       "      <td>30.254236</td>\n",
       "      <td>-97.769581</td>\n",
       "    </tr>\n",
       "  </tbody>\n",
       "</table>\n",
       "</div>"
      ],
      "text/plain": [
       "     neighborhood                      location   latitude  longitude\n",
       "49      West Line      West Line, Austin, Texas  30.424179 -97.739170\n",
       "50  Windsor Hills  Windsor Hills, Austin, Texas  30.362072 -97.679214\n",
       "51   Windsor Park   Windsor Park, Austin, Texas  30.313549 -97.691095\n",
       "52         Wooten         Wooten, Austin, Texas  30.360467 -97.723320\n",
       "53         Zilker         Zilker, Austin, Texas  30.254236 -97.769581"
      ]
     },
     "execution_count": 10,
     "metadata": {},
     "output_type": "execute_result"
    }
   ],
   "source": [
    "# Populate df with lat/long\n",
    "\n",
    "df['latitude'] = lats\n",
    "df['longitude'] = longs\n",
    "df.tail()"
   ]
  },
  {
   "cell_type": "markdown",
   "metadata": {},
   "source": [
    "When viewing the plotted coordinates on a map, it was clear that some of the coordinates were wrong since they were far outside of Austin.  I used Google Earth to check the coordinates generated by geopy and found following locations that need to be updated."
   ]
  },
  {
   "cell_type": "code",
   "execution_count": 11,
   "metadata": {},
   "outputs": [],
   "source": [
    "# Fix bad coordinates\n",
    "\n",
    "# Canyon Creek\n",
    "df.loc[df['neighborhood'] == 'Canyon Creek', ['latitude']] = 30.434033\n",
    "df.loc[df['neighborhood'] == 'Canyon Creek', ['longitude']] = -97.820708\n",
    "\n",
    "# Cicle C Ranch\n",
    "df.loc[df['neighborhood'] == 'Circle C Ranch', ['latitude']] = 30.190339\n",
    "df.loc[df['neighborhood'] == 'Circle C Ranch', ['longitude']] = -97.88905\n",
    "\n",
    "# Easton Park\n",
    "df.loc[df['neighborhood'] == 'Easton Park', ['latitude']] = 30.155247\n",
    "df.loc[df['neighborhood'] == 'Easton Park', ['longitude']] = -97.718764\n",
    "\n",
    "# Jollyville\n",
    "df.loc[df['neighborhood'] == 'Jollyville', ['latitude']] = 30.462108\n",
    "df.loc[df['neighborhood'] == 'Jollyville', ['longitude']] = -97.737042\n",
    "\n",
    "# Oak Hill\n",
    "df.loc[df['neighborhood'] == 'Oak Hill', ['latitude']] = 30.231431\n",
    "df.loc[df['neighborhood'] == 'Oak Hill', ['longitude']] = -97.865314\n",
    "\n",
    "# Onion Creek\n",
    "df.loc[df['neighborhood'] == 'Onion Creek', ['latitude']] = 30.140056\n",
    "df.loc[df['neighborhood'] == 'Onion Creek', ['longitude']] = -97.781803\n",
    "\n",
    "# Sixth Street\n",
    "df.loc[df['neighborhood'] == 'Sixth Street', ['latitude']] = 30.266225\n",
    "df.loc[df['neighborhood'] == 'Sixth Street', ['longitude']] = -97.738044\n",
    "\n",
    "# Swedish Hill\n",
    "df.loc[df['neighborhood'] == 'Swedish Hill', ['latitude']] = 30.272428\n",
    "df.loc[df['neighborhood'] == 'Swedish Hill', ['longitude']] = -97.756531"
   ]
  },
  {
   "cell_type": "code",
   "execution_count": 12,
   "metadata": {},
   "outputs": [],
   "source": [
    "# Export for Tableau\n",
    "df.to_excel(\"../data/lat_long.xlsx\", index=False)"
   ]
  },
  {
   "cell_type": "markdown",
   "metadata": {},
   "source": [
    "The website uses a specific format for the URL for each neighborhood so I am generating the URL for each neighborhood to get the sales data. "
   ]
  },
  {
   "cell_type": "code",
   "execution_count": 13,
   "metadata": {},
   "outputs": [],
   "source": [
    "# Create column for url format to generate url\n",
    "df['url_format'] = [item.replace(' ','-').lower() for item in df['neighborhood']]"
   ]
  },
  {
   "cell_type": "code",
   "execution_count": 14,
   "metadata": {},
   "outputs": [
    {
     "data": {
      "text/html": [
       "<div>\n",
       "<style scoped>\n",
       "    .dataframe tbody tr th:only-of-type {\n",
       "        vertical-align: middle;\n",
       "    }\n",
       "\n",
       "    .dataframe tbody tr th {\n",
       "        vertical-align: top;\n",
       "    }\n",
       "\n",
       "    .dataframe thead th {\n",
       "        text-align: right;\n",
       "    }\n",
       "</style>\n",
       "<table border=\"1\" class=\"dataframe\">\n",
       "  <thead>\n",
       "    <tr style=\"text-align: right;\">\n",
       "      <th></th>\n",
       "      <th>neighborhood</th>\n",
       "      <th>location</th>\n",
       "      <th>latitude</th>\n",
       "      <th>longitude</th>\n",
       "      <th>url_format</th>\n",
       "    </tr>\n",
       "  </thead>\n",
       "  <tbody>\n",
       "    <tr>\n",
       "      <th>0</th>\n",
       "      <td>Allandale</td>\n",
       "      <td>Allandale, Austin, Texas</td>\n",
       "      <td>30.339309</td>\n",
       "      <td>-97.746972</td>\n",
       "      <td>allandale</td>\n",
       "    </tr>\n",
       "    <tr>\n",
       "      <th>1</th>\n",
       "      <td>Anderson Mill</td>\n",
       "      <td>Anderson Mill, Austin, Texas</td>\n",
       "      <td>30.455835</td>\n",
       "      <td>-97.807096</td>\n",
       "      <td>anderson-mill</td>\n",
       "    </tr>\n",
       "    <tr>\n",
       "      <th>2</th>\n",
       "      <td>Barton Hills</td>\n",
       "      <td>Barton Hills, Austin, Texas</td>\n",
       "      <td>30.251571</td>\n",
       "      <td>-97.784106</td>\n",
       "      <td>barton-hills</td>\n",
       "    </tr>\n",
       "    <tr>\n",
       "      <th>3</th>\n",
       "      <td>Blackland</td>\n",
       "      <td>Blackland, Austin, Texas</td>\n",
       "      <td>30.281491</td>\n",
       "      <td>-97.720924</td>\n",
       "      <td>blackland</td>\n",
       "    </tr>\n",
       "    <tr>\n",
       "      <th>4</th>\n",
       "      <td>Bouldin Creek</td>\n",
       "      <td>Bouldin Creek, Austin, Texas</td>\n",
       "      <td>30.255667</td>\n",
       "      <td>-97.755481</td>\n",
       "      <td>bouldin-creek</td>\n",
       "    </tr>\n",
       "  </tbody>\n",
       "</table>\n",
       "</div>"
      ],
      "text/plain": [
       "    neighborhood                      location   latitude  longitude  \\\n",
       "0      Allandale      Allandale, Austin, Texas  30.339309 -97.746972   \n",
       "1  Anderson Mill  Anderson Mill, Austin, Texas  30.455835 -97.807096   \n",
       "2   Barton Hills   Barton Hills, Austin, Texas  30.251571 -97.784106   \n",
       "3      Blackland      Blackland, Austin, Texas  30.281491 -97.720924   \n",
       "4  Bouldin Creek  Bouldin Creek, Austin, Texas  30.255667 -97.755481   \n",
       "\n",
       "      url_format  \n",
       "0      allandale  \n",
       "1  anderson-mill  \n",
       "2   barton-hills  \n",
       "3      blackland  \n",
       "4  bouldin-creek  "
      ]
     },
     "execution_count": 14,
     "metadata": {},
     "output_type": "execute_result"
    }
   ],
   "source": [
    "# Preview\n",
    "df.head()"
   ]
  },
  {
   "cell_type": "code",
   "execution_count": 15,
   "metadata": {},
   "outputs": [
    {
     "data": {
      "text/html": [
       "<div>\n",
       "<style scoped>\n",
       "    .dataframe tbody tr th:only-of-type {\n",
       "        vertical-align: middle;\n",
       "    }\n",
       "\n",
       "    .dataframe tbody tr th {\n",
       "        vertical-align: top;\n",
       "    }\n",
       "\n",
       "    .dataframe thead th {\n",
       "        text-align: right;\n",
       "    }\n",
       "</style>\n",
       "<table border=\"1\" class=\"dataframe\">\n",
       "  <thead>\n",
       "    <tr style=\"text-align: right;\">\n",
       "      <th></th>\n",
       "      <th>neighborhood</th>\n",
       "      <th>location</th>\n",
       "      <th>latitude</th>\n",
       "      <th>longitude</th>\n",
       "      <th>url_format</th>\n",
       "      <th>url</th>\n",
       "    </tr>\n",
       "  </thead>\n",
       "  <tbody>\n",
       "    <tr>\n",
       "      <th>0</th>\n",
       "      <td>Allandale</td>\n",
       "      <td>Allandale, Austin, Texas</td>\n",
       "      <td>30.339309</td>\n",
       "      <td>-97.746972</td>\n",
       "      <td>allandale</td>\n",
       "      <td>https://www.neighborhoods.com/allandale-austin-tx</td>\n",
       "    </tr>\n",
       "    <tr>\n",
       "      <th>1</th>\n",
       "      <td>Anderson Mill</td>\n",
       "      <td>Anderson Mill, Austin, Texas</td>\n",
       "      <td>30.455835</td>\n",
       "      <td>-97.807096</td>\n",
       "      <td>anderson-mill</td>\n",
       "      <td>https://www.neighborhoods.com/anderson-mill-au...</td>\n",
       "    </tr>\n",
       "    <tr>\n",
       "      <th>2</th>\n",
       "      <td>Barton Hills</td>\n",
       "      <td>Barton Hills, Austin, Texas</td>\n",
       "      <td>30.251571</td>\n",
       "      <td>-97.784106</td>\n",
       "      <td>barton-hills</td>\n",
       "      <td>https://www.neighborhoods.com/barton-hills-aus...</td>\n",
       "    </tr>\n",
       "    <tr>\n",
       "      <th>3</th>\n",
       "      <td>Blackland</td>\n",
       "      <td>Blackland, Austin, Texas</td>\n",
       "      <td>30.281491</td>\n",
       "      <td>-97.720924</td>\n",
       "      <td>blackland</td>\n",
       "      <td>https://www.neighborhoods.com/blackland-austin-tx</td>\n",
       "    </tr>\n",
       "    <tr>\n",
       "      <th>4</th>\n",
       "      <td>Bouldin Creek</td>\n",
       "      <td>Bouldin Creek, Austin, Texas</td>\n",
       "      <td>30.255667</td>\n",
       "      <td>-97.755481</td>\n",
       "      <td>bouldin-creek</td>\n",
       "      <td>https://www.neighborhoods.com/bouldin-creek-au...</td>\n",
       "    </tr>\n",
       "  </tbody>\n",
       "</table>\n",
       "</div>"
      ],
      "text/plain": [
       "    neighborhood                      location   latitude  longitude  \\\n",
       "0      Allandale      Allandale, Austin, Texas  30.339309 -97.746972   \n",
       "1  Anderson Mill  Anderson Mill, Austin, Texas  30.455835 -97.807096   \n",
       "2   Barton Hills   Barton Hills, Austin, Texas  30.251571 -97.784106   \n",
       "3      Blackland      Blackland, Austin, Texas  30.281491 -97.720924   \n",
       "4  Bouldin Creek  Bouldin Creek, Austin, Texas  30.255667 -97.755481   \n",
       "\n",
       "      url_format                                                url  \n",
       "0      allandale  https://www.neighborhoods.com/allandale-austin-tx  \n",
       "1  anderson-mill  https://www.neighborhoods.com/anderson-mill-au...  \n",
       "2   barton-hills  https://www.neighborhoods.com/barton-hills-aus...  \n",
       "3      blackland  https://www.neighborhoods.com/blackland-austin-tx  \n",
       "4  bouldin-creek  https://www.neighborhoods.com/bouldin-creek-au...  "
      ]
     },
     "execution_count": 15,
     "metadata": {},
     "output_type": "execute_result"
    }
   ],
   "source": [
    "# Create urls\n",
    "\n",
    "urls = []\n",
    "\n",
    "for name in df['url_format']:\n",
    "    url = 'https://www.neighborhoods.com/' + name + '-austin-tx'\n",
    "    urls.append(url)\n",
    "\n",
    "df['url'] = urls\n",
    "df.head()"
   ]
  },
  {
   "cell_type": "code",
   "execution_count": 16,
   "metadata": {},
   "outputs": [
    {
     "data": {
      "text/plain": [
       "(54, 6)"
      ]
     },
     "execution_count": 16,
     "metadata": {},
     "output_type": "execute_result"
    }
   ],
   "source": [
    "# View count\n",
    "df.shape"
   ]
  },
  {
   "cell_type": "markdown",
   "metadata": {},
   "source": [
    "#### Sales Data"
   ]
  },
  {
   "cell_type": "code",
   "execution_count": 17,
   "metadata": {},
   "outputs": [
    {
     "name": "stdout",
     "output_type": "stream",
     "text": [
      "https://www.neighborhoods.com/montopolis-austin-tx does not exist or cannot locate data\n",
      "https://www.neighborhoods.com/northwest-hills-austin-tx does not exist or cannot locate data\n"
     ]
    }
   ],
   "source": [
    "# Pull median and average prices\n",
    "\n",
    "avg_prices = []\n",
    "med_prices = []\n",
    "urls = []\n",
    "\n",
    "for url in df['url']:\n",
    "    try:\n",
    "        res = requests.get(url)\n",
    "        if res.status_code == 200:\n",
    "            soup = BeautifulSoup(res.content, 'lxml')\n",
    "            div = soup.find('div', {'class':'detail-block-2'})\n",
    "            for li in div.find_all('li')[2]:\n",
    "                med_price = li.text\n",
    "                med_prices.append(med_price)\n",
    "                urls.append(url)\n",
    "            for li in div.find_all('li')[3]:\n",
    "                avg_price = li.text\n",
    "                avg_prices.append(avg_price)\n",
    "    except: \n",
    "        print(f\"{url} does not exist or cannot locate data\")"
   ]
  },
  {
   "cell_type": "code",
   "execution_count": 18,
   "metadata": {},
   "outputs": [],
   "source": [
    "# Create df for prices\n",
    "\n",
    "prices_df = pd.DataFrame({'median_prices': med_prices, 'avg_price_per_sqft': avg_prices, 'url': urls})"
   ]
  },
  {
   "cell_type": "code",
   "execution_count": 19,
   "metadata": {},
   "outputs": [
    {
     "data": {
      "text/html": [
       "<div>\n",
       "<style scoped>\n",
       "    .dataframe tbody tr th:only-of-type {\n",
       "        vertical-align: middle;\n",
       "    }\n",
       "\n",
       "    .dataframe tbody tr th {\n",
       "        vertical-align: top;\n",
       "    }\n",
       "\n",
       "    .dataframe thead th {\n",
       "        text-align: right;\n",
       "    }\n",
       "</style>\n",
       "<table border=\"1\" class=\"dataframe\">\n",
       "  <thead>\n",
       "    <tr style=\"text-align: right;\">\n",
       "      <th></th>\n",
       "      <th>median_prices</th>\n",
       "      <th>avg_price_per_sqft</th>\n",
       "      <th>url</th>\n",
       "    </tr>\n",
       "  </thead>\n",
       "  <tbody>\n",
       "    <tr>\n",
       "      <th>0</th>\n",
       "      <td>Median Sale Price:</td>\n",
       "      <td>Average $ per sq ft:</td>\n",
       "      <td>https://www.neighborhoods.com/allandale-austin-tx</td>\n",
       "    </tr>\n",
       "    <tr>\n",
       "      <th>1</th>\n",
       "      <td>$591,000</td>\n",
       "      <td>$350</td>\n",
       "      <td>https://www.neighborhoods.com/allandale-austin-tx</td>\n",
       "    </tr>\n",
       "    <tr>\n",
       "      <th>2</th>\n",
       "      <td>Median Sale Price:</td>\n",
       "      <td>Average $ per sq ft:</td>\n",
       "      <td>https://www.neighborhoods.com/anderson-mill-au...</td>\n",
       "    </tr>\n",
       "    <tr>\n",
       "      <th>3</th>\n",
       "      <td>$321,495</td>\n",
       "      <td>$194</td>\n",
       "      <td>https://www.neighborhoods.com/anderson-mill-au...</td>\n",
       "    </tr>\n",
       "    <tr>\n",
       "      <th>4</th>\n",
       "      <td>Median Sale Price:</td>\n",
       "      <td>Average $ per sq ft:</td>\n",
       "      <td>https://www.neighborhoods.com/barton-hills-aus...</td>\n",
       "    </tr>\n",
       "  </tbody>\n",
       "</table>\n",
       "</div>"
      ],
      "text/plain": [
       "        median_prices    avg_price_per_sqft  \\\n",
       "0  Median Sale Price:  Average $ per sq ft:   \n",
       "1            $591,000                  $350   \n",
       "2  Median Sale Price:  Average $ per sq ft:   \n",
       "3            $321,495                  $194   \n",
       "4  Median Sale Price:  Average $ per sq ft:   \n",
       "\n",
       "                                                 url  \n",
       "0  https://www.neighborhoods.com/allandale-austin-tx  \n",
       "1  https://www.neighborhoods.com/allandale-austin-tx  \n",
       "2  https://www.neighborhoods.com/anderson-mill-au...  \n",
       "3  https://www.neighborhoods.com/anderson-mill-au...  \n",
       "4  https://www.neighborhoods.com/barton-hills-aus...  "
      ]
     },
     "execution_count": 19,
     "metadata": {},
     "output_type": "execute_result"
    }
   ],
   "source": [
    "# Preview prices_df\n",
    "prices_df.head()"
   ]
  },
  {
   "cell_type": "code",
   "execution_count": 20,
   "metadata": {},
   "outputs": [],
   "source": [
    "# Drop extra rows\n",
    "prices_df.drop(prices_df[prices_df['median_prices'] == 'Median Sale Price:'].index, inplace = True) "
   ]
  },
  {
   "cell_type": "code",
   "execution_count": 21,
   "metadata": {},
   "outputs": [],
   "source": [
    "# Reset index after drop\n",
    "prices_df.reset_index(drop='True', inplace=True)"
   ]
  },
  {
   "cell_type": "code",
   "execution_count": 22,
   "metadata": {},
   "outputs": [
    {
     "name": "stdout",
     "output_type": "stream",
     "text": [
      "(39, 3)\n",
      "(54, 6)\n"
     ]
    }
   ],
   "source": [
    "# View shape\n",
    "print(prices_df.shape)\n",
    "print(df.shape)"
   ]
  },
  {
   "cell_type": "code",
   "execution_count": 23,
   "metadata": {},
   "outputs": [],
   "source": [
    "# Drop location cannot obtain sales data for\n",
    "\n",
    "drop_list = ['https://www.neighborhoods.com/montopolis-austin-tx', 'https://www.neighborhoods.com/northwest-hills-austin-tx']\n",
    "\n",
    "for item in drop_list:\n",
    "    df.drop(df[df['url'] == item].index, inplace = True) "
   ]
  },
  {
   "cell_type": "code",
   "execution_count": 24,
   "metadata": {},
   "outputs": [
    {
     "name": "stdout",
     "output_type": "stream",
     "text": [
      "https://www.neighborhoods.com/blackland-austin-tx does not exist\n",
      "https://www.neighborhoods.com/chinatown-austin-tx does not exist\n",
      "https://www.neighborhoods.com/congress-avenue-austin-tx does not exist\n",
      "https://www.neighborhoods.com/the-drag-austin-tx does not exist\n",
      "https://www.neighborhoods.com/east-riverside-oltorf-austin-tx does not exist\n",
      "https://www.neighborhoods.com/french-place-austin-tx does not exist\n",
      "https://www.neighborhoods.com/jollyville-austin-tx does not exist\n",
      "https://www.neighborhoods.com/rainey-street-austin-tx does not exist\n",
      "https://www.neighborhoods.com/saint-john-austin-tx does not exist\n",
      "https://www.neighborhoods.com/sixth-street-austin-tx does not exist\n",
      "https://www.neighborhoods.com/swedish-hill-austin-tx does not exist\n",
      "https://www.neighborhoods.com/waters-park-austin-tx does not exist\n",
      "https://www.neighborhoods.com/west-line-austin-tx does not exist\n"
     ]
    }
   ],
   "source": [
    "no_connection = []\n",
    "\n",
    "for url in df['url']:\n",
    "    try:\n",
    "        res = requests.get(url)\n",
    "        if res.status_code == 404:\n",
    "            print(f'{url} does not exist')\n",
    "            no_connection.append(url)\n",
    "    except: \n",
    "        print(f\"{url} does not exist or cannot locate data\")"
   ]
  },
  {
   "cell_type": "code",
   "execution_count": 25,
   "metadata": {},
   "outputs": [],
   "source": [
    "# Drop locations with 404 errors\n",
    "\n",
    "for item in no_connection:\n",
    "    df.drop(df[df['url'] == item].index, inplace = True) "
   ]
  },
  {
   "cell_type": "code",
   "execution_count": 26,
   "metadata": {},
   "outputs": [],
   "source": [
    "# Reset index after drop\n",
    "df.reset_index(drop='True', inplace=True)"
   ]
  },
  {
   "cell_type": "code",
   "execution_count": 27,
   "metadata": {},
   "outputs": [
    {
     "name": "stdout",
     "output_type": "stream",
     "text": [
      "(39, 3)\n",
      "(39, 6)\n"
     ]
    }
   ],
   "source": [
    "# View shape\n",
    "print(prices_df.shape)\n",
    "print(df.shape)"
   ]
  },
  {
   "cell_type": "code",
   "execution_count": 28,
   "metadata": {},
   "outputs": [
    {
     "data": {
      "text/html": [
       "<div>\n",
       "<style scoped>\n",
       "    .dataframe tbody tr th:only-of-type {\n",
       "        vertical-align: middle;\n",
       "    }\n",
       "\n",
       "    .dataframe tbody tr th {\n",
       "        vertical-align: top;\n",
       "    }\n",
       "\n",
       "    .dataframe thead th {\n",
       "        text-align: right;\n",
       "    }\n",
       "</style>\n",
       "<table border=\"1\" class=\"dataframe\">\n",
       "  <thead>\n",
       "    <tr style=\"text-align: right;\">\n",
       "      <th></th>\n",
       "      <th>neighborhood</th>\n",
       "      <th>location</th>\n",
       "      <th>latitude</th>\n",
       "      <th>longitude</th>\n",
       "      <th>url_format</th>\n",
       "      <th>url</th>\n",
       "      <th>median_prices</th>\n",
       "      <th>avg_price_per_sqft</th>\n",
       "    </tr>\n",
       "  </thead>\n",
       "  <tbody>\n",
       "    <tr>\n",
       "      <th>0</th>\n",
       "      <td>Allandale</td>\n",
       "      <td>Allandale, Austin, Texas</td>\n",
       "      <td>30.339309</td>\n",
       "      <td>-97.746972</td>\n",
       "      <td>allandale</td>\n",
       "      <td>https://www.neighborhoods.com/allandale-austin-tx</td>\n",
       "      <td>$591,000</td>\n",
       "      <td>$350</td>\n",
       "    </tr>\n",
       "    <tr>\n",
       "      <th>1</th>\n",
       "      <td>Anderson Mill</td>\n",
       "      <td>Anderson Mill, Austin, Texas</td>\n",
       "      <td>30.455835</td>\n",
       "      <td>-97.807096</td>\n",
       "      <td>anderson-mill</td>\n",
       "      <td>https://www.neighborhoods.com/anderson-mill-au...</td>\n",
       "      <td>$321,495</td>\n",
       "      <td>$194</td>\n",
       "    </tr>\n",
       "    <tr>\n",
       "      <th>2</th>\n",
       "      <td>Barton Hills</td>\n",
       "      <td>Barton Hills, Austin, Texas</td>\n",
       "      <td>30.251571</td>\n",
       "      <td>-97.784106</td>\n",
       "      <td>barton-hills</td>\n",
       "      <td>https://www.neighborhoods.com/barton-hills-aus...</td>\n",
       "      <td>$667,750</td>\n",
       "      <td>$487</td>\n",
       "    </tr>\n",
       "    <tr>\n",
       "      <th>3</th>\n",
       "      <td>Bouldin Creek</td>\n",
       "      <td>Bouldin Creek, Austin, Texas</td>\n",
       "      <td>30.255667</td>\n",
       "      <td>-97.755481</td>\n",
       "      <td>bouldin-creek</td>\n",
       "      <td>https://www.neighborhoods.com/bouldin-creek-au...</td>\n",
       "      <td>$725,750</td>\n",
       "      <td>$546</td>\n",
       "    </tr>\n",
       "    <tr>\n",
       "      <th>4</th>\n",
       "      <td>Brentwood</td>\n",
       "      <td>Brentwood, Austin, Texas</td>\n",
       "      <td>30.331264</td>\n",
       "      <td>-97.736465</td>\n",
       "      <td>brentwood</td>\n",
       "      <td>https://www.neighborhoods.com/brentwood-austin-tx</td>\n",
       "      <td>$495,250</td>\n",
       "      <td>$370</td>\n",
       "    </tr>\n",
       "  </tbody>\n",
       "</table>\n",
       "</div>"
      ],
      "text/plain": [
       "    neighborhood                      location   latitude  longitude  \\\n",
       "0      Allandale      Allandale, Austin, Texas  30.339309 -97.746972   \n",
       "1  Anderson Mill  Anderson Mill, Austin, Texas  30.455835 -97.807096   \n",
       "2   Barton Hills   Barton Hills, Austin, Texas  30.251571 -97.784106   \n",
       "3  Bouldin Creek  Bouldin Creek, Austin, Texas  30.255667 -97.755481   \n",
       "4      Brentwood      Brentwood, Austin, Texas  30.331264 -97.736465   \n",
       "\n",
       "      url_format                                                url  \\\n",
       "0      allandale  https://www.neighborhoods.com/allandale-austin-tx   \n",
       "1  anderson-mill  https://www.neighborhoods.com/anderson-mill-au...   \n",
       "2   barton-hills  https://www.neighborhoods.com/barton-hills-aus...   \n",
       "3  bouldin-creek  https://www.neighborhoods.com/bouldin-creek-au...   \n",
       "4      brentwood  https://www.neighborhoods.com/brentwood-austin-tx   \n",
       "\n",
       "  median_prices avg_price_per_sqft  \n",
       "0      $591,000               $350  \n",
       "1      $321,495               $194  \n",
       "2      $667,750               $487  \n",
       "3      $725,750               $546  \n",
       "4      $495,250               $370  "
      ]
     },
     "execution_count": 28,
     "metadata": {},
     "output_type": "execute_result"
    }
   ],
   "source": [
    "# Combine dataframes\n",
    "data_df = df.merge(prices_df, on='url',  how='left')\n",
    "data_df.head()"
   ]
  },
  {
   "cell_type": "code",
   "execution_count": 29,
   "metadata": {},
   "outputs": [
    {
     "data": {
      "text/plain": [
       "neighborhood           object\n",
       "location               object\n",
       "latitude              float64\n",
       "longitude             float64\n",
       "url_format             object\n",
       "url                    object\n",
       "median_prices          object\n",
       "avg_price_per_sqft     object\n",
       "dtype: object"
      ]
     },
     "execution_count": 29,
     "metadata": {},
     "output_type": "execute_result"
    }
   ],
   "source": [
    "# Check dtypes\n",
    "data_df.dtypes"
   ]
  },
  {
   "cell_type": "code",
   "execution_count": 30,
   "metadata": {},
   "outputs": [
    {
     "data": {
      "text/html": [
       "<div>\n",
       "<style scoped>\n",
       "    .dataframe tbody tr th:only-of-type {\n",
       "        vertical-align: middle;\n",
       "    }\n",
       "\n",
       "    .dataframe tbody tr th {\n",
       "        vertical-align: top;\n",
       "    }\n",
       "\n",
       "    .dataframe thead th {\n",
       "        text-align: right;\n",
       "    }\n",
       "</style>\n",
       "<table border=\"1\" class=\"dataframe\">\n",
       "  <thead>\n",
       "    <tr style=\"text-align: right;\">\n",
       "      <th></th>\n",
       "      <th>neighborhood</th>\n",
       "      <th>location</th>\n",
       "      <th>latitude</th>\n",
       "      <th>longitude</th>\n",
       "      <th>url_format</th>\n",
       "      <th>url</th>\n",
       "      <th>median_prices</th>\n",
       "      <th>avg_price_per_sqft</th>\n",
       "    </tr>\n",
       "  </thead>\n",
       "  <tbody>\n",
       "    <tr>\n",
       "      <th>0</th>\n",
       "      <td>Allandale</td>\n",
       "      <td>Allandale, Austin, Texas</td>\n",
       "      <td>30.339309</td>\n",
       "      <td>-97.746972</td>\n",
       "      <td>allandale</td>\n",
       "      <td>https://www.neighborhoods.com/allandale-austin-tx</td>\n",
       "      <td>591000</td>\n",
       "      <td>$350</td>\n",
       "    </tr>\n",
       "    <tr>\n",
       "      <th>1</th>\n",
       "      <td>Anderson Mill</td>\n",
       "      <td>Anderson Mill, Austin, Texas</td>\n",
       "      <td>30.455835</td>\n",
       "      <td>-97.807096</td>\n",
       "      <td>anderson-mill</td>\n",
       "      <td>https://www.neighborhoods.com/anderson-mill-au...</td>\n",
       "      <td>321495</td>\n",
       "      <td>$194</td>\n",
       "    </tr>\n",
       "    <tr>\n",
       "      <th>2</th>\n",
       "      <td>Barton Hills</td>\n",
       "      <td>Barton Hills, Austin, Texas</td>\n",
       "      <td>30.251571</td>\n",
       "      <td>-97.784106</td>\n",
       "      <td>barton-hills</td>\n",
       "      <td>https://www.neighborhoods.com/barton-hills-aus...</td>\n",
       "      <td>667750</td>\n",
       "      <td>$487</td>\n",
       "    </tr>\n",
       "    <tr>\n",
       "      <th>3</th>\n",
       "      <td>Bouldin Creek</td>\n",
       "      <td>Bouldin Creek, Austin, Texas</td>\n",
       "      <td>30.255667</td>\n",
       "      <td>-97.755481</td>\n",
       "      <td>bouldin-creek</td>\n",
       "      <td>https://www.neighborhoods.com/bouldin-creek-au...</td>\n",
       "      <td>725750</td>\n",
       "      <td>$546</td>\n",
       "    </tr>\n",
       "    <tr>\n",
       "      <th>4</th>\n",
       "      <td>Brentwood</td>\n",
       "      <td>Brentwood, Austin, Texas</td>\n",
       "      <td>30.331264</td>\n",
       "      <td>-97.736465</td>\n",
       "      <td>brentwood</td>\n",
       "      <td>https://www.neighborhoods.com/brentwood-austin-tx</td>\n",
       "      <td>495250</td>\n",
       "      <td>$370</td>\n",
       "    </tr>\n",
       "  </tbody>\n",
       "</table>\n",
       "</div>"
      ],
      "text/plain": [
       "    neighborhood                      location   latitude  longitude  \\\n",
       "0      Allandale      Allandale, Austin, Texas  30.339309 -97.746972   \n",
       "1  Anderson Mill  Anderson Mill, Austin, Texas  30.455835 -97.807096   \n",
       "2   Barton Hills   Barton Hills, Austin, Texas  30.251571 -97.784106   \n",
       "3  Bouldin Creek  Bouldin Creek, Austin, Texas  30.255667 -97.755481   \n",
       "4      Brentwood      Brentwood, Austin, Texas  30.331264 -97.736465   \n",
       "\n",
       "      url_format                                                url  \\\n",
       "0      allandale  https://www.neighborhoods.com/allandale-austin-tx   \n",
       "1  anderson-mill  https://www.neighborhoods.com/anderson-mill-au...   \n",
       "2   barton-hills  https://www.neighborhoods.com/barton-hills-aus...   \n",
       "3  bouldin-creek  https://www.neighborhoods.com/bouldin-creek-au...   \n",
       "4      brentwood  https://www.neighborhoods.com/brentwood-austin-tx   \n",
       "\n",
       "  median_prices avg_price_per_sqft  \n",
       "0        591000               $350  \n",
       "1        321495               $194  \n",
       "2        667750               $487  \n",
       "3        725750               $546  \n",
       "4        495250               $370  "
      ]
     },
     "execution_count": 30,
     "metadata": {},
     "output_type": "execute_result"
    }
   ],
   "source": [
    "# Format price\n",
    "\n",
    "data_df['median_prices'] = [item.replace('$','').replace(',','') for item in data_df['median_prices']]\n",
    "data_df.head()"
   ]
  },
  {
   "cell_type": "code",
   "execution_count": 31,
   "metadata": {},
   "outputs": [
    {
     "data": {
      "text/html": [
       "<div>\n",
       "<style scoped>\n",
       "    .dataframe tbody tr th:only-of-type {\n",
       "        vertical-align: middle;\n",
       "    }\n",
       "\n",
       "    .dataframe tbody tr th {\n",
       "        vertical-align: top;\n",
       "    }\n",
       "\n",
       "    .dataframe thead th {\n",
       "        text-align: right;\n",
       "    }\n",
       "</style>\n",
       "<table border=\"1\" class=\"dataframe\">\n",
       "  <thead>\n",
       "    <tr style=\"text-align: right;\">\n",
       "      <th></th>\n",
       "      <th>neighborhood</th>\n",
       "      <th>location</th>\n",
       "      <th>latitude</th>\n",
       "      <th>longitude</th>\n",
       "      <th>url_format</th>\n",
       "      <th>url</th>\n",
       "      <th>median_prices</th>\n",
       "      <th>avg_price_per_sqft</th>\n",
       "    </tr>\n",
       "  </thead>\n",
       "  <tbody>\n",
       "    <tr>\n",
       "      <th>0</th>\n",
       "      <td>Allandale</td>\n",
       "      <td>Allandale, Austin, Texas</td>\n",
       "      <td>30.339309</td>\n",
       "      <td>-97.746972</td>\n",
       "      <td>allandale</td>\n",
       "      <td>https://www.neighborhoods.com/allandale-austin-tx</td>\n",
       "      <td>591000</td>\n",
       "      <td>350</td>\n",
       "    </tr>\n",
       "    <tr>\n",
       "      <th>1</th>\n",
       "      <td>Anderson Mill</td>\n",
       "      <td>Anderson Mill, Austin, Texas</td>\n",
       "      <td>30.455835</td>\n",
       "      <td>-97.807096</td>\n",
       "      <td>anderson-mill</td>\n",
       "      <td>https://www.neighborhoods.com/anderson-mill-au...</td>\n",
       "      <td>321495</td>\n",
       "      <td>194</td>\n",
       "    </tr>\n",
       "    <tr>\n",
       "      <th>2</th>\n",
       "      <td>Barton Hills</td>\n",
       "      <td>Barton Hills, Austin, Texas</td>\n",
       "      <td>30.251571</td>\n",
       "      <td>-97.784106</td>\n",
       "      <td>barton-hills</td>\n",
       "      <td>https://www.neighborhoods.com/barton-hills-aus...</td>\n",
       "      <td>667750</td>\n",
       "      <td>487</td>\n",
       "    </tr>\n",
       "    <tr>\n",
       "      <th>3</th>\n",
       "      <td>Bouldin Creek</td>\n",
       "      <td>Bouldin Creek, Austin, Texas</td>\n",
       "      <td>30.255667</td>\n",
       "      <td>-97.755481</td>\n",
       "      <td>bouldin-creek</td>\n",
       "      <td>https://www.neighborhoods.com/bouldin-creek-au...</td>\n",
       "      <td>725750</td>\n",
       "      <td>546</td>\n",
       "    </tr>\n",
       "    <tr>\n",
       "      <th>4</th>\n",
       "      <td>Brentwood</td>\n",
       "      <td>Brentwood, Austin, Texas</td>\n",
       "      <td>30.331264</td>\n",
       "      <td>-97.736465</td>\n",
       "      <td>brentwood</td>\n",
       "      <td>https://www.neighborhoods.com/brentwood-austin-tx</td>\n",
       "      <td>495250</td>\n",
       "      <td>370</td>\n",
       "    </tr>\n",
       "  </tbody>\n",
       "</table>\n",
       "</div>"
      ],
      "text/plain": [
       "    neighborhood                      location   latitude  longitude  \\\n",
       "0      Allandale      Allandale, Austin, Texas  30.339309 -97.746972   \n",
       "1  Anderson Mill  Anderson Mill, Austin, Texas  30.455835 -97.807096   \n",
       "2   Barton Hills   Barton Hills, Austin, Texas  30.251571 -97.784106   \n",
       "3  Bouldin Creek  Bouldin Creek, Austin, Texas  30.255667 -97.755481   \n",
       "4      Brentwood      Brentwood, Austin, Texas  30.331264 -97.736465   \n",
       "\n",
       "      url_format                                                url  \\\n",
       "0      allandale  https://www.neighborhoods.com/allandale-austin-tx   \n",
       "1  anderson-mill  https://www.neighborhoods.com/anderson-mill-au...   \n",
       "2   barton-hills  https://www.neighborhoods.com/barton-hills-aus...   \n",
       "3  bouldin-creek  https://www.neighborhoods.com/bouldin-creek-au...   \n",
       "4      brentwood  https://www.neighborhoods.com/brentwood-austin-tx   \n",
       "\n",
       "  median_prices avg_price_per_sqft  \n",
       "0        591000                350  \n",
       "1        321495                194  \n",
       "2        667750                487  \n",
       "3        725750                546  \n",
       "4        495250                370  "
      ]
     },
     "execution_count": 31,
     "metadata": {},
     "output_type": "execute_result"
    }
   ],
   "source": [
    "# Format price\n",
    "\n",
    "data_df['avg_price_per_sqft'] = [item.replace('$','') for item in data_df['avg_price_per_sqft']]\n",
    "data_df.head()"
   ]
  },
  {
   "cell_type": "code",
   "execution_count": 32,
   "metadata": {},
   "outputs": [],
   "source": [
    "# Convert dtype to float\n",
    "\n",
    "data_df['median_prices'] = data_df['median_prices'].astype(float)"
   ]
  },
  {
   "cell_type": "code",
   "execution_count": 33,
   "metadata": {},
   "outputs": [],
   "source": [
    "# Convert dtype to float\n",
    "\n",
    "data_df['avg_price_per_sqft'] = data_df['avg_price_per_sqft'].astype(float)"
   ]
  },
  {
   "cell_type": "code",
   "execution_count": 34,
   "metadata": {},
   "outputs": [
    {
     "data": {
      "text/plain": [
       "neighborhood           object\n",
       "location               object\n",
       "latitude              float64\n",
       "longitude             float64\n",
       "url_format             object\n",
       "url                    object\n",
       "median_prices         float64\n",
       "avg_price_per_sqft    float64\n",
       "dtype: object"
      ]
     },
     "execution_count": 34,
     "metadata": {},
     "output_type": "execute_result"
    }
   ],
   "source": [
    "# Confirm dtype conversion\n",
    "\n",
    "data_df.dtypes"
   ]
  },
  {
   "cell_type": "code",
   "execution_count": 35,
   "metadata": {},
   "outputs": [],
   "source": [
    "# Drop rows with no Foursquare data\n",
    "\n",
    "drop_items = ['Allandale', 'Wooten']\n",
    "\n",
    "for item in drop_items:\n",
    "    data_df.drop(data_df[data_df['neighborhood'] == item].index, inplace = True) "
   ]
  },
  {
   "cell_type": "code",
   "execution_count": 36,
   "metadata": {},
   "outputs": [],
   "source": [
    "# Save data_df \n",
    "data_df.to_csv('../data/data_df.csv', index=False)"
   ]
  },
  {
   "cell_type": "code",
   "execution_count": 37,
   "metadata": {},
   "outputs": [
    {
     "data": {
      "text/html": [
       "<div style=\"width:100%;\"><div style=\"position:relative;width:100%;height:0;padding-bottom:60%;\"><span style=\"color:#565656\">Make this Notebook Trusted to load map: File -> Trust Notebook</span><iframe src=\"about:blank\" style=\"position:absolute;width:100%;height:100%;left:0;top:0;border:none !important;\" data-html=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 onload=\"this.contentDocument.open();this.contentDocument.write(atob(this.getAttribute('data-html')));this.contentDocument.close();\" allowfullscreen webkitallowfullscreen mozallowfullscreen></iframe></div></div>"
      ],
      "text/plain": [
       "<folium.folium.Map at 0x7fe040f8f590>"
      ]
     },
     "execution_count": 37,
     "metadata": {},
     "output_type": "execute_result"
    }
   ],
   "source": [
    "# Check for bad coorindates\n",
    "\n",
    "map_df = folium.Map(location=[data_df.iloc[0,2], data_df.iloc[0,3]], zoom_start=10)\n",
    "\n",
    "# add markers to map\n",
    "for lat, lng, name in zip(data_df['latitude'], data_df['longitude'], data_df['neighborhood']):\n",
    "    label = '{}'.format(name)\n",
    "    label = folium.Popup(label, parse_html=True)\n",
    "    folium.CircleMarker(\n",
    "        [lat, lng],\n",
    "        radius=5,\n",
    "        popup=label,\n",
    "        color='purple',\n",
    "        fill=True,\n",
    "        fill_color='#3186cc',\n",
    "        fill_opacity=0.6,\n",
    "        parse_html=False).add_to(map_df)  \n",
    "    \n",
    "map_df"
   ]
  },
  {
   "cell_type": "markdown",
   "metadata": {},
   "source": [
    "#### Foursquare Data"
   ]
  },
  {
   "cell_type": "code",
   "execution_count": 38,
   "metadata": {},
   "outputs": [],
   "source": [
    "# Establish Foursquare credentials for reference\n",
    "\n",
    "CLIENT_ID = 'S5JB2KFD1NTX3EQLZEUCB5OLMPQTFOITAQG1ZMHVNB12UFH0' \n",
    "CLIENT_SECRET = '2SV2BAJSKBTEXPH41FHT2X3P1M1VQKYLZ54213I0VAZU2JPT' \n",
    "VERSION = '20200609' # Foursquare API version\n"
   ]
  },
  {
   "cell_type": "code",
   "execution_count": 39,
   "metadata": {},
   "outputs": [],
   "source": [
    "# Collect venue results from Foursquare\n",
    "# Code adapted from IBM data science cert lab\n",
    "\n",
    "radius = 4000 # meters \n",
    "limit = 200\n",
    "\n",
    "venues = []\n",
    "\n",
    "for lat, long, neighborhood in zip(data_df['latitude'], data_df['longitude'], data_df['neighborhood']):\n",
    "    url = \"https://api.foursquare.com/v2/venues/explore?client_id={}&client_secret={}&v={}&ll={},{}&radius={}&limit={}\".format(\n",
    "        CLIENT_ID,\n",
    "        CLIENT_SECRET,\n",
    "        VERSION,\n",
    "        lat,\n",
    "        long,\n",
    "        radius, \n",
    "        limit)\n",
    "    \n",
    "    results = requests.get(url).json()[\"response\"]['groups'][0]['items']\n",
    "    \n",
    "    for venue in results:\n",
    "        venues.append((\n",
    "            neighborhood,\n",
    "            lat, \n",
    "            long, \n",
    "            venue['venue']['name'], \n",
    "            venue['venue']['location']['lat'], \n",
    "            venue['venue']['location']['lng'],  \n",
    "            venue['venue']['categories'][0]['name']))"
   ]
  },
  {
   "cell_type": "code",
   "execution_count": 40,
   "metadata": {},
   "outputs": [
    {
     "name": "stdout",
     "output_type": "stream",
     "text": [
      "Shape: (3510, 7)\n",
      "Unique venue types: 247\n"
     ]
    },
    {
     "data": {
      "text/html": [
       "<div>\n",
       "<style scoped>\n",
       "    .dataframe tbody tr th:only-of-type {\n",
       "        vertical-align: middle;\n",
       "    }\n",
       "\n",
       "    .dataframe tbody tr th {\n",
       "        vertical-align: top;\n",
       "    }\n",
       "\n",
       "    .dataframe thead th {\n",
       "        text-align: right;\n",
       "    }\n",
       "</style>\n",
       "<table border=\"1\" class=\"dataframe\">\n",
       "  <thead>\n",
       "    <tr style=\"text-align: right;\">\n",
       "      <th></th>\n",
       "      <th>neighborhood</th>\n",
       "      <th>latitude</th>\n",
       "      <th>longitude</th>\n",
       "      <th>venue_name</th>\n",
       "      <th>venue_latitude</th>\n",
       "      <th>venue_longitude</th>\n",
       "      <th>venue_type</th>\n",
       "    </tr>\n",
       "  </thead>\n",
       "  <tbody>\n",
       "    <tr>\n",
       "      <th>0</th>\n",
       "      <td>Anderson Mill</td>\n",
       "      <td>30.455835</td>\n",
       "      <td>-97.807096</td>\n",
       "      <td>Freda's Seafood Grille</td>\n",
       "      <td>30.464196</td>\n",
       "      <td>-97.803776</td>\n",
       "      <td>Seafood Restaurant</td>\n",
       "    </tr>\n",
       "    <tr>\n",
       "      <th>1</th>\n",
       "      <td>Anderson Mill</td>\n",
       "      <td>30.455835</td>\n",
       "      <td>-97.807096</td>\n",
       "      <td>Juiceland</td>\n",
       "      <td>30.462584</td>\n",
       "      <td>-97.815572</td>\n",
       "      <td>Smoothie Shop</td>\n",
       "    </tr>\n",
       "    <tr>\n",
       "      <th>2</th>\n",
       "      <td>Anderson Mill</td>\n",
       "      <td>30.455835</td>\n",
       "      <td>-97.807096</td>\n",
       "      <td>Thundercloud Subs</td>\n",
       "      <td>30.461629</td>\n",
       "      <td>-97.795651</td>\n",
       "      <td>Sandwich Place</td>\n",
       "    </tr>\n",
       "    <tr>\n",
       "      <th>3</th>\n",
       "      <td>Anderson Mill</td>\n",
       "      <td>30.455835</td>\n",
       "      <td>-97.807096</td>\n",
       "      <td>Almarah Mediterranean Cuisine</td>\n",
       "      <td>30.461054</td>\n",
       "      <td>-97.817103</td>\n",
       "      <td>Mediterranean Restaurant</td>\n",
       "    </tr>\n",
       "    <tr>\n",
       "      <th>4</th>\n",
       "      <td>Anderson Mill</td>\n",
       "      <td>30.455835</td>\n",
       "      <td>-97.807096</td>\n",
       "      <td>Cedar Park Farmers' Market</td>\n",
       "      <td>30.467969</td>\n",
       "      <td>-97.807222</td>\n",
       "      <td>Farmers Market</td>\n",
       "    </tr>\n",
       "  </tbody>\n",
       "</table>\n",
       "</div>"
      ],
      "text/plain": [
       "    neighborhood   latitude  longitude                     venue_name  \\\n",
       "0  Anderson Mill  30.455835 -97.807096         Freda's Seafood Grille   \n",
       "1  Anderson Mill  30.455835 -97.807096                      Juiceland   \n",
       "2  Anderson Mill  30.455835 -97.807096              Thundercloud Subs   \n",
       "3  Anderson Mill  30.455835 -97.807096  Almarah Mediterranean Cuisine   \n",
       "4  Anderson Mill  30.455835 -97.807096     Cedar Park Farmers' Market   \n",
       "\n",
       "   venue_latitude  venue_longitude                venue_type  \n",
       "0       30.464196       -97.803776        Seafood Restaurant  \n",
       "1       30.462584       -97.815572             Smoothie Shop  \n",
       "2       30.461629       -97.795651            Sandwich Place  \n",
       "3       30.461054       -97.817103  Mediterranean Restaurant  \n",
       "4       30.467969       -97.807222            Farmers Market  "
      ]
     },
     "execution_count": 40,
     "metadata": {},
     "output_type": "execute_result"
    }
   ],
   "source": [
    "#  Create dataframe for venues results\n",
    "venues_df = pd.DataFrame(venues)\n",
    "venues_df.columns = ['neighborhood', 'latitude', 'longitude', 'venue_name', 'venue_latitude', 'venue_longitude', 'venue_type']\n",
    "\n",
    "# check the dataframe\n",
    "print('Shape: {}'.format(venues_df.shape))\n",
    "print('Unique venue types: {}'.format(len(venues_df['venue_type'].unique())))\n",
    "venues_df.head()"
   ]
  },
  {
   "cell_type": "code",
   "execution_count": 41,
   "metadata": {},
   "outputs": [],
   "source": [
    "# Save dataframe with Foursquare data \n",
    "venues_df.to_csv('../data/venues_df.csv', index=False)"
   ]
  }
 ],
 "metadata": {
  "kernelspec": {
   "display_name": "Python 3",
   "language": "python",
   "name": "python3"
  },
  "language_info": {
   "codemirror_mode": {
    "name": "ipython",
    "version": 3
   },
   "file_extension": ".py",
   "mimetype": "text/x-python",
   "name": "python",
   "nbconvert_exporter": "python",
   "pygments_lexer": "ipython3",
   "version": "3.7.6"
  }
 },
 "nbformat": 4,
 "nbformat_minor": 4
}
