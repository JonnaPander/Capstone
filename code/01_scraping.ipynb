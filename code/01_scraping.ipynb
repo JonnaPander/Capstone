{
 "cells": [
  {
   "cell_type": "code",
   "execution_count": 143,
   "metadata": {},
   "outputs": [],
   "source": [
    "# Import libraries\n",
    "import requests\n",
    "import time\n",
    "import pandas as pd"
   ]
  },
  {
   "cell_type": "code",
   "execution_count": null,
   "metadata": {},
   "outputs": [],
   "source": []
  },
  {
   "cell_type": "code",
   "execution_count": 11,
   "metadata": {},
   "outputs": [],
   "source": [
    "import requests\n",
    "import time\n",
    "import pandas as pd\n",
    "from bs4 import BeautifulSoup"
   ]
  },
  {
   "cell_type": "markdown",
   "metadata": {},
   "source": [
    "### Working from Youtube Example"
   ]
  },
  {
   "cell_type": "code",
   "execution_count": 82,
   "metadata": {},
   "outputs": [],
   "source": [
    "url = 'https://www.brainyquote.com/quote_of_the_day'"
   ]
  },
  {
   "cell_type": "code",
   "execution_count": 83,
   "metadata": {},
   "outputs": [],
   "source": [
    "# params = {'Category': category,\n",
    "#          'Author': author,\n",
    "#          'MinLength': minlength,\n",
    "#          'MaxLengty': maxlength}\n",
    "# params = {'Author': 'author',\n",
    "#          'Quote': 'quote',\n",
    "#          'Tags': 'tags'}\n",
    "# params = {'Category': 'category'}\n",
    "\n",
    "headers =  {'Accept_Encoding': 'gzip, deflate, sdch',\n",
    "            'Accept_Language': 'en-US,en;q=0.8',\n",
    "            'User-Agent': 'Mozilla/5.0 (Macintosh; Intel Mac OS X 10_15_5) AppleWebKit/537.36 (KHTML, like Gecko) Chrome/83.0.4103.97 Safari/537.36',\n",
    "            'Accept': 'text/html,application/xhtml+xml,application/xml;q=0.9,image/webp,*/*;q=0.8',\n",
    "            'Referer': 'http://www.wikipedia.org',\n",
    "            'Connection': 'keep-alive'}\n"
   ]
  },
  {
   "cell_type": "code",
   "execution_count": 84,
   "metadata": {},
   "outputs": [],
   "source": [
    "r = requests.get(url=url, headers=headers)"
   ]
  },
  {
   "cell_type": "code",
   "execution_count": 85,
   "metadata": {},
   "outputs": [
    {
     "data": {
      "text/plain": [
       "200"
      ]
     },
     "execution_count": 85,
     "metadata": {},
     "output_type": "execute_result"
    }
   ],
   "source": [
    "r.status_code"
   ]
  },
  {
   "cell_type": "code",
   "execution_count": 88,
   "metadata": {},
   "outputs": [],
   "source": [
    "data = r.json"
   ]
  },
  {
   "cell_type": "code",
   "execution_count": 89,
   "metadata": {},
   "outputs": [
    {
     "data": {
      "text/plain": [
       "<bound method Response.json of <Response [200]>>"
      ]
     },
     "execution_count": 89,
     "metadata": {},
     "output_type": "execute_result"
    }
   ],
   "source": [
    "data"
   ]
  },
  {
   "cell_type": "code",
   "execution_count": 90,
   "metadata": {},
   "outputs": [],
   "source": [
    "soup = BeautifulSoup(r.content, 'lxml')"
   ]
  },
  {
   "cell_type": "code",
   "execution_count": 94,
   "metadata": {},
   "outputs": [],
   "source": [
    "# soup"
   ]
  },
  {
   "cell_type": "code",
   "execution_count": 87,
   "metadata": {},
   "outputs": [
    {
     "name": "stdout",
     "output_type": "stream",
     "text": [
      "\n",
      "It is a wise father that knows his own child.\n",
      "Love and compassion are necessities, not luxuries. Without them humanity cannot survive.\n",
      "Art is making something out of nothing and selling it.\n",
      "The lake and the mountains have become my landscape, my real world.\n",
      "Guilt: the gift that keeps on giving.\n"
     ]
    }
   ],
   "source": [
    "for x in soup.findAll('a', {'title':'view quote'}):\n",
    "    print(x.text)"
   ]
  },
  {
   "cell_type": "markdown",
   "metadata": {},
   "source": [
    "### WisdomQuotes"
   ]
  },
  {
   "cell_type": "code",
   "execution_count": 96,
   "metadata": {},
   "outputs": [
    {
     "name": "stdout",
     "output_type": "stream",
     "text": [
      "{\"message\":\"You are not subscribed to this API.\"}\n"
     ]
    }
   ],
   "source": []
  },
  {
   "cell_type": "code",
   "execution_count": null,
   "metadata": {},
   "outputs": [],
   "source": []
  },
  {
   "cell_type": "code",
   "execution_count": 71,
   "metadata": {},
   "outputs": [
    {
     "data": {
      "text/plain": [
       "<body><p>{\n",
       "    \"success\": {\n",
       "        \"total\": 1\n",
       "    },\n",
       "    \"contents\": {\n",
       "        \"quotes\": [\n",
       "            {\n",
       "                \"quote\": \"If opportunity doesnâ€™t knock, build a door.\",\n",
       "                \"length\": \"50\",\n",
       "                \"author\": \"Milton Berle\",\n",
       "                \"tags\": [\n",
       "                    \"inspire\",\n",
       "                    \"opportunity\"\n",
       "                ],\n",
       "                \"category\": \"inspire\",\n",
       "                \"language\": \"en\",\n",
       "                \"date\": \"2020-06-18\",\n",
       "                \"permalink\": \"https://theysaidso.com/quote/768256-milton-berle-if-opportunity-doesnt-knock-build-a-door\",\n",
       "                \"id\": \"_lTYZVAYRL5AyB9dBsTV1weF\",\n",
       "                \"background\": \"https://theysaidso.com/img/qod/qod-inspire.jpg\",\n",
       "                \"title\": \"Inspiring Quote of the day\"\n",
       "            }\n",
       "        ]\n",
       "    },\n",
       "    \"baseurl\": \"https://theysaidso.com\",\n",
       "    \"copyright\": {\n",
       "        \"year\": 2022,\n",
       "        \"url\": \"https://theysaidso.com\"\n",
       "    }\n",
       "}</p></body>"
      ]
     },
     "execution_count": 71,
     "metadata": {},
     "output_type": "execute_result"
    }
   ],
   "source": []
  },
  {
   "cell_type": "code",
   "execution_count": 72,
   "metadata": {},
   "outputs": [
    {
     "data": {
      "text/plain": [
       "'{\\n    \"success\": {\\n        \"total\": 1\\n    },\\n    \"contents\": {\\n        \"quotes\": [\\n            {\\n                \"quote\": \"If opportunity doesnâ€™t knock, build a door.\",\\n                \"length\": \"50\",\\n                \"author\": \"Milton Berle\",\\n                \"tags\": [\\n                    \"inspire\",\\n                    \"opportunity\"\\n                ],\\n                \"category\": \"inspire\",\\n                \"language\": \"en\",\\n                \"date\": \"2020-06-18\",\\n                \"permalink\": \"https://theysaidso.com/quote/768256-milton-berle-if-opportunity-doesnt-knock-build-a-door\",\\n                \"id\": \"_lTYZVAYRL5AyB9dBsTV1weF\",\\n                \"background\": \"https://theysaidso.com/img/qod/qod-inspire.jpg\",\\n                \"title\": \"Inspiring Quote of the day\"\\n            }\\n        ]\\n    },\\n    \"baseurl\": \"https://theysaidso.com\",\\n    \"copyright\": {\\n        \"year\": 2022,\\n        \"url\": \"https://theysaidso.com\"\\n    }\\n}'"
      ]
     },
     "execution_count": 72,
     "metadata": {},
     "output_type": "execute_result"
    }
   ],
   "source": [
    "body.text"
   ]
  },
  {
   "cell_type": "code",
   "execution_count": null,
   "metadata": {},
   "outputs": [],
   "source": [
    "accept-encoding: gzip, deflate, br\n",
    "accept-language: en-US,en;q=0.9\n",
    "user-agent: Mozilla/5.0 (Macintosh; Intel Mac OS X 10_15_5) AppleWebKit/537.36 (KHTML, like Gecko) Chrome/83.0.4103.97 Safari/537.36\n",
    "    \n",
    "cookie: __cfduid=d78d15b9a47e5f50f419f0d401e4e09031592502875; _ga=GA1.2.606151769.1592502877; _gid=GA1.2.218835610.1592502877; __gads=ID=28e526c6310c3d93:T=1592502878:S=ALNI_MbZrS5bfdiFao8weFstKAJF4U1CuA; bq_sd=%7B%22abg%22%3A%22a%22%2C%22bqContNum%22%3A3%2C%22bqPvd%22%3A2%7D; _gat=1\n",
    "dnt: 1\n",
    "referer: https://www.brainyquote.com/\n",
    "sec-fetch-dest: document\n",
    "sec-fetch-mode: navigate\n",
    "sec-fetch-site: same-origin\n",
    "sec-fetch-user: ?1\n",
    "upgrade-insecure-requests: 1\n"
   ]
  },
  {
   "cell_type": "code",
   "execution_count": null,
   "metadata": {},
   "outputs": [],
   "source": [
    "accept-encoding: gzip, deflate, br\n",
    "accept-language: en-US,en;q=0.9\n",
    "cookie: __cfduid=d78d15b9a47e5f50f419f0d401e4e09031592502875; _ga=GA1.2.606151769.1592502877; _gid=GA1.2.218835610.1592502877; __gads=ID=28e526c6310c3d93:T=1592502878:S=ALNI_MbZrS5bfdiFao8weFstKAJF4U1CuA; bq_sd=%7B%22abg%22%3A%22a%22%2C%22bqContNum%22%3A3%2C%22bqPvd%22%3A2%7D; _gat=1\n",
    "dnt: 1\n",
    "referer: https://www.brainyquote.com/\n",
    "sec-fetch-dest: document\n",
    "sec-fetch-mode: navigate\n",
    "sec-fetch-site: same-origin\n",
    "sec-fetch-user: ?1\n",
    "upgrade-insecure-requests: 1\n",
    "user-agent: Mozilla/5.0 (Macintosh; Intel Mac OS X 10_15_5) AppleWebKit/537.36 (KHTML, like Gecko) Chrome/83.0.4103.97 Safari/537.36"
   ]
  },
  {
   "cell_type": "code",
   "execution_count": null,
   "metadata": {},
   "outputs": [],
   "source": []
  },
  {
   "cell_type": "code",
   "execution_count": null,
   "metadata": {},
   "outputs": [],
   "source": []
  },
  {
   "cell_type": "code",
   "execution_count": 146,
   "metadata": {},
   "outputs": [
    {
     "name": "stdout",
     "output_type": "stream",
     "text": [
      "0\n",
      "1\n",
      "2\n",
      "3\n",
      "4\n",
      "5\n",
      "6\n",
      "7\n",
      "8\n",
      "9\n",
      "10\n",
      "11\n",
      "12\n",
      "13\n",
      "14\n",
      "15\n",
      "16\n",
      "17\n",
      "18\n",
      "19\n",
      "20\n",
      "21\n",
      "22\n",
      "23\n",
      "24\n",
      "25\n",
      "26\n",
      "27\n",
      "28\n"
     ]
    }
   ],
   "source": [
    "# Pull data from IndianFood Reddit\n",
    "\n",
    "indian_posts = []\n",
    "before = None\n",
    "for i in range(29):\n",
    "    print(i)\n",
    "    if before == None:\n",
    "        params = {'subreddit': 'IndianFood', 'size': 500}\n",
    "    else:\n",
    "        params = {'before' : before, 'subreddit': 'IndianFood', 'size': 500}\n",
    "    url = 'https://api.pushshift.io/reddit/search/submission'\n",
    "    res = requests.get(url, params)\n",
    "    if res.status_code == 200:\n",
    "        data = res.json()\n",
    "        indian_posts.extend(data['data'])\n",
    "    else:\n",
    "        print(res.status_code)\n",
    "    before = data['data'][-1]['created_utc']\n",
    "    time.sleep(3)"
   ]
  },
  {
   "cell_type": "code",
   "execution_count": 152,
   "metadata": {},
   "outputs": [
    {
     "data": {
      "text/html": [
       "<div>\n",
       "<style scoped>\n",
       "    .dataframe tbody tr th:only-of-type {\n",
       "        vertical-align: middle;\n",
       "    }\n",
       "\n",
       "    .dataframe tbody tr th {\n",
       "        vertical-align: top;\n",
       "    }\n",
       "\n",
       "    .dataframe thead th {\n",
       "        text-align: right;\n",
       "    }\n",
       "</style>\n",
       "<table border=\"1\" class=\"dataframe\">\n",
       "  <thead>\n",
       "    <tr style=\"text-align: right;\">\n",
       "      <th></th>\n",
       "      <th>Titles</th>\n",
       "      <th>Subreddit</th>\n",
       "    </tr>\n",
       "  </thead>\n",
       "  <tbody>\n",
       "    <tr>\n",
       "      <th>0</th>\n",
       "      <td>Help needed!</td>\n",
       "      <td>IndianFood</td>\n",
       "    </tr>\n",
       "    <tr>\n",
       "      <th>1</th>\n",
       "      <td>Sheer Khurma Recipe in Hindi | How to make She...</td>\n",
       "      <td>IndianFood</td>\n",
       "    </tr>\n",
       "    <tr>\n",
       "      <th>2</th>\n",
       "      <td>Green revolution in india</td>\n",
       "      <td>IndianFood</td>\n",
       "    </tr>\n",
       "    <tr>\n",
       "      <th>3</th>\n",
       "      <td>Food grain production in india fy 19-20</td>\n",
       "      <td>IndianFood</td>\n",
       "    </tr>\n",
       "    <tr>\n",
       "      <th>4</th>\n",
       "      <td>Has anyone tried making red curry paste in the...</td>\n",
       "      <td>IndianFood</td>\n",
       "    </tr>\n",
       "  </tbody>\n",
       "</table>\n",
       "</div>"
      ],
      "text/plain": [
       "                                              Titles   Subreddit\n",
       "0                                       Help needed!  IndianFood\n",
       "1  Sheer Khurma Recipe in Hindi | How to make She...  IndianFood\n",
       "2                          Green revolution in india  IndianFood\n",
       "3            Food grain production in india fy 19-20  IndianFood\n",
       "4  Has anyone tried making red curry paste in the...  IndianFood"
      ]
     },
     "execution_count": 152,
     "metadata": {},
     "output_type": "execute_result"
    }
   ],
   "source": [
    "# Create IndianFood Dataframe\n",
    "\n",
    "indian_titles = []\n",
    "for i in range(len(indian_posts)):\n",
    "    indian_titles.append(indian_posts[i]['title'])\n",
    "        \n",
    "indian_subreddit = []\n",
    "for i in range(len(indian_posts)):\n",
    "    indian_subreddit.append(indian_posts[i]['subreddit'])\n",
    "    \n",
    "indian_dict = {\n",
    "    'Titles': indian_titles,\n",
    "    'Subreddit': indian_subreddit\n",
    "}\n",
    "\n",
    "indian_df = pd.DataFrame(indian_dict)\n",
    "indian_df.head()"
   ]
  },
  {
   "cell_type": "code",
   "execution_count": 153,
   "metadata": {},
   "outputs": [
    {
     "data": {
      "text/plain": [
       "(14055, 2)"
      ]
     },
     "execution_count": 153,
     "metadata": {},
     "output_type": "execute_result"
    }
   ],
   "source": [
    "# Check shape of Indian Food df\n",
    "\n",
    "indian_df.shape"
   ]
  },
  {
   "cell_type": "code",
   "execution_count": 138,
   "metadata": {},
   "outputs": [],
   "source": [
    "# Look at first post\n",
    "# Is you have a list of dictionaries, you have a pandas dataframe\n",
    "# before adding before param\n",
    "    # post 1: 1589647781 : Saturday, May 16, 2020 4:49:41 PM\n",
    "    # post 500: 1589163083 : Monday, May 11, 2020 2:11:23 AM\n",
    "# added param: 'before': 1589163083\n",
    "    # post 1: 1589161373 : Monday, May 11, 2020 1:42:53 AM\n",
    "    # post 500: 1588719420 : Tuesday, May 5, 2020 10:57:00 PM\n",
    "# posts[1]"
   ]
  },
  {
   "cell_type": "code",
   "execution_count": 154,
   "metadata": {},
   "outputs": [],
   "source": [
    "indian_df.to_csv('../data/IndianFood.csv', index=False)"
   ]
  },
  {
   "cell_type": "code",
   "execution_count": 157,
   "metadata": {},
   "outputs": [
    {
     "name": "stdout",
     "output_type": "stream",
     "text": [
      "0\n",
      "1\n",
      "2\n",
      "3\n",
      "4\n",
      "5\n",
      "6\n",
      "7\n",
      "8\n",
      "9\n",
      "10\n",
      "11\n",
      "12\n",
      "13\n",
      "14\n",
      "15\n",
      "16\n",
      "17\n",
      "18\n",
      "19\n",
      "20\n",
      "21\n",
      "22\n",
      "23\n",
      "24\n",
      "25\n",
      "26\n"
     ]
    }
   ],
   "source": [
    "# Pull data from whole30 Reddit\n",
    "\n",
    "whole30_posts = []\n",
    "before = None\n",
    "for i in range(27):\n",
    "    print(i)\n",
    "    if before == None:\n",
    "        params = {'subreddit': 'whole30', 'size': 500}\n",
    "    else:\n",
    "        params = {'before' : before, 'subreddit': 'whole30', 'size': 500}\n",
    "    url = 'https://api.pushshift.io/reddit/search/submission'\n",
    "    res = requests.get(url, params)\n",
    "    if res.status_code == 200:\n",
    "        data = res.json()\n",
    "        whole30_posts.extend(data['data'])\n",
    "    else:\n",
    "        print(res.status_code)\n",
    "    before = data['data'][-1]['created_utc']\n",
    "    time.sleep(2)"
   ]
  },
  {
   "cell_type": "code",
   "execution_count": 159,
   "metadata": {},
   "outputs": [
    {
     "data": {
      "text/html": [
       "<div>\n",
       "<style scoped>\n",
       "    .dataframe tbody tr th:only-of-type {\n",
       "        vertical-align: middle;\n",
       "    }\n",
       "\n",
       "    .dataframe tbody tr th {\n",
       "        vertical-align: top;\n",
       "    }\n",
       "\n",
       "    .dataframe thead th {\n",
       "        text-align: right;\n",
       "    }\n",
       "</style>\n",
       "<table border=\"1\" class=\"dataframe\">\n",
       "  <thead>\n",
       "    <tr style=\"text-align: right;\">\n",
       "      <th></th>\n",
       "      <th>Titles</th>\n",
       "      <th>Subreddit</th>\n",
       "    </tr>\n",
       "  </thead>\n",
       "  <tbody>\n",
       "    <tr>\n",
       "      <th>0</th>\n",
       "      <td>My meal prep for the week! I was excited to tr...</td>\n",
       "      <td>whole30</td>\n",
       "    </tr>\n",
       "    <tr>\n",
       "      <th>1</th>\n",
       "      <td>Tips for someone who succeeded once, then fail...</td>\n",
       "      <td>whole30</td>\n",
       "    </tr>\n",
       "    <tr>\n",
       "      <th>2</th>\n",
       "      <td>Will this diet help me?</td>\n",
       "      <td>whole30</td>\n",
       "    </tr>\n",
       "    <tr>\n",
       "      <th>3</th>\n",
       "      <td>/r/Whole30 Daily Update Thread - May 24, 2020</td>\n",
       "      <td>whole30</td>\n",
       "    </tr>\n",
       "    <tr>\n",
       "      <th>4</th>\n",
       "      <td>R1D14: Needed a quick and light lunch! Slice o...</td>\n",
       "      <td>whole30</td>\n",
       "    </tr>\n",
       "  </tbody>\n",
       "</table>\n",
       "</div>"
      ],
      "text/plain": [
       "                                              Titles Subreddit\n",
       "0  My meal prep for the week! I was excited to tr...   whole30\n",
       "1  Tips for someone who succeeded once, then fail...   whole30\n",
       "2                            Will this diet help me?   whole30\n",
       "3      /r/Whole30 Daily Update Thread - May 24, 2020   whole30\n",
       "4  R1D14: Needed a quick and light lunch! Slice o...   whole30"
      ]
     },
     "execution_count": 159,
     "metadata": {},
     "output_type": "execute_result"
    }
   ],
   "source": [
    "# Create whole30 Dataframe\n",
    "\n",
    "whole30_titles = []\n",
    "for i in range(len(whole30_posts)):\n",
    "    whole30_titles.append(whole30_posts[i]['title'])\n",
    "        \n",
    "whole30_subreddit = []\n",
    "for i in range(len(whole30_posts)):\n",
    "    whole30_subreddit.append(whole30_posts[i]['subreddit'])\n",
    "    \n",
    "whole30_dict = {\n",
    "    'Titles': whole30_titles,\n",
    "    'Subreddit': whole30_subreddit\n",
    "}\n",
    "\n",
    "whole30_df = pd.DataFrame(whole30_dict)\n",
    "whole30_df.head()"
   ]
  },
  {
   "cell_type": "code",
   "execution_count": 160,
   "metadata": {},
   "outputs": [
    {
     "data": {
      "text/plain": [
       "(13097, 2)"
      ]
     },
     "execution_count": 160,
     "metadata": {},
     "output_type": "execute_result"
    }
   ],
   "source": [
    "whole30_df.shape"
   ]
  },
  {
   "cell_type": "code",
   "execution_count": 161,
   "metadata": {},
   "outputs": [],
   "source": [
    "whole30_df.to_csv('../data/whole30.csv', index=False)"
   ]
  },
  {
   "cell_type": "markdown",
   "metadata": {},
   "source": [
    "#### Read in Dataframes"
   ]
  },
  {
   "cell_type": "code",
   "execution_count": 162,
   "metadata": {},
   "outputs": [
    {
     "data": {
      "text/html": [
       "<div>\n",
       "<style scoped>\n",
       "    .dataframe tbody tr th:only-of-type {\n",
       "        vertical-align: middle;\n",
       "    }\n",
       "\n",
       "    .dataframe tbody tr th {\n",
       "        vertical-align: top;\n",
       "    }\n",
       "\n",
       "    .dataframe thead th {\n",
       "        text-align: right;\n",
       "    }\n",
       "</style>\n",
       "<table border=\"1\" class=\"dataframe\">\n",
       "  <thead>\n",
       "    <tr style=\"text-align: right;\">\n",
       "      <th></th>\n",
       "      <th>Titles</th>\n",
       "      <th>Subreddit</th>\n",
       "    </tr>\n",
       "  </thead>\n",
       "  <tbody>\n",
       "    <tr>\n",
       "      <th>0</th>\n",
       "      <td>Help needed!</td>\n",
       "      <td>IndianFood</td>\n",
       "    </tr>\n",
       "    <tr>\n",
       "      <th>1</th>\n",
       "      <td>Sheer Khurma Recipe in Hindi | How to make She...</td>\n",
       "      <td>IndianFood</td>\n",
       "    </tr>\n",
       "    <tr>\n",
       "      <th>2</th>\n",
       "      <td>Green revolution in india</td>\n",
       "      <td>IndianFood</td>\n",
       "    </tr>\n",
       "    <tr>\n",
       "      <th>3</th>\n",
       "      <td>Food grain production in india fy 19-20</td>\n",
       "      <td>IndianFood</td>\n",
       "    </tr>\n",
       "    <tr>\n",
       "      <th>4</th>\n",
       "      <td>Has anyone tried making red curry paste in the...</td>\n",
       "      <td>IndianFood</td>\n",
       "    </tr>\n",
       "  </tbody>\n",
       "</table>\n",
       "</div>"
      ],
      "text/plain": [
       "                                              Titles   Subreddit\n",
       "0                                       Help needed!  IndianFood\n",
       "1  Sheer Khurma Recipe in Hindi | How to make She...  IndianFood\n",
       "2                          Green revolution in india  IndianFood\n",
       "3            Food grain production in india fy 19-20  IndianFood\n",
       "4  Has anyone tried making red curry paste in the...  IndianFood"
      ]
     },
     "execution_count": 162,
     "metadata": {},
     "output_type": "execute_result"
    }
   ],
   "source": [
    "indian_food = pd.read_csv('../data/IndianFood.csv')\n",
    "indian_food.head()"
   ]
  },
  {
   "cell_type": "code",
   "execution_count": 163,
   "metadata": {},
   "outputs": [
    {
     "data": {
      "text/html": [
       "<div>\n",
       "<style scoped>\n",
       "    .dataframe tbody tr th:only-of-type {\n",
       "        vertical-align: middle;\n",
       "    }\n",
       "\n",
       "    .dataframe tbody tr th {\n",
       "        vertical-align: top;\n",
       "    }\n",
       "\n",
       "    .dataframe thead th {\n",
       "        text-align: right;\n",
       "    }\n",
       "</style>\n",
       "<table border=\"1\" class=\"dataframe\">\n",
       "  <thead>\n",
       "    <tr style=\"text-align: right;\">\n",
       "      <th></th>\n",
       "      <th>Titles</th>\n",
       "      <th>Subreddit</th>\n",
       "    </tr>\n",
       "  </thead>\n",
       "  <tbody>\n",
       "    <tr>\n",
       "      <th>0</th>\n",
       "      <td>My meal prep for the week! I was excited to tr...</td>\n",
       "      <td>whole30</td>\n",
       "    </tr>\n",
       "    <tr>\n",
       "      <th>1</th>\n",
       "      <td>Tips for someone who succeeded once, then fail...</td>\n",
       "      <td>whole30</td>\n",
       "    </tr>\n",
       "    <tr>\n",
       "      <th>2</th>\n",
       "      <td>Will this diet help me?</td>\n",
       "      <td>whole30</td>\n",
       "    </tr>\n",
       "    <tr>\n",
       "      <th>3</th>\n",
       "      <td>/r/Whole30 Daily Update Thread - May 24, 2020</td>\n",
       "      <td>whole30</td>\n",
       "    </tr>\n",
       "    <tr>\n",
       "      <th>4</th>\n",
       "      <td>R1D14: Needed a quick and light lunch! Slice o...</td>\n",
       "      <td>whole30</td>\n",
       "    </tr>\n",
       "  </tbody>\n",
       "</table>\n",
       "</div>"
      ],
      "text/plain": [
       "                                              Titles Subreddit\n",
       "0  My meal prep for the week! I was excited to tr...   whole30\n",
       "1  Tips for someone who succeeded once, then fail...   whole30\n",
       "2                            Will this diet help me?   whole30\n",
       "3      /r/Whole30 Daily Update Thread - May 24, 2020   whole30\n",
       "4  R1D14: Needed a quick and light lunch! Slice o...   whole30"
      ]
     },
     "execution_count": 163,
     "metadata": {},
     "output_type": "execute_result"
    }
   ],
   "source": [
    "whole30 = pd.read_csv('../data/whole30.csv')\n",
    "whole30.head()"
   ]
  },
  {
   "cell_type": "code",
   "execution_count": null,
   "metadata": {},
   "outputs": [],
   "source": []
  }
 ],
 "metadata": {
  "kernelspec": {
   "display_name": "Python 3",
   "language": "python",
   "name": "python3"
  },
  "language_info": {
   "codemirror_mode": {
    "name": "ipython",
    "version": 3
   },
   "file_extension": ".py",
   "mimetype": "text/x-python",
   "name": "python",
   "nbconvert_exporter": "python",
   "pygments_lexer": "ipython3",
   "version": "3.7.6"
  }
 },
 "nbformat": 4,
 "nbformat_minor": 4
}
