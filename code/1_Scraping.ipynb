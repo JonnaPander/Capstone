{
 "cells": [
  {
   "cell_type": "code",
   "execution_count": 1,
   "metadata": {},
   "outputs": [],
   "source": [
    "# import libraries\n",
    "\n",
    "import pandas as pd \n",
    "import numpy as np \n",
    "import matplotlib.cm as cm\n",
    "import matplotlib.colors as colors\n",
    "import matplotlib.pyplot as plt\n",
    "import seaborn as sns\n",
    "\n",
    "import requests \n",
    "import time\n",
    "from bs4 import BeautifulSoup\n",
    "from urllib.request import urlopen\n",
    "import json # If reading in data from Json file\n",
    "from pandas.io.json import json_normalize # tranform JSON file into a pandas dataframe\n",
    "import folium # maps\n",
    "from geopy.geocoders import Nominatim # uses address to get lat/long\n",
    "\n",
    "# Installations\n",
    "#!conda install -c conda-forge geopy \n",
    "#!conda install -c conda-forge folium=0.5.0 "
   ]
  },
  {
   "cell_type": "markdown",
   "metadata": {},
   "source": [
    "#  Data Acquisition"
   ]
  },
  {
   "cell_type": "markdown",
   "metadata": {},
   "source": [
    "#### Scrape Wikipedia for Names of Neighborhoods in Austin"
   ]
  },
  {
   "cell_type": "code",
   "execution_count": 2,
   "metadata": {},
   "outputs": [
    {
     "data": {
      "text/html": [
       "<div>\n",
       "<style scoped>\n",
       "    .dataframe tbody tr th:only-of-type {\n",
       "        vertical-align: middle;\n",
       "    }\n",
       "\n",
       "    .dataframe tbody tr th {\n",
       "        vertical-align: top;\n",
       "    }\n",
       "\n",
       "    .dataframe thead th {\n",
       "        text-align: right;\n",
       "    }\n",
       "</style>\n",
       "<table border=\"1\" class=\"dataframe\">\n",
       "  <thead>\n",
       "    <tr style=\"text-align: right;\">\n",
       "      <th></th>\n",
       "      <th>neighborhood</th>\n",
       "    </tr>\n",
       "  </thead>\n",
       "  <tbody>\n",
       "    <tr>\n",
       "      <th>0</th>\n",
       "      <td>Allandale</td>\n",
       "    </tr>\n",
       "    <tr>\n",
       "      <th>1</th>\n",
       "      <td>Anderson Mill</td>\n",
       "    </tr>\n",
       "    <tr>\n",
       "      <th>2</th>\n",
       "      <td>Barton Hills</td>\n",
       "    </tr>\n",
       "    <tr>\n",
       "      <th>3</th>\n",
       "      <td>Blackland</td>\n",
       "    </tr>\n",
       "    <tr>\n",
       "      <th>4</th>\n",
       "      <td>Bouldin Creek</td>\n",
       "    </tr>\n",
       "  </tbody>\n",
       "</table>\n",
       "</div>"
      ],
      "text/plain": [
       "    neighborhood\n",
       "0      Allandale\n",
       "1  Anderson Mill\n",
       "2   Barton Hills\n",
       "3      Blackland\n",
       "4  Bouldin Creek"
      ]
     },
     "execution_count": 2,
     "metadata": {},
     "output_type": "execute_result"
    }
   ],
   "source": [
    "# scrape list of Austin neighborhoods\n",
    "\n",
    "neighborhoods = []\n",
    "\n",
    "url = 'https://en.wikipedia.org/wiki/List_of_Austin_neighborhoods'\n",
    "res = requests.get(url)\n",
    "if res.status_code == 200:\n",
    "    soup = BeautifulSoup(res.content, 'lxml')\n",
    "    div = soup.find_all('div', {'style': 'padding:0em 0.25em'})[13]\n",
    "    for li in div.find_all('li'):\n",
    "        name = li.text\n",
    "        neighborhoods.append(name)\n",
    "\n",
    "df = pd.DataFrame({'neighborhood': neighborhoods})  \n",
    "df.head()"
   ]
  },
  {
   "cell_type": "markdown",
   "metadata": {},
   "source": [
    "Here I am editing the name of some of the neighborhoods to match what is in the neighborhoods.com sales data to test if geopy can locate coordinates based on the name change. I previously ran geopy with the original neighborhood name from the Wikipedia scrape which did not return results."
   ]
  },
  {
   "cell_type": "code",
   "execution_count": 3,
   "metadata": {},
   "outputs": [],
   "source": [
    "# Rename neighborhoods for searchability\n",
    "df.loc[26,'neighborhood'] = 'Hyde Park'\n",
    "df.loc[30,'neighborhood'] = 'Mueller'\n",
    "df.loc[31,'neighborhood'] = 'North Burnet'"
   ]
  },
  {
   "cell_type": "code",
   "execution_count": 4,
   "metadata": {},
   "outputs": [
    {
     "data": {
      "text/html": [
       "<div>\n",
       "<style scoped>\n",
       "    .dataframe tbody tr th:only-of-type {\n",
       "        vertical-align: middle;\n",
       "    }\n",
       "\n",
       "    .dataframe tbody tr th {\n",
       "        vertical-align: top;\n",
       "    }\n",
       "\n",
       "    .dataframe thead th {\n",
       "        text-align: right;\n",
       "    }\n",
       "</style>\n",
       "<table border=\"1\" class=\"dataframe\">\n",
       "  <thead>\n",
       "    <tr style=\"text-align: right;\">\n",
       "      <th></th>\n",
       "      <th>neighborhood</th>\n",
       "      <th>location</th>\n",
       "    </tr>\n",
       "  </thead>\n",
       "  <tbody>\n",
       "    <tr>\n",
       "      <th>0</th>\n",
       "      <td>Allandale</td>\n",
       "      <td>Allandale, Austin, Texas</td>\n",
       "    </tr>\n",
       "    <tr>\n",
       "      <th>1</th>\n",
       "      <td>Anderson Mill</td>\n",
       "      <td>Anderson Mill, Austin, Texas</td>\n",
       "    </tr>\n",
       "    <tr>\n",
       "      <th>2</th>\n",
       "      <td>Barton Hills</td>\n",
       "      <td>Barton Hills, Austin, Texas</td>\n",
       "    </tr>\n",
       "    <tr>\n",
       "      <th>3</th>\n",
       "      <td>Blackland</td>\n",
       "      <td>Blackland, Austin, Texas</td>\n",
       "    </tr>\n",
       "    <tr>\n",
       "      <th>4</th>\n",
       "      <td>Bouldin Creek</td>\n",
       "      <td>Bouldin Creek, Austin, Texas</td>\n",
       "    </tr>\n",
       "  </tbody>\n",
       "</table>\n",
       "</div>"
      ],
      "text/plain": [
       "    neighborhood                      location\n",
       "0      Allandale      Allandale, Austin, Texas\n",
       "1  Anderson Mill  Anderson Mill, Austin, Texas\n",
       "2   Barton Hills   Barton Hills, Austin, Texas\n",
       "3      Blackland      Blackland, Austin, Texas\n",
       "4  Bouldin Creek  Bouldin Creek, Austin, Texas"
      ]
     },
     "execution_count": 4,
     "metadata": {},
     "output_type": "execute_result"
    }
   ],
   "source": [
    "# Create columns with 'neighborhood' + 'Austin, Texas' as location to search for lat/long\n",
    "\n",
    "locations = []\n",
    "\n",
    "for name in df['neighborhood']:\n",
    "    location = name + ', Austin, Texas'\n",
    "    locations.append(location)\n",
    "\n",
    "df['location'] = locations\n",
    "df.head()"
   ]
  },
  {
   "cell_type": "code",
   "execution_count": 5,
   "metadata": {},
   "outputs": [
    {
     "data": {
      "text/plain": [
       "neighborhood    0\n",
       "location        0\n",
       "dtype: int64"
      ]
     },
     "execution_count": 5,
     "metadata": {},
     "output_type": "execute_result"
    }
   ],
   "source": [
    "# Check for nulls\n",
    "df.isnull().sum()"
   ]
  },
  {
   "cell_type": "code",
   "execution_count": 6,
   "metadata": {},
   "outputs": [
    {
     "data": {
      "text/plain": [
       "(59, 2)"
      ]
     },
     "execution_count": 6,
     "metadata": {},
     "output_type": "execute_result"
    }
   ],
   "source": [
    "# View shape\n",
    "df.shape"
   ]
  },
  {
   "cell_type": "markdown",
   "metadata": {},
   "source": [
    "#### Obtain Lat/Long Data"
   ]
  },
  {
   "cell_type": "markdown",
   "metadata": {},
   "source": [
    "This code uses try/except to account for latitudes and longitudes that cannot be found with the geopy library. This is a limitation of using this package. Geopy documentation can be found here: https://geopy.readthedocs.io/en/stable/"
   ]
  },
  {
   "cell_type": "code",
   "execution_count": 7,
   "metadata": {},
   "outputs": [
    {
     "name": "stdout",
     "output_type": "stream",
     "text": [
      "Problem with Bremond Block Historic District data or cannot Geocode\n",
      "Problem with Moore's Crossing Historic District data or cannot Geocode\n",
      "Problem with Shadow Lawn Historic District data or cannot Geocode\n",
      "Problem with Spyglass-Barton's Bluff data or cannot Geocode\n",
      "Problem with Willow-Spence Streets data or cannot Geocode\n"
     ]
    }
   ],
   "source": [
    "# Look up lat/long with geopy library\n",
    "\n",
    "lats = []\n",
    "longs = []\n",
    "    \n",
    "for name in df['neighborhood']:\n",
    "    neighborhood = name + ', Austin, Texas'\n",
    "    geolocator = Nominatim(user_agent = 'foursquare_agent')\n",
    "    try:\n",
    "        location = geolocator.geocode(neighborhood)\n",
    "        lat = location.latitude\n",
    "        long = location.longitude \n",
    "        lats.append(lat)\n",
    "        longs.append(long)\n",
    "    except AttributeError: \n",
    "        print(f'Problem with {name} data or cannot Geocode')"
   ]
  },
  {
   "cell_type": "code",
   "execution_count": 8,
   "metadata": {},
   "outputs": [],
   "source": [
    "# Drop locations cannot obtain lat/long for and do not have sales data for\n",
    "\n",
    "drop_list = ['Bremond Block Historic District', \"Moore's Crossing Historic District\", 'Shadow Lawn Historic District', \"Spyglass-Barton's Bluff\", 'Willow-Spence Streets']\n",
    "\n",
    "for item in drop_list:\n",
    "    df.drop(df[df['neighborhood'] == item].index, inplace = True) "
   ]
  },
  {
   "cell_type": "markdown",
   "metadata": {},
   "source": [
    "Because I will be merging dataframes without a common column name I am resetting the index wherever necessary to be able to merge on the index."
   ]
  },
  {
   "cell_type": "code",
   "execution_count": 9,
   "metadata": {},
   "outputs": [],
   "source": [
    "# Reset index\n",
    "df.reset_index(drop='True', inplace=True)"
   ]
  },
  {
   "cell_type": "code",
   "execution_count": 10,
   "metadata": {},
   "outputs": [
    {
     "data": {
      "text/html": [
       "<div>\n",
       "<style scoped>\n",
       "    .dataframe tbody tr th:only-of-type {\n",
       "        vertical-align: middle;\n",
       "    }\n",
       "\n",
       "    .dataframe tbody tr th {\n",
       "        vertical-align: top;\n",
       "    }\n",
       "\n",
       "    .dataframe thead th {\n",
       "        text-align: right;\n",
       "    }\n",
       "</style>\n",
       "<table border=\"1\" class=\"dataframe\">\n",
       "  <thead>\n",
       "    <tr style=\"text-align: right;\">\n",
       "      <th></th>\n",
       "      <th>neighborhood</th>\n",
       "      <th>location</th>\n",
       "      <th>latitude</th>\n",
       "      <th>longitude</th>\n",
       "    </tr>\n",
       "  </thead>\n",
       "  <tbody>\n",
       "    <tr>\n",
       "      <th>49</th>\n",
       "      <td>West Line</td>\n",
       "      <td>West Line, Austin, Texas</td>\n",
       "      <td>30.424179</td>\n",
       "      <td>-97.739170</td>\n",
       "    </tr>\n",
       "    <tr>\n",
       "      <th>50</th>\n",
       "      <td>Windsor Hills</td>\n",
       "      <td>Windsor Hills, Austin, Texas</td>\n",
       "      <td>30.362072</td>\n",
       "      <td>-97.679214</td>\n",
       "    </tr>\n",
       "    <tr>\n",
       "      <th>51</th>\n",
       "      <td>Windsor Park</td>\n",
       "      <td>Windsor Park, Austin, Texas</td>\n",
       "      <td>30.313549</td>\n",
       "      <td>-97.691095</td>\n",
       "    </tr>\n",
       "    <tr>\n",
       "      <th>52</th>\n",
       "      <td>Wooten</td>\n",
       "      <td>Wooten, Austin, Texas</td>\n",
       "      <td>30.360467</td>\n",
       "      <td>-97.723320</td>\n",
       "    </tr>\n",
       "    <tr>\n",
       "      <th>53</th>\n",
       "      <td>Zilker</td>\n",
       "      <td>Zilker, Austin, Texas</td>\n",
       "      <td>30.254236</td>\n",
       "      <td>-97.769581</td>\n",
       "    </tr>\n",
       "  </tbody>\n",
       "</table>\n",
       "</div>"
      ],
      "text/plain": [
       "     neighborhood                      location   latitude  longitude\n",
       "49      West Line      West Line, Austin, Texas  30.424179 -97.739170\n",
       "50  Windsor Hills  Windsor Hills, Austin, Texas  30.362072 -97.679214\n",
       "51   Windsor Park   Windsor Park, Austin, Texas  30.313549 -97.691095\n",
       "52         Wooten         Wooten, Austin, Texas  30.360467 -97.723320\n",
       "53         Zilker         Zilker, Austin, Texas  30.254236 -97.769581"
      ]
     },
     "execution_count": 10,
     "metadata": {},
     "output_type": "execute_result"
    }
   ],
   "source": [
    "# Populate df with lat/long\n",
    "\n",
    "df['latitude'] = lats\n",
    "df['longitude'] = longs\n",
    "df.tail()"
   ]
  },
  {
   "cell_type": "markdown",
   "metadata": {},
   "source": [
    "When viewing the plotted coordinates on a map, it was clear that some of the coordinates were wrong since they were far outside of Austin.  I used Google Earth to check the coordinates generated by geopy and found following locations that need to be updated."
   ]
  },
  {
   "cell_type": "code",
   "execution_count": 11,
   "metadata": {},
   "outputs": [],
   "source": [
    "# Fix bad coordinates\n",
    "\n",
    "# Canyon Creek\n",
    "df.loc[df['neighborhood'] == 'Canyon Creek', ['latitude']] = 30.434033\n",
    "df.loc[df['neighborhood'] == 'Canyon Creek', ['longitude']] = -97.820708\n",
    "\n",
    "# Cicle C Ranch\n",
    "df.loc[df['neighborhood'] == 'Circle C Ranch', ['latitude']] = 30.190339\n",
    "df.loc[df['neighborhood'] == 'Circle C Ranch', ['longitude']] = -97.88905\n",
    "\n",
    "# Easton Park\n",
    "df.loc[df['neighborhood'] == 'Easton Park', ['latitude']] = 30.155247\n",
    "df.loc[df['neighborhood'] == 'Easton Park', ['longitude']] = -97.718764\n",
    "\n",
    "# Jollyville\n",
    "df.loc[df['neighborhood'] == 'Jollyville', ['latitude']] = 30.462108\n",
    "df.loc[df['neighborhood'] == 'Jollyville', ['longitude']] = -97.737042\n",
    "\n",
    "# Oak Hill\n",
    "df.loc[df['neighborhood'] == 'Oak Hill', ['latitude']] = 30.231431\n",
    "df.loc[df['neighborhood'] == 'Oak Hill', ['longitude']] = -97.865314\n",
    "\n",
    "# Onion Creek\n",
    "df.loc[df['neighborhood'] == 'Onion Creek', ['latitude']] = 30.140056\n",
    "df.loc[df['neighborhood'] == 'Onion Creek', ['longitude']] = -97.781803\n",
    "\n",
    "# Sixth Street\n",
    "df.loc[df['neighborhood'] == 'Sixth Street', ['latitude']] = 30.266225\n",
    "df.loc[df['neighborhood'] == 'Sixth Street', ['longitude']] = -97.738044\n",
    "\n",
    "# Swedish Hill\n",
    "df.loc[df['neighborhood'] == 'Swedish Hill', ['latitude']] = 30.272428\n",
    "df.loc[df['neighborhood'] == 'Swedish Hill', ['longitude']] = -97.756531"
   ]
  },
  {
   "cell_type": "code",
   "execution_count": 12,
   "metadata": {},
   "outputs": [],
   "source": [
    "# Export for Tableau\n",
    "df.to_excel(\"../data/lat_long.xlsx\", index=False)"
   ]
  },
  {
   "cell_type": "markdown",
   "metadata": {},
   "source": [
    "The website uses a specific format for the URL for each neighborhood so I am generating the URL for each neighborhood to get the sales data. "
   ]
  },
  {
   "cell_type": "code",
   "execution_count": 13,
   "metadata": {},
   "outputs": [],
   "source": [
    "# Create column for url format to generate url\n",
    "df['url_format'] = [item.replace(' ','-').lower() for item in df['neighborhood']]"
   ]
  },
  {
   "cell_type": "code",
   "execution_count": 14,
   "metadata": {},
   "outputs": [
    {
     "data": {
      "text/html": [
       "<div>\n",
       "<style scoped>\n",
       "    .dataframe tbody tr th:only-of-type {\n",
       "        vertical-align: middle;\n",
       "    }\n",
       "\n",
       "    .dataframe tbody tr th {\n",
       "        vertical-align: top;\n",
       "    }\n",
       "\n",
       "    .dataframe thead th {\n",
       "        text-align: right;\n",
       "    }\n",
       "</style>\n",
       "<table border=\"1\" class=\"dataframe\">\n",
       "  <thead>\n",
       "    <tr style=\"text-align: right;\">\n",
       "      <th></th>\n",
       "      <th>neighborhood</th>\n",
       "      <th>location</th>\n",
       "      <th>latitude</th>\n",
       "      <th>longitude</th>\n",
       "      <th>url_format</th>\n",
       "    </tr>\n",
       "  </thead>\n",
       "  <tbody>\n",
       "    <tr>\n",
       "      <th>0</th>\n",
       "      <td>Allandale</td>\n",
       "      <td>Allandale, Austin, Texas</td>\n",
       "      <td>30.339309</td>\n",
       "      <td>-97.746972</td>\n",
       "      <td>allandale</td>\n",
       "    </tr>\n",
       "    <tr>\n",
       "      <th>1</th>\n",
       "      <td>Anderson Mill</td>\n",
       "      <td>Anderson Mill, Austin, Texas</td>\n",
       "      <td>30.455835</td>\n",
       "      <td>-97.807096</td>\n",
       "      <td>anderson-mill</td>\n",
       "    </tr>\n",
       "    <tr>\n",
       "      <th>2</th>\n",
       "      <td>Barton Hills</td>\n",
       "      <td>Barton Hills, Austin, Texas</td>\n",
       "      <td>30.251571</td>\n",
       "      <td>-97.784106</td>\n",
       "      <td>barton-hills</td>\n",
       "    </tr>\n",
       "    <tr>\n",
       "      <th>3</th>\n",
       "      <td>Blackland</td>\n",
       "      <td>Blackland, Austin, Texas</td>\n",
       "      <td>30.281491</td>\n",
       "      <td>-97.720924</td>\n",
       "      <td>blackland</td>\n",
       "    </tr>\n",
       "    <tr>\n",
       "      <th>4</th>\n",
       "      <td>Bouldin Creek</td>\n",
       "      <td>Bouldin Creek, Austin, Texas</td>\n",
       "      <td>30.255667</td>\n",
       "      <td>-97.755481</td>\n",
       "      <td>bouldin-creek</td>\n",
       "    </tr>\n",
       "  </tbody>\n",
       "</table>\n",
       "</div>"
      ],
      "text/plain": [
       "    neighborhood                      location   latitude  longitude  \\\n",
       "0      Allandale      Allandale, Austin, Texas  30.339309 -97.746972   \n",
       "1  Anderson Mill  Anderson Mill, Austin, Texas  30.455835 -97.807096   \n",
       "2   Barton Hills   Barton Hills, Austin, Texas  30.251571 -97.784106   \n",
       "3      Blackland      Blackland, Austin, Texas  30.281491 -97.720924   \n",
       "4  Bouldin Creek  Bouldin Creek, Austin, Texas  30.255667 -97.755481   \n",
       "\n",
       "      url_format  \n",
       "0      allandale  \n",
       "1  anderson-mill  \n",
       "2   barton-hills  \n",
       "3      blackland  \n",
       "4  bouldin-creek  "
      ]
     },
     "execution_count": 14,
     "metadata": {},
     "output_type": "execute_result"
    }
   ],
   "source": [
    "# Preview\n",
    "df.head()"
   ]
  },
  {
   "cell_type": "code",
   "execution_count": 15,
   "metadata": {},
   "outputs": [
    {
     "data": {
      "text/html": [
       "<div>\n",
       "<style scoped>\n",
       "    .dataframe tbody tr th:only-of-type {\n",
       "        vertical-align: middle;\n",
       "    }\n",
       "\n",
       "    .dataframe tbody tr th {\n",
       "        vertical-align: top;\n",
       "    }\n",
       "\n",
       "    .dataframe thead th {\n",
       "        text-align: right;\n",
       "    }\n",
       "</style>\n",
       "<table border=\"1\" class=\"dataframe\">\n",
       "  <thead>\n",
       "    <tr style=\"text-align: right;\">\n",
       "      <th></th>\n",
       "      <th>neighborhood</th>\n",
       "      <th>location</th>\n",
       "      <th>latitude</th>\n",
       "      <th>longitude</th>\n",
       "      <th>url_format</th>\n",
       "      <th>url</th>\n",
       "    </tr>\n",
       "  </thead>\n",
       "  <tbody>\n",
       "    <tr>\n",
       "      <th>0</th>\n",
       "      <td>Allandale</td>\n",
       "      <td>Allandale, Austin, Texas</td>\n",
       "      <td>30.339309</td>\n",
       "      <td>-97.746972</td>\n",
       "      <td>allandale</td>\n",
       "      <td>https://www.neighborhoods.com/allandale-austin-tx</td>\n",
       "    </tr>\n",
       "    <tr>\n",
       "      <th>1</th>\n",
       "      <td>Anderson Mill</td>\n",
       "      <td>Anderson Mill, Austin, Texas</td>\n",
       "      <td>30.455835</td>\n",
       "      <td>-97.807096</td>\n",
       "      <td>anderson-mill</td>\n",
       "      <td>https://www.neighborhoods.com/anderson-mill-au...</td>\n",
       "    </tr>\n",
       "    <tr>\n",
       "      <th>2</th>\n",
       "      <td>Barton Hills</td>\n",
       "      <td>Barton Hills, Austin, Texas</td>\n",
       "      <td>30.251571</td>\n",
       "      <td>-97.784106</td>\n",
       "      <td>barton-hills</td>\n",
       "      <td>https://www.neighborhoods.com/barton-hills-aus...</td>\n",
       "    </tr>\n",
       "    <tr>\n",
       "      <th>3</th>\n",
       "      <td>Blackland</td>\n",
       "      <td>Blackland, Austin, Texas</td>\n",
       "      <td>30.281491</td>\n",
       "      <td>-97.720924</td>\n",
       "      <td>blackland</td>\n",
       "      <td>https://www.neighborhoods.com/blackland-austin-tx</td>\n",
       "    </tr>\n",
       "    <tr>\n",
       "      <th>4</th>\n",
       "      <td>Bouldin Creek</td>\n",
       "      <td>Bouldin Creek, Austin, Texas</td>\n",
       "      <td>30.255667</td>\n",
       "      <td>-97.755481</td>\n",
       "      <td>bouldin-creek</td>\n",
       "      <td>https://www.neighborhoods.com/bouldin-creek-au...</td>\n",
       "    </tr>\n",
       "  </tbody>\n",
       "</table>\n",
       "</div>"
      ],
      "text/plain": [
       "    neighborhood                      location   latitude  longitude  \\\n",
       "0      Allandale      Allandale, Austin, Texas  30.339309 -97.746972   \n",
       "1  Anderson Mill  Anderson Mill, Austin, Texas  30.455835 -97.807096   \n",
       "2   Barton Hills   Barton Hills, Austin, Texas  30.251571 -97.784106   \n",
       "3      Blackland      Blackland, Austin, Texas  30.281491 -97.720924   \n",
       "4  Bouldin Creek  Bouldin Creek, Austin, Texas  30.255667 -97.755481   \n",
       "\n",
       "      url_format                                                url  \n",
       "0      allandale  https://www.neighborhoods.com/allandale-austin-tx  \n",
       "1  anderson-mill  https://www.neighborhoods.com/anderson-mill-au...  \n",
       "2   barton-hills  https://www.neighborhoods.com/barton-hills-aus...  \n",
       "3      blackland  https://www.neighborhoods.com/blackland-austin-tx  \n",
       "4  bouldin-creek  https://www.neighborhoods.com/bouldin-creek-au...  "
      ]
     },
     "execution_count": 15,
     "metadata": {},
     "output_type": "execute_result"
    }
   ],
   "source": [
    "# Create urls\n",
    "\n",
    "urls = []\n",
    "\n",
    "for name in df['url_format']:\n",
    "    url = 'https://www.neighborhoods.com/' + name + '-austin-tx'\n",
    "    urls.append(url)\n",
    "\n",
    "df['url'] = urls\n",
    "df.head()"
   ]
  },
  {
   "cell_type": "code",
   "execution_count": 16,
   "metadata": {},
   "outputs": [
    {
     "data": {
      "text/plain": [
       "(54, 6)"
      ]
     },
     "execution_count": 16,
     "metadata": {},
     "output_type": "execute_result"
    }
   ],
   "source": [
    "# View count\n",
    "df.shape"
   ]
  },
  {
   "cell_type": "markdown",
   "metadata": {},
   "source": [
    "#### Sales Data"
   ]
  },
  {
   "cell_type": "code",
   "execution_count": 17,
   "metadata": {},
   "outputs": [
    {
     "name": "stdout",
     "output_type": "stream",
     "text": [
      "https://www.neighborhoods.com/montopolis-austin-tx does not exist or cannot locate data\n",
      "https://www.neighborhoods.com/northwest-hills-austin-tx does not exist or cannot locate data\n"
     ]
    }
   ],
   "source": [
    "# Pull median and average prices\n",
    "\n",
    "avg_prices = []\n",
    "med_prices = []\n",
    "urls = []\n",
    "\n",
    "for url in df['url']:\n",
    "    try:\n",
    "        res = requests.get(url)\n",
    "        if res.status_code == 200:\n",
    "            soup = BeautifulSoup(res.content, 'lxml')\n",
    "            div = soup.find('div', {'class':'detail-block-2'})\n",
    "            for li in div.find_all('li')[2]:\n",
    "                med_price = li.text\n",
    "                med_prices.append(med_price)\n",
    "                urls.append(url)\n",
    "            for li in div.find_all('li')[3]:\n",
    "                avg_price = li.text\n",
    "                avg_prices.append(avg_price)\n",
    "    except: \n",
    "        print(f\"{url} does not exist or cannot locate data\")"
   ]
  },
  {
   "cell_type": "code",
   "execution_count": 18,
   "metadata": {},
   "outputs": [],
   "source": [
    "# Create df for prices\n",
    "\n",
    "prices_df = pd.DataFrame({'median_prices': med_prices, 'avg_price_per_sqft': avg_prices, 'url': urls})"
   ]
  },
  {
   "cell_type": "code",
   "execution_count": 19,
   "metadata": {},
   "outputs": [
    {
     "data": {
      "text/html": [
       "<div>\n",
       "<style scoped>\n",
       "    .dataframe tbody tr th:only-of-type {\n",
       "        vertical-align: middle;\n",
       "    }\n",
       "\n",
       "    .dataframe tbody tr th {\n",
       "        vertical-align: top;\n",
       "    }\n",
       "\n",
       "    .dataframe thead th {\n",
       "        text-align: right;\n",
       "    }\n",
       "</style>\n",
       "<table border=\"1\" class=\"dataframe\">\n",
       "  <thead>\n",
       "    <tr style=\"text-align: right;\">\n",
       "      <th></th>\n",
       "      <th>median_prices</th>\n",
       "      <th>avg_price_per_sqft</th>\n",
       "      <th>url</th>\n",
       "    </tr>\n",
       "  </thead>\n",
       "  <tbody>\n",
       "    <tr>\n",
       "      <th>0</th>\n",
       "      <td>Median Sale Price:</td>\n",
       "      <td>Average $ per sq ft:</td>\n",
       "      <td>https://www.neighborhoods.com/allandale-austin-tx</td>\n",
       "    </tr>\n",
       "    <tr>\n",
       "      <th>1</th>\n",
       "      <td>$591,000</td>\n",
       "      <td>$350</td>\n",
       "      <td>https://www.neighborhoods.com/allandale-austin-tx</td>\n",
       "    </tr>\n",
       "    <tr>\n",
       "      <th>2</th>\n",
       "      <td>Median Sale Price:</td>\n",
       "      <td>Average $ per sq ft:</td>\n",
       "      <td>https://www.neighborhoods.com/anderson-mill-au...</td>\n",
       "    </tr>\n",
       "    <tr>\n",
       "      <th>3</th>\n",
       "      <td>$321,495</td>\n",
       "      <td>$194</td>\n",
       "      <td>https://www.neighborhoods.com/anderson-mill-au...</td>\n",
       "    </tr>\n",
       "    <tr>\n",
       "      <th>4</th>\n",
       "      <td>Median Sale Price:</td>\n",
       "      <td>Average $ per sq ft:</td>\n",
       "      <td>https://www.neighborhoods.com/barton-hills-aus...</td>\n",
       "    </tr>\n",
       "  </tbody>\n",
       "</table>\n",
       "</div>"
      ],
      "text/plain": [
       "        median_prices    avg_price_per_sqft  \\\n",
       "0  Median Sale Price:  Average $ per sq ft:   \n",
       "1            $591,000                  $350   \n",
       "2  Median Sale Price:  Average $ per sq ft:   \n",
       "3            $321,495                  $194   \n",
       "4  Median Sale Price:  Average $ per sq ft:   \n",
       "\n",
       "                                                 url  \n",
       "0  https://www.neighborhoods.com/allandale-austin-tx  \n",
       "1  https://www.neighborhoods.com/allandale-austin-tx  \n",
       "2  https://www.neighborhoods.com/anderson-mill-au...  \n",
       "3  https://www.neighborhoods.com/anderson-mill-au...  \n",
       "4  https://www.neighborhoods.com/barton-hills-aus...  "
      ]
     },
     "execution_count": 19,
     "metadata": {},
     "output_type": "execute_result"
    }
   ],
   "source": [
    "# Preview prices_df\n",
    "prices_df.head()"
   ]
  },
  {
   "cell_type": "code",
   "execution_count": 20,
   "metadata": {},
   "outputs": [],
   "source": [
    "# Drop extra rows\n",
    "prices_df.drop(prices_df[prices_df['median_prices'] == 'Median Sale Price:'].index, inplace = True) "
   ]
  },
  {
   "cell_type": "code",
   "execution_count": 21,
   "metadata": {},
   "outputs": [],
   "source": [
    "# Reset index after drop\n",
    "prices_df.reset_index(drop='True', inplace=True)"
   ]
  },
  {
   "cell_type": "code",
   "execution_count": 22,
   "metadata": {},
   "outputs": [
    {
     "name": "stdout",
     "output_type": "stream",
     "text": [
      "(39, 3)\n",
      "(54, 6)\n"
     ]
    }
   ],
   "source": [
    "# View shape\n",
    "print(prices_df.shape)\n",
    "print(df.shape)"
   ]
  },
  {
   "cell_type": "code",
   "execution_count": 23,
   "metadata": {},
   "outputs": [],
   "source": [
    "# Drop location cannot obtain sales data for\n",
    "\n",
    "drop_list = ['https://www.neighborhoods.com/montopolis-austin-tx', 'https://www.neighborhoods.com/northwest-hills-austin-tx']\n",
    "\n",
    "for item in drop_list:\n",
    "    df.drop(df[df['url'] == item].index, inplace = True) "
   ]
  },
  {
   "cell_type": "code",
   "execution_count": 24,
   "metadata": {},
   "outputs": [
    {
     "name": "stdout",
     "output_type": "stream",
     "text": [
      "https://www.neighborhoods.com/blackland-austin-tx does not exist\n",
      "https://www.neighborhoods.com/chinatown-austin-tx does not exist\n",
      "https://www.neighborhoods.com/congress-avenue-austin-tx does not exist\n",
      "https://www.neighborhoods.com/the-drag-austin-tx does not exist\n",
      "https://www.neighborhoods.com/east-riverside-oltorf-austin-tx does not exist\n",
      "https://www.neighborhoods.com/french-place-austin-tx does not exist\n",
      "https://www.neighborhoods.com/jollyville-austin-tx does not exist\n",
      "https://www.neighborhoods.com/rainey-street-austin-tx does not exist\n",
      "https://www.neighborhoods.com/saint-john-austin-tx does not exist\n",
      "https://www.neighborhoods.com/sixth-street-austin-tx does not exist\n",
      "https://www.neighborhoods.com/swedish-hill-austin-tx does not exist\n",
      "https://www.neighborhoods.com/waters-park-austin-tx does not exist\n",
      "https://www.neighborhoods.com/west-line-austin-tx does not exist\n"
     ]
    }
   ],
   "source": [
    "no_connection = []\n",
    "\n",
    "for url in df['url']:\n",
    "    try:\n",
    "        res = requests.get(url)\n",
    "        if res.status_code == 404:\n",
    "            print(f'{url} does not exist')\n",
    "            no_connection.append(url)\n",
    "    except: \n",
    "        print(f\"{url} does not exist or cannot locate data\")"
   ]
  },
  {
   "cell_type": "code",
   "execution_count": 25,
   "metadata": {},
   "outputs": [],
   "source": [
    "# Drop locations with 404 errors\n",
    "\n",
    "for item in no_connection:\n",
    "    df.drop(df[df['url'] == item].index, inplace = True) "
   ]
  },
  {
   "cell_type": "code",
   "execution_count": 26,
   "metadata": {},
   "outputs": [],
   "source": [
    "# Reset index after drop\n",
    "df.reset_index(drop='True', inplace=True)"
   ]
  },
  {
   "cell_type": "code",
   "execution_count": 27,
   "metadata": {},
   "outputs": [
    {
     "name": "stdout",
     "output_type": "stream",
     "text": [
      "(39, 3)\n",
      "(39, 6)\n"
     ]
    }
   ],
   "source": [
    "# View shape\n",
    "print(prices_df.shape)\n",
    "print(df.shape)"
   ]
  },
  {
   "cell_type": "code",
   "execution_count": 28,
   "metadata": {},
   "outputs": [
    {
     "data": {
      "text/html": [
       "<div>\n",
       "<style scoped>\n",
       "    .dataframe tbody tr th:only-of-type {\n",
       "        vertical-align: middle;\n",
       "    }\n",
       "\n",
       "    .dataframe tbody tr th {\n",
       "        vertical-align: top;\n",
       "    }\n",
       "\n",
       "    .dataframe thead th {\n",
       "        text-align: right;\n",
       "    }\n",
       "</style>\n",
       "<table border=\"1\" class=\"dataframe\">\n",
       "  <thead>\n",
       "    <tr style=\"text-align: right;\">\n",
       "      <th></th>\n",
       "      <th>neighborhood</th>\n",
       "      <th>location</th>\n",
       "      <th>latitude</th>\n",
       "      <th>longitude</th>\n",
       "      <th>url_format</th>\n",
       "      <th>url</th>\n",
       "      <th>median_prices</th>\n",
       "      <th>avg_price_per_sqft</th>\n",
       "    </tr>\n",
       "  </thead>\n",
       "  <tbody>\n",
       "    <tr>\n",
       "      <th>0</th>\n",
       "      <td>Allandale</td>\n",
       "      <td>Allandale, Austin, Texas</td>\n",
       "      <td>30.339309</td>\n",
       "      <td>-97.746972</td>\n",
       "      <td>allandale</td>\n",
       "      <td>https://www.neighborhoods.com/allandale-austin-tx</td>\n",
       "      <td>$591,000</td>\n",
       "      <td>$350</td>\n",
       "    </tr>\n",
       "    <tr>\n",
       "      <th>1</th>\n",
       "      <td>Anderson Mill</td>\n",
       "      <td>Anderson Mill, Austin, Texas</td>\n",
       "      <td>30.455835</td>\n",
       "      <td>-97.807096</td>\n",
       "      <td>anderson-mill</td>\n",
       "      <td>https://www.neighborhoods.com/anderson-mill-au...</td>\n",
       "      <td>$321,495</td>\n",
       "      <td>$194</td>\n",
       "    </tr>\n",
       "    <tr>\n",
       "      <th>2</th>\n",
       "      <td>Barton Hills</td>\n",
       "      <td>Barton Hills, Austin, Texas</td>\n",
       "      <td>30.251571</td>\n",
       "      <td>-97.784106</td>\n",
       "      <td>barton-hills</td>\n",
       "      <td>https://www.neighborhoods.com/barton-hills-aus...</td>\n",
       "      <td>$667,750</td>\n",
       "      <td>$487</td>\n",
       "    </tr>\n",
       "    <tr>\n",
       "      <th>3</th>\n",
       "      <td>Bouldin Creek</td>\n",
       "      <td>Bouldin Creek, Austin, Texas</td>\n",
       "      <td>30.255667</td>\n",
       "      <td>-97.755481</td>\n",
       "      <td>bouldin-creek</td>\n",
       "      <td>https://www.neighborhoods.com/bouldin-creek-au...</td>\n",
       "      <td>$725,750</td>\n",
       "      <td>$546</td>\n",
       "    </tr>\n",
       "    <tr>\n",
       "      <th>4</th>\n",
       "      <td>Brentwood</td>\n",
       "      <td>Brentwood, Austin, Texas</td>\n",
       "      <td>30.331264</td>\n",
       "      <td>-97.736465</td>\n",
       "      <td>brentwood</td>\n",
       "      <td>https://www.neighborhoods.com/brentwood-austin-tx</td>\n",
       "      <td>$495,250</td>\n",
       "      <td>$370</td>\n",
       "    </tr>\n",
       "  </tbody>\n",
       "</table>\n",
       "</div>"
      ],
      "text/plain": [
       "    neighborhood                      location   latitude  longitude  \\\n",
       "0      Allandale      Allandale, Austin, Texas  30.339309 -97.746972   \n",
       "1  Anderson Mill  Anderson Mill, Austin, Texas  30.455835 -97.807096   \n",
       "2   Barton Hills   Barton Hills, Austin, Texas  30.251571 -97.784106   \n",
       "3  Bouldin Creek  Bouldin Creek, Austin, Texas  30.255667 -97.755481   \n",
       "4      Brentwood      Brentwood, Austin, Texas  30.331264 -97.736465   \n",
       "\n",
       "      url_format                                                url  \\\n",
       "0      allandale  https://www.neighborhoods.com/allandale-austin-tx   \n",
       "1  anderson-mill  https://www.neighborhoods.com/anderson-mill-au...   \n",
       "2   barton-hills  https://www.neighborhoods.com/barton-hills-aus...   \n",
       "3  bouldin-creek  https://www.neighborhoods.com/bouldin-creek-au...   \n",
       "4      brentwood  https://www.neighborhoods.com/brentwood-austin-tx   \n",
       "\n",
       "  median_prices avg_price_per_sqft  \n",
       "0      $591,000               $350  \n",
       "1      $321,495               $194  \n",
       "2      $667,750               $487  \n",
       "3      $725,750               $546  \n",
       "4      $495,250               $370  "
      ]
     },
     "execution_count": 28,
     "metadata": {},
     "output_type": "execute_result"
    }
   ],
   "source": [
    "# Combine dataframes\n",
    "data_df = df.merge(prices_df, on='url',  how='left')\n",
    "data_df.head()"
   ]
  },
  {
   "cell_type": "code",
   "execution_count": 29,
   "metadata": {},
   "outputs": [
    {
     "data": {
      "text/plain": [
       "neighborhood           object\n",
       "location               object\n",
       "latitude              float64\n",
       "longitude             float64\n",
       "url_format             object\n",
       "url                    object\n",
       "median_prices          object\n",
       "avg_price_per_sqft     object\n",
       "dtype: object"
      ]
     },
     "execution_count": 29,
     "metadata": {},
     "output_type": "execute_result"
    }
   ],
   "source": [
    "# Check dtypes\n",
    "data_df.dtypes"
   ]
  },
  {
   "cell_type": "code",
   "execution_count": 30,
   "metadata": {},
   "outputs": [
    {
     "data": {
      "text/html": [
       "<div>\n",
       "<style scoped>\n",
       "    .dataframe tbody tr th:only-of-type {\n",
       "        vertical-align: middle;\n",
       "    }\n",
       "\n",
       "    .dataframe tbody tr th {\n",
       "        vertical-align: top;\n",
       "    }\n",
       "\n",
       "    .dataframe thead th {\n",
       "        text-align: right;\n",
       "    }\n",
       "</style>\n",
       "<table border=\"1\" class=\"dataframe\">\n",
       "  <thead>\n",
       "    <tr style=\"text-align: right;\">\n",
       "      <th></th>\n",
       "      <th>neighborhood</th>\n",
       "      <th>location</th>\n",
       "      <th>latitude</th>\n",
       "      <th>longitude</th>\n",
       "      <th>url_format</th>\n",
       "      <th>url</th>\n",
       "      <th>median_prices</th>\n",
       "      <th>avg_price_per_sqft</th>\n",
       "    </tr>\n",
       "  </thead>\n",
       "  <tbody>\n",
       "    <tr>\n",
       "      <th>0</th>\n",
       "      <td>Allandale</td>\n",
       "      <td>Allandale, Austin, Texas</td>\n",
       "      <td>30.339309</td>\n",
       "      <td>-97.746972</td>\n",
       "      <td>allandale</td>\n",
       "      <td>https://www.neighborhoods.com/allandale-austin-tx</td>\n",
       "      <td>591000</td>\n",
       "      <td>$350</td>\n",
       "    </tr>\n",
       "    <tr>\n",
       "      <th>1</th>\n",
       "      <td>Anderson Mill</td>\n",
       "      <td>Anderson Mill, Austin, Texas</td>\n",
       "      <td>30.455835</td>\n",
       "      <td>-97.807096</td>\n",
       "      <td>anderson-mill</td>\n",
       "      <td>https://www.neighborhoods.com/anderson-mill-au...</td>\n",
       "      <td>321495</td>\n",
       "      <td>$194</td>\n",
       "    </tr>\n",
       "    <tr>\n",
       "      <th>2</th>\n",
       "      <td>Barton Hills</td>\n",
       "      <td>Barton Hills, Austin, Texas</td>\n",
       "      <td>30.251571</td>\n",
       "      <td>-97.784106</td>\n",
       "      <td>barton-hills</td>\n",
       "      <td>https://www.neighborhoods.com/barton-hills-aus...</td>\n",
       "      <td>667750</td>\n",
       "      <td>$487</td>\n",
       "    </tr>\n",
       "    <tr>\n",
       "      <th>3</th>\n",
       "      <td>Bouldin Creek</td>\n",
       "      <td>Bouldin Creek, Austin, Texas</td>\n",
       "      <td>30.255667</td>\n",
       "      <td>-97.755481</td>\n",
       "      <td>bouldin-creek</td>\n",
       "      <td>https://www.neighborhoods.com/bouldin-creek-au...</td>\n",
       "      <td>725750</td>\n",
       "      <td>$546</td>\n",
       "    </tr>\n",
       "    <tr>\n",
       "      <th>4</th>\n",
       "      <td>Brentwood</td>\n",
       "      <td>Brentwood, Austin, Texas</td>\n",
       "      <td>30.331264</td>\n",
       "      <td>-97.736465</td>\n",
       "      <td>brentwood</td>\n",
       "      <td>https://www.neighborhoods.com/brentwood-austin-tx</td>\n",
       "      <td>495250</td>\n",
       "      <td>$370</td>\n",
       "    </tr>\n",
       "  </tbody>\n",
       "</table>\n",
       "</div>"
      ],
      "text/plain": [
       "    neighborhood                      location   latitude  longitude  \\\n",
       "0      Allandale      Allandale, Austin, Texas  30.339309 -97.746972   \n",
       "1  Anderson Mill  Anderson Mill, Austin, Texas  30.455835 -97.807096   \n",
       "2   Barton Hills   Barton Hills, Austin, Texas  30.251571 -97.784106   \n",
       "3  Bouldin Creek  Bouldin Creek, Austin, Texas  30.255667 -97.755481   \n",
       "4      Brentwood      Brentwood, Austin, Texas  30.331264 -97.736465   \n",
       "\n",
       "      url_format                                                url  \\\n",
       "0      allandale  https://www.neighborhoods.com/allandale-austin-tx   \n",
       "1  anderson-mill  https://www.neighborhoods.com/anderson-mill-au...   \n",
       "2   barton-hills  https://www.neighborhoods.com/barton-hills-aus...   \n",
       "3  bouldin-creek  https://www.neighborhoods.com/bouldin-creek-au...   \n",
       "4      brentwood  https://www.neighborhoods.com/brentwood-austin-tx   \n",
       "\n",
       "  median_prices avg_price_per_sqft  \n",
       "0        591000               $350  \n",
       "1        321495               $194  \n",
       "2        667750               $487  \n",
       "3        725750               $546  \n",
       "4        495250               $370  "
      ]
     },
     "execution_count": 30,
     "metadata": {},
     "output_type": "execute_result"
    }
   ],
   "source": [
    "# Format price\n",
    "\n",
    "data_df['median_prices'] = [item.replace('$','').replace(',','') for item in data_df['median_prices']]\n",
    "data_df.head()"
   ]
  },
  {
   "cell_type": "code",
   "execution_count": 31,
   "metadata": {},
   "outputs": [
    {
     "data": {
      "text/html": [
       "<div>\n",
       "<style scoped>\n",
       "    .dataframe tbody tr th:only-of-type {\n",
       "        vertical-align: middle;\n",
       "    }\n",
       "\n",
       "    .dataframe tbody tr th {\n",
       "        vertical-align: top;\n",
       "    }\n",
       "\n",
       "    .dataframe thead th {\n",
       "        text-align: right;\n",
       "    }\n",
       "</style>\n",
       "<table border=\"1\" class=\"dataframe\">\n",
       "  <thead>\n",
       "    <tr style=\"text-align: right;\">\n",
       "      <th></th>\n",
       "      <th>neighborhood</th>\n",
       "      <th>location</th>\n",
       "      <th>latitude</th>\n",
       "      <th>longitude</th>\n",
       "      <th>url_format</th>\n",
       "      <th>url</th>\n",
       "      <th>median_prices</th>\n",
       "      <th>avg_price_per_sqft</th>\n",
       "    </tr>\n",
       "  </thead>\n",
       "  <tbody>\n",
       "    <tr>\n",
       "      <th>0</th>\n",
       "      <td>Allandale</td>\n",
       "      <td>Allandale, Austin, Texas</td>\n",
       "      <td>30.339309</td>\n",
       "      <td>-97.746972</td>\n",
       "      <td>allandale</td>\n",
       "      <td>https://www.neighborhoods.com/allandale-austin-tx</td>\n",
       "      <td>591000</td>\n",
       "      <td>350</td>\n",
       "    </tr>\n",
       "    <tr>\n",
       "      <th>1</th>\n",
       "      <td>Anderson Mill</td>\n",
       "      <td>Anderson Mill, Austin, Texas</td>\n",
       "      <td>30.455835</td>\n",
       "      <td>-97.807096</td>\n",
       "      <td>anderson-mill</td>\n",
       "      <td>https://www.neighborhoods.com/anderson-mill-au...</td>\n",
       "      <td>321495</td>\n",
       "      <td>194</td>\n",
       "    </tr>\n",
       "    <tr>\n",
       "      <th>2</th>\n",
       "      <td>Barton Hills</td>\n",
       "      <td>Barton Hills, Austin, Texas</td>\n",
       "      <td>30.251571</td>\n",
       "      <td>-97.784106</td>\n",
       "      <td>barton-hills</td>\n",
       "      <td>https://www.neighborhoods.com/barton-hills-aus...</td>\n",
       "      <td>667750</td>\n",
       "      <td>487</td>\n",
       "    </tr>\n",
       "    <tr>\n",
       "      <th>3</th>\n",
       "      <td>Bouldin Creek</td>\n",
       "      <td>Bouldin Creek, Austin, Texas</td>\n",
       "      <td>30.255667</td>\n",
       "      <td>-97.755481</td>\n",
       "      <td>bouldin-creek</td>\n",
       "      <td>https://www.neighborhoods.com/bouldin-creek-au...</td>\n",
       "      <td>725750</td>\n",
       "      <td>546</td>\n",
       "    </tr>\n",
       "    <tr>\n",
       "      <th>4</th>\n",
       "      <td>Brentwood</td>\n",
       "      <td>Brentwood, Austin, Texas</td>\n",
       "      <td>30.331264</td>\n",
       "      <td>-97.736465</td>\n",
       "      <td>brentwood</td>\n",
       "      <td>https://www.neighborhoods.com/brentwood-austin-tx</td>\n",
       "      <td>495250</td>\n",
       "      <td>370</td>\n",
       "    </tr>\n",
       "  </tbody>\n",
       "</table>\n",
       "</div>"
      ],
      "text/plain": [
       "    neighborhood                      location   latitude  longitude  \\\n",
       "0      Allandale      Allandale, Austin, Texas  30.339309 -97.746972   \n",
       "1  Anderson Mill  Anderson Mill, Austin, Texas  30.455835 -97.807096   \n",
       "2   Barton Hills   Barton Hills, Austin, Texas  30.251571 -97.784106   \n",
       "3  Bouldin Creek  Bouldin Creek, Austin, Texas  30.255667 -97.755481   \n",
       "4      Brentwood      Brentwood, Austin, Texas  30.331264 -97.736465   \n",
       "\n",
       "      url_format                                                url  \\\n",
       "0      allandale  https://www.neighborhoods.com/allandale-austin-tx   \n",
       "1  anderson-mill  https://www.neighborhoods.com/anderson-mill-au...   \n",
       "2   barton-hills  https://www.neighborhoods.com/barton-hills-aus...   \n",
       "3  bouldin-creek  https://www.neighborhoods.com/bouldin-creek-au...   \n",
       "4      brentwood  https://www.neighborhoods.com/brentwood-austin-tx   \n",
       "\n",
       "  median_prices avg_price_per_sqft  \n",
       "0        591000                350  \n",
       "1        321495                194  \n",
       "2        667750                487  \n",
       "3        725750                546  \n",
       "4        495250                370  "
      ]
     },
     "execution_count": 31,
     "metadata": {},
     "output_type": "execute_result"
    }
   ],
   "source": [
    "# Format price\n",
    "\n",
    "data_df['avg_price_per_sqft'] = [item.replace('$','') for item in data_df['avg_price_per_sqft']]\n",
    "data_df.head()"
   ]
  },
  {
   "cell_type": "code",
   "execution_count": 32,
   "metadata": {},
   "outputs": [],
   "source": [
    "# Convert dtype to float\n",
    "\n",
    "data_df['median_prices'] = data_df['median_prices'].astype(float)"
   ]
  },
  {
   "cell_type": "code",
   "execution_count": 33,
   "metadata": {},
   "outputs": [],
   "source": [
    "# Convert dtype to float\n",
    "\n",
    "data_df['avg_price_per_sqft'] = data_df['avg_price_per_sqft'].astype(float)"
   ]
  },
  {
   "cell_type": "code",
   "execution_count": 34,
   "metadata": {},
   "outputs": [
    {
     "data": {
      "text/plain": [
       "neighborhood           object\n",
       "location               object\n",
       "latitude              float64\n",
       "longitude             float64\n",
       "url_format             object\n",
       "url                    object\n",
       "median_prices         float64\n",
       "avg_price_per_sqft    float64\n",
       "dtype: object"
      ]
     },
     "execution_count": 34,
     "metadata": {},
     "output_type": "execute_result"
    }
   ],
   "source": [
    "# Confirm dtype conversion\n",
    "\n",
    "data_df.dtypes"
   ]
  },
  {
   "cell_type": "code",
   "execution_count": 35,
   "metadata": {},
   "outputs": [],
   "source": [
    "# Drop rows with no Foursquare data\n",
    "\n",
    "drop_items = ['Allandale', 'Wooten']\n",
    "\n",
    "for item in drop_items:\n",
    "    data_df.drop(data_df[data_df['neighborhood'] == item].index, inplace = True) "
   ]
  },
  {
   "cell_type": "code",
   "execution_count": 36,
   "metadata": {},
   "outputs": [],
   "source": [
    "# Save data_df \n",
    "data_df.to_csv('../data/data_df.csv', index=False)"
   ]
  },
  {
   "cell_type": "code",
   "execution_count": 37,
   "metadata": {},
   "outputs": [
    {
     "data": {
      "text/html": [
       "<div style=\"width:100%;\"><div style=\"position:relative;width:100%;height:0;padding-bottom:60%;\"><span style=\"color:#565656\">Make this Notebook Trusted to load map: File -> Trust Notebook</span><iframe src=\"about:blank\" style=\"position:absolute;width:100%;height:100%;left:0;top:0;border:none !important;\" data-html=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 onload=\"this.contentDocument.open();this.contentDocument.write(atob(this.getAttribute('data-html')));this.contentDocument.close();\" allowfullscreen webkitallowfullscreen mozallowfullscreen></iframe></div></div>"
      ],
      "text/plain": [
       "<folium.folium.Map at 0x7fad48fb2a10>"
      ]
     },
     "execution_count": 37,
     "metadata": {},
     "output_type": "execute_result"
    }
   ],
   "source": [
    "# Check for bad coorindates\n",
    "\n",
    "map_df = folium.Map(location=[data_df.iloc[0,2], data_df.iloc[0,3]], zoom_start=10)\n",
    "\n",
    "# add markers to map\n",
    "for lat, lng, name in zip(data_df['latitude'], data_df['longitude'], data_df['neighborhood']):\n",
    "    label = '{}'.format(name)\n",
    "    label = folium.Popup(label, parse_html=True)\n",
    "    folium.CircleMarker(\n",
    "        [lat, lng],\n",
    "        radius=5,\n",
    "        popup=label,\n",
    "        color='purple',\n",
    "        fill=True,\n",
    "        fill_color='#3186cc',\n",
    "        fill_opacity=0.6,\n",
    "        parse_html=False).add_to(map_df)  \n",
    "    \n",
    "map_df"
   ]
  },
  {
   "cell_type": "markdown",
   "metadata": {},
   "source": [
    "#### Foursquare Data"
   ]
  },
  {
   "cell_type": "code",
   "execution_count": 38,
   "metadata": {},
   "outputs": [],
   "source": [
    "# Establish Foursquare credentials for reference\n",
    "\n",
    "CLIENT_ID = 'S5JB2KFD1NTX3EQLZEUCB5OLMPQTFOITAQG1ZMHVNB12UFH0' \n",
    "CLIENT_SECRET = '2SV2BAJSKBTEXPH41FHT2X3P1M1VQKYLZ54213I0VAZU2JPT' \n",
    "VERSION = '20200609' # Foursquare API version\n"
   ]
  },
  {
   "cell_type": "code",
   "execution_count": 39,
   "metadata": {},
   "outputs": [],
   "source": [
    "# Collect venue results from Foursquare\n",
    "# Code adapted from IBM data science cert lab\n",
    "\n",
    "radius = 1000 # meters \n",
    "limit = 200\n",
    "\n",
    "venues = []\n",
    "\n",
    "for lat, long, neighborhood in zip(data_df['latitude'], data_df['longitude'], data_df['neighborhood']):\n",
    "    url = \"https://api.foursquare.com/v2/venues/explore?client_id={}&client_secret={}&v={}&ll={},{}&radius={}&limit={}\".format(\n",
    "        CLIENT_ID,\n",
    "        CLIENT_SECRET,\n",
    "        VERSION,\n",
    "        lat,\n",
    "        long,\n",
    "        radius, \n",
    "        limit)\n",
    "    \n",
    "    results = requests.get(url).json()[\"response\"]['groups'][0]['items']\n",
    "    \n",
    "    for venue in results:\n",
    "        venues.append((\n",
    "            neighborhood,\n",
    "            lat, \n",
    "            long, \n",
    "            venue['venue']['name'], \n",
    "            venue['venue']['location']['lat'], \n",
    "            venue['venue']['location']['lng'],  \n",
    "            venue['venue']['categories'][0]['name']))"
   ]
  },
  {
   "cell_type": "code",
   "execution_count": 40,
   "metadata": {},
   "outputs": [
    {
     "name": "stdout",
     "output_type": "stream",
     "text": [
      "Shape: (1901, 7)\n",
      "Unique venue types: 270\n"
     ]
    },
    {
     "data": {
      "text/html": [
       "<div>\n",
       "<style scoped>\n",
       "    .dataframe tbody tr th:only-of-type {\n",
       "        vertical-align: middle;\n",
       "    }\n",
       "\n",
       "    .dataframe tbody tr th {\n",
       "        vertical-align: top;\n",
       "    }\n",
       "\n",
       "    .dataframe thead th {\n",
       "        text-align: right;\n",
       "    }\n",
       "</style>\n",
       "<table border=\"1\" class=\"dataframe\">\n",
       "  <thead>\n",
       "    <tr style=\"text-align: right;\">\n",
       "      <th></th>\n",
       "      <th>neighborhood</th>\n",
       "      <th>latitude</th>\n",
       "      <th>longitude</th>\n",
       "      <th>venue_name</th>\n",
       "      <th>venue_latitude</th>\n",
       "      <th>venue_longitude</th>\n",
       "      <th>venue_type</th>\n",
       "    </tr>\n",
       "  </thead>\n",
       "  <tbody>\n",
       "    <tr>\n",
       "      <th>0</th>\n",
       "      <td>Anderson Mill</td>\n",
       "      <td>30.455835</td>\n",
       "      <td>-97.807096</td>\n",
       "      <td>Millrun Park</td>\n",
       "      <td>30.451548</td>\n",
       "      <td>-97.802975</td>\n",
       "      <td>Park</td>\n",
       "    </tr>\n",
       "    <tr>\n",
       "      <th>1</th>\n",
       "      <td>Anderson Mill</td>\n",
       "      <td>30.455835</td>\n",
       "      <td>-97.807096</td>\n",
       "      <td>Harper Park (in Anderson Mill)</td>\n",
       "      <td>30.457869</td>\n",
       "      <td>-97.811024</td>\n",
       "      <td>Park</td>\n",
       "    </tr>\n",
       "    <tr>\n",
       "      <th>2</th>\n",
       "      <td>Anderson Mill</td>\n",
       "      <td>30.455835</td>\n",
       "      <td>-97.807096</td>\n",
       "      <td>Freda's Seafood Grille</td>\n",
       "      <td>30.464196</td>\n",
       "      <td>-97.803776</td>\n",
       "      <td>Seafood Restaurant</td>\n",
       "    </tr>\n",
       "    <tr>\n",
       "      <th>3</th>\n",
       "      <td>Anderson Mill</td>\n",
       "      <td>30.455835</td>\n",
       "      <td>-97.807096</td>\n",
       "      <td>Interstellar Bbq</td>\n",
       "      <td>30.461178</td>\n",
       "      <td>-97.814930</td>\n",
       "      <td>BBQ Joint</td>\n",
       "    </tr>\n",
       "    <tr>\n",
       "      <th>4</th>\n",
       "      <td>Anderson Mill</td>\n",
       "      <td>30.455835</td>\n",
       "      <td>-97.807096</td>\n",
       "      <td>Punch Austin Kettlebell Gym</td>\n",
       "      <td>30.447413</td>\n",
       "      <td>-97.810296</td>\n",
       "      <td>Gym / Fitness Center</td>\n",
       "    </tr>\n",
       "  </tbody>\n",
       "</table>\n",
       "</div>"
      ],
      "text/plain": [
       "    neighborhood   latitude  longitude                      venue_name  \\\n",
       "0  Anderson Mill  30.455835 -97.807096                    Millrun Park   \n",
       "1  Anderson Mill  30.455835 -97.807096  Harper Park (in Anderson Mill)   \n",
       "2  Anderson Mill  30.455835 -97.807096          Freda's Seafood Grille   \n",
       "3  Anderson Mill  30.455835 -97.807096                Interstellar Bbq   \n",
       "4  Anderson Mill  30.455835 -97.807096     Punch Austin Kettlebell Gym   \n",
       "\n",
       "   venue_latitude  venue_longitude            venue_type  \n",
       "0       30.451548       -97.802975                  Park  \n",
       "1       30.457869       -97.811024                  Park  \n",
       "2       30.464196       -97.803776    Seafood Restaurant  \n",
       "3       30.461178       -97.814930             BBQ Joint  \n",
       "4       30.447413       -97.810296  Gym / Fitness Center  "
      ]
     },
     "execution_count": 40,
     "metadata": {},
     "output_type": "execute_result"
    }
   ],
   "source": [
    "#  Create dataframe for venues results\n",
    "venues_df = pd.DataFrame(venues)\n",
    "venues_df.columns = ['neighborhood', 'latitude', 'longitude', 'venue_name', 'venue_latitude', 'venue_longitude', 'venue_type']\n",
    "\n",
    "# check the dataframe\n",
    "print('Shape: {}'.format(venues_df.shape))\n",
    "print('Unique venue types: {}'.format(len(venues_df['venue_type'].unique())))\n",
    "venues_df.head()"
   ]
  },
  {
   "cell_type": "code",
   "execution_count": 41,
   "metadata": {},
   "outputs": [],
   "source": [
    "# Save dataframe with Foursquare data \n",
    "venues_df.to_csv('../data/venues_df.csv', index=False)"
   ]
  }
 ],
 "metadata": {
  "kernelspec": {
   "display_name": "Python 3",
   "language": "python",
   "name": "python3"
  },
  "language_info": {
   "codemirror_mode": {
    "name": "ipython",
    "version": 3
   },
   "file_extension": ".py",
   "mimetype": "text/x-python",
   "name": "python",
   "nbconvert_exporter": "python",
   "pygments_lexer": "ipython3",
   "version": "3.7.6"
  }
 },
 "nbformat": 4,
 "nbformat_minor": 4
}
