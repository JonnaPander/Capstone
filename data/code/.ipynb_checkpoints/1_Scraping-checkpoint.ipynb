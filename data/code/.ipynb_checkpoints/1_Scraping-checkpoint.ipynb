{
 "cells": [
  {
   "cell_type": "code",
   "execution_count": 42,
   "metadata": {},
   "outputs": [],
   "source": [
    "# import libraries\n",
    "\n",
    "import pandas as pd \n",
    "import numpy as np \n",
    "import matplotlib.cm as cm\n",
    "import matplotlib.colors as colors\n",
    "import matplotlib.pyplot as plt\n",
    "import seaborn as sns\n",
    "\n",
    "import requests \n",
    "import time\n",
    "from bs4 import BeautifulSoup\n",
    "from urllib.request import urlopen\n",
    "import json # If reading in data from Json file\n",
    "from pandas.io.json import json_normalize # tranform JSON file into a pandas dataframe\n",
    "import folium # maps\n",
    "from geopy.geocoders import Nominatim # uses address to get lat/long\n",
    "\n",
    "# Installations\n",
    "#!conda install -c conda-forge geopy \n",
    "#!conda install -c conda-forge folium=0.5.0 "
   ]
  },
  {
   "cell_type": "markdown",
   "metadata": {},
   "source": [
    "#  Data Acquisition"
   ]
  },
  {
   "cell_type": "markdown",
   "metadata": {},
   "source": [
    "#### Scrape Wikipedia for Names of Neighborhoods in Austin"
   ]
  },
  {
   "cell_type": "code",
   "execution_count": 43,
   "metadata": {},
   "outputs": [
    {
     "data": {
      "text/html": [
       "<div>\n",
       "<style scoped>\n",
       "    .dataframe tbody tr th:only-of-type {\n",
       "        vertical-align: middle;\n",
       "    }\n",
       "\n",
       "    .dataframe tbody tr th {\n",
       "        vertical-align: top;\n",
       "    }\n",
       "\n",
       "    .dataframe thead th {\n",
       "        text-align: right;\n",
       "    }\n",
       "</style>\n",
       "<table border=\"1\" class=\"dataframe\">\n",
       "  <thead>\n",
       "    <tr style=\"text-align: right;\">\n",
       "      <th></th>\n",
       "      <th>neighborhood</th>\n",
       "    </tr>\n",
       "  </thead>\n",
       "  <tbody>\n",
       "    <tr>\n",
       "      <th>0</th>\n",
       "      <td>Allandale</td>\n",
       "    </tr>\n",
       "    <tr>\n",
       "      <th>1</th>\n",
       "      <td>Anderson Mill</td>\n",
       "    </tr>\n",
       "    <tr>\n",
       "      <th>2</th>\n",
       "      <td>Barton Hills</td>\n",
       "    </tr>\n",
       "    <tr>\n",
       "      <th>3</th>\n",
       "      <td>Blackland</td>\n",
       "    </tr>\n",
       "    <tr>\n",
       "      <th>4</th>\n",
       "      <td>Bouldin Creek</td>\n",
       "    </tr>\n",
       "  </tbody>\n",
       "</table>\n",
       "</div>"
      ],
      "text/plain": [
       "    neighborhood\n",
       "0      Allandale\n",
       "1  Anderson Mill\n",
       "2   Barton Hills\n",
       "3      Blackland\n",
       "4  Bouldin Creek"
      ]
     },
     "execution_count": 43,
     "metadata": {},
     "output_type": "execute_result"
    }
   ],
   "source": [
    "# scrape list of Austin neighborhoods\n",
    "\n",
    "neighborhoods = []\n",
    "\n",
    "url = 'https://en.wikipedia.org/wiki/List_of_Austin_neighborhoods'\n",
    "res = requests.get(url)\n",
    "if res.status_code == 200:\n",
    "    soup = BeautifulSoup(res.content, 'lxml')\n",
    "    div = soup.find_all('div', {'style': 'padding:0em 0.25em'})[13]\n",
    "    for li in div.find_all('li'):\n",
    "        name = li.text\n",
    "        neighborhoods.append(name)\n",
    "\n",
    "df = pd.DataFrame({'neighborhood': neighborhoods})  \n",
    "df.head()"
   ]
  },
  {
   "cell_type": "markdown",
   "metadata": {},
   "source": [
    "Here I am editing the name of some of the neighborhoods to match what is in the neighborhoods.com sales data to test if geopy can locate coordinates based on the name change. I previously ran geopy with the original neighborhood name from the Wikipedia scrape which did not return results."
   ]
  },
  {
   "cell_type": "code",
   "execution_count": 44,
   "metadata": {},
   "outputs": [],
   "source": [
    "# Rename neighborhoods for searchability\n",
    "df.loc[26,'neighborhood'] = 'Hyde Park'\n",
    "df.loc[30,'neighborhood'] = 'Mueller'\n",
    "df.loc[31,'neighborhood'] = 'North Burnet'"
   ]
  },
  {
   "cell_type": "code",
   "execution_count": 45,
   "metadata": {},
   "outputs": [
    {
     "data": {
      "text/html": [
       "<div>\n",
       "<style scoped>\n",
       "    .dataframe tbody tr th:only-of-type {\n",
       "        vertical-align: middle;\n",
       "    }\n",
       "\n",
       "    .dataframe tbody tr th {\n",
       "        vertical-align: top;\n",
       "    }\n",
       "\n",
       "    .dataframe thead th {\n",
       "        text-align: right;\n",
       "    }\n",
       "</style>\n",
       "<table border=\"1\" class=\"dataframe\">\n",
       "  <thead>\n",
       "    <tr style=\"text-align: right;\">\n",
       "      <th></th>\n",
       "      <th>neighborhood</th>\n",
       "      <th>location</th>\n",
       "    </tr>\n",
       "  </thead>\n",
       "  <tbody>\n",
       "    <tr>\n",
       "      <th>0</th>\n",
       "      <td>Allandale</td>\n",
       "      <td>Allandale, Austin, Texas</td>\n",
       "    </tr>\n",
       "    <tr>\n",
       "      <th>1</th>\n",
       "      <td>Anderson Mill</td>\n",
       "      <td>Anderson Mill, Austin, Texas</td>\n",
       "    </tr>\n",
       "    <tr>\n",
       "      <th>2</th>\n",
       "      <td>Barton Hills</td>\n",
       "      <td>Barton Hills, Austin, Texas</td>\n",
       "    </tr>\n",
       "    <tr>\n",
       "      <th>3</th>\n",
       "      <td>Blackland</td>\n",
       "      <td>Blackland, Austin, Texas</td>\n",
       "    </tr>\n",
       "    <tr>\n",
       "      <th>4</th>\n",
       "      <td>Bouldin Creek</td>\n",
       "      <td>Bouldin Creek, Austin, Texas</td>\n",
       "    </tr>\n",
       "  </tbody>\n",
       "</table>\n",
       "</div>"
      ],
      "text/plain": [
       "    neighborhood                      location\n",
       "0      Allandale      Allandale, Austin, Texas\n",
       "1  Anderson Mill  Anderson Mill, Austin, Texas\n",
       "2   Barton Hills   Barton Hills, Austin, Texas\n",
       "3      Blackland      Blackland, Austin, Texas\n",
       "4  Bouldin Creek  Bouldin Creek, Austin, Texas"
      ]
     },
     "execution_count": 45,
     "metadata": {},
     "output_type": "execute_result"
    }
   ],
   "source": [
    "# Create columns with 'neighborhood' + 'Austin, Texas' as location to search for lat/long\n",
    "\n",
    "locations = []\n",
    "\n",
    "for name in df['neighborhood']:\n",
    "    location = name + ', Austin, Texas'\n",
    "    locations.append(location)\n",
    "\n",
    "df['location'] = locations\n",
    "df.head()"
   ]
  },
  {
   "cell_type": "code",
   "execution_count": 46,
   "metadata": {},
   "outputs": [
    {
     "data": {
      "text/plain": [
       "neighborhood    0\n",
       "location        0\n",
       "dtype: int64"
      ]
     },
     "execution_count": 46,
     "metadata": {},
     "output_type": "execute_result"
    }
   ],
   "source": [
    "# Check for nulls\n",
    "df.isnull().sum()"
   ]
  },
  {
   "cell_type": "code",
   "execution_count": 47,
   "metadata": {},
   "outputs": [
    {
     "data": {
      "text/plain": [
       "(59, 2)"
      ]
     },
     "execution_count": 47,
     "metadata": {},
     "output_type": "execute_result"
    }
   ],
   "source": [
    "# View shape\n",
    "df.shape"
   ]
  },
  {
   "cell_type": "markdown",
   "metadata": {},
   "source": [
    "#### Obtain Lat/Long Data"
   ]
  },
  {
   "cell_type": "markdown",
   "metadata": {},
   "source": [
    "This code uses try/except to account for latitudes and longitudes that cannot be found with the geopy library. This is a limitation of using this package. Geopy documentation can be found here: https://geopy.readthedocs.io/en/stable/"
   ]
  },
  {
   "cell_type": "code",
   "execution_count": 48,
   "metadata": {},
   "outputs": [
    {
     "name": "stdout",
     "output_type": "stream",
     "text": [
      "Problem with Bremond Block Historic District data or cannot Geocode\n",
      "Problem with Moore's Crossing Historic District data or cannot Geocode\n",
      "Problem with Shadow Lawn Historic District data or cannot Geocode\n",
      "Problem with Spyglass-Barton's Bluff data or cannot Geocode\n",
      "Problem with Willow-Spence Streets data or cannot Geocode\n"
     ]
    }
   ],
   "source": [
    "# Look up lat/long with geopy library\n",
    "\n",
    "lats = []\n",
    "longs = []\n",
    "    \n",
    "for name in df['neighborhood']:\n",
    "    neighborhood = name + ', Austin, Texas'\n",
    "    geolocator = Nominatim(user_agent = 'foursquare_agent')\n",
    "    try:\n",
    "        location = geolocator.geocode(neighborhood)\n",
    "        lat = location.latitude\n",
    "        long = location.longitude \n",
    "        lats.append(lat)\n",
    "        longs.append(long)\n",
    "    except AttributeError: \n",
    "        print(f'Problem with {name} data or cannot Geocode')"
   ]
  },
  {
   "cell_type": "code",
   "execution_count": 49,
   "metadata": {},
   "outputs": [],
   "source": [
    "# Drop locations cannot obtain lat/long for and do not have sales data for\n",
    "\n",
    "drop_list = ['Bremond Block Historic District', \"Moore's Crossing Historic District\", 'Shadow Lawn Historic District', \"Spyglass-Barton's Bluff\", 'Willow-Spence Streets']\n",
    "\n",
    "for item in drop_list:\n",
    "    df.drop(df[df['neighborhood'] == item].index, inplace = True) "
   ]
  },
  {
   "cell_type": "markdown",
   "metadata": {},
   "source": [
    "Because I will be merging dataframes without a common column name I am resetting the index wherever necessary to be able to merge on the index."
   ]
  },
  {
   "cell_type": "code",
   "execution_count": 50,
   "metadata": {},
   "outputs": [],
   "source": [
    "# Reset index\n",
    "df.reset_index(drop='True', inplace=True)"
   ]
  },
  {
   "cell_type": "code",
   "execution_count": 51,
   "metadata": {},
   "outputs": [
    {
     "data": {
      "text/html": [
       "<div>\n",
       "<style scoped>\n",
       "    .dataframe tbody tr th:only-of-type {\n",
       "        vertical-align: middle;\n",
       "    }\n",
       "\n",
       "    .dataframe tbody tr th {\n",
       "        vertical-align: top;\n",
       "    }\n",
       "\n",
       "    .dataframe thead th {\n",
       "        text-align: right;\n",
       "    }\n",
       "</style>\n",
       "<table border=\"1\" class=\"dataframe\">\n",
       "  <thead>\n",
       "    <tr style=\"text-align: right;\">\n",
       "      <th></th>\n",
       "      <th>neighborhood</th>\n",
       "      <th>location</th>\n",
       "      <th>latitude</th>\n",
       "      <th>longitude</th>\n",
       "    </tr>\n",
       "  </thead>\n",
       "  <tbody>\n",
       "    <tr>\n",
       "      <th>49</th>\n",
       "      <td>West Line</td>\n",
       "      <td>West Line, Austin, Texas</td>\n",
       "      <td>30.424179</td>\n",
       "      <td>-97.739170</td>\n",
       "    </tr>\n",
       "    <tr>\n",
       "      <th>50</th>\n",
       "      <td>Windsor Hills</td>\n",
       "      <td>Windsor Hills, Austin, Texas</td>\n",
       "      <td>30.362072</td>\n",
       "      <td>-97.679214</td>\n",
       "    </tr>\n",
       "    <tr>\n",
       "      <th>51</th>\n",
       "      <td>Windsor Park</td>\n",
       "      <td>Windsor Park, Austin, Texas</td>\n",
       "      <td>30.313549</td>\n",
       "      <td>-97.691095</td>\n",
       "    </tr>\n",
       "    <tr>\n",
       "      <th>52</th>\n",
       "      <td>Wooten</td>\n",
       "      <td>Wooten, Austin, Texas</td>\n",
       "      <td>30.360467</td>\n",
       "      <td>-97.723320</td>\n",
       "    </tr>\n",
       "    <tr>\n",
       "      <th>53</th>\n",
       "      <td>Zilker</td>\n",
       "      <td>Zilker, Austin, Texas</td>\n",
       "      <td>30.254236</td>\n",
       "      <td>-97.769581</td>\n",
       "    </tr>\n",
       "  </tbody>\n",
       "</table>\n",
       "</div>"
      ],
      "text/plain": [
       "     neighborhood                      location   latitude  longitude\n",
       "49      West Line      West Line, Austin, Texas  30.424179 -97.739170\n",
       "50  Windsor Hills  Windsor Hills, Austin, Texas  30.362072 -97.679214\n",
       "51   Windsor Park   Windsor Park, Austin, Texas  30.313549 -97.691095\n",
       "52         Wooten         Wooten, Austin, Texas  30.360467 -97.723320\n",
       "53         Zilker         Zilker, Austin, Texas  30.254236 -97.769581"
      ]
     },
     "execution_count": 51,
     "metadata": {},
     "output_type": "execute_result"
    }
   ],
   "source": [
    "# Populate df with lat/long\n",
    "\n",
    "df['latitude'] = lats\n",
    "df['longitude'] = longs\n",
    "df.tail()"
   ]
  },
  {
   "cell_type": "markdown",
   "metadata": {},
   "source": [
    "When viewing the plotted coordinates on a map, it was clear that some of the coordinates were wrong since they were far outside of Austin.  I used Google Earth to check the coordinates generated by geopy and found following locations that need to be updated."
   ]
  },
  {
   "cell_type": "code",
   "execution_count": 52,
   "metadata": {},
   "outputs": [],
   "source": [
    "# Fix bad coordinates\n",
    "\n",
    "# Canyon Creek\n",
    "df.loc[df['neighborhood'] == 'Canyon Creek', ['latitude']] = 30.434033\n",
    "df.loc[df['neighborhood'] == 'Canyon Creek', ['longitude']] = -97.820708\n",
    "\n",
    "# Cicle C Ranch\n",
    "df.loc[df['neighborhood'] == 'Circle C Ranch', ['latitude']] = 30.190339\n",
    "df.loc[df['neighborhood'] == 'Circle C Ranch', ['longitude']] = -97.88905\n",
    "\n",
    "# Easton Park\n",
    "df.loc[df['neighborhood'] == 'Easton Park', ['latitude']] = 30.155247\n",
    "df.loc[df['neighborhood'] == 'Easton Park', ['longitude']] = -97.718764\n",
    "\n",
    "# Jollyville\n",
    "df.loc[df['neighborhood'] == 'Jollyville', ['latitude']] = 30.462108\n",
    "df.loc[df['neighborhood'] == 'Jollyville', ['longitude']] = -97.737042\n",
    "\n",
    "# Oak Hill\n",
    "df.loc[df['neighborhood'] == 'Oak Hill', ['latitude']] = 30.231431\n",
    "df.loc[df['neighborhood'] == 'Oak Hill', ['longitude']] = -97.865314\n",
    "\n",
    "# Onion Creek\n",
    "df.loc[df['neighborhood'] == 'Onion Creek', ['latitude']] = 30.140056\n",
    "df.loc[df['neighborhood'] == 'Onion Creek', ['longitude']] = -97.781803\n",
    "\n",
    "# Sixth Street\n",
    "df.loc[df['neighborhood'] == 'Sixth Street', ['latitude']] = 30.266225\n",
    "df.loc[df['neighborhood'] == 'Sixth Street', ['longitude']] = -97.738044\n",
    "\n",
    "# Swedish Hill\n",
    "df.loc[df['neighborhood'] == 'Swedish Hill', ['latitude']] = 30.272428\n",
    "df.loc[df['neighborhood'] == 'Swedish Hill', ['longitude']] = -97.756531"
   ]
  },
  {
   "cell_type": "code",
   "execution_count": 53,
   "metadata": {},
   "outputs": [],
   "source": [
    "# Export for Tableau\n",
    "df.to_excel(\"../data/lat_long.xlsx\", index=False)"
   ]
  },
  {
   "cell_type": "markdown",
   "metadata": {},
   "source": [
    "The website uses a specific format for the URL for each neighborhood so I am generating the URL for each neighborhood to get the sales data. "
   ]
  },
  {
   "cell_type": "code",
   "execution_count": 54,
   "metadata": {},
   "outputs": [],
   "source": [
    "# Create column for url format to generate url\n",
    "df['url_format'] = [item.replace(' ','-').lower() for item in df['neighborhood']]"
   ]
  },
  {
   "cell_type": "code",
   "execution_count": 55,
   "metadata": {},
   "outputs": [
    {
     "data": {
      "text/html": [
       "<div>\n",
       "<style scoped>\n",
       "    .dataframe tbody tr th:only-of-type {\n",
       "        vertical-align: middle;\n",
       "    }\n",
       "\n",
       "    .dataframe tbody tr th {\n",
       "        vertical-align: top;\n",
       "    }\n",
       "\n",
       "    .dataframe thead th {\n",
       "        text-align: right;\n",
       "    }\n",
       "</style>\n",
       "<table border=\"1\" class=\"dataframe\">\n",
       "  <thead>\n",
       "    <tr style=\"text-align: right;\">\n",
       "      <th></th>\n",
       "      <th>neighborhood</th>\n",
       "      <th>location</th>\n",
       "      <th>latitude</th>\n",
       "      <th>longitude</th>\n",
       "      <th>url_format</th>\n",
       "    </tr>\n",
       "  </thead>\n",
       "  <tbody>\n",
       "    <tr>\n",
       "      <th>0</th>\n",
       "      <td>Allandale</td>\n",
       "      <td>Allandale, Austin, Texas</td>\n",
       "      <td>30.339309</td>\n",
       "      <td>-97.746972</td>\n",
       "      <td>allandale</td>\n",
       "    </tr>\n",
       "    <tr>\n",
       "      <th>1</th>\n",
       "      <td>Anderson Mill</td>\n",
       "      <td>Anderson Mill, Austin, Texas</td>\n",
       "      <td>30.455835</td>\n",
       "      <td>-97.807096</td>\n",
       "      <td>anderson-mill</td>\n",
       "    </tr>\n",
       "    <tr>\n",
       "      <th>2</th>\n",
       "      <td>Barton Hills</td>\n",
       "      <td>Barton Hills, Austin, Texas</td>\n",
       "      <td>30.251571</td>\n",
       "      <td>-97.784106</td>\n",
       "      <td>barton-hills</td>\n",
       "    </tr>\n",
       "    <tr>\n",
       "      <th>3</th>\n",
       "      <td>Blackland</td>\n",
       "      <td>Blackland, Austin, Texas</td>\n",
       "      <td>30.281491</td>\n",
       "      <td>-97.720924</td>\n",
       "      <td>blackland</td>\n",
       "    </tr>\n",
       "    <tr>\n",
       "      <th>4</th>\n",
       "      <td>Bouldin Creek</td>\n",
       "      <td>Bouldin Creek, Austin, Texas</td>\n",
       "      <td>30.255667</td>\n",
       "      <td>-97.755481</td>\n",
       "      <td>bouldin-creek</td>\n",
       "    </tr>\n",
       "  </tbody>\n",
       "</table>\n",
       "</div>"
      ],
      "text/plain": [
       "    neighborhood                      location   latitude  longitude  \\\n",
       "0      Allandale      Allandale, Austin, Texas  30.339309 -97.746972   \n",
       "1  Anderson Mill  Anderson Mill, Austin, Texas  30.455835 -97.807096   \n",
       "2   Barton Hills   Barton Hills, Austin, Texas  30.251571 -97.784106   \n",
       "3      Blackland      Blackland, Austin, Texas  30.281491 -97.720924   \n",
       "4  Bouldin Creek  Bouldin Creek, Austin, Texas  30.255667 -97.755481   \n",
       "\n",
       "      url_format  \n",
       "0      allandale  \n",
       "1  anderson-mill  \n",
       "2   barton-hills  \n",
       "3      blackland  \n",
       "4  bouldin-creek  "
      ]
     },
     "execution_count": 55,
     "metadata": {},
     "output_type": "execute_result"
    }
   ],
   "source": [
    "# Preview\n",
    "df.head()"
   ]
  },
  {
   "cell_type": "code",
   "execution_count": 56,
   "metadata": {},
   "outputs": [
    {
     "data": {
      "text/html": [
       "<div>\n",
       "<style scoped>\n",
       "    .dataframe tbody tr th:only-of-type {\n",
       "        vertical-align: middle;\n",
       "    }\n",
       "\n",
       "    .dataframe tbody tr th {\n",
       "        vertical-align: top;\n",
       "    }\n",
       "\n",
       "    .dataframe thead th {\n",
       "        text-align: right;\n",
       "    }\n",
       "</style>\n",
       "<table border=\"1\" class=\"dataframe\">\n",
       "  <thead>\n",
       "    <tr style=\"text-align: right;\">\n",
       "      <th></th>\n",
       "      <th>neighborhood</th>\n",
       "      <th>location</th>\n",
       "      <th>latitude</th>\n",
       "      <th>longitude</th>\n",
       "      <th>url_format</th>\n",
       "      <th>url</th>\n",
       "    </tr>\n",
       "  </thead>\n",
       "  <tbody>\n",
       "    <tr>\n",
       "      <th>0</th>\n",
       "      <td>Allandale</td>\n",
       "      <td>Allandale, Austin, Texas</td>\n",
       "      <td>30.339309</td>\n",
       "      <td>-97.746972</td>\n",
       "      <td>allandale</td>\n",
       "      <td>https://www.neighborhoods.com/allandale-austin-tx</td>\n",
       "    </tr>\n",
       "    <tr>\n",
       "      <th>1</th>\n",
       "      <td>Anderson Mill</td>\n",
       "      <td>Anderson Mill, Austin, Texas</td>\n",
       "      <td>30.455835</td>\n",
       "      <td>-97.807096</td>\n",
       "      <td>anderson-mill</td>\n",
       "      <td>https://www.neighborhoods.com/anderson-mill-au...</td>\n",
       "    </tr>\n",
       "    <tr>\n",
       "      <th>2</th>\n",
       "      <td>Barton Hills</td>\n",
       "      <td>Barton Hills, Austin, Texas</td>\n",
       "      <td>30.251571</td>\n",
       "      <td>-97.784106</td>\n",
       "      <td>barton-hills</td>\n",
       "      <td>https://www.neighborhoods.com/barton-hills-aus...</td>\n",
       "    </tr>\n",
       "    <tr>\n",
       "      <th>3</th>\n",
       "      <td>Blackland</td>\n",
       "      <td>Blackland, Austin, Texas</td>\n",
       "      <td>30.281491</td>\n",
       "      <td>-97.720924</td>\n",
       "      <td>blackland</td>\n",
       "      <td>https://www.neighborhoods.com/blackland-austin-tx</td>\n",
       "    </tr>\n",
       "    <tr>\n",
       "      <th>4</th>\n",
       "      <td>Bouldin Creek</td>\n",
       "      <td>Bouldin Creek, Austin, Texas</td>\n",
       "      <td>30.255667</td>\n",
       "      <td>-97.755481</td>\n",
       "      <td>bouldin-creek</td>\n",
       "      <td>https://www.neighborhoods.com/bouldin-creek-au...</td>\n",
       "    </tr>\n",
       "  </tbody>\n",
       "</table>\n",
       "</div>"
      ],
      "text/plain": [
       "    neighborhood                      location   latitude  longitude  \\\n",
       "0      Allandale      Allandale, Austin, Texas  30.339309 -97.746972   \n",
       "1  Anderson Mill  Anderson Mill, Austin, Texas  30.455835 -97.807096   \n",
       "2   Barton Hills   Barton Hills, Austin, Texas  30.251571 -97.784106   \n",
       "3      Blackland      Blackland, Austin, Texas  30.281491 -97.720924   \n",
       "4  Bouldin Creek  Bouldin Creek, Austin, Texas  30.255667 -97.755481   \n",
       "\n",
       "      url_format                                                url  \n",
       "0      allandale  https://www.neighborhoods.com/allandale-austin-tx  \n",
       "1  anderson-mill  https://www.neighborhoods.com/anderson-mill-au...  \n",
       "2   barton-hills  https://www.neighborhoods.com/barton-hills-aus...  \n",
       "3      blackland  https://www.neighborhoods.com/blackland-austin-tx  \n",
       "4  bouldin-creek  https://www.neighborhoods.com/bouldin-creek-au...  "
      ]
     },
     "execution_count": 56,
     "metadata": {},
     "output_type": "execute_result"
    }
   ],
   "source": [
    "# Create urls\n",
    "\n",
    "urls = []\n",
    "\n",
    "for name in df['url_format']:\n",
    "    url = 'https://www.neighborhoods.com/' + name + '-austin-tx'\n",
    "    urls.append(url)\n",
    "\n",
    "df['url'] = urls\n",
    "df.head()"
   ]
  },
  {
   "cell_type": "code",
   "execution_count": 57,
   "metadata": {},
   "outputs": [
    {
     "data": {
      "text/plain": [
       "(54, 6)"
      ]
     },
     "execution_count": 57,
     "metadata": {},
     "output_type": "execute_result"
    }
   ],
   "source": [
    "# View count\n",
    "df.shape"
   ]
  },
  {
   "cell_type": "markdown",
   "metadata": {},
   "source": [
    "#### Sales Data"
   ]
  },
  {
   "cell_type": "code",
   "execution_count": 58,
   "metadata": {},
   "outputs": [
    {
     "name": "stdout",
     "output_type": "stream",
     "text": [
      "https://www.neighborhoods.com/montopolis-austin-tx does not exist or cannot locate data\n",
      "https://www.neighborhoods.com/northwest-hills-austin-tx does not exist or cannot locate data\n"
     ]
    }
   ],
   "source": [
    "# Pull median and average prices\n",
    "\n",
    "avg_prices = []\n",
    "med_prices = []\n",
    "urls = []\n",
    "\n",
    "for url in df['url']:\n",
    "    try:\n",
    "        res = requests.get(url)\n",
    "        if res.status_code == 200:\n",
    "            soup = BeautifulSoup(res.content, 'lxml')\n",
    "            div = soup.find('div', {'class':'detail-block-2'})\n",
    "            for li in div.find_all('li')[2]:\n",
    "                med_price = li.text\n",
    "                med_prices.append(med_price)\n",
    "                urls.append(url)\n",
    "            for li in div.find_all('li')[3]:\n",
    "                avg_price = li.text\n",
    "                avg_prices.append(avg_price)\n",
    "    except: \n",
    "        print(f\"{url} does not exist or cannot locate data\")"
   ]
  },
  {
   "cell_type": "code",
   "execution_count": 59,
   "metadata": {},
   "outputs": [],
   "source": [
    "# Create df for prices\n",
    "\n",
    "prices_df = pd.DataFrame({'median_prices': med_prices, 'avg_price_per_sqft': avg_prices, 'url': urls})"
   ]
  },
  {
   "cell_type": "code",
   "execution_count": 60,
   "metadata": {},
   "outputs": [
    {
     "data": {
      "text/html": [
       "<div>\n",
       "<style scoped>\n",
       "    .dataframe tbody tr th:only-of-type {\n",
       "        vertical-align: middle;\n",
       "    }\n",
       "\n",
       "    .dataframe tbody tr th {\n",
       "        vertical-align: top;\n",
       "    }\n",
       "\n",
       "    .dataframe thead th {\n",
       "        text-align: right;\n",
       "    }\n",
       "</style>\n",
       "<table border=\"1\" class=\"dataframe\">\n",
       "  <thead>\n",
       "    <tr style=\"text-align: right;\">\n",
       "      <th></th>\n",
       "      <th>median_prices</th>\n",
       "      <th>avg_price_per_sqft</th>\n",
       "      <th>url</th>\n",
       "    </tr>\n",
       "  </thead>\n",
       "  <tbody>\n",
       "    <tr>\n",
       "      <th>0</th>\n",
       "      <td>Median Sale Price:</td>\n",
       "      <td>Average $ per sq ft:</td>\n",
       "      <td>https://www.neighborhoods.com/allandale-austin-tx</td>\n",
       "    </tr>\n",
       "    <tr>\n",
       "      <th>1</th>\n",
       "      <td>$591,000</td>\n",
       "      <td>$350</td>\n",
       "      <td>https://www.neighborhoods.com/allandale-austin-tx</td>\n",
       "    </tr>\n",
       "    <tr>\n",
       "      <th>2</th>\n",
       "      <td>Median Sale Price:</td>\n",
       "      <td>Average $ per sq ft:</td>\n",
       "      <td>https://www.neighborhoods.com/anderson-mill-au...</td>\n",
       "    </tr>\n",
       "    <tr>\n",
       "      <th>3</th>\n",
       "      <td>$321,495</td>\n",
       "      <td>$194</td>\n",
       "      <td>https://www.neighborhoods.com/anderson-mill-au...</td>\n",
       "    </tr>\n",
       "    <tr>\n",
       "      <th>4</th>\n",
       "      <td>Median Sale Price:</td>\n",
       "      <td>Average $ per sq ft:</td>\n",
       "      <td>https://www.neighborhoods.com/barton-hills-aus...</td>\n",
       "    </tr>\n",
       "  </tbody>\n",
       "</table>\n",
       "</div>"
      ],
      "text/plain": [
       "        median_prices    avg_price_per_sqft  \\\n",
       "0  Median Sale Price:  Average $ per sq ft:   \n",
       "1            $591,000                  $350   \n",
       "2  Median Sale Price:  Average $ per sq ft:   \n",
       "3            $321,495                  $194   \n",
       "4  Median Sale Price:  Average $ per sq ft:   \n",
       "\n",
       "                                                 url  \n",
       "0  https://www.neighborhoods.com/allandale-austin-tx  \n",
       "1  https://www.neighborhoods.com/allandale-austin-tx  \n",
       "2  https://www.neighborhoods.com/anderson-mill-au...  \n",
       "3  https://www.neighborhoods.com/anderson-mill-au...  \n",
       "4  https://www.neighborhoods.com/barton-hills-aus...  "
      ]
     },
     "execution_count": 60,
     "metadata": {},
     "output_type": "execute_result"
    }
   ],
   "source": [
    "# Preview prices_df\n",
    "prices_df.head()"
   ]
  },
  {
   "cell_type": "code",
   "execution_count": 61,
   "metadata": {},
   "outputs": [],
   "source": [
    "# Drop extra rows\n",
    "prices_df.drop(prices_df[prices_df['median_prices'] == 'Median Sale Price:'].index, inplace = True) "
   ]
  },
  {
   "cell_type": "code",
   "execution_count": 62,
   "metadata": {},
   "outputs": [],
   "source": [
    "# Reset index after drop\n",
    "prices_df.reset_index(drop='True', inplace=True)"
   ]
  },
  {
   "cell_type": "code",
   "execution_count": 63,
   "metadata": {},
   "outputs": [
    {
     "name": "stdout",
     "output_type": "stream",
     "text": [
      "(39, 3)\n",
      "(54, 6)\n"
     ]
    }
   ],
   "source": [
    "# View shape\n",
    "print(prices_df.shape)\n",
    "print(df.shape)"
   ]
  },
  {
   "cell_type": "code",
   "execution_count": 64,
   "metadata": {},
   "outputs": [],
   "source": [
    "# Drop location cannot obtain sales data for\n",
    "\n",
    "drop_list = ['https://www.neighborhoods.com/montopolis-austin-tx', 'https://www.neighborhoods.com/northwest-hills-austin-tx']\n",
    "\n",
    "for item in drop_list:\n",
    "    df.drop(df[df['url'] == item].index, inplace = True) "
   ]
  },
  {
   "cell_type": "code",
   "execution_count": 65,
   "metadata": {},
   "outputs": [
    {
     "name": "stdout",
     "output_type": "stream",
     "text": [
      "https://www.neighborhoods.com/blackland-austin-tx does not exist\n",
      "https://www.neighborhoods.com/chinatown-austin-tx does not exist\n",
      "https://www.neighborhoods.com/congress-avenue-austin-tx does not exist\n",
      "https://www.neighborhoods.com/the-drag-austin-tx does not exist\n",
      "https://www.neighborhoods.com/east-riverside-oltorf-austin-tx does not exist\n",
      "https://www.neighborhoods.com/french-place-austin-tx does not exist\n",
      "https://www.neighborhoods.com/jollyville-austin-tx does not exist\n",
      "https://www.neighborhoods.com/rainey-street-austin-tx does not exist\n",
      "https://www.neighborhoods.com/saint-john-austin-tx does not exist\n",
      "https://www.neighborhoods.com/sixth-street-austin-tx does not exist\n",
      "https://www.neighborhoods.com/swedish-hill-austin-tx does not exist\n",
      "https://www.neighborhoods.com/waters-park-austin-tx does not exist\n",
      "https://www.neighborhoods.com/west-line-austin-tx does not exist\n"
     ]
    }
   ],
   "source": [
    "no_connection = []\n",
    "\n",
    "for url in df['url']:\n",
    "    try:\n",
    "        res = requests.get(url)\n",
    "        if res.status_code == 404:\n",
    "            print(f'{url} does not exist')\n",
    "            no_connection.append(url)\n",
    "    except: \n",
    "        print(f\"{url} does not exist or cannot locate data\")"
   ]
  },
  {
   "cell_type": "code",
   "execution_count": 66,
   "metadata": {},
   "outputs": [],
   "source": [
    "# Drop locations with 404 errors\n",
    "\n",
    "for item in no_connection:\n",
    "    df.drop(df[df['url'] == item].index, inplace = True) "
   ]
  },
  {
   "cell_type": "code",
   "execution_count": 67,
   "metadata": {},
   "outputs": [],
   "source": [
    "# Reset index after drop\n",
    "df.reset_index(drop='True', inplace=True)"
   ]
  },
  {
   "cell_type": "code",
   "execution_count": 68,
   "metadata": {},
   "outputs": [
    {
     "name": "stdout",
     "output_type": "stream",
     "text": [
      "(39, 3)\n",
      "(39, 6)\n"
     ]
    }
   ],
   "source": [
    "# View shape\n",
    "print(prices_df.shape)\n",
    "print(df.shape)"
   ]
  },
  {
   "cell_type": "code",
   "execution_count": 69,
   "metadata": {},
   "outputs": [
    {
     "data": {
      "text/html": [
       "<div>\n",
       "<style scoped>\n",
       "    .dataframe tbody tr th:only-of-type {\n",
       "        vertical-align: middle;\n",
       "    }\n",
       "\n",
       "    .dataframe tbody tr th {\n",
       "        vertical-align: top;\n",
       "    }\n",
       "\n",
       "    .dataframe thead th {\n",
       "        text-align: right;\n",
       "    }\n",
       "</style>\n",
       "<table border=\"1\" class=\"dataframe\">\n",
       "  <thead>\n",
       "    <tr style=\"text-align: right;\">\n",
       "      <th></th>\n",
       "      <th>neighborhood</th>\n",
       "      <th>location</th>\n",
       "      <th>latitude</th>\n",
       "      <th>longitude</th>\n",
       "      <th>url_format</th>\n",
       "      <th>url</th>\n",
       "      <th>median_prices</th>\n",
       "      <th>avg_price_per_sqft</th>\n",
       "    </tr>\n",
       "  </thead>\n",
       "  <tbody>\n",
       "    <tr>\n",
       "      <th>0</th>\n",
       "      <td>Allandale</td>\n",
       "      <td>Allandale, Austin, Texas</td>\n",
       "      <td>30.339309</td>\n",
       "      <td>-97.746972</td>\n",
       "      <td>allandale</td>\n",
       "      <td>https://www.neighborhoods.com/allandale-austin-tx</td>\n",
       "      <td>$591,000</td>\n",
       "      <td>$350</td>\n",
       "    </tr>\n",
       "    <tr>\n",
       "      <th>1</th>\n",
       "      <td>Anderson Mill</td>\n",
       "      <td>Anderson Mill, Austin, Texas</td>\n",
       "      <td>30.455835</td>\n",
       "      <td>-97.807096</td>\n",
       "      <td>anderson-mill</td>\n",
       "      <td>https://www.neighborhoods.com/anderson-mill-au...</td>\n",
       "      <td>$321,495</td>\n",
       "      <td>$194</td>\n",
       "    </tr>\n",
       "    <tr>\n",
       "      <th>2</th>\n",
       "      <td>Barton Hills</td>\n",
       "      <td>Barton Hills, Austin, Texas</td>\n",
       "      <td>30.251571</td>\n",
       "      <td>-97.784106</td>\n",
       "      <td>barton-hills</td>\n",
       "      <td>https://www.neighborhoods.com/barton-hills-aus...</td>\n",
       "      <td>$667,750</td>\n",
       "      <td>$487</td>\n",
       "    </tr>\n",
       "    <tr>\n",
       "      <th>3</th>\n",
       "      <td>Bouldin Creek</td>\n",
       "      <td>Bouldin Creek, Austin, Texas</td>\n",
       "      <td>30.255667</td>\n",
       "      <td>-97.755481</td>\n",
       "      <td>bouldin-creek</td>\n",
       "      <td>https://www.neighborhoods.com/bouldin-creek-au...</td>\n",
       "      <td>$725,750</td>\n",
       "      <td>$546</td>\n",
       "    </tr>\n",
       "    <tr>\n",
       "      <th>4</th>\n",
       "      <td>Brentwood</td>\n",
       "      <td>Brentwood, Austin, Texas</td>\n",
       "      <td>30.331264</td>\n",
       "      <td>-97.736465</td>\n",
       "      <td>brentwood</td>\n",
       "      <td>https://www.neighborhoods.com/brentwood-austin-tx</td>\n",
       "      <td>$495,250</td>\n",
       "      <td>$370</td>\n",
       "    </tr>\n",
       "  </tbody>\n",
       "</table>\n",
       "</div>"
      ],
      "text/plain": [
       "    neighborhood                      location   latitude  longitude  \\\n",
       "0      Allandale      Allandale, Austin, Texas  30.339309 -97.746972   \n",
       "1  Anderson Mill  Anderson Mill, Austin, Texas  30.455835 -97.807096   \n",
       "2   Barton Hills   Barton Hills, Austin, Texas  30.251571 -97.784106   \n",
       "3  Bouldin Creek  Bouldin Creek, Austin, Texas  30.255667 -97.755481   \n",
       "4      Brentwood      Brentwood, Austin, Texas  30.331264 -97.736465   \n",
       "\n",
       "      url_format                                                url  \\\n",
       "0      allandale  https://www.neighborhoods.com/allandale-austin-tx   \n",
       "1  anderson-mill  https://www.neighborhoods.com/anderson-mill-au...   \n",
       "2   barton-hills  https://www.neighborhoods.com/barton-hills-aus...   \n",
       "3  bouldin-creek  https://www.neighborhoods.com/bouldin-creek-au...   \n",
       "4      brentwood  https://www.neighborhoods.com/brentwood-austin-tx   \n",
       "\n",
       "  median_prices avg_price_per_sqft  \n",
       "0      $591,000               $350  \n",
       "1      $321,495               $194  \n",
       "2      $667,750               $487  \n",
       "3      $725,750               $546  \n",
       "4      $495,250               $370  "
      ]
     },
     "execution_count": 69,
     "metadata": {},
     "output_type": "execute_result"
    }
   ],
   "source": [
    "# Combine dataframes\n",
    "data_df = df.merge(prices_df, on='url',  how='left')\n",
    "data_df.head()"
   ]
  },
  {
   "cell_type": "code",
   "execution_count": 70,
   "metadata": {},
   "outputs": [
    {
     "data": {
      "text/plain": [
       "neighborhood           object\n",
       "location               object\n",
       "latitude              float64\n",
       "longitude             float64\n",
       "url_format             object\n",
       "url                    object\n",
       "median_prices          object\n",
       "avg_price_per_sqft     object\n",
       "dtype: object"
      ]
     },
     "execution_count": 70,
     "metadata": {},
     "output_type": "execute_result"
    }
   ],
   "source": [
    "# Check dtypes\n",
    "data_df.dtypes"
   ]
  },
  {
   "cell_type": "code",
   "execution_count": 71,
   "metadata": {},
   "outputs": [
    {
     "data": {
      "text/html": [
       "<div>\n",
       "<style scoped>\n",
       "    .dataframe tbody tr th:only-of-type {\n",
       "        vertical-align: middle;\n",
       "    }\n",
       "\n",
       "    .dataframe tbody tr th {\n",
       "        vertical-align: top;\n",
       "    }\n",
       "\n",
       "    .dataframe thead th {\n",
       "        text-align: right;\n",
       "    }\n",
       "</style>\n",
       "<table border=\"1\" class=\"dataframe\">\n",
       "  <thead>\n",
       "    <tr style=\"text-align: right;\">\n",
       "      <th></th>\n",
       "      <th>neighborhood</th>\n",
       "      <th>location</th>\n",
       "      <th>latitude</th>\n",
       "      <th>longitude</th>\n",
       "      <th>url_format</th>\n",
       "      <th>url</th>\n",
       "      <th>median_prices</th>\n",
       "      <th>avg_price_per_sqft</th>\n",
       "    </tr>\n",
       "  </thead>\n",
       "  <tbody>\n",
       "    <tr>\n",
       "      <th>0</th>\n",
       "      <td>Allandale</td>\n",
       "      <td>Allandale, Austin, Texas</td>\n",
       "      <td>30.339309</td>\n",
       "      <td>-97.746972</td>\n",
       "      <td>allandale</td>\n",
       "      <td>https://www.neighborhoods.com/allandale-austin-tx</td>\n",
       "      <td>591000</td>\n",
       "      <td>$350</td>\n",
       "    </tr>\n",
       "    <tr>\n",
       "      <th>1</th>\n",
       "      <td>Anderson Mill</td>\n",
       "      <td>Anderson Mill, Austin, Texas</td>\n",
       "      <td>30.455835</td>\n",
       "      <td>-97.807096</td>\n",
       "      <td>anderson-mill</td>\n",
       "      <td>https://www.neighborhoods.com/anderson-mill-au...</td>\n",
       "      <td>321495</td>\n",
       "      <td>$194</td>\n",
       "    </tr>\n",
       "    <tr>\n",
       "      <th>2</th>\n",
       "      <td>Barton Hills</td>\n",
       "      <td>Barton Hills, Austin, Texas</td>\n",
       "      <td>30.251571</td>\n",
       "      <td>-97.784106</td>\n",
       "      <td>barton-hills</td>\n",
       "      <td>https://www.neighborhoods.com/barton-hills-aus...</td>\n",
       "      <td>667750</td>\n",
       "      <td>$487</td>\n",
       "    </tr>\n",
       "    <tr>\n",
       "      <th>3</th>\n",
       "      <td>Bouldin Creek</td>\n",
       "      <td>Bouldin Creek, Austin, Texas</td>\n",
       "      <td>30.255667</td>\n",
       "      <td>-97.755481</td>\n",
       "      <td>bouldin-creek</td>\n",
       "      <td>https://www.neighborhoods.com/bouldin-creek-au...</td>\n",
       "      <td>725750</td>\n",
       "      <td>$546</td>\n",
       "    </tr>\n",
       "    <tr>\n",
       "      <th>4</th>\n",
       "      <td>Brentwood</td>\n",
       "      <td>Brentwood, Austin, Texas</td>\n",
       "      <td>30.331264</td>\n",
       "      <td>-97.736465</td>\n",
       "      <td>brentwood</td>\n",
       "      <td>https://www.neighborhoods.com/brentwood-austin-tx</td>\n",
       "      <td>495250</td>\n",
       "      <td>$370</td>\n",
       "    </tr>\n",
       "  </tbody>\n",
       "</table>\n",
       "</div>"
      ],
      "text/plain": [
       "    neighborhood                      location   latitude  longitude  \\\n",
       "0      Allandale      Allandale, Austin, Texas  30.339309 -97.746972   \n",
       "1  Anderson Mill  Anderson Mill, Austin, Texas  30.455835 -97.807096   \n",
       "2   Barton Hills   Barton Hills, Austin, Texas  30.251571 -97.784106   \n",
       "3  Bouldin Creek  Bouldin Creek, Austin, Texas  30.255667 -97.755481   \n",
       "4      Brentwood      Brentwood, Austin, Texas  30.331264 -97.736465   \n",
       "\n",
       "      url_format                                                url  \\\n",
       "0      allandale  https://www.neighborhoods.com/allandale-austin-tx   \n",
       "1  anderson-mill  https://www.neighborhoods.com/anderson-mill-au...   \n",
       "2   barton-hills  https://www.neighborhoods.com/barton-hills-aus...   \n",
       "3  bouldin-creek  https://www.neighborhoods.com/bouldin-creek-au...   \n",
       "4      brentwood  https://www.neighborhoods.com/brentwood-austin-tx   \n",
       "\n",
       "  median_prices avg_price_per_sqft  \n",
       "0        591000               $350  \n",
       "1        321495               $194  \n",
       "2        667750               $487  \n",
       "3        725750               $546  \n",
       "4        495250               $370  "
      ]
     },
     "execution_count": 71,
     "metadata": {},
     "output_type": "execute_result"
    }
   ],
   "source": [
    "# Format price\n",
    "\n",
    "data_df['median_prices'] = [item.replace('$','').replace(',','') for item in data_df['median_prices']]\n",
    "data_df.head()"
   ]
  },
  {
   "cell_type": "code",
   "execution_count": 72,
   "metadata": {},
   "outputs": [
    {
     "data": {
      "text/html": [
       "<div>\n",
       "<style scoped>\n",
       "    .dataframe tbody tr th:only-of-type {\n",
       "        vertical-align: middle;\n",
       "    }\n",
       "\n",
       "    .dataframe tbody tr th {\n",
       "        vertical-align: top;\n",
       "    }\n",
       "\n",
       "    .dataframe thead th {\n",
       "        text-align: right;\n",
       "    }\n",
       "</style>\n",
       "<table border=\"1\" class=\"dataframe\">\n",
       "  <thead>\n",
       "    <tr style=\"text-align: right;\">\n",
       "      <th></th>\n",
       "      <th>neighborhood</th>\n",
       "      <th>location</th>\n",
       "      <th>latitude</th>\n",
       "      <th>longitude</th>\n",
       "      <th>url_format</th>\n",
       "      <th>url</th>\n",
       "      <th>median_prices</th>\n",
       "      <th>avg_price_per_sqft</th>\n",
       "    </tr>\n",
       "  </thead>\n",
       "  <tbody>\n",
       "    <tr>\n",
       "      <th>0</th>\n",
       "      <td>Allandale</td>\n",
       "      <td>Allandale, Austin, Texas</td>\n",
       "      <td>30.339309</td>\n",
       "      <td>-97.746972</td>\n",
       "      <td>allandale</td>\n",
       "      <td>https://www.neighborhoods.com/allandale-austin-tx</td>\n",
       "      <td>591000</td>\n",
       "      <td>350</td>\n",
       "    </tr>\n",
       "    <tr>\n",
       "      <th>1</th>\n",
       "      <td>Anderson Mill</td>\n",
       "      <td>Anderson Mill, Austin, Texas</td>\n",
       "      <td>30.455835</td>\n",
       "      <td>-97.807096</td>\n",
       "      <td>anderson-mill</td>\n",
       "      <td>https://www.neighborhoods.com/anderson-mill-au...</td>\n",
       "      <td>321495</td>\n",
       "      <td>194</td>\n",
       "    </tr>\n",
       "    <tr>\n",
       "      <th>2</th>\n",
       "      <td>Barton Hills</td>\n",
       "      <td>Barton Hills, Austin, Texas</td>\n",
       "      <td>30.251571</td>\n",
       "      <td>-97.784106</td>\n",
       "      <td>barton-hills</td>\n",
       "      <td>https://www.neighborhoods.com/barton-hills-aus...</td>\n",
       "      <td>667750</td>\n",
       "      <td>487</td>\n",
       "    </tr>\n",
       "    <tr>\n",
       "      <th>3</th>\n",
       "      <td>Bouldin Creek</td>\n",
       "      <td>Bouldin Creek, Austin, Texas</td>\n",
       "      <td>30.255667</td>\n",
       "      <td>-97.755481</td>\n",
       "      <td>bouldin-creek</td>\n",
       "      <td>https://www.neighborhoods.com/bouldin-creek-au...</td>\n",
       "      <td>725750</td>\n",
       "      <td>546</td>\n",
       "    </tr>\n",
       "    <tr>\n",
       "      <th>4</th>\n",
       "      <td>Brentwood</td>\n",
       "      <td>Brentwood, Austin, Texas</td>\n",
       "      <td>30.331264</td>\n",
       "      <td>-97.736465</td>\n",
       "      <td>brentwood</td>\n",
       "      <td>https://www.neighborhoods.com/brentwood-austin-tx</td>\n",
       "      <td>495250</td>\n",
       "      <td>370</td>\n",
       "    </tr>\n",
       "  </tbody>\n",
       "</table>\n",
       "</div>"
      ],
      "text/plain": [
       "    neighborhood                      location   latitude  longitude  \\\n",
       "0      Allandale      Allandale, Austin, Texas  30.339309 -97.746972   \n",
       "1  Anderson Mill  Anderson Mill, Austin, Texas  30.455835 -97.807096   \n",
       "2   Barton Hills   Barton Hills, Austin, Texas  30.251571 -97.784106   \n",
       "3  Bouldin Creek  Bouldin Creek, Austin, Texas  30.255667 -97.755481   \n",
       "4      Brentwood      Brentwood, Austin, Texas  30.331264 -97.736465   \n",
       "\n",
       "      url_format                                                url  \\\n",
       "0      allandale  https://www.neighborhoods.com/allandale-austin-tx   \n",
       "1  anderson-mill  https://www.neighborhoods.com/anderson-mill-au...   \n",
       "2   barton-hills  https://www.neighborhoods.com/barton-hills-aus...   \n",
       "3  bouldin-creek  https://www.neighborhoods.com/bouldin-creek-au...   \n",
       "4      brentwood  https://www.neighborhoods.com/brentwood-austin-tx   \n",
       "\n",
       "  median_prices avg_price_per_sqft  \n",
       "0        591000                350  \n",
       "1        321495                194  \n",
       "2        667750                487  \n",
       "3        725750                546  \n",
       "4        495250                370  "
      ]
     },
     "execution_count": 72,
     "metadata": {},
     "output_type": "execute_result"
    }
   ],
   "source": [
    "# Format price\n",
    "\n",
    "data_df['avg_price_per_sqft'] = [item.replace('$','') for item in data_df['avg_price_per_sqft']]\n",
    "data_df.head()"
   ]
  },
  {
   "cell_type": "code",
   "execution_count": 73,
   "metadata": {},
   "outputs": [],
   "source": [
    "# Convert dtype to float\n",
    "\n",
    "data_df['median_prices'] = data_df['median_prices'].astype(float)"
   ]
  },
  {
   "cell_type": "code",
   "execution_count": 74,
   "metadata": {},
   "outputs": [],
   "source": [
    "# Convert dtype to float\n",
    "\n",
    "data_df['avg_price_per_sqft'] = data_df['avg_price_per_sqft'].astype(float)"
   ]
  },
  {
   "cell_type": "code",
   "execution_count": 75,
   "metadata": {},
   "outputs": [
    {
     "data": {
      "text/plain": [
       "neighborhood           object\n",
       "location               object\n",
       "latitude              float64\n",
       "longitude             float64\n",
       "url_format             object\n",
       "url                    object\n",
       "median_prices         float64\n",
       "avg_price_per_sqft    float64\n",
       "dtype: object"
      ]
     },
     "execution_count": 75,
     "metadata": {},
     "output_type": "execute_result"
    }
   ],
   "source": [
    "# Confirm dtype conversion\n",
    "\n",
    "data_df.dtypes"
   ]
  },
  {
   "cell_type": "code",
   "execution_count": 76,
   "metadata": {},
   "outputs": [],
   "source": [
    "# Drop rows with no Foursquare data\n",
    "\n",
    "drop_items = ['Allandale', 'Wooten']\n",
    "\n",
    "for item in drop_items:\n",
    "    data_df.drop(data_df[data_df['neighborhood'] == item].index, inplace = True) "
   ]
  },
  {
   "cell_type": "code",
   "execution_count": 77,
   "metadata": {},
   "outputs": [],
   "source": [
    "# Save data_df \n",
    "data_df.to_csv('../data/data_df.csv', index=False)"
   ]
  },
  {
   "cell_type": "code",
   "execution_count": 78,
   "metadata": {},
   "outputs": [
    {
     "data": {
      "text/html": [
       "<div style=\"width:100%;\"><div style=\"position:relative;width:100%;height:0;padding-bottom:60%;\"><span style=\"color:#565656\">Make this Notebook Trusted to load map: File -> Trust Notebook</span><iframe src=\"about:blank\" style=\"position:absolute;width:100%;height:100%;left:0;top:0;border:none !important;\" data-html=PCFET0NUWVBFIGh0bWw+CjxoZWFkPiAgICAKICAgIDxtZXRhIGh0dHAtZXF1aXY9ImNvbnRlbnQtdHlwZSIgY29udGVudD0idGV4dC9odG1sOyBjaGFyc2V0PVVURi04IiAvPgogICAgPHNjcmlwdD5MX1BSRUZFUl9DQU5WQVMgPSBmYWxzZTsgTF9OT19UT1VDSCA9IGZhbHNlOyBMX0RJU0FCTEVfM0QgPSBmYWxzZTs8L3NjcmlwdD4KICAgIDxzY3JpcHQgc3JjPSJodHRwczovL2Nkbi5qc2RlbGl2ci5uZXQvbnBtL2xlYWZsZXRAMS4yLjAvZGlzdC9sZWFmbGV0LmpzIj48L3NjcmlwdD4KICAgIDxzY3JpcHQgc3JjPSJodHRwczovL2FqYXguZ29vZ2xlYXBpcy5jb20vYWpheC9saWJzL2pxdWVyeS8xLjExLjEvanF1ZXJ5Lm1pbi5qcyI+PC9zY3JpcHQ+CiAgICA8c2NyaXB0IHNyYz0iaHR0cHM6Ly9tYXhjZG4uYm9vdHN0cmFwY2RuLmNvbS9ib290c3RyYXAvMy4yLjAvanMvYm9vdHN0cmFwLm1pbi5qcyI+PC9zY3JpcHQ+CiAgICA8c2NyaXB0IHNyYz0iaHR0cHM6Ly9jZG5qcy5jbG91ZGZsYXJlLmNvbS9hamF4L2xpYnMvTGVhZmxldC5hd2Vzb21lLW1hcmtlcnMvMi4wLjIvbGVhZmxldC5hd2Vzb21lLW1hcmtlcnMuanMiPjwvc2NyaXB0PgogICAgPGxpbmsgcmVsPSJzdHlsZXNoZWV0IiBocmVmPSJodHRwczovL2Nkbi5qc2RlbGl2ci5uZXQvbnBtL2xlYWZsZXRAMS4yLjAvZGlzdC9sZWFmbGV0LmNzcyIvPgogICAgPGxpbmsgcmVsPSJzdHlsZXNoZWV0IiBocmVmPSJodHRwczovL21heGNkbi5ib290c3RyYXBjZG4uY29tL2Jvb3RzdHJhcC8zLjIuMC9jc3MvYm9vdHN0cmFwLm1pbi5jc3MiLz4KICAgIDxsaW5rIHJlbD0ic3R5bGVzaGVldCIgaHJlZj0iaHR0cHM6Ly9tYXhjZG4uYm9vdHN0cmFwY2RuLmNvbS9ib290c3RyYXAvMy4yLjAvY3NzL2Jvb3RzdHJhcC10aGVtZS5taW4uY3NzIi8+CiAgICA8bGluayByZWw9InN0eWxlc2hlZXQiIGhyZWY9Imh0dHBzOi8vbWF4Y2RuLmJvb3RzdHJhcGNkbi5jb20vZm9udC1hd2Vzb21lLzQuNi4zL2Nzcy9mb250LWF3ZXNvbWUubWluLmNzcyIvPgogICAgPGxpbmsgcmVsPSJzdHlsZXNoZWV0IiBocmVmPSJodHRwczovL2NkbmpzLmNsb3VkZmxhcmUuY29tL2FqYXgvbGlicy9MZWFmbGV0LmF3ZXNvbWUtbWFya2Vycy8yLjAuMi9sZWFmbGV0LmF3ZXNvbWUtbWFya2Vycy5jc3MiLz4KICAgIDxsaW5rIHJlbD0ic3R5bGVzaGVldCIgaHJlZj0iaHR0cHM6Ly9yYXdnaXQuY29tL3B5dGhvbi12aXN1YWxpemF0aW9uL2ZvbGl1bS9tYXN0ZXIvZm9saXVtL3RlbXBsYXRlcy9sZWFmbGV0LmF3ZXNvbWUucm90YXRlLmNzcyIvPgogICAgPHN0eWxlPmh0bWwsIGJvZHkge3dpZHRoOiAxMDAlO2hlaWdodDogMTAwJTttYXJnaW46IDA7cGFkZGluZzogMDt9PC9zdHlsZT4KICAgIDxzdHlsZT4jbWFwIHtwb3NpdGlvbjphYnNvbHV0ZTt0b3A6MDtib3R0b206MDtyaWdodDowO2xlZnQ6MDt9PC9zdHlsZT4KICAgIAogICAgICAgICAgICA8c3R5bGU+ICNtYXBfMDdhYjRkMTRiMDdmNDMxMzg5ODE5ZGMwMTJhMmY4YjIgewogICAgICAgICAgICAgICAgcG9zaXRpb24gOiByZWxhdGl2ZTsKICAgICAgICAgICAgICAgIHdpZHRoIDogMTAwLjAlOwogICAgICAgICAgICAgICAgaGVpZ2h0OiAxMDAuMCU7CiAgICAgICAgICAgICAgICBsZWZ0OiAwLjAlOwogICAgICAgICAgICAgICAgdG9wOiAwLjAlOwogICAgICAgICAgICAgICAgfQogICAgICAgICAgICA8L3N0eWxlPgogICAgICAgIAo8L2hlYWQ+Cjxib2R5PiAgICAKICAgIAogICAgICAgICAgICA8ZGl2IGNsYXNzPSJmb2xpdW0tbWFwIiBpZD0ibWFwXzA3YWI0ZDE0YjA3ZjQzMTM4OTgxOWRjMDEyYTJmOGIyIiA+PC9kaXY+CiAgICAgICAgCjwvYm9keT4KPHNjcmlwdD4gICAgCiAgICAKCiAgICAgICAgICAgIAogICAgICAgICAgICAgICAgdmFyIGJvdW5kcyA9IG51bGw7CiAgICAgICAgICAgIAoKICAgICAgICAgICAgdmFyIG1hcF8wN2FiNGQxNGIwN2Y0MzEzODk4MTlkYzAxMmEyZjhiMiA9IEwubWFwKAogICAgICAgICAgICAgICAgICAgICAgICAgICAgICAgICAgJ21hcF8wN2FiNGQxNGIwN2Y0MzEzODk4MTlkYzAxMmEyZjhiMicsCiAgICAgICAgICAgICAgICAgICAgICAgICAgICAgICAgICB7Y2VudGVyOiBbMzAuNDU1ODM0NSwtOTcuODA3MDk1N10sCiAgICAgICAgICAgICAgICAgICAgICAgICAgICAgICAgICB6b29tOiAxMCwKICAgICAgICAgICAgICAgICAgICAgICAgICAgICAgICAgIG1heEJvdW5kczogYm91bmRzLAogICAgICAgICAgICAgICAgICAgICAgICAgICAgICAgICAgbGF5ZXJzOiBbXSwKICAgICAgICAgICAgICAgICAgICAgICAgICAgICAgICAgIHdvcmxkQ29weUp1bXA6IGZhbHNlLAogICAgICAgICAgICAgICAgICAgICAgICAgICAgICAgICAgY3JzOiBMLkNSUy5FUFNHMzg1NwogICAgICAgICAgICAgICAgICAgICAgICAgICAgICAgICB9KTsKICAgICAgICAgICAgCiAgICAgICAgCiAgICAKICAgICAgICAgICAgdmFyIHRpbGVfbGF5ZXJfYTkyN2JmOGUyNDI0NDIyOGJhNjA0MmU1OGM2ZTg5NjIgPSBMLnRpbGVMYXllcigKICAgICAgICAgICAgICAgICdodHRwczovL3tzfS50aWxlLm9wZW5zdHJlZXRtYXAub3JnL3t6fS97eH0ve3l9LnBuZycsCiAgICAgICAgICAgICAgICB7CiAgImF0dHJpYnV0aW9uIjogbnVsbCwKICAiZGV0ZWN0UmV0aW5hIjogZmFsc2UsCiAgIm1heFpvb20iOiAxOCwKICAibWluWm9vbSI6IDEsCiAgIm5vV3JhcCI6IGZhbHNlLAogICJzdWJkb21haW5zIjogImFiYyIKfQogICAgICAgICAgICAgICAgKS5hZGRUbyhtYXBfMDdhYjRkMTRiMDdmNDMxMzg5ODE5ZGMwMTJhMmY4YjIpOwogICAgICAgIAogICAgCiAgICAgICAgICAgIHZhciBjaXJjbGVfbWFya2VyXzMzYmE5MWQ0MzQ1MzRjY2U4NDc3MWM1ZmRiY2NjOTBhID0gTC5jaXJjbGVNYXJrZXIoCiAgICAgICAgICAgICAgICBbMzAuNDU1ODM0NSwtOTcuODA3MDk1N10sCiAgICAgICAgICAgICAgICB7CiAgImJ1YmJsaW5nTW91c2VFdmVudHMiOiB0cnVlLAogICJjb2xvciI6ICJwdXJwbGUiLAogICJkYXNoQXJyYXkiOiBudWxsLAogICJkYXNoT2Zmc2V0IjogbnVsbCwKICAiZmlsbCI6IHRydWUsCiAgImZpbGxDb2xvciI6ICIjMzE4NmNjIiwKICAiZmlsbE9wYWNpdHkiOiAwLjYsCiAgImZpbGxSdWxlIjogImV2ZW5vZGQiLAogICJsaW5lQ2FwIjogInJvdW5kIiwKICAibGluZUpvaW4iOiAicm91bmQiLAogICJvcGFjaXR5IjogMS4wLAogICJyYWRpdXMiOiA1LAogICJzdHJva2UiOiB0cnVlLAogICJ3ZWlnaHQiOiAzCn0KICAgICAgICAgICAgICAgICkuYWRkVG8obWFwXzA3YWI0ZDE0YjA3ZjQzMTM4OTgxOWRjMDEyYTJmOGIyKTsKICAgICAgICAgICAgCiAgICAKICAgICAgICAgICAgdmFyIHBvcHVwXzNlYzcxZTM4Zjg3NjRjMjZhMDA1ZjA0MzJlNjIzNWM4ID0gTC5wb3B1cCh7bWF4V2lkdGg6ICczMDAnfSk7CgogICAgICAgICAgICAKICAgICAgICAgICAgICAgIHZhciBodG1sXzkwODFlZWQ4ZjYyMzQyMDdhZjQwZTliMGNiZjdiMzU1ID0gJCgnPGRpdiBpZD0iaHRtbF85MDgxZWVkOGY2MjM0MjA3YWY0MGU5YjBjYmY3YjM1NSIgc3R5bGU9IndpZHRoOiAxMDAuMCU7IGhlaWdodDogMTAwLjAlOyI+QW5kZXJzb24gTWlsbDwvZGl2PicpWzBdOwogICAgICAgICAgICAgICAgcG9wdXBfM2VjNzFlMzhmODc2NGMyNmEwMDVmMDQzMmU2MjM1Yzguc2V0Q29udGVudChodG1sXzkwODFlZWQ4ZjYyMzQyMDdhZjQwZTliMGNiZjdiMzU1KTsKICAgICAgICAgICAgCgogICAgICAgICAgICBjaXJjbGVfbWFya2VyXzMzYmE5MWQ0MzQ1MzRjY2U4NDc3MWM1ZmRiY2NjOTBhLmJpbmRQb3B1cChwb3B1cF8zZWM3MWUzOGY4NzY0YzI2YTAwNWYwNDMyZTYyMzVjOCk7CgogICAgICAgICAgICAKICAgICAgICAKICAgIAogICAgICAgICAgICB2YXIgY2lyY2xlX21hcmtlcl81NmZmOWYxZWU2YzQ0YzE0YmRlNDhlZTZhMDg1NThlNyA9IEwuY2lyY2xlTWFya2VyKAogICAgICAgICAgICAgICAgWzMwLjI1MTU3MDcsLTk3Ljc4NDEwNThdLAogICAgICAgICAgICAgICAgewogICJidWJibGluZ01vdXNlRXZlbnRzIjogdHJ1ZSwKICAiY29sb3IiOiAicHVycGxlIiwKICAiZGFzaEFycmF5IjogbnVsbCwKICAiZGFzaE9mZnNldCI6IG51bGwsCiAgImZpbGwiOiB0cnVlLAogICJmaWxsQ29sb3IiOiAiIzMxODZjYyIsCiAgImZpbGxPcGFjaXR5IjogMC42LAogICJmaWxsUnVsZSI6ICJldmVub2RkIiwKICAibGluZUNhcCI6ICJyb3VuZCIsCiAgImxpbmVKb2luIjogInJvdW5kIiwKICAib3BhY2l0eSI6IDEuMCwKICAicmFkaXVzIjogNSwKICAic3Ryb2tlIjogdHJ1ZSwKICAid2VpZ2h0IjogMwp9CiAgICAgICAgICAgICAgICApLmFkZFRvKG1hcF8wN2FiNGQxNGIwN2Y0MzEzODk4MTlkYzAxMmEyZjhiMik7CiAgICAgICAgICAgIAogICAgCiAgICAgICAgICAgIHZhciBwb3B1cF81ZWQ1OWMzNmVmZmY0ZTAyYjMyNDRlZjYwNGM2MjFjMSA9IEwucG9wdXAoe21heFdpZHRoOiAnMzAwJ30pOwoKICAgICAgICAgICAgCiAgICAgICAgICAgICAgICB2YXIgaHRtbF82NGM1NGQ5YjY2NmM0MTUyYjRjYWZmZTcwNzZiOTQyNiA9ICQoJzxkaXYgaWQ9Imh0bWxfNjRjNTRkOWI2NjZjNDE1MmI0Y2FmZmU3MDc2Yjk0MjYiIHN0eWxlPSJ3aWR0aDogMTAwLjAlOyBoZWlnaHQ6IDEwMC4wJTsiPkJhcnRvbiBIaWxsczwvZGl2PicpWzBdOwogICAgICAgICAgICAgICAgcG9wdXBfNWVkNTljMzZlZmZmNGUwMmIzMjQ0ZWY2MDRjNjIxYzEuc2V0Q29udGVudChodG1sXzY0YzU0ZDliNjY2YzQxNTJiNGNhZmZlNzA3NmI5NDI2KTsKICAgICAgICAgICAgCgogICAgICAgICAgICBjaXJjbGVfbWFya2VyXzU2ZmY5ZjFlZTZjNDRjMTRiZGU0OGVlNmEwODU1OGU3LmJpbmRQb3B1cChwb3B1cF81ZWQ1OWMzNmVmZmY0ZTAyYjMyNDRlZjYwNGM2MjFjMSk7CgogICAgICAgICAgICAKICAgICAgICAKICAgIAogICAgICAgICAgICB2YXIgY2lyY2xlX21hcmtlcl85YTY1YWMwZDQ2MmE0MmVkOTYzNzdjY2Q0OTY3NmM0NiA9IEwuY2lyY2xlTWFya2VyKAogICAgICAgICAgICAgICAgWzMwLjI1NTY2NywtOTcuNzU1NDgxM10sCiAgICAgICAgICAgICAgICB7CiAgImJ1YmJsaW5nTW91c2VFdmVudHMiOiB0cnVlLAogICJjb2xvciI6ICJwdXJwbGUiLAogICJkYXNoQXJyYXkiOiBudWxsLAogICJkYXNoT2Zmc2V0IjogbnVsbCwKICAiZmlsbCI6IHRydWUsCiAgImZpbGxDb2xvciI6ICIjMzE4NmNjIiwKICAiZmlsbE9wYWNpdHkiOiAwLjYsCiAgImZpbGxSdWxlIjogImV2ZW5vZGQiLAogICJsaW5lQ2FwIjogInJvdW5kIiwKICAibGluZUpvaW4iOiAicm91bmQiLAogICJvcGFjaXR5IjogMS4wLAogICJyYWRpdXMiOiA1LAogICJzdHJva2UiOiB0cnVlLAogICJ3ZWlnaHQiOiAzCn0KICAgICAgICAgICAgICAgICkuYWRkVG8obWFwXzA3YWI0ZDE0YjA3ZjQzMTM4OTgxOWRjMDEyYTJmOGIyKTsKICAgICAgICAgICAgCiAgICAKICAgICAgICAgICAgdmFyIHBvcHVwXzAyYmYzYjUxMjcwODQwZDBiNmNkYmRhY2MzYTZhN2IwID0gTC5wb3B1cCh7bWF4V2lkdGg6ICczMDAnfSk7CgogICAgICAgICAgICAKICAgICAgICAgICAgICAgIHZhciBodG1sX2M1NGM3YjllOTg0NTRmMThiNTA4MTM3OWFmYzU2Y2ZhID0gJCgnPGRpdiBpZD0iaHRtbF9jNTRjN2I5ZTk4NDU0ZjE4YjUwODEzNzlhZmM1NmNmYSIgc3R5bGU9IndpZHRoOiAxMDAuMCU7IGhlaWdodDogMTAwLjAlOyI+Qm91bGRpbiBDcmVlazwvZGl2PicpWzBdOwogICAgICAgICAgICAgICAgcG9wdXBfMDJiZjNiNTEyNzA4NDBkMGI2Y2RiZGFjYzNhNmE3YjAuc2V0Q29udGVudChodG1sX2M1NGM3YjllOTg0NTRmMThiNTA4MTM3OWFmYzU2Y2ZhKTsKICAgICAgICAgICAgCgogICAgICAgICAgICBjaXJjbGVfbWFya2VyXzlhNjVhYzBkNDYyYTQyZWQ5NjM3N2NjZDQ5Njc2YzQ2LmJpbmRQb3B1cChwb3B1cF8wMmJmM2I1MTI3MDg0MGQwYjZjZGJkYWNjM2E2YTdiMCk7CgogICAgICAgICAgICAKICAgICAgICAKICAgIAogICAgICAgICAgICB2YXIgY2lyY2xlX21hcmtlcl82MjljYjFjN2U2OTg0NjQ5YmM0YWUzMTczZTJhZDVjYyA9IEwuY2lyY2xlTWFya2VyKAogICAgICAgICAgICAgICAgWzMwLjMzMTI2NDEsLTk3LjczNjQ2NTNdLAogICAgICAgICAgICAgICAgewogICJidWJibGluZ01vdXNlRXZlbnRzIjogdHJ1ZSwKICAiY29sb3IiOiAicHVycGxlIiwKICAiZGFzaEFycmF5IjogbnVsbCwKICAiZGFzaE9mZnNldCI6IG51bGwsCiAgImZpbGwiOiB0cnVlLAogICJmaWxsQ29sb3IiOiAiIzMxODZjYyIsCiAgImZpbGxPcGFjaXR5IjogMC42LAogICJmaWxsUnVsZSI6ICJldmVub2RkIiwKICAibGluZUNhcCI6ICJyb3VuZCIsCiAgImxpbmVKb2luIjogInJvdW5kIiwKICAib3BhY2l0eSI6IDEuMCwKICAicmFkaXVzIjogNSwKICAic3Ryb2tlIjogdHJ1ZSwKICAid2VpZ2h0IjogMwp9CiAgICAgICAgICAgICAgICApLmFkZFRvKG1hcF8wN2FiNGQxNGIwN2Y0MzEzODk4MTlkYzAxMmEyZjhiMik7CiAgICAgICAgICAgIAogICAgCiAgICAgICAgICAgIHZhciBwb3B1cF8zYWQzYmVjNDQxMzg0N2M0OTE3M2ZjZGU0ZDYyM2ZlNSA9IEwucG9wdXAoe21heFdpZHRoOiAnMzAwJ30pOwoKICAgICAgICAgICAgCiAgICAgICAgICAgICAgICB2YXIgaHRtbF8wYWQ2NjU3NzQyMzI0YTVlYjYyMDA1MGM1YWUyZTdkMiA9ICQoJzxkaXYgaWQ9Imh0bWxfMGFkNjY1Nzc0MjMyNGE1ZWI2MjAwNTBjNWFlMmU3ZDIiIHN0eWxlPSJ3aWR0aDogMTAwLjAlOyBoZWlnaHQ6IDEwMC4wJTsiPkJyZW50d29vZDwvZGl2PicpWzBdOwogICAgICAgICAgICAgICAgcG9wdXBfM2FkM2JlYzQ0MTM4NDdjNDkxNzNmY2RlNGQ2MjNmZTUuc2V0Q29udGVudChodG1sXzBhZDY2NTc3NDIzMjRhNWViNjIwMDUwYzVhZTJlN2QyKTsKICAgICAgICAgICAgCgogICAgICAgICAgICBjaXJjbGVfbWFya2VyXzYyOWNiMWM3ZTY5ODQ2NDliYzRhZTMxNzNlMmFkNWNjLmJpbmRQb3B1cChwb3B1cF8zYWQzYmVjNDQxMzg0N2M0OTE3M2ZjZGU0ZDYyM2ZlNSk7CgogICAgICAgICAgICAKICAgICAgICAKICAgIAogICAgICAgICAgICB2YXIgY2lyY2xlX21hcmtlcl8wZjA5MzEwNGRiYzE0MTI1OWEyZmFhYzliODIxY2M5ZCA9IEwuY2lyY2xlTWFya2VyKAogICAgICAgICAgICAgICAgWzMwLjMwNTI0NiwtOTcuNzU0NTg0Nl0sCiAgICAgICAgICAgICAgICB7CiAgImJ1YmJsaW5nTW91c2VFdmVudHMiOiB0cnVlLAogICJjb2xvciI6ICJwdXJwbGUiLAogICJkYXNoQXJyYXkiOiBudWxsLAogICJkYXNoT2Zmc2V0IjogbnVsbCwKICAiZmlsbCI6IHRydWUsCiAgImZpbGxDb2xvciI6ICIjMzE4NmNjIiwKICAiZmlsbE9wYWNpdHkiOiAwLjYsCiAgImZpbGxSdWxlIjogImV2ZW5vZGQiLAogICJsaW5lQ2FwIjogInJvdW5kIiwKICAibGluZUpvaW4iOiAicm91bmQiLAogICJvcGFjaXR5IjogMS4wLAogICJyYWRpdXMiOiA1LAogICJzdHJva2UiOiB0cnVlLAogICJ3ZWlnaHQiOiAzCn0KICAgICAgICAgICAgICAgICkuYWRkVG8obWFwXzA3YWI0ZDE0YjA3ZjQzMTM4OTgxOWRjMDEyYTJmOGIyKTsKICAgICAgICAgICAgCiAgICAKICAgICAgICAgICAgdmFyIHBvcHVwX2I2YTk4NWE5ODExYzRhOGNiNzA5NmNjMjhhNWUxY2MyID0gTC5wb3B1cCh7bWF4V2lkdGg6ICczMDAnfSk7CgogICAgICAgICAgICAKICAgICAgICAgICAgICAgIHZhciBodG1sX2Y4ODQ3NzNmOWM0ZjRhZGZiNjg5NTg2ZTcyYjYzYjRhID0gJCgnPGRpdiBpZD0iaHRtbF9mODg0NzczZjljNGY0YWRmYjY4OTU4NmU3MmI2M2I0YSIgc3R5bGU9IndpZHRoOiAxMDAuMCU7IGhlaWdodDogMTAwLjAlOyI+QnJ5a2VyIFdvb2RzPC9kaXY+JylbMF07CiAgICAgICAgICAgICAgICBwb3B1cF9iNmE5ODVhOTgxMWM0YThjYjcwOTZjYzI4YTVlMWNjMi5zZXRDb250ZW50KGh0bWxfZjg4NDc3M2Y5YzRmNGFkZmI2ODk1ODZlNzJiNjNiNGEpOwogICAgICAgICAgICAKCiAgICAgICAgICAgIGNpcmNsZV9tYXJrZXJfMGYwOTMxMDRkYmMxNDEyNTlhMmZhYWM5YjgyMWNjOWQuYmluZFBvcHVwKHBvcHVwX2I2YTk4NWE5ODExYzRhOGNiNzA5NmNjMjhhNWUxY2MyKTsKCiAgICAgICAgICAgIAogICAgICAgIAogICAgCiAgICAgICAgICAgIHZhciBjaXJjbGVfbWFya2VyX2U1ZDY5MTU5MzlhMTQwMGM4NWMyNDMwMzAxMGRlNDg4ID0gTC5jaXJjbGVNYXJrZXIoCiAgICAgICAgICAgICAgICBbMzAuNDM0MDMzLC05Ny44MjA3MDhdLAogICAgICAgICAgICAgICAgewogICJidWJibGluZ01vdXNlRXZlbnRzIjogdHJ1ZSwKICAiY29sb3IiOiAicHVycGxlIiwKICAiZGFzaEFycmF5IjogbnVsbCwKICAiZGFzaE9mZnNldCI6IG51bGwsCiAgImZpbGwiOiB0cnVlLAogICJmaWxsQ29sb3IiOiAiIzMxODZjYyIsCiAgImZpbGxPcGFjaXR5IjogMC42LAogICJmaWxsUnVsZSI6ICJldmVub2RkIiwKICAibGluZUNhcCI6ICJyb3VuZCIsCiAgImxpbmVKb2luIjogInJvdW5kIiwKICAib3BhY2l0eSI6IDEuMCwKICAicmFkaXVzIjogNSwKICAic3Ryb2tlIjogdHJ1ZSwKICAid2VpZ2h0IjogMwp9CiAgICAgICAgICAgICAgICApLmFkZFRvKG1hcF8wN2FiNGQxNGIwN2Y0MzEzODk4MTlkYzAxMmEyZjhiMik7CiAgICAgICAgICAgIAogICAgCiAgICAgICAgICAgIHZhciBwb3B1cF9hYWVkMjUyNjdhMTM0N2JiYjAxNTE4NjhhMDUyMTMxOCA9IEwucG9wdXAoe21heFdpZHRoOiAnMzAwJ30pOwoKICAgICAgICAgICAgCiAgICAgICAgICAgICAgICB2YXIgaHRtbF84MjVlYWRiNDhjM2M0ZDEzOGM1MDJkMjhmY2VlYzQwZCA9ICQoJzxkaXYgaWQ9Imh0bWxfODI1ZWFkYjQ4YzNjNGQxMzhjNTAyZDI4ZmNlZWM0MGQiIHN0eWxlPSJ3aWR0aDogMTAwLjAlOyBoZWlnaHQ6IDEwMC4wJTsiPkNhbnlvbiBDcmVlazwvZGl2PicpWzBdOwogICAgICAgICAgICAgICAgcG9wdXBfYWFlZDI1MjY3YTEzNDdiYmIwMTUxODY4YTA1MjEzMTguc2V0Q29udGVudChodG1sXzgyNWVhZGI0OGMzYzRkMTM4YzUwMmQyOGZjZWVjNDBkKTsKICAgICAgICAgICAgCgogICAgICAgICAgICBjaXJjbGVfbWFya2VyX2U1ZDY5MTU5MzlhMTQwMGM4NWMyNDMwMzAxMGRlNDg4LmJpbmRQb3B1cChwb3B1cF9hYWVkMjUyNjdhMTM0N2JiYjAxNTE4NjhhMDUyMTMxOCk7CgogICAgICAgICAgICAKICAgICAgICAKICAgIAogICAgICAgICAgICB2YXIgY2lyY2xlX21hcmtlcl9mNTRiYTNkZWIzZmE0MzIxYTdiNzU1NzdmYjgxOTk1ZCA9IEwuY2lyY2xlTWFya2VyKAogICAgICAgICAgICAgICAgWzMwLjE5MDMzOSwtOTcuODg5MDVdLAogICAgICAgICAgICAgICAgewogICJidWJibGluZ01vdXNlRXZlbnRzIjogdHJ1ZSwKICAiY29sb3IiOiAicHVycGxlIiwKICAiZGFzaEFycmF5IjogbnVsbCwKICAiZGFzaE9mZnNldCI6IG51bGwsCiAgImZpbGwiOiB0cnVlLAogICJmaWxsQ29sb3IiOiAiIzMxODZjYyIsCiAgImZpbGxPcGFjaXR5IjogMC42LAogICJmaWxsUnVsZSI6ICJldmVub2RkIiwKICAibGluZUNhcCI6ICJyb3VuZCIsCiAgImxpbmVKb2luIjogInJvdW5kIiwKICAib3BhY2l0eSI6IDEuMCwKICAicmFkaXVzIjogNSwKICAic3Ryb2tlIjogdHJ1ZSwKICAid2VpZ2h0IjogMwp9CiAgICAgICAgICAgICAgICApLmFkZFRvKG1hcF8wN2FiNGQxNGIwN2Y0MzEzODk4MTlkYzAxMmEyZjhiMik7CiAgICAgICAgICAgIAogICAgCiAgICAgICAgICAgIHZhciBwb3B1cF81ZDM1ZGIzOGQzYzE0MjFjYTg3NTJhMGU2ZGMzMjg1YyA9IEwucG9wdXAoe21heFdpZHRoOiAnMzAwJ30pOwoKICAgICAgICAgICAgCiAgICAgICAgICAgICAgICB2YXIgaHRtbF8yYTJkNDE3ZjhhMzk0MWEwOTNiZGJiYzZiNDk4MGQxNyA9ICQoJzxkaXYgaWQ9Imh0bWxfMmEyZDQxN2Y4YTM5NDFhMDkzYmRiYmM2YjQ5ODBkMTciIHN0eWxlPSJ3aWR0aDogMTAwLjAlOyBoZWlnaHQ6IDEwMC4wJTsiPkNpcmNsZSBDIFJhbmNoPC9kaXY+JylbMF07CiAgICAgICAgICAgICAgICBwb3B1cF81ZDM1ZGIzOGQzYzE0MjFjYTg3NTJhMGU2ZGMzMjg1Yy5zZXRDb250ZW50KGh0bWxfMmEyZDQxN2Y4YTM5NDFhMDkzYmRiYmM2YjQ5ODBkMTcpOwogICAgICAgICAgICAKCiAgICAgICAgICAgIGNpcmNsZV9tYXJrZXJfZjU0YmEzZGViM2ZhNDMyMWE3Yjc1NTc3ZmI4MTk5NWQuYmluZFBvcHVwKHBvcHVwXzVkMzVkYjM4ZDNjMTQyMWNhODc1MmEwZTZkYzMyODVjKTsKCiAgICAgICAgICAgIAogICAgICAgIAogICAgCiAgICAgICAgICAgIHZhciBjaXJjbGVfbWFya2VyXzA0MjJjNDhkYTJlNjRhODU4MDUxNTZhZTczNWI3MzQwID0gTC5jaXJjbGVNYXJrZXIoCiAgICAgICAgICAgICAgICBbMzAuMjc3Njc5NiwtOTcuNzU5ODA3NV0sCiAgICAgICAgICAgICAgICB7CiAgImJ1YmJsaW5nTW91c2VFdmVudHMiOiB0cnVlLAogICJjb2xvciI6ICJwdXJwbGUiLAogICJkYXNoQXJyYXkiOiBudWxsLAogICJkYXNoT2Zmc2V0IjogbnVsbCwKICAiZmlsbCI6IHRydWUsCiAgImZpbGxDb2xvciI6ICIjMzE4NmNjIiwKICAiZmlsbE9wYWNpdHkiOiAwLjYsCiAgImZpbGxSdWxlIjogImV2ZW5vZGQiLAogICJsaW5lQ2FwIjogInJvdW5kIiwKICAibGluZUpvaW4iOiAicm91bmQiLAogICJvcGFjaXR5IjogMS4wLAogICJyYWRpdXMiOiA1LAogICJzdHJva2UiOiB0cnVlLAogICJ3ZWlnaHQiOiAzCn0KICAgICAgICAgICAgICAgICkuYWRkVG8obWFwXzA3YWI0ZDE0YjA3ZjQzMTM4OTgxOWRjMDEyYTJmOGIyKTsKICAgICAgICAgICAgCiAgICAKICAgICAgICAgICAgdmFyIHBvcHVwXzA1MWM1ZmU5MTYwMDQwNzFiYTU4YTllMjA0ZmNjMjZmID0gTC5wb3B1cCh7bWF4V2lkdGg6ICczMDAnfSk7CgogICAgICAgICAgICAKICAgICAgICAgICAgICAgIHZhciBodG1sX2FhMDAwZjZlOTY4OTRmZjU5Zjg4MTA0N2Y1NDdkOGVkID0gJCgnPGRpdiBpZD0iaHRtbF9hYTAwMGY2ZTk2ODk0ZmY1OWY4ODEwNDdmNTQ3ZDhlZCIgc3R5bGU9IndpZHRoOiAxMDAuMCU7IGhlaWdodDogMTAwLjAlOyI+Q2xhcmtzdmlsbGU8L2Rpdj4nKVswXTsKICAgICAgICAgICAgICAgIHBvcHVwXzA1MWM1ZmU5MTYwMDQwNzFiYTU4YTllMjA0ZmNjMjZmLnNldENvbnRlbnQoaHRtbF9hYTAwMGY2ZTk2ODk0ZmY1OWY4ODEwNDdmNTQ3ZDhlZCk7CiAgICAgICAgICAgIAoKICAgICAgICAgICAgY2lyY2xlX21hcmtlcl8wNDIyYzQ4ZGEyZTY0YTg1ODA1MTU2YWU3MzViNzM0MC5iaW5kUG9wdXAocG9wdXBfMDUxYzVmZTkxNjAwNDA3MWJhNThhOWUyMDRmY2MyNmYpOwoKICAgICAgICAgICAgCiAgICAgICAgCiAgICAKICAgICAgICAgICAgdmFyIGNpcmNsZV9tYXJrZXJfN2RkZGZmNDAwYmQwNGMxYTgwNDZhNGIxYzI1ZGU3NzQgPSBMLmNpcmNsZU1hcmtlcigKICAgICAgICAgICAgICAgIFszMC4zOTA3MDUsLTk3LjY1OTA1NDZdLAogICAgICAgICAgICAgICAgewogICJidWJibGluZ01vdXNlRXZlbnRzIjogdHJ1ZSwKICAiY29sb3IiOiAicHVycGxlIiwKICAiZGFzaEFycmF5IjogbnVsbCwKICAiZGFzaE9mZnNldCI6IG51bGwsCiAgImZpbGwiOiB0cnVlLAogICJmaWxsQ29sb3IiOiAiIzMxODZjYyIsCiAgImZpbGxPcGFjaXR5IjogMC42LAogICJmaWxsUnVsZSI6ICJldmVub2RkIiwKICAibGluZUNhcCI6ICJyb3VuZCIsCiAgImxpbmVKb2luIjogInJvdW5kIiwKICAib3BhY2l0eSI6IDEuMCwKICAicmFkaXVzIjogNSwKICAic3Ryb2tlIjogdHJ1ZSwKICAid2VpZ2h0IjogMwp9CiAgICAgICAgICAgICAgICApLmFkZFRvKG1hcF8wN2FiNGQxNGIwN2Y0MzEzODk4MTlkYzAxMmEyZjhiMik7CiAgICAgICAgICAgIAogICAgCiAgICAgICAgICAgIHZhciBwb3B1cF8zMzBmOGJlNDRjZGM0NmIxODkyZTUxODZhYjYxZWI4OSA9IEwucG9wdXAoe21heFdpZHRoOiAnMzAwJ30pOwoKICAgICAgICAgICAgCiAgICAgICAgICAgICAgICB2YXIgaHRtbF9lNmE0MmI2ZmFjYjg0OGU0ODE0MTZhMGYwMWM5NTczNCA9ICQoJzxkaXYgaWQ9Imh0bWxfZTZhNDJiNmZhY2I4NDhlNDgxNDE2YTBmMDFjOTU3MzQiIHN0eWxlPSJ3aWR0aDogMTAwLjAlOyBoZWlnaHQ6IDEwMC4wJTsiPkNvcHBlcmZpZWxkPC9kaXY+JylbMF07CiAgICAgICAgICAgICAgICBwb3B1cF8zMzBmOGJlNDRjZGM0NmIxODkyZTUxODZhYjYxZWI4OS5zZXRDb250ZW50KGh0bWxfZTZhNDJiNmZhY2I4NDhlNDgxNDE2YTBmMDFjOTU3MzQpOwogICAgICAgICAgICAKCiAgICAgICAgICAgIGNpcmNsZV9tYXJrZXJfN2RkZGZmNDAwYmQwNGMxYTgwNDZhNGIxYzI1ZGU3NzQuYmluZFBvcHVwKHBvcHVwXzMzMGY4YmU0NGNkYzQ2YjE4OTJlNTE4NmFiNjFlYjg5KTsKCiAgICAgICAgICAgIAogICAgICAgIAogICAgCiAgICAgICAgICAgIHZhciBjaXJjbGVfbWFya2VyX2IyMmJhMDY5NzViMDRkOGY4YWJkYjk4NjA1MTc4ZThkID0gTC5jaXJjbGVNYXJrZXIoCiAgICAgICAgICAgICAgICBbMzAuMzQ1ODI5MywtOTcuNzI0NzYxMl0sCiAgICAgICAgICAgICAgICB7CiAgImJ1YmJsaW5nTW91c2VFdmVudHMiOiB0cnVlLAogICJjb2xvciI6ICJwdXJwbGUiLAogICJkYXNoQXJyYXkiOiBudWxsLAogICJkYXNoT2Zmc2V0IjogbnVsbCwKICAiZmlsbCI6IHRydWUsCiAgImZpbGxDb2xvciI6ICIjMzE4NmNjIiwKICAiZmlsbE9wYWNpdHkiOiAwLjYsCiAgImZpbGxSdWxlIjogImV2ZW5vZGQiLAogICJsaW5lQ2FwIjogInJvdW5kIiwKICAibGluZUpvaW4iOiAicm91bmQiLAogICJvcGFjaXR5IjogMS4wLAogICJyYWRpdXMiOiA1LAogICJzdHJva2UiOiB0cnVlLAogICJ3ZWlnaHQiOiAzCn0KICAgICAgICAgICAgICAgICkuYWRkVG8obWFwXzA3YWI0ZDE0YjA3ZjQzMTM4OTgxOWRjMDEyYTJmOGIyKTsKICAgICAgICAgICAgCiAgICAKICAgICAgICAgICAgdmFyIHBvcHVwXzViYTliM2Y1MWVhZjQxM2ZiOWEwMzkzZGMwOTc2NDc5ID0gTC5wb3B1cCh7bWF4V2lkdGg6ICczMDAnfSk7CgogICAgICAgICAgICAKICAgICAgICAgICAgICAgIHZhciBodG1sX2VlMzRjNTNkZmI2NDRmZWRhNWMwMGNhMzVlYWI1YTBjID0gJCgnPGRpdiBpZD0iaHRtbF9lZTM0YzUzZGZiNjQ0ZmVkYTVjMDBjYTM1ZWFiNWEwYyIgc3R5bGU9IndpZHRoOiAxMDAuMCU7IGhlaWdodDogMTAwLjAlOyI+Q3Jlc3R2aWV3PC9kaXY+JylbMF07CiAgICAgICAgICAgICAgICBwb3B1cF81YmE5YjNmNTFlYWY0MTNmYjlhMDM5M2RjMDk3NjQ3OS5zZXRDb250ZW50KGh0bWxfZWUzNGM1M2RmYjY0NGZlZGE1YzAwY2EzNWVhYjVhMGMpOwogICAgICAgICAgICAKCiAgICAgICAgICAgIGNpcmNsZV9tYXJrZXJfYjIyYmEwNjk3NWIwNGQ4ZjhhYmRiOTg2MDUxNzhlOGQuYmluZFBvcHVwKHBvcHVwXzViYTliM2Y1MWVhZjQxM2ZiOWEwMzkzZGMwOTc2NDc5KTsKCiAgICAgICAgICAgIAogICAgICAgIAogICAgCiAgICAgICAgICAgIHZhciBjaXJjbGVfbWFya2VyXzAxMTkyZDg3MDI4NTRjNzc5YTc1ZWFiYTllYjdlMTQ2ID0gTC5jaXJjbGVNYXJrZXIoCiAgICAgICAgICAgICAgICBbMzAuMjMyOTI1NywtOTcuNzYxNDE3Nl0sCiAgICAgICAgICAgICAgICB7CiAgImJ1YmJsaW5nTW91c2VFdmVudHMiOiB0cnVlLAogICJjb2xvciI6ICJwdXJwbGUiLAogICJkYXNoQXJyYXkiOiBudWxsLAogICJkYXNoT2Zmc2V0IjogbnVsbCwKICAiZmlsbCI6IHRydWUsCiAgImZpbGxDb2xvciI6ICIjMzE4NmNjIiwKICAiZmlsbE9wYWNpdHkiOiAwLjYsCiAgImZpbGxSdWxlIjogImV2ZW5vZGQiLAogICJsaW5lQ2FwIjogInJvdW5kIiwKICAibGluZUpvaW4iOiAicm91bmQiLAogICJvcGFjaXR5IjogMS4wLAogICJyYWRpdXMiOiA1LAogICJzdHJva2UiOiB0cnVlLAogICJ3ZWlnaHQiOiAzCn0KICAgICAgICAgICAgICAgICkuYWRkVG8obWFwXzA3YWI0ZDE0YjA3ZjQzMTM4OTgxOWRjMDEyYTJmOGIyKTsKICAgICAgICAgICAgCiAgICAKICAgICAgICAgICAgdmFyIHBvcHVwXzZlOGM3NzI0OTE3NDQwZWU4ZGNmNmIxMjQzOTFiNjYzID0gTC5wb3B1cCh7bWF4V2lkdGg6ICczMDAnfSk7CgogICAgICAgICAgICAKICAgICAgICAgICAgICAgIHZhciBodG1sX2Y4Njc0N2Q3ZTBhMTQ0YTM5MDhjZmM1ZTMxOWM2ZjhjID0gJCgnPGRpdiBpZD0iaHRtbF9mODY3NDdkN2UwYTE0NGEzOTA4Y2ZjNWUzMTljNmY4YyIgc3R5bGU9IndpZHRoOiAxMDAuMCU7IGhlaWdodDogMTAwLjAlOyI+RGF3c29uPC9kaXY+JylbMF07CiAgICAgICAgICAgICAgICBwb3B1cF82ZThjNzcyNDkxNzQ0MGVlOGRjZjZiMTI0MzkxYjY2My5zZXRDb250ZW50KGh0bWxfZjg2NzQ3ZDdlMGExNDRhMzkwOGNmYzVlMzE5YzZmOGMpOwogICAgICAgICAgICAKCiAgICAgICAgICAgIGNpcmNsZV9tYXJrZXJfMDExOTJkODcwMjg1NGM3NzlhNzVlYWJhOWViN2UxNDYuYmluZFBvcHVwKHBvcHVwXzZlOGM3NzI0OTE3NDQwZWU4ZGNmNmIxMjQzOTFiNjYzKTsKCiAgICAgICAgICAgIAogICAgICAgIAogICAgCiAgICAgICAgICAgIHZhciBjaXJjbGVfbWFya2VyX2Y0NzJkY2JhM2EzYzRlYWQ5ZTAwOWI1ZTI1Y2UyMTA3ID0gTC5jaXJjbGVNYXJrZXIoCiAgICAgICAgICAgICAgICBbMzAuMTg2NTQ4NywtOTcuNzM3Mzk4ODczMTcwODJdLAogICAgICAgICAgICAgICAgewogICJidWJibGluZ01vdXNlRXZlbnRzIjogdHJ1ZSwKICAiY29sb3IiOiAicHVycGxlIiwKICAiZGFzaEFycmF5IjogbnVsbCwKICAiZGFzaE9mZnNldCI6IG51bGwsCiAgImZpbGwiOiB0cnVlLAogICJmaWxsQ29sb3IiOiAiIzMxODZjYyIsCiAgImZpbGxPcGFjaXR5IjogMC42LAogICJmaWxsUnVsZSI6ICJldmVub2RkIiwKICAibGluZUNhcCI6ICJyb3VuZCIsCiAgImxpbmVKb2luIjogInJvdW5kIiwKICAib3BhY2l0eSI6IDEuMCwKICAicmFkaXVzIjogNSwKICAic3Ryb2tlIjogdHJ1ZSwKICAid2VpZ2h0IjogMwp9CiAgICAgICAgICAgICAgICApLmFkZFRvKG1hcF8wN2FiNGQxNGIwN2Y0MzEzODk4MTlkYzAxMmEyZjhiMik7CiAgICAgICAgICAgIAogICAgCiAgICAgICAgICAgIHZhciBwb3B1cF8zZWY3MTMwN2JiNGI0MDIzOTA1NGIxOWQzMTJhNzI1MCA9IEwucG9wdXAoe21heFdpZHRoOiAnMzAwJ30pOwoKICAgICAgICAgICAgCiAgICAgICAgICAgICAgICB2YXIgaHRtbF9mODZhM2E5ZGE2ZWM0M2EzOGVkN2VlODIxNjViYjk3ZCA9ICQoJzxkaXYgaWQ9Imh0bWxfZjg2YTNhOWRhNmVjNDNhMzhlZDdlZTgyMTY1YmI5N2QiIHN0eWxlPSJ3aWR0aDogMTAwLjAlOyBoZWlnaHQ6IDEwMC4wJTsiPkRvdmUgU3ByaW5nczwvZGl2PicpWzBdOwogICAgICAgICAgICAgICAgcG9wdXBfM2VmNzEzMDdiYjRiNDAyMzkwNTRiMTlkMzEyYTcyNTAuc2V0Q29udGVudChodG1sX2Y4NmEzYTlkYTZlYzQzYTM4ZWQ3ZWU4MjE2NWJiOTdkKTsKICAgICAgICAgICAgCgogICAgICAgICAgICBjaXJjbGVfbWFya2VyX2Y0NzJkY2JhM2EzYzRlYWQ5ZTAwOWI1ZTI1Y2UyMTA3LmJpbmRQb3B1cChwb3B1cF8zZWY3MTMwN2JiNGI0MDIzOTA1NGIxOWQzMTJhNzI1MCk7CgogICAgICAgICAgICAKICAgICAgICAKICAgIAogICAgICAgICAgICB2YXIgY2lyY2xlX21hcmtlcl80MzJjNTlmODJiOWM0NDJiYWQwZjhlMjg1YWI0NDcxMyA9IEwuY2lyY2xlTWFya2VyKAogICAgICAgICAgICAgICAgWzMwLjI2ODA1MzYsLTk3Ljc0NDc2NDJdLAogICAgICAgICAgICAgICAgewogICJidWJibGluZ01vdXNlRXZlbnRzIjogdHJ1ZSwKICAiY29sb3IiOiAicHVycGxlIiwKICAiZGFzaEFycmF5IjogbnVsbCwKICAiZGFzaE9mZnNldCI6IG51bGwsCiAgImZpbGwiOiB0cnVlLAogICJmaWxsQ29sb3IiOiAiIzMxODZjYyIsCiAgImZpbGxPcGFjaXR5IjogMC42LAogICJmaWxsUnVsZSI6ICJldmVub2RkIiwKICAibGluZUNhcCI6ICJyb3VuZCIsCiAgImxpbmVKb2luIjogInJvdW5kIiwKICAib3BhY2l0eSI6IDEuMCwKICAicmFkaXVzIjogNSwKICAic3Ryb2tlIjogdHJ1ZSwKICAid2VpZ2h0IjogMwp9CiAgICAgICAgICAgICAgICApLmFkZFRvKG1hcF8wN2FiNGQxNGIwN2Y0MzEzODk4MTlkYzAxMmEyZjhiMik7CiAgICAgICAgICAgIAogICAgCiAgICAgICAgICAgIHZhciBwb3B1cF9iY2NmMWU2ODJkMzc0ZWQwOTE5MjYwMmQ0MWUzZjM4MSA9IEwucG9wdXAoe21heFdpZHRoOiAnMzAwJ30pOwoKICAgICAgICAgICAgCiAgICAgICAgICAgICAgICB2YXIgaHRtbF9lNzVmYmQ0NmZkYTk0OGZmYjkyNzUyMjIwOGI2MWRlNyA9ICQoJzxkaXYgaWQ9Imh0bWxfZTc1ZmJkNDZmZGE5NDhmZmI5Mjc1MjIyMDhiNjFkZTciIHN0eWxlPSJ3aWR0aDogMTAwLjAlOyBoZWlnaHQ6IDEwMC4wJTsiPkRvd250b3duIEF1c3RpbjwvZGl2PicpWzBdOwogICAgICAgICAgICAgICAgcG9wdXBfYmNjZjFlNjgyZDM3NGVkMDkxOTI2MDJkNDFlM2YzODEuc2V0Q29udGVudChodG1sX2U3NWZiZDQ2ZmRhOTQ4ZmZiOTI3NTIyMjA4YjYxZGU3KTsKICAgICAgICAgICAgCgogICAgICAgICAgICBjaXJjbGVfbWFya2VyXzQzMmM1OWY4MmI5YzQ0MmJhZDBmOGUyODVhYjQ0NzEzLmJpbmRQb3B1cChwb3B1cF9iY2NmMWU2ODJkMzc0ZWQwOTE5MjYwMmQ0MWUzZjM4MSk7CgogICAgICAgICAgICAKICAgICAgICAKICAgIAogICAgICAgICAgICB2YXIgY2lyY2xlX21hcmtlcl9kYjI2NjllNWRhNWM0YWUzYWFkOGFmMjVjMzdjMzYyOCA9IEwuY2lyY2xlTWFya2VyKAogICAgICAgICAgICAgICAgWzMwLjI1NTg5NTUsLTk3LjczMTcwNzJdLAogICAgICAgICAgICAgICAgewogICJidWJibGluZ01vdXNlRXZlbnRzIjogdHJ1ZSwKICAiY29sb3IiOiAicHVycGxlIiwKICAiZGFzaEFycmF5IjogbnVsbCwKICAiZGFzaE9mZnNldCI6IG51bGwsCiAgImZpbGwiOiB0cnVlLAogICJmaWxsQ29sb3IiOiAiIzMxODZjYyIsCiAgImZpbGxPcGFjaXR5IjogMC42LAogICJmaWxsUnVsZSI6ICJldmVub2RkIiwKICAibGluZUNhcCI6ICJyb3VuZCIsCiAgImxpbmVKb2luIjogInJvdW5kIiwKICAib3BhY2l0eSI6IDEuMCwKICAicmFkaXVzIjogNSwKICAic3Ryb2tlIjogdHJ1ZSwKICAid2VpZ2h0IjogMwp9CiAgICAgICAgICAgICAgICApLmFkZFRvKG1hcF8wN2FiNGQxNGIwN2Y0MzEzODk4MTlkYzAxMmEyZjhiMik7CiAgICAgICAgICAgIAogICAgCiAgICAgICAgICAgIHZhciBwb3B1cF9kM2EzOWExYmQ3MjI0Mjc0YTgyYTJkMzI3MDM5NzViYyA9IEwucG9wdXAoe21heFdpZHRoOiAnMzAwJ30pOwoKICAgICAgICAgICAgCiAgICAgICAgICAgICAgICB2YXIgaHRtbF9jNWU3NTVkOWM5NzE0MDRlYjEyYjljOWJkOTQwZjc0OSA9ICQoJzxkaXYgaWQ9Imh0bWxfYzVlNzU1ZDljOTcxNDA0ZWIxMmI5YzliZDk0MGY3NDkiIHN0eWxlPSJ3aWR0aDogMTAwLjAlOyBoZWlnaHQ6IDEwMC4wJTsiPkVhc3QgQ2VzYXIgQ2hhdmV6PC9kaXY+JylbMF07CiAgICAgICAgICAgICAgICBwb3B1cF9kM2EzOWExYmQ3MjI0Mjc0YTgyYTJkMzI3MDM5NzViYy5zZXRDb250ZW50KGh0bWxfYzVlNzU1ZDljOTcxNDA0ZWIxMmI5YzliZDk0MGY3NDkpOwogICAgICAgICAgICAKCiAgICAgICAgICAgIGNpcmNsZV9tYXJrZXJfZGIyNjY5ZTVkYTVjNGFlM2FhZDhhZjI1YzM3YzM2MjguYmluZFBvcHVwKHBvcHVwX2QzYTM5YTFiZDcyMjQyNzRhODJhMmQzMjcwMzk3NWJjKTsKCiAgICAgICAgICAgIAogICAgICAgIAogICAgCiAgICAgICAgICAgIHZhciBjaXJjbGVfbWFya2VyX2JiZWNhODE0ZWQ3ODRhOTFhMzYwYmYzMGY2N2E4OTM3ID0gTC5jaXJjbGVNYXJrZXIoCiAgICAgICAgICAgICAgICBbMzAuMTU1MjQ3LC05Ny43MTg3NjRdLAogICAgICAgICAgICAgICAgewogICJidWJibGluZ01vdXNlRXZlbnRzIjogdHJ1ZSwKICAiY29sb3IiOiAicHVycGxlIiwKICAiZGFzaEFycmF5IjogbnVsbCwKICAiZGFzaE9mZnNldCI6IG51bGwsCiAgImZpbGwiOiB0cnVlLAogICJmaWxsQ29sb3IiOiAiIzMxODZjYyIsCiAgImZpbGxPcGFjaXR5IjogMC42LAogICJmaWxsUnVsZSI6ICJldmVub2RkIiwKICAibGluZUNhcCI6ICJyb3VuZCIsCiAgImxpbmVKb2luIjogInJvdW5kIiwKICAib3BhY2l0eSI6IDEuMCwKICAicmFkaXVzIjogNSwKICAic3Ryb2tlIjogdHJ1ZSwKICAid2VpZ2h0IjogMwp9CiAgICAgICAgICAgICAgICApLmFkZFRvKG1hcF8wN2FiNGQxNGIwN2Y0MzEzODk4MTlkYzAxMmEyZjhiMik7CiAgICAgICAgICAgIAogICAgCiAgICAgICAgICAgIHZhciBwb3B1cF8zMzEwZjkyNDc4NjM0YmJjYmY2M2RiNDgwYmQwMzFiZiA9IEwucG9wdXAoe21heFdpZHRoOiAnMzAwJ30pOwoKICAgICAgICAgICAgCiAgICAgICAgICAgICAgICB2YXIgaHRtbF80Zjk4MDE2MGQ1MGI0OTY4OTljZTA2NmIwOTlmNWNmZSA9ICQoJzxkaXYgaWQ9Imh0bWxfNGY5ODAxNjBkNTBiNDk2ODk5Y2UwNjZiMDk5ZjVjZmUiIHN0eWxlPSJ3aWR0aDogMTAwLjAlOyBoZWlnaHQ6IDEwMC4wJTsiPkVhc3RvbiBQYXJrPC9kaXY+JylbMF07CiAgICAgICAgICAgICAgICBwb3B1cF8zMzEwZjkyNDc4NjM0YmJjYmY2M2RiNDgwYmQwMzFiZi5zZXRDb250ZW50KGh0bWxfNGY5ODAxNjBkNTBiNDk2ODk5Y2UwNjZiMDk5ZjVjZmUpOwogICAgICAgICAgICAKCiAgICAgICAgICAgIGNpcmNsZV9tYXJrZXJfYmJlY2E4MTRlZDc4NGE5MWEzNjBiZjMwZjY3YTg5MzcuYmluZFBvcHVwKHBvcHVwXzMzMTBmOTI0Nzg2MzRiYmNiZjYzZGI0ODBiZDAzMWJmKTsKCiAgICAgICAgICAgIAogICAgICAgIAogICAgCiAgICAgICAgICAgIHZhciBjaXJjbGVfbWFya2VyXzY2MmEwY2E0OTY3NTQ3ODQ4M2FjZjJmOTJiYjE3YjIyID0gTC5jaXJjbGVNYXJrZXIoCiAgICAgICAgICAgICAgICBbMzAuMjM1NTc3OCwtOTcuNzY4NTE0OV0sCiAgICAgICAgICAgICAgICB7CiAgImJ1YmJsaW5nTW91c2VFdmVudHMiOiB0cnVlLAogICJjb2xvciI6ICJwdXJwbGUiLAogICJkYXNoQXJyYXkiOiBudWxsLAogICJkYXNoT2Zmc2V0IjogbnVsbCwKICAiZmlsbCI6IHRydWUsCiAgImZpbGxDb2xvciI6ICIjMzE4NmNjIiwKICAiZmlsbE9wYWNpdHkiOiAwLjYsCiAgImZpbGxSdWxlIjogImV2ZW5vZGQiLAogICJsaW5lQ2FwIjogInJvdW5kIiwKICAibGluZUpvaW4iOiAicm91bmQiLAogICJvcGFjaXR5IjogMS4wLAogICJyYWRpdXMiOiA1LAogICJzdHJva2UiOiB0cnVlLAogICJ3ZWlnaHQiOiAzCn0KICAgICAgICAgICAgICAgICkuYWRkVG8obWFwXzA3YWI0ZDE0YjA3ZjQzMTM4OTgxOWRjMDEyYTJmOGIyKTsKICAgICAgICAgICAgCiAgICAKICAgICAgICAgICAgdmFyIHBvcHVwXzIzYWE4MDYwYTk2NzQ2ODM5NmNlMDA5OWMwNDVlZjJhID0gTC5wb3B1cCh7bWF4V2lkdGg6ICczMDAnfSk7CgogICAgICAgICAgICAKICAgICAgICAgICAgICAgIHZhciBodG1sX2MzNWIyZjRmZjEyYTQ0NzJhN2Y2NjJiYWVlOGU5YzJmID0gJCgnPGRpdiBpZD0iaHRtbF9jMzViMmY0ZmYxMmE0NDcyYTdmNjYyYmFlZThlOWMyZiIgc3R5bGU9IndpZHRoOiAxMDAuMCU7IGhlaWdodDogMTAwLjAlOyI+R2FsaW5kbzwvZGl2PicpWzBdOwogICAgICAgICAgICAgICAgcG9wdXBfMjNhYTgwNjBhOTY3NDY4Mzk2Y2UwMDk5YzA0NWVmMmEuc2V0Q29udGVudChodG1sX2MzNWIyZjRmZjEyYTQ0NzJhN2Y2NjJiYWVlOGU5YzJmKTsKICAgICAgICAgICAgCgogICAgICAgICAgICBjaXJjbGVfbWFya2VyXzY2MmEwY2E0OTY3NTQ3ODQ4M2FjZjJmOTJiYjE3YjIyLmJpbmRQb3B1cChwb3B1cF8yM2FhODA2MGE5Njc0NjgzOTZjZTAwOTljMDQ1ZWYyYSk7CgogICAgICAgICAgICAKICAgICAgICAKICAgIAogICAgICAgICAgICB2YXIgY2lyY2xlX21hcmtlcl9mNmFhYzY5NWYwYWQ0NGIwOTZmMjViMDVlZTlkNmVhMyA9IEwuY2lyY2xlTWFya2VyKAogICAgICAgICAgICAgICAgWzMwLjIyMDU5MSwtOTcuODk5NTA3XSwKICAgICAgICAgICAgICAgIHsKICAiYnViYmxpbmdNb3VzZUV2ZW50cyI6IHRydWUsCiAgImNvbG9yIjogInB1cnBsZSIsCiAgImRhc2hBcnJheSI6IG51bGwsCiAgImRhc2hPZmZzZXQiOiBudWxsLAogICJmaWxsIjogdHJ1ZSwKICAiZmlsbENvbG9yIjogIiMzMTg2Y2MiLAogICJmaWxsT3BhY2l0eSI6IDAuNiwKICAiZmlsbFJ1bGUiOiAiZXZlbm9kZCIsCiAgImxpbmVDYXAiOiAicm91bmQiLAogICJsaW5lSm9pbiI6ICJyb3VuZCIsCiAgIm9wYWNpdHkiOiAxLjAsCiAgInJhZGl1cyI6IDUsCiAgInN0cm9rZSI6IHRydWUsCiAgIndlaWdodCI6IDMKfQogICAgICAgICAgICAgICAgKS5hZGRUbyhtYXBfMDdhYjRkMTRiMDdmNDMxMzg5ODE5ZGMwMTJhMmY4YjIpOwogICAgICAgICAgICAKICAgIAogICAgICAgICAgICB2YXIgcG9wdXBfMjhhYmVhOTI0NDY1NGFkNDk4NWYwYTVlNDM0YmRkOWUgPSBMLnBvcHVwKHttYXhXaWR0aDogJzMwMCd9KTsKCiAgICAgICAgICAgIAogICAgICAgICAgICAgICAgdmFyIGh0bWxfNDM4N2Q3YWZlZDI3NDM4MjhkZGZhMjM3OTEwNjU2YTAgPSAkKCc8ZGl2IGlkPSJodG1sXzQzODdkN2FmZWQyNzQzODI4ZGRmYTIzNzkxMDY1NmEwIiBzdHlsZT0id2lkdGg6IDEwMC4wJTsgaGVpZ2h0OiAxMDAuMCU7Ij5HcmFuYWRhIEhpbGxzPC9kaXY+JylbMF07CiAgICAgICAgICAgICAgICBwb3B1cF8yOGFiZWE5MjQ0NjU0YWQ0OTg1ZjBhNWU0MzRiZGQ5ZS5zZXRDb250ZW50KGh0bWxfNDM4N2Q3YWZlZDI3NDM4MjhkZGZhMjM3OTEwNjU2YTApOwogICAgICAgICAgICAKCiAgICAgICAgICAgIGNpcmNsZV9tYXJrZXJfZjZhYWM2OTVmMGFkNDRiMDk2ZjI1YjA1ZWU5ZDZlYTMuYmluZFBvcHVwKHBvcHVwXzI4YWJlYTkyNDQ2NTRhZDQ5ODVmMGE1ZTQzNGJkZDllKTsKCiAgICAgICAgICAgIAogICAgICAgIAogICAgCiAgICAgICAgICAgIHZhciBjaXJjbGVfbWFya2VyXzE4N2Y5NjBhNmUyNzQ4ZmY4ODFjZmY1YjFkYmVkZmIwID0gTC5jaXJjbGVNYXJrZXIoCiAgICAgICAgICAgICAgICBbMzAuMjk1ODk1NiwtOTcuNzI0NzY3OF0sCiAgICAgICAgICAgICAgICB7CiAgImJ1YmJsaW5nTW91c2VFdmVudHMiOiB0cnVlLAogICJjb2xvciI6ICJwdXJwbGUiLAogICJkYXNoQXJyYXkiOiBudWxsLAogICJkYXNoT2Zmc2V0IjogbnVsbCwKICAiZmlsbCI6IHRydWUsCiAgImZpbGxDb2xvciI6ICIjMzE4NmNjIiwKICAiZmlsbE9wYWNpdHkiOiAwLjYsCiAgImZpbGxSdWxlIjogImV2ZW5vZGQiLAogICJsaW5lQ2FwIjogInJvdW5kIiwKICAibGluZUpvaW4iOiAicm91bmQiLAogICJvcGFjaXR5IjogMS4wLAogICJyYWRpdXMiOiA1LAogICJzdHJva2UiOiB0cnVlLAogICJ3ZWlnaHQiOiAzCn0KICAgICAgICAgICAgICAgICkuYWRkVG8obWFwXzA3YWI0ZDE0YjA3ZjQzMTM4OTgxOWRjMDEyYTJmOGIyKTsKICAgICAgICAgICAgCiAgICAKICAgICAgICAgICAgdmFyIHBvcHVwX2NkYWFjN2FhY2I0ZjQzMzQ4OTJhZmQ2OTNiZGQwYmEyID0gTC5wb3B1cCh7bWF4V2lkdGg6ICczMDAnfSk7CgogICAgICAgICAgICAKICAgICAgICAgICAgICAgIHZhciBodG1sX2Y1NGJhNmIyNzgwNDQ2ZGJiYTI3MzVhM2ZmYTRmODNhID0gJCgnPGRpdiBpZD0iaHRtbF9mNTRiYTZiMjc4MDQ0NmRiYmEyNzM1YTNmZmE0ZjgzYSIgc3R5bGU9IndpZHRoOiAxMDAuMCU7IGhlaWdodDogMTAwLjAlOyI+SGFuY29jazwvZGl2PicpWzBdOwogICAgICAgICAgICAgICAgcG9wdXBfY2RhYWM3YWFjYjRmNDMzNDg5MmFmZDY5M2JkZDBiYTIuc2V0Q29udGVudChodG1sX2Y1NGJhNmIyNzgwNDQ2ZGJiYTI3MzVhM2ZmYTRmODNhKTsKICAgICAgICAgICAgCgogICAgICAgICAgICBjaXJjbGVfbWFya2VyXzE4N2Y5NjBhNmUyNzQ4ZmY4ODFjZmY1YjFkYmVkZmIwLmJpbmRQb3B1cChwb3B1cF9jZGFhYzdhYWNiNGY0MzM0ODkyYWZkNjkzYmRkMGJhMik7CgogICAgICAgICAgICAKICAgICAgICAKICAgIAogICAgICAgICAgICB2YXIgY2lyY2xlX21hcmtlcl9hM2ZhOGYzOTRjNzE0YzM0YWE3MWM2MzZkZTA3OTIwMyA9IEwuY2lyY2xlTWFya2VyKAogICAgICAgICAgICAgICAgWzMwLjMwNDQxMTcsLTk3LjczMDQ0ODVdLAogICAgICAgICAgICAgICAgewogICJidWJibGluZ01vdXNlRXZlbnRzIjogdHJ1ZSwKICAiY29sb3IiOiAicHVycGxlIiwKICAiZGFzaEFycmF5IjogbnVsbCwKICAiZGFzaE9mZnNldCI6IG51bGwsCiAgImZpbGwiOiB0cnVlLAogICJmaWxsQ29sb3IiOiAiIzMxODZjYyIsCiAgImZpbGxPcGFjaXR5IjogMC42LAogICJmaWxsUnVsZSI6ICJldmVub2RkIiwKICAibGluZUNhcCI6ICJyb3VuZCIsCiAgImxpbmVKb2luIjogInJvdW5kIiwKICAib3BhY2l0eSI6IDEuMCwKICAicmFkaXVzIjogNSwKICAic3Ryb2tlIjogdHJ1ZSwKICAid2VpZ2h0IjogMwp9CiAgICAgICAgICAgICAgICApLmFkZFRvKG1hcF8wN2FiNGQxNGIwN2Y0MzEzODk4MTlkYzAxMmEyZjhiMik7CiAgICAgICAgICAgIAogICAgCiAgICAgICAgICAgIHZhciBwb3B1cF9lMDU1OGUwNWViYWY0MzVmYjA5MzZkZTk1NmU5MDZhMyA9IEwucG9wdXAoe21heFdpZHRoOiAnMzAwJ30pOwoKICAgICAgICAgICAgCiAgICAgICAgICAgICAgICB2YXIgaHRtbF82MjU5MzFlYWViMmU0Yzc3YTMzYWI5ZjVkMjhiMGYxZSA9ICQoJzxkaXYgaWQ9Imh0bWxfNjI1OTMxZWFlYjJlNGM3N2EzM2FiOWY1ZDI4YjBmMWUiIHN0eWxlPSJ3aWR0aDogMTAwLjAlOyBoZWlnaHQ6IDEwMC4wJTsiPkh5ZGUgUGFyazwvZGl2PicpWzBdOwogICAgICAgICAgICAgICAgcG9wdXBfZTA1NThlMDVlYmFmNDM1ZmIwOTM2ZGU5NTZlOTA2YTMuc2V0Q29udGVudChodG1sXzYyNTkzMWVhZWIyZTRjNzdhMzNhYjlmNWQyOGIwZjFlKTsKICAgICAgICAgICAgCgogICAgICAgICAgICBjaXJjbGVfbWFya2VyX2EzZmE4ZjM5NGM3MTRjMzRhYTcxYzYzNmRlMDc5MjAzLmJpbmRQb3B1cChwb3B1cF9lMDU1OGUwNWViYWY0MzVmYjA5MzZkZTk1NmU5MDZhMyk7CgogICAgICAgICAgICAKICAgICAgICAKICAgIAogICAgICAgICAgICB2YXIgY2lyY2xlX21hcmtlcl81ZDFjZDIwOWEyYzA0ODExYTk4MTAzNjE4OTE4ODI1NCA9IEwuY2lyY2xlTWFya2VyKAogICAgICAgICAgICAgICAgWzMwLjI5NjUyNDIsLTk3LjcwMDIwMzJdLAogICAgICAgICAgICAgICAgewogICJidWJibGluZ01vdXNlRXZlbnRzIjogdHJ1ZSwKICAiY29sb3IiOiAicHVycGxlIiwKICAiZGFzaEFycmF5IjogbnVsbCwKICAiZGFzaE9mZnNldCI6IG51bGwsCiAgImZpbGwiOiB0cnVlLAogICJmaWxsQ29sb3IiOiAiIzMxODZjYyIsCiAgImZpbGxPcGFjaXR5IjogMC42LAogICJmaWxsUnVsZSI6ICJldmVub2RkIiwKICAibGluZUNhcCI6ICJyb3VuZCIsCiAgImxpbmVKb2luIjogInJvdW5kIiwKICAib3BhY2l0eSI6IDEuMCwKICAicmFkaXVzIjogNSwKICAic3Ryb2tlIjogdHJ1ZSwKICAid2VpZ2h0IjogMwp9CiAgICAgICAgICAgICAgICApLmFkZFRvKG1hcF8wN2FiNGQxNGIwN2Y0MzEzODk4MTlkYzAxMmEyZjhiMik7CiAgICAgICAgICAgIAogICAgCiAgICAgICAgICAgIHZhciBwb3B1cF9hNGM1Zjg5MThlNWU0ZWIxYTVjNWFjYzBiYzVjZDBlYSA9IEwucG9wdXAoe21heFdpZHRoOiAnMzAwJ30pOwoKICAgICAgICAgICAgCiAgICAgICAgICAgICAgICB2YXIgaHRtbF82MDVmOTkyMjc3ODQ0NmQ2YmZlNTBjZjc4NzJlNTNhNCA9ICQoJzxkaXYgaWQ9Imh0bWxfNjA1Zjk5MjI3Nzg0NDZkNmJmZTUwY2Y3ODcyZTUzYTQiIHN0eWxlPSJ3aWR0aDogMTAwLjAlOyBoZWlnaHQ6IDEwMC4wJTsiPk11ZWxsZXI8L2Rpdj4nKVswXTsKICAgICAgICAgICAgICAgIHBvcHVwX2E0YzVmODkxOGU1ZTRlYjFhNWM1YWNjMGJjNWNkMGVhLnNldENvbnRlbnQoaHRtbF82MDVmOTkyMjc3ODQ0NmQ2YmZlNTBjZjc4NzJlNTNhNCk7CiAgICAgICAgICAgIAoKICAgICAgICAgICAgY2lyY2xlX21hcmtlcl81ZDFjZDIwOWEyYzA0ODExYTk4MTAzNjE4OTE4ODI1NC5iaW5kUG9wdXAocG9wdXBfYTRjNWY4OTE4ZTVlNGViMWE1YzVhY2MwYmM1Y2QwZWEpOwoKICAgICAgICAgICAgCiAgICAgICAgCiAgICAKICAgICAgICAgICAgdmFyIGNpcmNsZV9tYXJrZXJfZmVjYzYxOTNlYzgzNDI0NGIzOWUyZGVjYmJmOGRlZTUgPSBMLmNpcmNsZU1hcmtlcigKICAgICAgICAgICAgICAgIFszMC40MDUxMzM0LC05Ny43MTU5NjUxXSwKICAgICAgICAgICAgICAgIHsKICAiYnViYmxpbmdNb3VzZUV2ZW50cyI6IHRydWUsCiAgImNvbG9yIjogInB1cnBsZSIsCiAgImRhc2hBcnJheSI6IG51bGwsCiAgImRhc2hPZmZzZXQiOiBudWxsLAogICJmaWxsIjogdHJ1ZSwKICAiZmlsbENvbG9yIjogIiMzMTg2Y2MiLAogICJmaWxsT3BhY2l0eSI6IDAuNiwKICAiZmlsbFJ1bGUiOiAiZXZlbm9kZCIsCiAgImxpbmVDYXAiOiAicm91bmQiLAogICJsaW5lSm9pbiI6ICJyb3VuZCIsCiAgIm9wYWNpdHkiOiAxLjAsCiAgInJhZGl1cyI6IDUsCiAgInN0cm9rZSI6IHRydWUsCiAgIndlaWdodCI6IDMKfQogICAgICAgICAgICAgICAgKS5hZGRUbyhtYXBfMDdhYjRkMTRiMDdmNDMxMzg5ODE5ZGMwMTJhMmY4YjIpOwogICAgICAgICAgICAKICAgIAogICAgICAgICAgICB2YXIgcG9wdXBfM2Q1ZDk5ZTE3OTExNDM2YzlkM2ViOTVjM2U2NzgzZWUgPSBMLnBvcHVwKHttYXhXaWR0aDogJzMwMCd9KTsKCiAgICAgICAgICAgIAogICAgICAgICAgICAgICAgdmFyIGh0bWxfNjY0MjU2YzAzMjRmNGQzNmI4NjkyNmJhOThjYzk1MDIgPSAkKCc8ZGl2IGlkPSJodG1sXzY2NDI1NmMwMzI0ZjRkMzZiODY5MjZiYTk4Y2M5NTAyIiBzdHlsZT0id2lkdGg6IDEwMC4wJTsgaGVpZ2h0OiAxMDAuMCU7Ij5Ob3J0aCBCdXJuZXQ8L2Rpdj4nKVswXTsKICAgICAgICAgICAgICAgIHBvcHVwXzNkNWQ5OWUxNzkxMTQzNmM5ZDNlYjk1YzNlNjc4M2VlLnNldENvbnRlbnQoaHRtbF82NjQyNTZjMDMyNGY0ZDM2Yjg2OTI2YmE5OGNjOTUwMik7CiAgICAgICAgICAgIAoKICAgICAgICAgICAgY2lyY2xlX21hcmtlcl9mZWNjNjE5M2VjODM0MjQ0YjM5ZTJkZWNiYmY4ZGVlNS5iaW5kUG9wdXAocG9wdXBfM2Q1ZDk5ZTE3OTExNDM2YzlkM2ViOTVjM2U2NzgzZWUpOwoKICAgICAgICAgICAgCiAgICAgICAgCiAgICAKICAgICAgICAgICAgdmFyIGNpcmNsZV9tYXJrZXJfMzQyZTIyYzY5NWFjNDQ0ZGFlNGQwMzIxOGM1ZTYwYzggPSBMLmNpcmNsZU1hcmtlcigKICAgICAgICAgICAgICAgIFszMC4zNjQ2ODksLTk3LjczNTAyMzhdLAogICAgICAgICAgICAgICAgewogICJidWJibGluZ01vdXNlRXZlbnRzIjogdHJ1ZSwKICAiY29sb3IiOiAicHVycGxlIiwKICAiZGFzaEFycmF5IjogbnVsbCwKICAiZGFzaE9mZnNldCI6IG51bGwsCiAgImZpbGwiOiB0cnVlLAogICJmaWxsQ29sb3IiOiAiIzMxODZjYyIsCiAgImZpbGxPcGFjaXR5IjogMC42LAogICJmaWxsUnVsZSI6ICJldmVub2RkIiwKICAibGluZUNhcCI6ICJyb3VuZCIsCiAgImxpbmVKb2luIjogInJvdW5kIiwKICAib3BhY2l0eSI6IDEuMCwKICAicmFkaXVzIjogNSwKICAic3Ryb2tlIjogdHJ1ZSwKICAid2VpZ2h0IjogMwp9CiAgICAgICAgICAgICAgICApLmFkZFRvKG1hcF8wN2FiNGQxNGIwN2Y0MzEzODk4MTlkYzAxMmEyZjhiMik7CiAgICAgICAgICAgIAogICAgCiAgICAgICAgICAgIHZhciBwb3B1cF9kMjgwMGFhMDkyNDM0YWRjOGQ5YTU3ZTBiZGFlZDlhZSA9IEwucG9wdXAoe21heFdpZHRoOiAnMzAwJ30pOwoKICAgICAgICAgICAgCiAgICAgICAgICAgICAgICB2YXIgaHRtbF81YTAzZjYyMTQ0ZjE0MmFhYjZkNGFhNDhlMWJkZTlhZCA9ICQoJzxkaXYgaWQ9Imh0bWxfNWEwM2Y2MjE0NGYxNDJhYWI2ZDRhYTQ4ZTFiZGU5YWQiIHN0eWxlPSJ3aWR0aDogMTAwLjAlOyBoZWlnaHQ6IDEwMC4wJTsiPk5vcnRoIFNob2FsIENyZWVrPC9kaXY+JylbMF07CiAgICAgICAgICAgICAgICBwb3B1cF9kMjgwMGFhMDkyNDM0YWRjOGQ5YTU3ZTBiZGFlZDlhZS5zZXRDb250ZW50KGh0bWxfNWEwM2Y2MjE0NGYxNDJhYWI2ZDRhYTQ4ZTFiZGU5YWQpOwogICAgICAgICAgICAKCiAgICAgICAgICAgIGNpcmNsZV9tYXJrZXJfMzQyZTIyYzY5NWFjNDQ0ZGFlNGQwMzIxOGM1ZTYwYzguYmluZFBvcHVwKHBvcHVwX2QyODAwYWEwOTI0MzRhZGM4ZDlhNTdlMGJkYWVkOWFlKTsKCiAgICAgICAgICAgIAogICAgICAgIAogICAgCiAgICAgICAgICAgIHZhciBjaXJjbGVfbWFya2VyX2JiZWNkMDQ0ZDRiOTQ1NDdhNzMzZTQyNDI1ZGYzYTU1ID0gTC5jaXJjbGVNYXJrZXIoCiAgICAgICAgICAgICAgICBbMzAuMjMxNDMxLC05Ny44NjUzMTRdLAogICAgICAgICAgICAgICAgewogICJidWJibGluZ01vdXNlRXZlbnRzIjogdHJ1ZSwKICAiY29sb3IiOiAicHVycGxlIiwKICAiZGFzaEFycmF5IjogbnVsbCwKICAiZGFzaE9mZnNldCI6IG51bGwsCiAgImZpbGwiOiB0cnVlLAogICJmaWxsQ29sb3IiOiAiIzMxODZjYyIsCiAgImZpbGxPcGFjaXR5IjogMC42LAogICJmaWxsUnVsZSI6ICJldmVub2RkIiwKICAibGluZUNhcCI6ICJyb3VuZCIsCiAgImxpbmVKb2luIjogInJvdW5kIiwKICAib3BhY2l0eSI6IDEuMCwKICAicmFkaXVzIjogNSwKICAic3Ryb2tlIjogdHJ1ZSwKICAid2VpZ2h0IjogMwp9CiAgICAgICAgICAgICAgICApLmFkZFRvKG1hcF8wN2FiNGQxNGIwN2Y0MzEzODk4MTlkYzAxMmEyZjhiMik7CiAgICAgICAgICAgIAogICAgCiAgICAgICAgICAgIHZhciBwb3B1cF8wZTAwODI1YmI0Mjc0NzdmOGQ3YTdmNmJlOTRhOGZlNiA9IEwucG9wdXAoe21heFdpZHRoOiAnMzAwJ30pOwoKICAgICAgICAgICAgCiAgICAgICAgICAgICAgICB2YXIgaHRtbF82OThiMDYxYmRiODk0OTQ4OTg3ZTY0ZWNlYmVlNDRhZSA9ICQoJzxkaXYgaWQ9Imh0bWxfNjk4YjA2MWJkYjg5NDk0ODk4N2U2NGVjZWJlZTQ0YWUiIHN0eWxlPSJ3aWR0aDogMTAwLjAlOyBoZWlnaHQ6IDEwMC4wJTsiPk9hayBIaWxsPC9kaXY+JylbMF07CiAgICAgICAgICAgICAgICBwb3B1cF8wZTAwODI1YmI0Mjc0NzdmOGQ3YTdmNmJlOTRhOGZlNi5zZXRDb250ZW50KGh0bWxfNjk4YjA2MWJkYjg5NDk0ODk4N2U2NGVjZWJlZTQ0YWUpOwogICAgICAgICAgICAKCiAgICAgICAgICAgIGNpcmNsZV9tYXJrZXJfYmJlY2QwNDRkNGI5NDU0N2E3MzNlNDI0MjVkZjNhNTUuYmluZFBvcHVwKHBvcHVwXzBlMDA4MjViYjQyNzQ3N2Y4ZDdhN2Y2YmU5NGE4ZmU2KTsKCiAgICAgICAgICAgIAogICAgICAgIAogICAgCiAgICAgICAgICAgIHZhciBjaXJjbGVfbWFya2VyX2QxMThhMzFiNTE0OTQ4NDk4Mjc2MDQ4ZDMwYzMyNjkyID0gTC5jaXJjbGVNYXJrZXIoCiAgICAgICAgICAgICAgICBbMzAuMjk2ODIyLC05Ny43NTQ4NTE0XSwKICAgICAgICAgICAgICAgIHsKICAiYnViYmxpbmdNb3VzZUV2ZW50cyI6IHRydWUsCiAgImNvbG9yIjogInB1cnBsZSIsCiAgImRhc2hBcnJheSI6IG51bGwsCiAgImRhc2hPZmZzZXQiOiBudWxsLAogICJmaWxsIjogdHJ1ZSwKICAiZmlsbENvbG9yIjogIiMzMTg2Y2MiLAogICJmaWxsT3BhY2l0eSI6IDAuNiwKICAiZmlsbFJ1bGUiOiAiZXZlbm9kZCIsCiAgImxpbmVDYXAiOiAicm91bmQiLAogICJsaW5lSm9pbiI6ICJyb3VuZCIsCiAgIm9wYWNpdHkiOiAxLjAsCiAgInJhZGl1cyI6IDUsCiAgInN0cm9rZSI6IHRydWUsCiAgIndlaWdodCI6IDMKfQogICAgICAgICAgICAgICAgKS5hZGRUbyhtYXBfMDdhYjRkMTRiMDdmNDMxMzg5ODE5ZGMwMTJhMmY4YjIpOwogICAgICAgICAgICAKICAgIAogICAgICAgICAgICB2YXIgcG9wdXBfYjdlOTNmN2VlNmM0NDJlMzliMGQ2ZDBkNzU1MWY1YmMgPSBMLnBvcHVwKHttYXhXaWR0aDogJzMwMCd9KTsKCiAgICAgICAgICAgIAogICAgICAgICAgICAgICAgdmFyIGh0bWxfMWQxNWNkNTA4MzY4NDlkMjhlMTIzYzU4NzliNzBmY2MgPSAkKCc8ZGl2IGlkPSJodG1sXzFkMTVjZDUwODM2ODQ5ZDI4ZTEyM2M1ODc5YjcwZmNjIiBzdHlsZT0id2lkdGg6IDEwMC4wJTsgaGVpZ2h0OiAxMDAuMCU7Ij5PbGQgV2VzdCBBdXN0aW48L2Rpdj4nKVswXTsKICAgICAgICAgICAgICAgIHBvcHVwX2I3ZTkzZjdlZTZjNDQyZTM5YjBkNmQwZDc1NTFmNWJjLnNldENvbnRlbnQoaHRtbF8xZDE1Y2Q1MDgzNjg0OWQyOGUxMjNjNTg3OWI3MGZjYyk7CiAgICAgICAgICAgIAoKICAgICAgICAgICAgY2lyY2xlX21hcmtlcl9kMTE4YTMxYjUxNDk0ODQ5ODI3NjA0OGQzMGMzMjY5Mi5iaW5kUG9wdXAocG9wdXBfYjdlOTNmN2VlNmM0NDJlMzliMGQ2ZDBkNzU1MWY1YmMpOwoKICAgICAgICAgICAgCiAgICAgICAgCiAgICAKICAgICAgICAgICAgdmFyIGNpcmNsZV9tYXJrZXJfMDk1NTUxMTI4ZTU5NDVhOWEyMmVhNzViZDdlMGVhNzkgPSBMLmNpcmNsZU1hcmtlcigKICAgICAgICAgICAgICAgIFszMC4xNDAwNTYsLTk3Ljc4MTgwM10sCiAgICAgICAgICAgICAgICB7CiAgImJ1YmJsaW5nTW91c2VFdmVudHMiOiB0cnVlLAogICJjb2xvciI6ICJwdXJwbGUiLAogICJkYXNoQXJyYXkiOiBudWxsLAogICJkYXNoT2Zmc2V0IjogbnVsbCwKICAiZmlsbCI6IHRydWUsCiAgImZpbGxDb2xvciI6ICIjMzE4NmNjIiwKICAiZmlsbE9wYWNpdHkiOiAwLjYsCiAgImZpbGxSdWxlIjogImV2ZW5vZGQiLAogICJsaW5lQ2FwIjogInJvdW5kIiwKICAibGluZUpvaW4iOiAicm91bmQiLAogICJvcGFjaXR5IjogMS4wLAogICJyYWRpdXMiOiA1LAogICJzdHJva2UiOiB0cnVlLAogICJ3ZWlnaHQiOiAzCn0KICAgICAgICAgICAgICAgICkuYWRkVG8obWFwXzA3YWI0ZDE0YjA3ZjQzMTM4OTgxOWRjMDEyYTJmOGIyKTsKICAgICAgICAgICAgCiAgICAKICAgICAgICAgICAgdmFyIHBvcHVwXzI1MjA1N2JlYTAzOTRlNTBhMGY1MGE5OWUwYzZjMmZmID0gTC5wb3B1cCh7bWF4V2lkdGg6ICczMDAnfSk7CgogICAgICAgICAgICAKICAgICAgICAgICAgICAgIHZhciBodG1sX2YyYjY5MmI4ZGE3MDQ1YzJiYWM1MDc0N2FjOTJmMThmID0gJCgnPGRpdiBpZD0iaHRtbF9mMmI2OTJiOGRhNzA0NWMyYmFjNTA3NDdhYzkyZjE4ZiIgc3R5bGU9IndpZHRoOiAxMDAuMCU7IGhlaWdodDogMTAwLjAlOyI+T25pb24gQ3JlZWs8L2Rpdj4nKVswXTsKICAgICAgICAgICAgICAgIHBvcHVwXzI1MjA1N2JlYTAzOTRlNTBhMGY1MGE5OWUwYzZjMmZmLnNldENvbnRlbnQoaHRtbF9mMmI2OTJiOGRhNzA0NWMyYmFjNTA3NDdhYzkyZjE4Zik7CiAgICAgICAgICAgIAoKICAgICAgICAgICAgY2lyY2xlX21hcmtlcl8wOTU1NTExMjhlNTk0NWE5YTIyZWE3NWJkN2UwZWE3OS5iaW5kUG9wdXAocG9wdXBfMjUyMDU3YmVhMDM5NGU1MGEwZjUwYTk5ZTBjNmMyZmYpOwoKICAgICAgICAgICAgCiAgICAgICAgCiAgICAKICAgICAgICAgICAgdmFyIGNpcmNsZV9tYXJrZXJfZTdiYjA2YzFlYmFjNDcwZmFmMDI2YjlhYWY2OGU0MzUgPSBMLmNpcmNsZU1hcmtlcigKICAgICAgICAgICAgICAgIFszMC4zMTMzOTAxLC05Ny43NDQ4OTgyXSwKICAgICAgICAgICAgICAgIHsKICAiYnViYmxpbmdNb3VzZUV2ZW50cyI6IHRydWUsCiAgImNvbG9yIjogInB1cnBsZSIsCiAgImRhc2hBcnJheSI6IG51bGwsCiAgImRhc2hPZmZzZXQiOiBudWxsLAogICJmaWxsIjogdHJ1ZSwKICAiZmlsbENvbG9yIjogIiMzMTg2Y2MiLAogICJmaWxsT3BhY2l0eSI6IDAuNiwKICAiZmlsbFJ1bGUiOiAiZXZlbm9kZCIsCiAgImxpbmVDYXAiOiAicm91bmQiLAogICJsaW5lSm9pbiI6ICJyb3VuZCIsCiAgIm9wYWNpdHkiOiAxLjAsCiAgInJhZGl1cyI6IDUsCiAgInN0cm9rZSI6IHRydWUsCiAgIndlaWdodCI6IDMKfQogICAgICAgICAgICAgICAgKS5hZGRUbyhtYXBfMDdhYjRkMTRiMDdmNDMxMzg5ODE5ZGMwMTJhMmY4YjIpOwogICAgICAgICAgICAKICAgIAogICAgICAgICAgICB2YXIgcG9wdXBfMGMwY2QxYjZhYjgzNDg5NmIxNjg0YjE3NzRjNGYwNWYgPSBMLnBvcHVwKHttYXhXaWR0aDogJzMwMCd9KTsKCiAgICAgICAgICAgIAogICAgICAgICAgICAgICAgdmFyIGh0bWxfOWE4MjE3N2ZlMzc0NDlkYWI0NTAxYjgwMzgzNGNmZmQgPSAkKCc8ZGl2IGlkPSJodG1sXzlhODIxNzdmZTM3NDQ5ZGFiNDUwMWI4MDM4MzRjZmZkIiBzdHlsZT0id2lkdGg6IDEwMC4wJTsgaGVpZ2h0OiAxMDAuMCU7Ij5Sb3NlZGFsZTwvZGl2PicpWzBdOwogICAgICAgICAgICAgICAgcG9wdXBfMGMwY2QxYjZhYjgzNDg5NmIxNjg0YjE3NzRjNGYwNWYuc2V0Q29udGVudChodG1sXzlhODIxNzdmZTM3NDQ5ZGFiNDUwMWI4MDM4MzRjZmZkKTsKICAgICAgICAgICAgCgogICAgICAgICAgICBjaXJjbGVfbWFya2VyX2U3YmIwNmMxZWJhYzQ3MGZhZjAyNmI5YWFmNjhlNDM1LmJpbmRQb3B1cChwb3B1cF8wYzBjZDFiNmFiODM0ODk2YjE2ODRiMTc3NGM0ZjA1Zik7CgogICAgICAgICAgICAKICAgICAgICAKICAgIAogICAgICAgICAgICB2YXIgY2lyY2xlX21hcmtlcl8xZDRiMmU0OGUyMDk0YzFlYTg0ZWJlZWY1OGE1MWMxOCA9IEwuY2lyY2xlTWFya2VyKAogICAgICAgICAgICAgICAgWzMwLjIzODM0ODYsLTk3Ljg4ODQ2MjddLAogICAgICAgICAgICAgICAgewogICJidWJibGluZ01vdXNlRXZlbnRzIjogdHJ1ZSwKICAiY29sb3IiOiAicHVycGxlIiwKICAiZGFzaEFycmF5IjogbnVsbCwKICAiZGFzaE9mZnNldCI6IG51bGwsCiAgImZpbGwiOiB0cnVlLAogICJmaWxsQ29sb3IiOiAiIzMxODZjYyIsCiAgImZpbGxPcGFjaXR5IjogMC42LAogICJmaWxsUnVsZSI6ICJldmVub2RkIiwKICAibGluZUNhcCI6ICJyb3VuZCIsCiAgImxpbmVKb2luIjogInJvdW5kIiwKICAib3BhY2l0eSI6IDEuMCwKICAicmFkaXVzIjogNSwKICAic3Ryb2tlIjogdHJ1ZSwKICAid2VpZ2h0IjogMwp9CiAgICAgICAgICAgICAgICApLmFkZFRvKG1hcF8wN2FiNGQxNGIwN2Y0MzEzODk4MTlkYzAxMmEyZjhiMik7CiAgICAgICAgICAgIAogICAgCiAgICAgICAgICAgIHZhciBwb3B1cF85MmI0OGJhNWZjNjM0NzM5OTRjNDNhZmU5Mzc1NzJiNCA9IEwucG9wdXAoe21heFdpZHRoOiAnMzAwJ30pOwoKICAgICAgICAgICAgCiAgICAgICAgICAgICAgICB2YXIgaHRtbF80NmQ5MjU3NTBlYWY0NTFlYjI4MDE0Mjk1ZmExYTZjYyA9ICQoJzxkaXYgaWQ9Imh0bWxfNDZkOTI1NzUwZWFmNDUxZWIyODAxNDI5NWZhMWE2Y2MiIHN0eWxlPSJ3aWR0aDogMTAwLjAlOyBoZWlnaHQ6IDEwMC4wJTsiPlNjZW5pYyBCcm9vazwvZGl2PicpWzBdOwogICAgICAgICAgICAgICAgcG9wdXBfOTJiNDhiYTVmYzYzNDczOTk0YzQzYWZlOTM3NTcyYjQuc2V0Q29udGVudChodG1sXzQ2ZDkyNTc1MGVhZjQ1MWViMjgwMTQyOTVmYTFhNmNjKTsKICAgICAgICAgICAgCgogICAgICAgICAgICBjaXJjbGVfbWFya2VyXzFkNGIyZTQ4ZTIwOTRjMWVhODRlYmVlZjU4YTUxYzE4LmJpbmRQb3B1cChwb3B1cF85MmI0OGJhNWZjNjM0NzM5OTRjNDNhZmU5Mzc1NzJiNCk7CgogICAgICAgICAgICAKICAgICAgICAKICAgIAogICAgICAgICAgICB2YXIgY2lyY2xlX21hcmtlcl81OTI4MzA0NTMzZWY0YTVkYTIxOTY2ODdmZTRjODFlNiA9IEwuY2lyY2xlTWFya2VyKAogICAgICAgICAgICAgICAgWzMwLjIzODUyMDgsLTk3Ljc1MDQ2MDJdLAogICAgICAgICAgICAgICAgewogICJidWJibGluZ01vdXNlRXZlbnRzIjogdHJ1ZSwKICAiY29sb3IiOiAicHVycGxlIiwKICAiZGFzaEFycmF5IjogbnVsbCwKICAiZGFzaE9mZnNldCI6IG51bGwsCiAgImZpbGwiOiB0cnVlLAogICJmaWxsQ29sb3IiOiAiIzMxODZjYyIsCiAgImZpbGxPcGFjaXR5IjogMC42LAogICJmaWxsUnVsZSI6ICJldmVub2RkIiwKICAibGluZUNhcCI6ICJyb3VuZCIsCiAgImxpbmVKb2luIjogInJvdW5kIiwKICAib3BhY2l0eSI6IDEuMCwKICAicmFkaXVzIjogNSwKICAic3Ryb2tlIjogdHJ1ZSwKICAid2VpZ2h0IjogMwp9CiAgICAgICAgICAgICAgICApLmFkZFRvKG1hcF8wN2FiNGQxNGIwN2Y0MzEzODk4MTlkYzAxMmEyZjhiMik7CiAgICAgICAgICAgIAogICAgCiAgICAgICAgICAgIHZhciBwb3B1cF8yYjY1ZTliYWI4YWQ0NTEwYmVhMzc4NDIxNWRhNDAxYSA9IEwucG9wdXAoe21heFdpZHRoOiAnMzAwJ30pOwoKICAgICAgICAgICAgCiAgICAgICAgICAgICAgICB2YXIgaHRtbF9iN2UwMGRiZGI1NDA0ZGQyODE0YzZmZmJhOTQyYmVhNyA9ICQoJzxkaXYgaWQ9Imh0bWxfYjdlMDBkYmRiNTQwNGRkMjgxNGM2ZmZiYTk0MmJlYTciIHN0eWxlPSJ3aWR0aDogMTAwLjAlOyBoZWlnaHQ6IDEwMC4wJTsiPlNvdXRoIENvbmdyZXNzPC9kaXY+JylbMF07CiAgICAgICAgICAgICAgICBwb3B1cF8yYjY1ZTliYWI4YWQ0NTEwYmVhMzc4NDIxNWRhNDAxYS5zZXRDb250ZW50KGh0bWxfYjdlMDBkYmRiNTQwNGRkMjgxNGM2ZmZiYTk0MmJlYTcpOwogICAgICAgICAgICAKCiAgICAgICAgICAgIGNpcmNsZV9tYXJrZXJfNTkyODMwNDUzM2VmNGE1ZGEyMTk2Njg3ZmU0YzgxZTYuYmluZFBvcHVwKHBvcHVwXzJiNjVlOWJhYjhhZDQ1MTBiZWEzNzg0MjE1ZGE0MDFhKTsKCiAgICAgICAgICAgIAogICAgICAgIAogICAgCiAgICAgICAgICAgIHZhciBjaXJjbGVfbWFya2VyX2U4ZjkwOTA0MmIwOTQyMjM5MTFjNjk5YWQzNzI1MGVhID0gTC5jaXJjbGVNYXJrZXIoCiAgICAgICAgICAgICAgICBbMzAuMjM2Mzg4OSwtOTcuNzgyNjQ2N10sCiAgICAgICAgICAgICAgICB7CiAgImJ1YmJsaW5nTW91c2VFdmVudHMiOiB0cnVlLAogICJjb2xvciI6ICJwdXJwbGUiLAogICJkYXNoQXJyYXkiOiBudWxsLAogICJkYXNoT2Zmc2V0IjogbnVsbCwKICAiZmlsbCI6IHRydWUsCiAgImZpbGxDb2xvciI6ICIjMzE4NmNjIiwKICAiZmlsbE9wYWNpdHkiOiAwLjYsCiAgImZpbGxSdWxlIjogImV2ZW5vZGQiLAogICJsaW5lQ2FwIjogInJvdW5kIiwKICAibGluZUpvaW4iOiAicm91bmQiLAogICJvcGFjaXR5IjogMS4wLAogICJyYWRpdXMiOiA1LAogICJzdHJva2UiOiB0cnVlLAogICJ3ZWlnaHQiOiAzCn0KICAgICAgICAgICAgICAgICkuYWRkVG8obWFwXzA3YWI0ZDE0YjA3ZjQzMTM4OTgxOWRjMDEyYTJmOGIyKTsKICAgICAgICAgICAgCiAgICAKICAgICAgICAgICAgdmFyIHBvcHVwXzViN2U4NWZmYTVhZTQyNDI4ZThiMzkwZmRkNzE5YjM5ID0gTC5wb3B1cCh7bWF4V2lkdGg6ICczMDAnfSk7CgogICAgICAgICAgICAKICAgICAgICAgICAgICAgIHZhciBodG1sXzhjNzFkNTA1NzM2YzRiZGJhNDNkNDc1OGE3N2Q0NjAxID0gJCgnPGRpdiBpZD0iaHRtbF84YzcxZDUwNTczNmM0YmRiYTQzZDQ3NThhNzdkNDYwMSIgc3R5bGU9IndpZHRoOiAxMDAuMCU7IGhlaWdodDogMTAwLjAlOyI+U291dGggTGFtYXI8L2Rpdj4nKVswXTsKICAgICAgICAgICAgICAgIHBvcHVwXzViN2U4NWZmYTVhZTQyNDI4ZThiMzkwZmRkNzE5YjM5LnNldENvbnRlbnQoaHRtbF84YzcxZDUwNTczNmM0YmRiYTQzZDQ3NThhNzdkNDYwMSk7CiAgICAgICAgICAgIAoKICAgICAgICAgICAgY2lyY2xlX21hcmtlcl9lOGY5MDkwNDJiMDk0MjIzOTExYzY5OWFkMzcyNTBlYS5iaW5kUG9wdXAocG9wdXBfNWI3ZTg1ZmZhNWFlNDI0MjhlOGIzOTBmZGQ3MTliMzkpOwoKICAgICAgICAgICAgCiAgICAgICAgCiAgICAKICAgICAgICAgICAgdmFyIGNpcmNsZV9tYXJrZXJfNjBkOGQ5MzBlMzY5NDQxOGIxYjMzMjRlMDcxYWE4YWEgPSBMLmNpcmNsZU1hcmtlcigKICAgICAgICAgICAgICAgIFszMC4yNDk0NDI3LC05Ny43NDU1NTc2XSwKICAgICAgICAgICAgICAgIHsKICAiYnViYmxpbmdNb3VzZUV2ZW50cyI6IHRydWUsCiAgImNvbG9yIjogInB1cnBsZSIsCiAgImRhc2hBcnJheSI6IG51bGwsCiAgImRhc2hPZmZzZXQiOiBudWxsLAogICJmaWxsIjogdHJ1ZSwKICAiZmlsbENvbG9yIjogIiMzMTg2Y2MiLAogICJmaWxsT3BhY2l0eSI6IDAuNiwKICAiZmlsbFJ1bGUiOiAiZXZlbm9kZCIsCiAgImxpbmVDYXAiOiAicm91bmQiLAogICJsaW5lSm9pbiI6ICJyb3VuZCIsCiAgIm9wYWNpdHkiOiAxLjAsCiAgInJhZGl1cyI6IDUsCiAgInN0cm9rZSI6IHRydWUsCiAgIndlaWdodCI6IDMKfQogICAgICAgICAgICAgICAgKS5hZGRUbyhtYXBfMDdhYjRkMTRiMDdmNDMxMzg5ODE5ZGMwMTJhMmY4YjIpOwogICAgICAgICAgICAKICAgIAogICAgICAgICAgICB2YXIgcG9wdXBfNDkwNDMzMDJjN2I5NDM4NWExYWIwOWNjODk1ZThkNDYgPSBMLnBvcHVwKHttYXhXaWR0aDogJzMwMCd9KTsKCiAgICAgICAgICAgIAogICAgICAgICAgICAgICAgdmFyIGh0bWxfZWI3OTdmNDYwNTVjNDEyYjhjOWUwY2EzYzc2Mzg5ZDQgPSAkKCc8ZGl2IGlkPSJodG1sX2ViNzk3ZjQ2MDU1YzQxMmI4YzllMGNhM2M3NjM4OWQ0IiBzdHlsZT0id2lkdGg6IDEwMC4wJTsgaGVpZ2h0OiAxMDAuMCU7Ij5Tb3V0aCBSaXZlciBDaXR5PC9kaXY+JylbMF07CiAgICAgICAgICAgICAgICBwb3B1cF80OTA0MzMwMmM3Yjk0Mzg1YTFhYjA5Y2M4OTVlOGQ0Ni5zZXRDb250ZW50KGh0bWxfZWI3OTdmNDYwNTVjNDEyYjhjOWUwY2EzYzc2Mzg5ZDQpOwogICAgICAgICAgICAKCiAgICAgICAgICAgIGNpcmNsZV9tYXJrZXJfNjBkOGQ5MzBlMzY5NDQxOGIxYjMzMjRlMDcxYWE4YWEuYmluZFBvcHVwKHBvcHVwXzQ5MDQzMzAyYzdiOTQzODVhMWFiMDljYzg5NWU4ZDQ2KTsKCiAgICAgICAgICAgIAogICAgICAgIAogICAgCiAgICAgICAgICAgIHZhciBjaXJjbGVfbWFya2VyXzlhZTVkZGU2MDI5NjQ3ZTI5YWViM2EyM2EwZDhlMjYwID0gTC5jaXJjbGVNYXJrZXIoCiAgICAgICAgICAgICAgICBbMzAuMzAzMTI0OSwtOTcuNzcwNDg0OF0sCiAgICAgICAgICAgICAgICB7CiAgImJ1YmJsaW5nTW91c2VFdmVudHMiOiB0cnVlLAogICJjb2xvciI6ICJwdXJwbGUiLAogICJkYXNoQXJyYXkiOiBudWxsLAogICJkYXNoT2Zmc2V0IjogbnVsbCwKICAiZmlsbCI6IHRydWUsCiAgImZpbGxDb2xvciI6ICIjMzE4NmNjIiwKICAiZmlsbE9wYWNpdHkiOiAwLjYsCiAgImZpbGxSdWxlIjogImV2ZW5vZGQiLAogICJsaW5lQ2FwIjogInJvdW5kIiwKICAibGluZUpvaW4iOiAicm91bmQiLAogICJvcGFjaXR5IjogMS4wLAogICJyYWRpdXMiOiA1LAogICJzdHJva2UiOiB0cnVlLAogICJ3ZWlnaHQiOiAzCn0KICAgICAgICAgICAgICAgICkuYWRkVG8obWFwXzA3YWI0ZDE0YjA3ZjQzMTM4OTgxOWRjMDEyYTJmOGIyKTsKICAgICAgICAgICAgCiAgICAKICAgICAgICAgICAgdmFyIHBvcHVwXzA5ZDAwZmFkZmNjNDQ5ZWI4NTJlODBhOTdmOGMxOGEzID0gTC5wb3B1cCh7bWF4V2lkdGg6ICczMDAnfSk7CgogICAgICAgICAgICAKICAgICAgICAgICAgICAgIHZhciBodG1sXzA1ZTQ1NGU5ZTExODQ0ZTY4ZTk0MzU3NTA2MTdmMTJiID0gJCgnPGRpdiBpZD0iaHRtbF8wNWU0NTRlOWUxMTg0NGU2OGU5NDM1NzUwNjE3ZjEyYiIgc3R5bGU9IndpZHRoOiAxMDAuMCU7IGhlaWdodDogMTAwLjAlOyI+VGFycnl0b3duPC9kaXY+JylbMF07CiAgICAgICAgICAgICAgICBwb3B1cF8wOWQwMGZhZGZjYzQ0OWViODUyZTgwYTk3ZjhjMThhMy5zZXRDb250ZW50KGh0bWxfMDVlNDU0ZTllMTE4NDRlNjhlOTQzNTc1MDYxN2YxMmIpOwogICAgICAgICAgICAKCiAgICAgICAgICAgIGNpcmNsZV9tYXJrZXJfOWFlNWRkZTYwMjk2NDdlMjlhZWIzYTIzYTBkOGUyNjAuYmluZFBvcHVwKHBvcHVwXzA5ZDAwZmFkZmNjNDQ5ZWI4NTJlODBhOTdmOGMxOGEzKTsKCiAgICAgICAgICAgIAogICAgICAgIAogICAgCiAgICAgICAgICAgIHZhciBjaXJjbGVfbWFya2VyX2M5YTA2YTdhMGVmMDQ2MzI5YmJhODZiZGUyODE1OTgwID0gTC5jaXJjbGVNYXJrZXIoCiAgICAgICAgICAgICAgICBbMzAuMjQ0NDc0NCwtOTcuNzQzOTk5NV0sCiAgICAgICAgICAgICAgICB7CiAgImJ1YmJsaW5nTW91c2VFdmVudHMiOiB0cnVlLAogICJjb2xvciI6ICJwdXJwbGUiLAogICJkYXNoQXJyYXkiOiBudWxsLAogICJkYXNoT2Zmc2V0IjogbnVsbCwKICAiZmlsbCI6IHRydWUsCiAgImZpbGxDb2xvciI6ICIjMzE4NmNjIiwKICAiZmlsbE9wYWNpdHkiOiAwLjYsCiAgImZpbGxSdWxlIjogImV2ZW5vZGQiLAogICJsaW5lQ2FwIjogInJvdW5kIiwKICAibGluZUpvaW4iOiAicm91bmQiLAogICJvcGFjaXR5IjogMS4wLAogICJyYWRpdXMiOiA1LAogICJzdHJva2UiOiB0cnVlLAogICJ3ZWlnaHQiOiAzCn0KICAgICAgICAgICAgICAgICkuYWRkVG8obWFwXzA3YWI0ZDE0YjA3ZjQzMTM4OTgxOWRjMDEyYTJmOGIyKTsKICAgICAgICAgICAgCiAgICAKICAgICAgICAgICAgdmFyIHBvcHVwX2VhZmQ4OTEyMTRmMDRhNDU5MjQ0NzJjNjRmMDBmZGJmID0gTC5wb3B1cCh7bWF4V2lkdGg6ICczMDAnfSk7CgogICAgICAgICAgICAKICAgICAgICAgICAgICAgIHZhciBodG1sX2ZjZWIxNTE1MTk3ZTRlZTNiMGQ3MjBjMjJmODAxNTE1ID0gJCgnPGRpdiBpZD0iaHRtbF9mY2ViMTUxNTE5N2U0ZWUzYjBkNzIwYzIyZjgwMTUxNSIgc3R5bGU9IndpZHRoOiAxMDAuMCU7IGhlaWdodDogMTAwLjAlOyI+VHJhdmlzIEhlaWdodHM8L2Rpdj4nKVswXTsKICAgICAgICAgICAgICAgIHBvcHVwX2VhZmQ4OTEyMTRmMDRhNDU5MjQ0NzJjNjRmMDBmZGJmLnNldENvbnRlbnQoaHRtbF9mY2ViMTUxNTE5N2U0ZWUzYjBkNzIwYzIyZjgwMTUxNSk7CiAgICAgICAgICAgIAoKICAgICAgICAgICAgY2lyY2xlX21hcmtlcl9jOWEwNmE3YTBlZjA0NjMyOWJiYTg2YmRlMjgxNTk4MC5iaW5kUG9wdXAocG9wdXBfZWFmZDg5MTIxNGYwNGE0NTkyNDQ3MmM2NGYwMGZkYmYpOwoKICAgICAgICAgICAgCiAgICAgICAgCiAgICAKICAgICAgICAgICAgdmFyIGNpcmNsZV9tYXJrZXJfN2JmZTA3MDQ1YzE3NDZiMGJlOWQ5MDZlMjVlYTlkZmEgPSBMLmNpcmNsZU1hcmtlcigKICAgICAgICAgICAgICAgIFszMC4yOTAyMDc2LC05Ny43NDczODQxXSwKICAgICAgICAgICAgICAgIHsKICAiYnViYmxpbmdNb3VzZUV2ZW50cyI6IHRydWUsCiAgImNvbG9yIjogInB1cnBsZSIsCiAgImRhc2hBcnJheSI6IG51bGwsCiAgImRhc2hPZmZzZXQiOiBudWxsLAogICJmaWxsIjogdHJ1ZSwKICAiZmlsbENvbG9yIjogIiMzMTg2Y2MiLAogICJmaWxsT3BhY2l0eSI6IDAuNiwKICAiZmlsbFJ1bGUiOiAiZXZlbm9kZCIsCiAgImxpbmVDYXAiOiAicm91bmQiLAogICJsaW5lSm9pbiI6ICJyb3VuZCIsCiAgIm9wYWNpdHkiOiAxLjAsCiAgInJhZGl1cyI6IDUsCiAgInN0cm9rZSI6IHRydWUsCiAgIndlaWdodCI6IDMKfQogICAgICAgICAgICAgICAgKS5hZGRUbyhtYXBfMDdhYjRkMTRiMDdmNDMxMzg5ODE5ZGMwMTJhMmY4YjIpOwogICAgICAgICAgICAKICAgIAogICAgICAgICAgICB2YXIgcG9wdXBfNGU3NWQwMzg5MTRiNDg2ODkxYWZiZmNhYTRmZjYyNjEgPSBMLnBvcHVwKHttYXhXaWR0aDogJzMwMCd9KTsKCiAgICAgICAgICAgIAogICAgICAgICAgICAgICAgdmFyIGh0bWxfZmEwZmUyNzFiOGM5NGRkMDhkMTBlY2Q1NDI5ODdjMmIgPSAkKCc8ZGl2IGlkPSJodG1sX2ZhMGZlMjcxYjhjOTRkZDA4ZDEwZWNkNTQyOTg3YzJiIiBzdHlsZT0id2lkdGg6IDEwMC4wJTsgaGVpZ2h0OiAxMDAuMCU7Ij5XZXN0IENhbXB1czwvZGl2PicpWzBdOwogICAgICAgICAgICAgICAgcG9wdXBfNGU3NWQwMzg5MTRiNDg2ODkxYWZiZmNhYTRmZjYyNjEuc2V0Q29udGVudChodG1sX2ZhMGZlMjcxYjhjOTRkZDA4ZDEwZWNkNTQyOTg3YzJiKTsKICAgICAgICAgICAgCgogICAgICAgICAgICBjaXJjbGVfbWFya2VyXzdiZmUwNzA0NWMxNzQ2YjBiZTlkOTA2ZTI1ZWE5ZGZhLmJpbmRQb3B1cChwb3B1cF80ZTc1ZDAzODkxNGI0ODY4OTFhZmJmY2FhNGZmNjI2MSk7CgogICAgICAgICAgICAKICAgICAgICAKICAgIAogICAgICAgICAgICB2YXIgY2lyY2xlX21hcmtlcl8zNmQwODQyYjFiMjQ0MWJiYmI0NzQ3NzAwNmVkMjNmNiA9IEwuY2lyY2xlTWFya2VyKAogICAgICAgICAgICAgICAgWzMwLjIyMzIwOTksLTk3Ljc5NzA0MjldLAogICAgICAgICAgICAgICAgewogICJidWJibGluZ01vdXNlRXZlbnRzIjogdHJ1ZSwKICAiY29sb3IiOiAicHVycGxlIiwKICAiZGFzaEFycmF5IjogbnVsbCwKICAiZGFzaE9mZnNldCI6IG51bGwsCiAgImZpbGwiOiB0cnVlLAogICJmaWxsQ29sb3IiOiAiIzMxODZjYyIsCiAgImZpbGxPcGFjaXR5IjogMC42LAogICJmaWxsUnVsZSI6ICJldmVub2RkIiwKICAibGluZUNhcCI6ICJyb3VuZCIsCiAgImxpbmVKb2luIjogInJvdW5kIiwKICAib3BhY2l0eSI6IDEuMCwKICAicmFkaXVzIjogNSwKICAic3Ryb2tlIjogdHJ1ZSwKICAid2VpZ2h0IjogMwp9CiAgICAgICAgICAgICAgICApLmFkZFRvKG1hcF8wN2FiNGQxNGIwN2Y0MzEzODk4MTlkYzAxMmEyZjhiMik7CiAgICAgICAgICAgIAogICAgCiAgICAgICAgICAgIHZhciBwb3B1cF85MzFhMWY1MzI5NjA0YjhmODAxYWU4NmE3NzM2ZjJjZSA9IEwucG9wdXAoe21heFdpZHRoOiAnMzAwJ30pOwoKICAgICAgICAgICAgCiAgICAgICAgICAgICAgICB2YXIgaHRtbF81ZWZjMzZhMjMzNjM0ZTMzYjUyMWYwMzc3NjEyYmVhMCA9ICQoJzxkaXYgaWQ9Imh0bWxfNWVmYzM2YTIzMzYzNGUzM2I1MjFmMDM3NzYxMmJlYTAiIHN0eWxlPSJ3aWR0aDogMTAwLjAlOyBoZWlnaHQ6IDEwMC4wJTsiPldlc3RnYXRlPC9kaXY+JylbMF07CiAgICAgICAgICAgICAgICBwb3B1cF85MzFhMWY1MzI5NjA0YjhmODAxYWU4NmE3NzM2ZjJjZS5zZXRDb250ZW50KGh0bWxfNWVmYzM2YTIzMzYzNGUzM2I1MjFmMDM3NzYxMmJlYTApOwogICAgICAgICAgICAKCiAgICAgICAgICAgIGNpcmNsZV9tYXJrZXJfMzZkMDg0MmIxYjI0NDFiYmJiNDc0NzcwMDZlZDIzZjYuYmluZFBvcHVwKHBvcHVwXzkzMWExZjUzMjk2MDRiOGY4MDFhZTg2YTc3MzZmMmNlKTsKCiAgICAgICAgICAgIAogICAgICAgIAogICAgCiAgICAgICAgICAgIHZhciBjaXJjbGVfbWFya2VyXzQzMWE1MTBiY2VhZDQyYTlhZGU1YjNkZGJkY2NmOTVjID0gTC5jaXJjbGVNYXJrZXIoCiAgICAgICAgICAgICAgICBbMzAuMzYyMDcxOSwtOTcuNjc5MjEzNl0sCiAgICAgICAgICAgICAgICB7CiAgImJ1YmJsaW5nTW91c2VFdmVudHMiOiB0cnVlLAogICJjb2xvciI6ICJwdXJwbGUiLAogICJkYXNoQXJyYXkiOiBudWxsLAogICJkYXNoT2Zmc2V0IjogbnVsbCwKICAiZmlsbCI6IHRydWUsCiAgImZpbGxDb2xvciI6ICIjMzE4NmNjIiwKICAiZmlsbE9wYWNpdHkiOiAwLjYsCiAgImZpbGxSdWxlIjogImV2ZW5vZGQiLAogICJsaW5lQ2FwIjogInJvdW5kIiwKICAibGluZUpvaW4iOiAicm91bmQiLAogICJvcGFjaXR5IjogMS4wLAogICJyYWRpdXMiOiA1LAogICJzdHJva2UiOiB0cnVlLAogICJ3ZWlnaHQiOiAzCn0KICAgICAgICAgICAgICAgICkuYWRkVG8obWFwXzA3YWI0ZDE0YjA3ZjQzMTM4OTgxOWRjMDEyYTJmOGIyKTsKICAgICAgICAgICAgCiAgICAKICAgICAgICAgICAgdmFyIHBvcHVwXzBhMTY1NDYyYmY2ZDRhNDc4YzMxY2ZjODFlMWZkY2JmID0gTC5wb3B1cCh7bWF4V2lkdGg6ICczMDAnfSk7CgogICAgICAgICAgICAKICAgICAgICAgICAgICAgIHZhciBodG1sX2E3OWFmZWFkNTJlYjQ1ZjE5ZTg1MWVhMWY2NGQ3Yjk5ID0gJCgnPGRpdiBpZD0iaHRtbF9hNzlhZmVhZDUyZWI0NWYxOWU4NTFlYTFmNjRkN2I5OSIgc3R5bGU9IndpZHRoOiAxMDAuMCU7IGhlaWdodDogMTAwLjAlOyI+V2luZHNvciBIaWxsczwvZGl2PicpWzBdOwogICAgICAgICAgICAgICAgcG9wdXBfMGExNjU0NjJiZjZkNGE0NzhjMzFjZmM4MWUxZmRjYmYuc2V0Q29udGVudChodG1sX2E3OWFmZWFkNTJlYjQ1ZjE5ZTg1MWVhMWY2NGQ3Yjk5KTsKICAgICAgICAgICAgCgogICAgICAgICAgICBjaXJjbGVfbWFya2VyXzQzMWE1MTBiY2VhZDQyYTlhZGU1YjNkZGJkY2NmOTVjLmJpbmRQb3B1cChwb3B1cF8wYTE2NTQ2MmJmNmQ0YTQ3OGMzMWNmYzgxZTFmZGNiZik7CgogICAgICAgICAgICAKICAgICAgICAKICAgIAogICAgICAgICAgICB2YXIgY2lyY2xlX21hcmtlcl8xY2UyMmU1ZWZiZDM0OGQ2ODY2ZDM5ODk1YTkwMTZiMCA9IEwuY2lyY2xlTWFya2VyKAogICAgICAgICAgICAgICAgWzMwLjMxMzU0OTIsLTk3LjY5MTA5NTNdLAogICAgICAgICAgICAgICAgewogICJidWJibGluZ01vdXNlRXZlbnRzIjogdHJ1ZSwKICAiY29sb3IiOiAicHVycGxlIiwKICAiZGFzaEFycmF5IjogbnVsbCwKICAiZGFzaE9mZnNldCI6IG51bGwsCiAgImZpbGwiOiB0cnVlLAogICJmaWxsQ29sb3IiOiAiIzMxODZjYyIsCiAgImZpbGxPcGFjaXR5IjogMC42LAogICJmaWxsUnVsZSI6ICJldmVub2RkIiwKICAibGluZUNhcCI6ICJyb3VuZCIsCiAgImxpbmVKb2luIjogInJvdW5kIiwKICAib3BhY2l0eSI6IDEuMCwKICAicmFkaXVzIjogNSwKICAic3Ryb2tlIjogdHJ1ZSwKICAid2VpZ2h0IjogMwp9CiAgICAgICAgICAgICAgICApLmFkZFRvKG1hcF8wN2FiNGQxNGIwN2Y0MzEzODk4MTlkYzAxMmEyZjhiMik7CiAgICAgICAgICAgIAogICAgCiAgICAgICAgICAgIHZhciBwb3B1cF9hMzExMWY0ZjBhODQ0ZDZlYTUzOGM3Y2M3OGE0NTQ5MCA9IEwucG9wdXAoe21heFdpZHRoOiAnMzAwJ30pOwoKICAgICAgICAgICAgCiAgICAgICAgICAgICAgICB2YXIgaHRtbF9kOWVkY2FmNWM1YjE0NjBiODYxYWNlZGI3ZTdmMjY5ZCA9ICQoJzxkaXYgaWQ9Imh0bWxfZDllZGNhZjVjNWIxNDYwYjg2MWFjZWRiN2U3ZjI2OWQiIHN0eWxlPSJ3aWR0aDogMTAwLjAlOyBoZWlnaHQ6IDEwMC4wJTsiPldpbmRzb3IgUGFyazwvZGl2PicpWzBdOwogICAgICAgICAgICAgICAgcG9wdXBfYTMxMTFmNGYwYTg0NGQ2ZWE1MzhjN2NjNzhhNDU0OTAuc2V0Q29udGVudChodG1sX2Q5ZWRjYWY1YzViMTQ2MGI4NjFhY2VkYjdlN2YyNjlkKTsKICAgICAgICAgICAgCgogICAgICAgICAgICBjaXJjbGVfbWFya2VyXzFjZTIyZTVlZmJkMzQ4ZDY4NjZkMzk4OTVhOTAxNmIwLmJpbmRQb3B1cChwb3B1cF9hMzExMWY0ZjBhODQ0ZDZlYTUzOGM3Y2M3OGE0NTQ5MCk7CgogICAgICAgICAgICAKICAgICAgICAKICAgIAogICAgICAgICAgICB2YXIgY2lyY2xlX21hcmtlcl9jN2UxZDAzZjc4ZTc0ZjFmOWVlNDI1ZDZkMGYzZTBlMiA9IEwuY2lyY2xlTWFya2VyKAogICAgICAgICAgICAgICAgWzMwLjI1NDIzNjEsLTk3Ljc2OTU4MDZdLAogICAgICAgICAgICAgICAgewogICJidWJibGluZ01vdXNlRXZlbnRzIjogdHJ1ZSwKICAiY29sb3IiOiAicHVycGxlIiwKICAiZGFzaEFycmF5IjogbnVsbCwKICAiZGFzaE9mZnNldCI6IG51bGwsCiAgImZpbGwiOiB0cnVlLAogICJmaWxsQ29sb3IiOiAiIzMxODZjYyIsCiAgImZpbGxPcGFjaXR5IjogMC42LAogICJmaWxsUnVsZSI6ICJldmVub2RkIiwKICAibGluZUNhcCI6ICJyb3VuZCIsCiAgImxpbmVKb2luIjogInJvdW5kIiwKICAib3BhY2l0eSI6IDEuMCwKICAicmFkaXVzIjogNSwKICAic3Ryb2tlIjogdHJ1ZSwKICAid2VpZ2h0IjogMwp9CiAgICAgICAgICAgICAgICApLmFkZFRvKG1hcF8wN2FiNGQxNGIwN2Y0MzEzODk4MTlkYzAxMmEyZjhiMik7CiAgICAgICAgICAgIAogICAgCiAgICAgICAgICAgIHZhciBwb3B1cF82YmUxZDRjMmYxYjE0MDk4OWQ5MDQzMWUxYWYzODIxNyA9IEwucG9wdXAoe21heFdpZHRoOiAnMzAwJ30pOwoKICAgICAgICAgICAgCiAgICAgICAgICAgICAgICB2YXIgaHRtbF8xZmVlMWJhNWQxY2E0MmZhYTlmODdhYjEwY2U1YjVlMyA9ICQoJzxkaXYgaWQ9Imh0bWxfMWZlZTFiYTVkMWNhNDJmYWE5Zjg3YWIxMGNlNWI1ZTMiIHN0eWxlPSJ3aWR0aDogMTAwLjAlOyBoZWlnaHQ6IDEwMC4wJTsiPlppbGtlcjwvZGl2PicpWzBdOwogICAgICAgICAgICAgICAgcG9wdXBfNmJlMWQ0YzJmMWIxNDA5ODlkOTA0MzFlMWFmMzgyMTcuc2V0Q29udGVudChodG1sXzFmZWUxYmE1ZDFjYTQyZmFhOWY4N2FiMTBjZTViNWUzKTsKICAgICAgICAgICAgCgogICAgICAgICAgICBjaXJjbGVfbWFya2VyX2M3ZTFkMDNmNzhlNzRmMWY5ZWU0MjVkNmQwZjNlMGUyLmJpbmRQb3B1cChwb3B1cF82YmUxZDRjMmYxYjE0MDk4OWQ5MDQzMWUxYWYzODIxNyk7CgogICAgICAgICAgICAKICAgICAgICAKPC9zY3JpcHQ+ onload=\"this.contentDocument.open();this.contentDocument.write(atob(this.getAttribute('data-html')));this.contentDocument.close();\" allowfullscreen webkitallowfullscreen mozallowfullscreen></iframe></div></div>"
      ],
      "text/plain": [
       "<folium.folium.Map at 0x7fc85164e750>"
      ]
     },
     "execution_count": 78,
     "metadata": {},
     "output_type": "execute_result"
    }
   ],
   "source": [
    "# Check for bad coorindates\n",
    "\n",
    "map_df = folium.Map(location=[data_df.iloc[0,2], data_df.iloc[0,3]], zoom_start=10)\n",
    "\n",
    "# add markers to map\n",
    "for lat, lng, name in zip(data_df['latitude'], data_df['longitude'], data_df['neighborhood']):\n",
    "    label = '{}'.format(name)\n",
    "    label = folium.Popup(label, parse_html=True)\n",
    "    folium.CircleMarker(\n",
    "        [lat, lng],\n",
    "        radius=5,\n",
    "        popup=label,\n",
    "        color='purple',\n",
    "        fill=True,\n",
    "        fill_color='#3186cc',\n",
    "        fill_opacity=0.6,\n",
    "        parse_html=False).add_to(map_df)  \n",
    "    \n",
    "map_df"
   ]
  },
  {
   "cell_type": "markdown",
   "metadata": {},
   "source": [
    "#### Foursquare Data"
   ]
  },
  {
   "cell_type": "code",
   "execution_count": null,
   "metadata": {},
   "outputs": [],
   "source": [
    "# Establish Foursquare credentials for reference\n",
    "\n",
    "CLIENT_ID = 'S5JB2KFD1NTX3EQLZEUCB5OLMPQTFOITAQG1ZMHVNB12UFH0' \n",
    "CLIENT_SECRET = '2SV2BAJSKBTEXPH41FHT2X3P1M1VQKYLZ54213I0VAZU2JPT' \n",
    "VERSION = '20200609' # Foursquare API version\n"
   ]
  },
  {
   "cell_type": "code",
   "execution_count": null,
   "metadata": {},
   "outputs": [],
   "source": [
    "# Collect venue results from Foursquare\n",
    "# Code adapted from IBM data science cert lab\n",
    "\n",
    "radius = 1000 # meters \n",
    "limit = 200\n",
    "\n",
    "venues = []\n",
    "\n",
    "for lat, long, neighborhood in zip(data_df['latitude'], data_df['longitude'], data_df['neighborhood']):\n",
    "    url = \"https://api.foursquare.com/v2/venues/explore?client_id={}&client_secret={}&v={}&ll={},{}&radius={}&limit={}\".format(\n",
    "        CLIENT_ID,\n",
    "        CLIENT_SECRET,\n",
    "        VERSION,\n",
    "        lat,\n",
    "        long,\n",
    "        radius, \n",
    "        limit)\n",
    "    \n",
    "    results = requests.get(url).json()[\"response\"]['groups'][0]['items']\n",
    "    \n",
    "    for venue in results:\n",
    "        venues.append((\n",
    "            neighborhood,\n",
    "            lat, \n",
    "            long, \n",
    "            venue['venue']['name'], \n",
    "            venue['venue']['location']['lat'], \n",
    "            venue['venue']['location']['lng'],  \n",
    "            venue['venue']['categories'][0]['name']))"
   ]
  },
  {
   "cell_type": "code",
   "execution_count": null,
   "metadata": {},
   "outputs": [],
   "source": [
    "#  Create dataframe for venues results\n",
    "venues_df = pd.DataFrame(venues)\n",
    "venues_df.columns = ['neighborhood', 'latitude', 'longitude', 'venue_name', 'venue_latitude', 'venue_longitude', 'venue_type']\n",
    "\n",
    "# check the dataframe\n",
    "print('Shape: {}'.format(venues_df.shape))\n",
    "print('Unique venue types: {}'.format(len(venues_df['venue_type'].unique())))\n",
    "venues_df.head()"
   ]
  },
  {
   "cell_type": "code",
   "execution_count": null,
   "metadata": {},
   "outputs": [],
   "source": [
    "# Save dataframe with Foursquare data \n",
    "venues_df.to_csv('../data/venues_df.csv', index=False)"
   ]
  }
 ],
 "metadata": {
  "kernelspec": {
   "display_name": "Python 3",
   "language": "python",
   "name": "python3"
  },
  "language_info": {
   "codemirror_mode": {
    "name": "ipython",
    "version": 3
   },
   "file_extension": ".py",
   "mimetype": "text/x-python",
   "name": "python",
   "nbconvert_exporter": "python",
   "pygments_lexer": "ipython3",
   "version": "3.7.6"
  }
 },
 "nbformat": 4,
 "nbformat_minor": 4
}
