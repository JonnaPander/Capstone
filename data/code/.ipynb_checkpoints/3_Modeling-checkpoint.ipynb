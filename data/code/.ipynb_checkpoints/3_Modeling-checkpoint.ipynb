{
 "cells": [
  {
   "cell_type": "code",
   "execution_count": 17,
   "metadata": {},
   "outputs": [],
   "source": [
    "# import libraries\n",
    "\n",
    "import pandas as pd \n",
    "import numpy as np \n",
    "import matplotlib.cm as cm\n",
    "import matplotlib.colors as colors\n",
    "import matplotlib.pyplot as plt\n",
    "import seaborn as sns\n",
    "\n",
    "from sklearn.cluster import KMeans\n",
    "from sklearn.preprocessing import StandardScaler, normalize, scale\n",
    "from sklearn.model_selection import train_test_split, GridSearchCV, cross_val_score, cross_val_predict\n",
    "from sklearn.linear_model import LinearRegression, LassoCV, RidgeCV\n",
    "from sklearn.decomposition import PCA\n",
    "from sklearn import svm\n",
    "from sklearn.metrics import mean_squared_error, r2_score, accuracy_score\n",
    "from sklearn.tree import DecisionTreeClassifier\n",
    "from sklearn.linear_model import LogisticRegression"
   ]
  },
  {
   "cell_type": "code",
   "execution_count": 18,
   "metadata": {},
   "outputs": [
    {
     "data": {
      "text/html": [
       "<div>\n",
       "<style scoped>\n",
       "    .dataframe tbody tr th:only-of-type {\n",
       "        vertical-align: middle;\n",
       "    }\n",
       "\n",
       "    .dataframe tbody tr th {\n",
       "        vertical-align: top;\n",
       "    }\n",
       "\n",
       "    .dataframe thead th {\n",
       "        text-align: right;\n",
       "    }\n",
       "</style>\n",
       "<table border=\"1\" class=\"dataframe\">\n",
       "  <thead>\n",
       "    <tr style=\"text-align: right;\">\n",
       "      <th></th>\n",
       "      <th>neighborhood</th>\n",
       "      <th>ATM</th>\n",
       "      <th>Accessories Store</th>\n",
       "      <th>Adult Boutique</th>\n",
       "      <th>African Restaurant</th>\n",
       "      <th>American Restaurant</th>\n",
       "      <th>Antique Shop</th>\n",
       "      <th>Argentinian Restaurant</th>\n",
       "      <th>Art Gallery</th>\n",
       "      <th>Art Museum</th>\n",
       "      <th>...</th>\n",
       "      <th>Video Game Store</th>\n",
       "      <th>Video Store</th>\n",
       "      <th>Vietnamese Restaurant</th>\n",
       "      <th>Whisky Bar</th>\n",
       "      <th>Wine Bar</th>\n",
       "      <th>Winery</th>\n",
       "      <th>Wings Joint</th>\n",
       "      <th>Women's Store</th>\n",
       "      <th>Yoga Studio</th>\n",
       "      <th>price_group</th>\n",
       "    </tr>\n",
       "  </thead>\n",
       "  <tbody>\n",
       "    <tr>\n",
       "      <th>0</th>\n",
       "      <td>Anderson Mill</td>\n",
       "      <td>0</td>\n",
       "      <td>0</td>\n",
       "      <td>0</td>\n",
       "      <td>0</td>\n",
       "      <td>0</td>\n",
       "      <td>0</td>\n",
       "      <td>0</td>\n",
       "      <td>0</td>\n",
       "      <td>0</td>\n",
       "      <td>...</td>\n",
       "      <td>0</td>\n",
       "      <td>0</td>\n",
       "      <td>0</td>\n",
       "      <td>0</td>\n",
       "      <td>0</td>\n",
       "      <td>0</td>\n",
       "      <td>0</td>\n",
       "      <td>0</td>\n",
       "      <td>0</td>\n",
       "      <td>0</td>\n",
       "    </tr>\n",
       "    <tr>\n",
       "      <th>1</th>\n",
       "      <td>Barton Hills</td>\n",
       "      <td>0</td>\n",
       "      <td>0</td>\n",
       "      <td>0</td>\n",
       "      <td>0</td>\n",
       "      <td>0</td>\n",
       "      <td>0</td>\n",
       "      <td>0</td>\n",
       "      <td>0</td>\n",
       "      <td>0</td>\n",
       "      <td>...</td>\n",
       "      <td>0</td>\n",
       "      <td>1</td>\n",
       "      <td>0</td>\n",
       "      <td>0</td>\n",
       "      <td>0</td>\n",
       "      <td>0</td>\n",
       "      <td>0</td>\n",
       "      <td>0</td>\n",
       "      <td>1</td>\n",
       "      <td>1</td>\n",
       "    </tr>\n",
       "    <tr>\n",
       "      <th>2</th>\n",
       "      <td>Bouldin Creek</td>\n",
       "      <td>0</td>\n",
       "      <td>0</td>\n",
       "      <td>0</td>\n",
       "      <td>0</td>\n",
       "      <td>0</td>\n",
       "      <td>0</td>\n",
       "      <td>0</td>\n",
       "      <td>0</td>\n",
       "      <td>0</td>\n",
       "      <td>...</td>\n",
       "      <td>0</td>\n",
       "      <td>0</td>\n",
       "      <td>1</td>\n",
       "      <td>0</td>\n",
       "      <td>1</td>\n",
       "      <td>0</td>\n",
       "      <td>0</td>\n",
       "      <td>0</td>\n",
       "      <td>1</td>\n",
       "      <td>1</td>\n",
       "    </tr>\n",
       "    <tr>\n",
       "      <th>3</th>\n",
       "      <td>Brentwood</td>\n",
       "      <td>0</td>\n",
       "      <td>0</td>\n",
       "      <td>0</td>\n",
       "      <td>0</td>\n",
       "      <td>1</td>\n",
       "      <td>1</td>\n",
       "      <td>0</td>\n",
       "      <td>0</td>\n",
       "      <td>0</td>\n",
       "      <td>...</td>\n",
       "      <td>0</td>\n",
       "      <td>1</td>\n",
       "      <td>0</td>\n",
       "      <td>0</td>\n",
       "      <td>0</td>\n",
       "      <td>0</td>\n",
       "      <td>0</td>\n",
       "      <td>0</td>\n",
       "      <td>1</td>\n",
       "      <td>0</td>\n",
       "    </tr>\n",
       "    <tr>\n",
       "      <th>4</th>\n",
       "      <td>Bryker Woods</td>\n",
       "      <td>0</td>\n",
       "      <td>0</td>\n",
       "      <td>0</td>\n",
       "      <td>0</td>\n",
       "      <td>4</td>\n",
       "      <td>0</td>\n",
       "      <td>0</td>\n",
       "      <td>0</td>\n",
       "      <td>0</td>\n",
       "      <td>...</td>\n",
       "      <td>0</td>\n",
       "      <td>0</td>\n",
       "      <td>0</td>\n",
       "      <td>0</td>\n",
       "      <td>0</td>\n",
       "      <td>0</td>\n",
       "      <td>0</td>\n",
       "      <td>0</td>\n",
       "      <td>0</td>\n",
       "      <td>1</td>\n",
       "    </tr>\n",
       "  </tbody>\n",
       "</table>\n",
       "<p>5 rows × 265 columns</p>\n",
       "</div>"
      ],
      "text/plain": [
       "    neighborhood  ATM  Accessories Store  Adult Boutique  African Restaurant  \\\n",
       "0  Anderson Mill    0                  0               0                   0   \n",
       "1   Barton Hills    0                  0               0                   0   \n",
       "2  Bouldin Creek    0                  0               0                   0   \n",
       "3      Brentwood    0                  0               0                   0   \n",
       "4   Bryker Woods    0                  0               0                   0   \n",
       "\n",
       "   American Restaurant  Antique Shop  Argentinian Restaurant  Art Gallery  \\\n",
       "0                    0             0                       0            0   \n",
       "1                    0             0                       0            0   \n",
       "2                    0             0                       0            0   \n",
       "3                    1             1                       0            0   \n",
       "4                    4             0                       0            0   \n",
       "\n",
       "   Art Museum  ...  Video Game Store  Video Store  Vietnamese Restaurant  \\\n",
       "0           0  ...                 0            0                      0   \n",
       "1           0  ...                 0            1                      0   \n",
       "2           0  ...                 0            0                      1   \n",
       "3           0  ...                 0            1                      0   \n",
       "4           0  ...                 0            0                      0   \n",
       "\n",
       "   Whisky Bar  Wine Bar  Winery  Wings Joint  Women's Store  Yoga Studio  \\\n",
       "0           0         0       0            0              0            0   \n",
       "1           0         0       0            0              0            1   \n",
       "2           0         1       0            0              0            1   \n",
       "3           0         0       0            0              0            1   \n",
       "4           0         0       0            0              0            0   \n",
       "\n",
       "   price_group  \n",
       "0            0  \n",
       "1            1  \n",
       "2            1  \n",
       "3            0  \n",
       "4            1  \n",
       "\n",
       "[5 rows x 265 columns]"
      ]
     },
     "execution_count": 18,
     "metadata": {},
     "output_type": "execute_result"
    }
   ],
   "source": [
    "# Read in dataframe\n",
    "\n",
    "df_comb = pd.read_csv('../data/df_comb.csv')\n",
    "df_comb.head()"
   ]
  },
  {
   "cell_type": "markdown",
   "metadata": {},
   "source": [
    "# Modeling"
   ]
  },
  {
   "cell_type": "markdown",
   "metadata": {},
   "source": [
    "#### Prepocessing"
   ]
  },
  {
   "cell_type": "code",
   "execution_count": 84,
   "metadata": {},
   "outputs": [],
   "source": [
    "# Define X and y\n",
    "\n",
    "X = df_comb.drop(columns=['neighborhood', 'price_group'])\n",
    "y = df_comb['price_group']"
   ]
  },
  {
   "cell_type": "code",
   "execution_count": 85,
   "metadata": {},
   "outputs": [],
   "source": [
    "# Train/test split \n",
    "\n",
    "X_train, X_test, y_train, y_test = train_test_split(X, y, test_size=0.2, random_state=0)"
   ]
  },
  {
   "cell_type": "code",
   "execution_count": 86,
   "metadata": {},
   "outputs": [],
   "source": [
    "# # Scale data\n",
    "\n",
    "sc = StandardScaler()\n",
    "X_train = sc.fit_transform(X_train)\n",
    "X_test = sc.transform(X_test)"
   ]
  },
  {
   "cell_type": "markdown",
   "metadata": {},
   "source": [
    "#### PCA Modeling"
   ]
  },
  {
   "cell_type": "code",
   "execution_count": 90,
   "metadata": {},
   "outputs": [],
   "source": [
    "# Instantiate and fit model\n",
    "pca = PCA(svd_solver='auto', random_state=0)\n",
    "# X_pca = pca.fit(X_train) \n",
    "X_pca = pca.fit_transform(scale(X))"
   ]
  },
  {
   "cell_type": "code",
   "execution_count": 91,
   "metadata": {},
   "outputs": [],
   "source": [
    "# Code adapted from Medium article on PCA \n",
    "\n",
    "n_component_list = range(1, 51)\n",
    "R2_list = []\n",
    "MSE_list = []\n",
    "\n",
    "# Linear Regression\n",
    "for i in n_component_list:\n",
    "    lr = LinearRegression()\n",
    "    X_train, X_test, y_train, y_test = train_test_split(X_pca[:,:i], y, test_size=0.2, random_state=0)\n",
    "    model = lr.fit(X_train, y_train)\n",
    "    # check the result\n",
    "    y_pred = lr.predict(X_test)\n",
    "    r2 = r2_score(y_test, y_pred) # r2 score\n",
    "    mse = mean_squared_error(y_test, y_pred) # mse\n",
    "    R2_list.append(r2)\n",
    "    MSE_list.append(mse)\n",
    "    \n",
    "scores_df = pd.DataFrame.from_dict(dict([('NComponents', n_component_list),\n",
    "                                        ('R2', R2_list),\n",
    "                                        ('MSE', MSE_list)]))\n",
    "scores_df.set_index('NComponents', inplace=True)"
   ]
  },
  {
   "cell_type": "code",
   "execution_count": 92,
   "metadata": {},
   "outputs": [
    {
     "name": "stdout",
     "output_type": "stream",
     "text": [
      "Best n: 7 , R2 score: 0.23021842891698496\n",
      "Best n: 7 , MSE: 0.18041755572258164\n"
     ]
    }
   ],
   "source": [
    "# View best scores\n",
    "\n",
    "r2_max = scores_df['R2'].idxmax()\n",
    "print(\"Best n:\", r2_max, \", R2 score:\", scores_df['R2'][r2_max])\n",
    "\n",
    "mse_min = scores_df['MSE'].idxmin()\n",
    "print(\"Best n:\", mse_min, \", MSE:\", scores_df['MSE'][mse_min])"
   ]
  },
  {
   "cell_type": "code",
   "execution_count": 103,
   "metadata": {},
   "outputs": [],
   "source": [
    "# Use the best n_components parameter\n",
    "\n",
    "# Instantiate and fit\n",
    "lr = LinearRegression()\n",
    "X_train, X_test, y_train, y_test = train_test_split(X_pca[:,:r2_max], y, test_size=0.2, random_state=0)\n",
    "model = lr.fit(X_train, y_train)"
   ]
  },
  {
   "cell_type": "code",
   "execution_count": 104,
   "metadata": {},
   "outputs": [
    {
     "name": "stdout",
     "output_type": "stream",
     "text": [
      "R2 score: 0.23021842891698496\n",
      "MSE: 0.18041755572258164\n"
     ]
    }
   ],
   "source": [
    "# View scores\n",
    "\n",
    "y_pred = lr.predict(X_test)\n",
    "r2 = r2_score(y_test, y_pred) # r2 score\n",
    "mse = mean_squared_error(y_test, y_pred) # mse\n",
    "print(\"R2 score:\", r2)\n",
    "print(\"MSE:\", mse)"
   ]
  },
  {
   "cell_type": "code",
   "execution_count": 105,
   "metadata": {},
   "outputs": [],
   "source": [
    "# Project the coefs back to the original number of features\n",
    "\n",
    "eigenvectors = pca.components_\n",
    "pcr_coefs = eigenvectors[:r2_max, :].T @ lr.coef_"
   ]
  },
  {
   "cell_type": "code",
   "execution_count": 106,
   "metadata": {},
   "outputs": [
    {
     "name": "stdout",
     "output_type": "stream",
     "text": [
      "\n",
      "Max positive coefs: [0.01259863 0.01207248 0.01133876 0.0107604  0.01068665]\n",
      "\n",
      "Venue types with most positive effect: ['Italian Restaurant' 'Art Gallery' 'Seafood Restaurant' 'Ice Cream Shop'\n",
      " 'Spa']\n",
      "\n",
      "Max negative coefs: [-0.01051495 -0.01051495 -0.01051495 -0.01044824 -0.00926685]\n",
      "\n",
      "Venue types with most negative effect: ['Pool Hall' 'Camera Store' 'Auto Dealership' 'Bagel Shop'\n",
      " 'Indian Restaurant']\n",
      "\n",
      "Min coefs: [-7.67178138e-05 -9.50939824e-05 -1.33901987e-04 -1.55390064e-04\n",
      " -1.55390064e-04]\n",
      "\n",
      "Venue types with least effect: ['Playground' 'Platform' 'Tennis Court' 'Kitchen Supply Store'\n",
      " 'Golf Driving Range']\n"
     ]
    }
   ],
   "source": [
    "# View with venue types have most and least effect\n",
    "\n",
    "print('\\nMax positive coefs:', pcr_coefs[np.argsort(-pcr_coefs)[:5]])\n",
    "print('\\nVenue types with most positive effect:', X.columns[np.argsort(-pcr_coefs)[:5]].values)\n",
    "print('\\nMax negative coefs:', pcr_coefs[np.argsort(pcr_coefs)[:5]])\n",
    "print('\\nVenue types with most negative effect:', X.columns[np.argsort(pcr_coefs)[:5]].values)\n",
    "coef_abs = abs(pcr_coefs)\n",
    "print('\\nMin coefs:', pcr_coefs[np.argsort(coef_abs)[:5]])\n",
    "print('\\nVenue types with least effect:', X.columns[np.argsort(coef_abs)[:5]].values)"
   ]
  },
  {
   "cell_type": "markdown",
   "metadata": {},
   "source": [
    "#### SVM Model"
   ]
  },
  {
   "cell_type": "code",
   "execution_count": 38,
   "metadata": {},
   "outputs": [
    {
     "data": {
      "text/plain": [
       "SVC(C=1.0, break_ties=False, cache_size=200, class_weight=None, coef0=0.0,\n",
       "    decision_function_shape='ovr', degree=3, gamma='scale', kernel='rbf',\n",
       "    max_iter=-1, probability=False, random_state=None, shrinking=True,\n",
       "    tol=0.001, verbose=False)"
      ]
     },
     "execution_count": 38,
     "metadata": {},
     "output_type": "execute_result"
    }
   ],
   "source": [
    "# Instantiate and fit model\n",
    "\n",
    "svm_model = svm.SVC()\n",
    "svm_model.fit(X_train, y_train) "
   ]
  },
  {
   "cell_type": "code",
   "execution_count": 39,
   "metadata": {},
   "outputs": [
    {
     "data": {
      "text/plain": [
       "array([0, 1, 0, 1, 1, 1, 0, 0])"
      ]
     },
     "execution_count": 39,
     "metadata": {},
     "output_type": "execute_result"
    }
   ],
   "source": [
    "# Generate predictions\n",
    "\n",
    "y_pred = svm_model.predict(X_test)\n",
    "y_pred"
   ]
  },
  {
   "cell_type": "code",
   "execution_count": 40,
   "metadata": {},
   "outputs": [
    {
     "name": "stdout",
     "output_type": "stream",
     "text": [
      "SVM Training Accuracy Score: 0.966\n",
      "SVM Testing Accuracy Score: 0.625\n"
     ]
    }
   ],
   "source": [
    "# Get accuracy scores\n",
    "\n",
    "print(\"SVM Training Accuracy Score: %.3f\" % svm_model.score(X_train, y_train))\n",
    "print(\"SVM Testing Accuracy Score: %.3f\" % svm_model.score(X_test, y_test)) "
   ]
  },
  {
   "cell_type": "markdown",
   "metadata": {},
   "source": [
    "#### Decision Tree"
   ]
  },
  {
   "cell_type": "code",
   "execution_count": 97,
   "metadata": {},
   "outputs": [
    {
     "data": {
      "text/plain": [
       "DecisionTreeClassifier(ccp_alpha=0.0, class_weight=None, criterion='entropy',\n",
       "                       max_depth=4, max_features=None, max_leaf_nodes=None,\n",
       "                       min_impurity_decrease=0.0, min_impurity_split=None,\n",
       "                       min_samples_leaf=1, min_samples_split=2,\n",
       "                       min_weight_fraction_leaf=0.0, presort='deprecated',\n",
       "                       random_state=None, splitter='best')"
      ]
     },
     "execution_count": 97,
     "metadata": {},
     "output_type": "execute_result"
    }
   ],
   "source": [
    "# Instantiate and fit model\n",
    "\n",
    "dt_model = DecisionTreeClassifier(criterion=\"entropy\", max_depth = 4)\n",
    "dt_model.fit(X_train,y_train)\n",
    "# dt_model"
   ]
  },
  {
   "cell_type": "code",
   "execution_count": 98,
   "metadata": {},
   "outputs": [
    {
     "data": {
      "text/plain": [
       "array([1, 1, 0, 1, 1, 1, 1, 0])"
      ]
     },
     "execution_count": 98,
     "metadata": {},
     "output_type": "execute_result"
    }
   ],
   "source": [
    "# Generate predictions\n",
    "\n",
    "y_pred = dt_model.predict(X_test)\n",
    "y_pred"
   ]
  },
  {
   "cell_type": "code",
   "execution_count": 99,
   "metadata": {},
   "outputs": [
    {
     "name": "stdout",
     "output_type": "stream",
     "text": [
      "Decision Tree Training Accuracy Score: 1.000\n",
      "Decision Tree Testing Accuracy Score: 0.875\n"
     ]
    }
   ],
   "source": [
    "print(\"Decision Tree Training Accuracy Score: %.3f\" % dt_model.score(X_train, y_train))\n",
    "print(\"Decision Tree Testing Accuracy Score: %.3f\" % dt_model.score(X_test, y_test))"
   ]
  },
  {
   "cell_type": "markdown",
   "metadata": {},
   "source": [
    "#### Logistic Regression"
   ]
  },
  {
   "cell_type": "code",
   "execution_count": 100,
   "metadata": {},
   "outputs": [
    {
     "data": {
      "text/plain": [
       "LogisticRegression(C=0.01, class_weight=None, dual=False, fit_intercept=True,\n",
       "                   intercept_scaling=1, l1_ratio=None, max_iter=100,\n",
       "                   multi_class='auto', n_jobs=None, penalty='l2',\n",
       "                   random_state=None, solver='lbfgs', tol=0.0001, verbose=0,\n",
       "                   warm_start=False)"
      ]
     },
     "execution_count": 100,
     "metadata": {},
     "output_type": "execute_result"
    }
   ],
   "source": [
    "# Instantiate and fit model\n",
    "\n",
    "logreg_model = LogisticRegression(C=0.01).fit(X_train,y_train)\n",
    "logreg_model"
   ]
  },
  {
   "cell_type": "code",
   "execution_count": 101,
   "metadata": {},
   "outputs": [
    {
     "data": {
      "text/plain": [
       "array([0, 1, 0, 1, 1, 1, 0, 0])"
      ]
     },
     "execution_count": 101,
     "metadata": {},
     "output_type": "execute_result"
    }
   ],
   "source": [
    "# Generate predictions\n",
    "\n",
    "y_pred = logreg_model.predict(X_test)\n",
    "y_pred"
   ]
  },
  {
   "cell_type": "code",
   "execution_count": 102,
   "metadata": {},
   "outputs": [
    {
     "name": "stdout",
     "output_type": "stream",
     "text": [
      "Logreg Training Accuracy Score: 0.862\n",
      "Logreg Tree Testing Accuracy Score: 0.625\n"
     ]
    }
   ],
   "source": [
    "print(\"Logreg Training Accuracy Score: %.3f\" % logreg_model.score(X_train, y_train))\n",
    "print(\"Logreg Tree Testing Accuracy Score: %.3f\" % logreg_model.score(X_test, y_test))"
   ]
  },
  {
   "cell_type": "code",
   "execution_count": null,
   "metadata": {},
   "outputs": [],
   "source": []
  }
 ],
 "metadata": {
  "kernelspec": {
   "display_name": "Python 3",
   "language": "python",
   "name": "python3"
  },
  "language_info": {
   "codemirror_mode": {
    "name": "ipython",
    "version": 3
   },
   "file_extension": ".py",
   "mimetype": "text/x-python",
   "name": "python",
   "nbconvert_exporter": "python",
   "pygments_lexer": "ipython3",
   "version": "3.7.6"
  }
 },
 "nbformat": 4,
 "nbformat_minor": 4
}
